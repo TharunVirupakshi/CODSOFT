{
  "cells": [
    {
      "cell_type": "code",
      "execution_count": 1,
      "metadata": {
        "id": "7Y2X-ZxF3j2m"
      },
      "outputs": [],
      "source": [
        "import pandas as pd\n",
        "import seaborn as sns\n",
        "import matplotlib.pyplot as plt\n",
        "import plotly.express as px\n",
        "from sklearn.feature_extraction.text import CountVectorizer, TfidfVectorizer\n"
      ]
    },
    {
      "cell_type": "code",
      "execution_count": 2,
      "metadata": {
        "colab": {
          "base_uri": "https://localhost:8080/"
        },
        "id": "p-ln4nfW2hvq",
        "outputId": "e359ce29-65eb-424b-c261-a8d01aa164fe"
      },
      "outputs": [],
      "source": [
        "# nltk.download('punkt')\n",
        "# nltk.download('stopwords')\n",
        "# nltk.download('wordnet')\n",
        "\n",
        "import nltk\n",
        "from nltk.corpus import stopwords\n",
        "from nltk import word_tokenize\n",
        "from nltk.stem import WordNetLemmatizer\n",
        "from nltk.tokenize import word_tokenize\n",
        "from nltk import pos_tag"
      ]
    },
    {
      "cell_type": "code",
      "execution_count": 3,
      "metadata": {
        "id": "AOcA9QJV2j_H"
      },
      "outputs": [],
      "source": [
        "STOPWORDS = set(stopwords.words('english'))"
      ]
    },
    {
      "cell_type": "markdown",
      "metadata": {
        "id": "uyf-TvgeVdi6"
      },
      "source": [
        "## Load the dataset"
      ]
    },
    {
      "cell_type": "code",
      "execution_count": 2,
      "metadata": {
        "colab": {
          "base_uri": "https://localhost:8080/"
        },
        "id": "l5IkZcM6Afa3",
        "outputId": "dac1ab50-fbf7-4d64-8e33-8e42b31f990c"
      },
      "outputs": [
        {
          "name": "stdout",
          "output_type": "stream",
          "text": [
            "Archive:  /content/drive/MyDrive/Movie_Genre_Classfication/archive.zip\n",
            "  inflating: Genre Classification Dataset/description.txt  \n",
            "  inflating: Genre Classification Dataset/test_data.txt  \n",
            "  inflating: Genre Classification Dataset/test_data_solution.txt  \n",
            "  inflating: Genre Classification Dataset/train_data.txt  \n"
          ]
        }
      ],
      "source": [
        "# !unzip /content/drive/MyDrive/Movie_Genre_Classfication/archive.zip"
      ]
    },
    {
      "cell_type": "code",
      "execution_count": 39,
      "metadata": {
        "colab": {
          "base_uri": "https://localhost:8080/",
          "height": 206
        },
        "id": "hQmvn4Xa3uAZ",
        "outputId": "d0b43d19-3635-4364-d98e-cb646e300207"
      },
      "outputs": [
        {
          "data": {
            "text/html": [
              "<div>\n",
              "<style scoped>\n",
              "    .dataframe tbody tr th:only-of-type {\n",
              "        vertical-align: middle;\n",
              "    }\n",
              "\n",
              "    .dataframe tbody tr th {\n",
              "        vertical-align: top;\n",
              "    }\n",
              "\n",
              "    .dataframe thead th {\n",
              "        text-align: right;\n",
              "    }\n",
              "</style>\n",
              "<table border=\"1\" class=\"dataframe\">\n",
              "  <thead>\n",
              "    <tr style=\"text-align: right;\">\n",
              "      <th></th>\n",
              "      <th>Title</th>\n",
              "      <th>Genre</th>\n",
              "      <th>Description</th>\n",
              "    </tr>\n",
              "  </thead>\n",
              "  <tbody>\n",
              "    <tr>\n",
              "      <th>1</th>\n",
              "      <td>Oscar et la dame rose (2009)</td>\n",
              "      <td>drama</td>\n",
              "      <td>Listening in to a conversation between his do...</td>\n",
              "    </tr>\n",
              "    <tr>\n",
              "      <th>2</th>\n",
              "      <td>Cupid (1997)</td>\n",
              "      <td>thriller</td>\n",
              "      <td>A brother and sister with a past incestuous r...</td>\n",
              "    </tr>\n",
              "    <tr>\n",
              "      <th>3</th>\n",
              "      <td>Young, Wild and Wonderful (1980)</td>\n",
              "      <td>adult</td>\n",
              "      <td>As the bus empties the students for their fie...</td>\n",
              "    </tr>\n",
              "    <tr>\n",
              "      <th>4</th>\n",
              "      <td>The Secret Sin (1915)</td>\n",
              "      <td>drama</td>\n",
              "      <td>To help their unemployed father make ends mee...</td>\n",
              "    </tr>\n",
              "    <tr>\n",
              "      <th>5</th>\n",
              "      <td>The Unrecovered (2007)</td>\n",
              "      <td>drama</td>\n",
              "      <td>The film's title refers not only to the un-re...</td>\n",
              "    </tr>\n",
              "  </tbody>\n",
              "</table>\n",
              "</div>"
            ],
            "text/plain": [
              "                                Title       Genre  \\\n",
              "1       Oscar et la dame rose (2009)       drama    \n",
              "2                       Cupid (1997)    thriller    \n",
              "3   Young, Wild and Wonderful (1980)       adult    \n",
              "4              The Secret Sin (1915)       drama    \n",
              "5             The Unrecovered (2007)       drama    \n",
              "\n",
              "                                         Description  \n",
              "1   Listening in to a conversation between his do...  \n",
              "2   A brother and sister with a past incestuous r...  \n",
              "3   As the bus empties the students for their fie...  \n",
              "4   To help their unemployed father make ends mee...  \n",
              "5   The film's title refers not only to the un-re...  "
            ]
          },
          "execution_count": 39,
          "metadata": {},
          "output_type": "execute_result"
        }
      ],
      "source": [
        "# Train data\n",
        "train_path = './Data/train_data.txt'\n",
        "train_data = pd.read_csv(train_path,  sep=':::',engine='python',names=['Title','Genre','Description'])\n",
        "\n",
        "# Test data\n",
        "test_path='./Data/test_data.txt'\n",
        "test_data=pd.read_csv( test_path , sep=':::',engine='python',names=['Title','Description'])\n",
        "\n",
        "# Test data with genre labels\n",
        "test_labels_path = './Data/test_data_solution.txt'\n",
        "test_labels_data=pd.read_csv(test_labels_path, sep=':::',engine='python',names=['Title','Genre','Description'])\n",
        "\n",
        "\n",
        "# Merge Train and Test data with genre labels\n",
        "\n",
        "data = pd.concat((train_data, test_labels_data))\n",
        "\n",
        "data.head()"
      ]
    },
    {
      "cell_type": "code",
      "execution_count": 6,
      "metadata": {
        "colab": {
          "base_uri": "https://localhost:8080/"
        },
        "id": "CkES8RT3RxIK",
        "outputId": "4ee126e6-9d30-4f6b-a9b3-71fb7af0ec67"
      },
      "outputs": [
        {
          "data": {
            "text/plain": [
              "(108414, 3)"
            ]
          },
          "execution_count": 6,
          "metadata": {},
          "output_type": "execute_result"
        }
      ],
      "source": [
        "data.shape"
      ]
    },
    {
      "cell_type": "markdown",
      "metadata": {
        "id": "qFlWgJKxAoPQ"
      },
      "source": [
        "### Data visualization"
      ]
    },
    {
      "cell_type": "code",
      "execution_count": 14,
      "metadata": {
        "colab": {
          "base_uri": "https://localhost:8080/",
          "height": 542
        },
        "id": "0XV15kKhAkYo",
        "outputId": "eeb3b04d-1d80-49be-81c5-9fbe47e5d5ee"
      },
      "outputs": [
        {
          "data": {
            "application/vnd.plotly.v1+json": {
              "config": {
                "plotlyServerURL": "https://plot.ly"
              },
              "data": [
                {
                  "alignmentgroup": "True",
                  "hovertemplate": "Genre=%{x}<br>y=%{y}<extra></extra>",
                  "legendgroup": "",
                  "marker": {
                    "color": "#636efa",
                    "pattern": {
                      "shape": ""
                    }
                  },
                  "name": "",
                  "offsetgroup": "",
                  "orientation": "v",
                  "showlegend": false,
                  "textposition": "auto",
                  "type": "bar",
                  "x": [
                    " drama ",
                    " documentary ",
                    " comedy ",
                    " short ",
                    " horror ",
                    " thriller ",
                    " action ",
                    " western ",
                    " reality-tv ",
                    " family ",
                    " adventure ",
                    " music ",
                    " romance ",
                    " sci-fi ",
                    " adult ",
                    " crime ",
                    " animation ",
                    " sport ",
                    " talk-show ",
                    " fantasy ",
                    " mystery ",
                    " musical ",
                    " biography ",
                    " history ",
                    " game-show ",
                    " news ",
                    " war "
                  ],
                  "xaxis": "x",
                  "y": [
                    27225,
                    26192,
                    14893,
                    10145,
                    4408,
                    3181,
                    2629,
                    2064,
                    1767,
                    1567,
                    1550,
                    1462,
                    1344,
                    1293,
                    1180,
                    1010,
                    996,
                    863,
                    782,
                    645,
                    637,
                    553,
                    529,
                    486,
                    387,
                    362,
                    264
                  ],
                  "yaxis": "y"
                }
              ],
              "layout": {
                "barmode": "relative",
                "legend": {
                  "tracegroupgap": 0
                },
                "template": {
                  "data": {
                    "bar": [
                      {
                        "error_x": {
                          "color": "#2a3f5f"
                        },
                        "error_y": {
                          "color": "#2a3f5f"
                        },
                        "marker": {
                          "line": {
                            "color": "#E5ECF6",
                            "width": 0.5
                          },
                          "pattern": {
                            "fillmode": "overlay",
                            "size": 10,
                            "solidity": 0.2
                          }
                        },
                        "type": "bar"
                      }
                    ],
                    "barpolar": [
                      {
                        "marker": {
                          "line": {
                            "color": "#E5ECF6",
                            "width": 0.5
                          },
                          "pattern": {
                            "fillmode": "overlay",
                            "size": 10,
                            "solidity": 0.2
                          }
                        },
                        "type": "barpolar"
                      }
                    ],
                    "carpet": [
                      {
                        "aaxis": {
                          "endlinecolor": "#2a3f5f",
                          "gridcolor": "white",
                          "linecolor": "white",
                          "minorgridcolor": "white",
                          "startlinecolor": "#2a3f5f"
                        },
                        "baxis": {
                          "endlinecolor": "#2a3f5f",
                          "gridcolor": "white",
                          "linecolor": "white",
                          "minorgridcolor": "white",
                          "startlinecolor": "#2a3f5f"
                        },
                        "type": "carpet"
                      }
                    ],
                    "choropleth": [
                      {
                        "colorbar": {
                          "outlinewidth": 0,
                          "ticks": ""
                        },
                        "type": "choropleth"
                      }
                    ],
                    "contour": [
                      {
                        "colorbar": {
                          "outlinewidth": 0,
                          "ticks": ""
                        },
                        "colorscale": [
                          [
                            0,
                            "#0d0887"
                          ],
                          [
                            0.1111111111111111,
                            "#46039f"
                          ],
                          [
                            0.2222222222222222,
                            "#7201a8"
                          ],
                          [
                            0.3333333333333333,
                            "#9c179e"
                          ],
                          [
                            0.4444444444444444,
                            "#bd3786"
                          ],
                          [
                            0.5555555555555556,
                            "#d8576b"
                          ],
                          [
                            0.6666666666666666,
                            "#ed7953"
                          ],
                          [
                            0.7777777777777778,
                            "#fb9f3a"
                          ],
                          [
                            0.8888888888888888,
                            "#fdca26"
                          ],
                          [
                            1,
                            "#f0f921"
                          ]
                        ],
                        "type": "contour"
                      }
                    ],
                    "contourcarpet": [
                      {
                        "colorbar": {
                          "outlinewidth": 0,
                          "ticks": ""
                        },
                        "type": "contourcarpet"
                      }
                    ],
                    "heatmap": [
                      {
                        "colorbar": {
                          "outlinewidth": 0,
                          "ticks": ""
                        },
                        "colorscale": [
                          [
                            0,
                            "#0d0887"
                          ],
                          [
                            0.1111111111111111,
                            "#46039f"
                          ],
                          [
                            0.2222222222222222,
                            "#7201a8"
                          ],
                          [
                            0.3333333333333333,
                            "#9c179e"
                          ],
                          [
                            0.4444444444444444,
                            "#bd3786"
                          ],
                          [
                            0.5555555555555556,
                            "#d8576b"
                          ],
                          [
                            0.6666666666666666,
                            "#ed7953"
                          ],
                          [
                            0.7777777777777778,
                            "#fb9f3a"
                          ],
                          [
                            0.8888888888888888,
                            "#fdca26"
                          ],
                          [
                            1,
                            "#f0f921"
                          ]
                        ],
                        "type": "heatmap"
                      }
                    ],
                    "heatmapgl": [
                      {
                        "colorbar": {
                          "outlinewidth": 0,
                          "ticks": ""
                        },
                        "colorscale": [
                          [
                            0,
                            "#0d0887"
                          ],
                          [
                            0.1111111111111111,
                            "#46039f"
                          ],
                          [
                            0.2222222222222222,
                            "#7201a8"
                          ],
                          [
                            0.3333333333333333,
                            "#9c179e"
                          ],
                          [
                            0.4444444444444444,
                            "#bd3786"
                          ],
                          [
                            0.5555555555555556,
                            "#d8576b"
                          ],
                          [
                            0.6666666666666666,
                            "#ed7953"
                          ],
                          [
                            0.7777777777777778,
                            "#fb9f3a"
                          ],
                          [
                            0.8888888888888888,
                            "#fdca26"
                          ],
                          [
                            1,
                            "#f0f921"
                          ]
                        ],
                        "type": "heatmapgl"
                      }
                    ],
                    "histogram": [
                      {
                        "marker": {
                          "pattern": {
                            "fillmode": "overlay",
                            "size": 10,
                            "solidity": 0.2
                          }
                        },
                        "type": "histogram"
                      }
                    ],
                    "histogram2d": [
                      {
                        "colorbar": {
                          "outlinewidth": 0,
                          "ticks": ""
                        },
                        "colorscale": [
                          [
                            0,
                            "#0d0887"
                          ],
                          [
                            0.1111111111111111,
                            "#46039f"
                          ],
                          [
                            0.2222222222222222,
                            "#7201a8"
                          ],
                          [
                            0.3333333333333333,
                            "#9c179e"
                          ],
                          [
                            0.4444444444444444,
                            "#bd3786"
                          ],
                          [
                            0.5555555555555556,
                            "#d8576b"
                          ],
                          [
                            0.6666666666666666,
                            "#ed7953"
                          ],
                          [
                            0.7777777777777778,
                            "#fb9f3a"
                          ],
                          [
                            0.8888888888888888,
                            "#fdca26"
                          ],
                          [
                            1,
                            "#f0f921"
                          ]
                        ],
                        "type": "histogram2d"
                      }
                    ],
                    "histogram2dcontour": [
                      {
                        "colorbar": {
                          "outlinewidth": 0,
                          "ticks": ""
                        },
                        "colorscale": [
                          [
                            0,
                            "#0d0887"
                          ],
                          [
                            0.1111111111111111,
                            "#46039f"
                          ],
                          [
                            0.2222222222222222,
                            "#7201a8"
                          ],
                          [
                            0.3333333333333333,
                            "#9c179e"
                          ],
                          [
                            0.4444444444444444,
                            "#bd3786"
                          ],
                          [
                            0.5555555555555556,
                            "#d8576b"
                          ],
                          [
                            0.6666666666666666,
                            "#ed7953"
                          ],
                          [
                            0.7777777777777778,
                            "#fb9f3a"
                          ],
                          [
                            0.8888888888888888,
                            "#fdca26"
                          ],
                          [
                            1,
                            "#f0f921"
                          ]
                        ],
                        "type": "histogram2dcontour"
                      }
                    ],
                    "mesh3d": [
                      {
                        "colorbar": {
                          "outlinewidth": 0,
                          "ticks": ""
                        },
                        "type": "mesh3d"
                      }
                    ],
                    "parcoords": [
                      {
                        "line": {
                          "colorbar": {
                            "outlinewidth": 0,
                            "ticks": ""
                          }
                        },
                        "type": "parcoords"
                      }
                    ],
                    "pie": [
                      {
                        "automargin": true,
                        "type": "pie"
                      }
                    ],
                    "scatter": [
                      {
                        "fillpattern": {
                          "fillmode": "overlay",
                          "size": 10,
                          "solidity": 0.2
                        },
                        "type": "scatter"
                      }
                    ],
                    "scatter3d": [
                      {
                        "line": {
                          "colorbar": {
                            "outlinewidth": 0,
                            "ticks": ""
                          }
                        },
                        "marker": {
                          "colorbar": {
                            "outlinewidth": 0,
                            "ticks": ""
                          }
                        },
                        "type": "scatter3d"
                      }
                    ],
                    "scattercarpet": [
                      {
                        "marker": {
                          "colorbar": {
                            "outlinewidth": 0,
                            "ticks": ""
                          }
                        },
                        "type": "scattercarpet"
                      }
                    ],
                    "scattergeo": [
                      {
                        "marker": {
                          "colorbar": {
                            "outlinewidth": 0,
                            "ticks": ""
                          }
                        },
                        "type": "scattergeo"
                      }
                    ],
                    "scattergl": [
                      {
                        "marker": {
                          "colorbar": {
                            "outlinewidth": 0,
                            "ticks": ""
                          }
                        },
                        "type": "scattergl"
                      }
                    ],
                    "scattermapbox": [
                      {
                        "marker": {
                          "colorbar": {
                            "outlinewidth": 0,
                            "ticks": ""
                          }
                        },
                        "type": "scattermapbox"
                      }
                    ],
                    "scatterpolar": [
                      {
                        "marker": {
                          "colorbar": {
                            "outlinewidth": 0,
                            "ticks": ""
                          }
                        },
                        "type": "scatterpolar"
                      }
                    ],
                    "scatterpolargl": [
                      {
                        "marker": {
                          "colorbar": {
                            "outlinewidth": 0,
                            "ticks": ""
                          }
                        },
                        "type": "scatterpolargl"
                      }
                    ],
                    "scatterternary": [
                      {
                        "marker": {
                          "colorbar": {
                            "outlinewidth": 0,
                            "ticks": ""
                          }
                        },
                        "type": "scatterternary"
                      }
                    ],
                    "surface": [
                      {
                        "colorbar": {
                          "outlinewidth": 0,
                          "ticks": ""
                        },
                        "colorscale": [
                          [
                            0,
                            "#0d0887"
                          ],
                          [
                            0.1111111111111111,
                            "#46039f"
                          ],
                          [
                            0.2222222222222222,
                            "#7201a8"
                          ],
                          [
                            0.3333333333333333,
                            "#9c179e"
                          ],
                          [
                            0.4444444444444444,
                            "#bd3786"
                          ],
                          [
                            0.5555555555555556,
                            "#d8576b"
                          ],
                          [
                            0.6666666666666666,
                            "#ed7953"
                          ],
                          [
                            0.7777777777777778,
                            "#fb9f3a"
                          ],
                          [
                            0.8888888888888888,
                            "#fdca26"
                          ],
                          [
                            1,
                            "#f0f921"
                          ]
                        ],
                        "type": "surface"
                      }
                    ],
                    "table": [
                      {
                        "cells": {
                          "fill": {
                            "color": "#EBF0F8"
                          },
                          "line": {
                            "color": "white"
                          }
                        },
                        "header": {
                          "fill": {
                            "color": "#C8D4E3"
                          },
                          "line": {
                            "color": "white"
                          }
                        },
                        "type": "table"
                      }
                    ]
                  },
                  "layout": {
                    "annotationdefaults": {
                      "arrowcolor": "#2a3f5f",
                      "arrowhead": 0,
                      "arrowwidth": 1
                    },
                    "autotypenumbers": "strict",
                    "coloraxis": {
                      "colorbar": {
                        "outlinewidth": 0,
                        "ticks": ""
                      }
                    },
                    "colorscale": {
                      "diverging": [
                        [
                          0,
                          "#8e0152"
                        ],
                        [
                          0.1,
                          "#c51b7d"
                        ],
                        [
                          0.2,
                          "#de77ae"
                        ],
                        [
                          0.3,
                          "#f1b6da"
                        ],
                        [
                          0.4,
                          "#fde0ef"
                        ],
                        [
                          0.5,
                          "#f7f7f7"
                        ],
                        [
                          0.6,
                          "#e6f5d0"
                        ],
                        [
                          0.7,
                          "#b8e186"
                        ],
                        [
                          0.8,
                          "#7fbc41"
                        ],
                        [
                          0.9,
                          "#4d9221"
                        ],
                        [
                          1,
                          "#276419"
                        ]
                      ],
                      "sequential": [
                        [
                          0,
                          "#0d0887"
                        ],
                        [
                          0.1111111111111111,
                          "#46039f"
                        ],
                        [
                          0.2222222222222222,
                          "#7201a8"
                        ],
                        [
                          0.3333333333333333,
                          "#9c179e"
                        ],
                        [
                          0.4444444444444444,
                          "#bd3786"
                        ],
                        [
                          0.5555555555555556,
                          "#d8576b"
                        ],
                        [
                          0.6666666666666666,
                          "#ed7953"
                        ],
                        [
                          0.7777777777777778,
                          "#fb9f3a"
                        ],
                        [
                          0.8888888888888888,
                          "#fdca26"
                        ],
                        [
                          1,
                          "#f0f921"
                        ]
                      ],
                      "sequentialminus": [
                        [
                          0,
                          "#0d0887"
                        ],
                        [
                          0.1111111111111111,
                          "#46039f"
                        ],
                        [
                          0.2222222222222222,
                          "#7201a8"
                        ],
                        [
                          0.3333333333333333,
                          "#9c179e"
                        ],
                        [
                          0.4444444444444444,
                          "#bd3786"
                        ],
                        [
                          0.5555555555555556,
                          "#d8576b"
                        ],
                        [
                          0.6666666666666666,
                          "#ed7953"
                        ],
                        [
                          0.7777777777777778,
                          "#fb9f3a"
                        ],
                        [
                          0.8888888888888888,
                          "#fdca26"
                        ],
                        [
                          1,
                          "#f0f921"
                        ]
                      ]
                    },
                    "colorway": [
                      "#636efa",
                      "#EF553B",
                      "#00cc96",
                      "#ab63fa",
                      "#FFA15A",
                      "#19d3f3",
                      "#FF6692",
                      "#B6E880",
                      "#FF97FF",
                      "#FECB52"
                    ],
                    "font": {
                      "color": "#2a3f5f"
                    },
                    "geo": {
                      "bgcolor": "white",
                      "lakecolor": "white",
                      "landcolor": "#E5ECF6",
                      "showlakes": true,
                      "showland": true,
                      "subunitcolor": "white"
                    },
                    "hoverlabel": {
                      "align": "left"
                    },
                    "hovermode": "closest",
                    "mapbox": {
                      "style": "light"
                    },
                    "paper_bgcolor": "white",
                    "plot_bgcolor": "#E5ECF6",
                    "polar": {
                      "angularaxis": {
                        "gridcolor": "white",
                        "linecolor": "white",
                        "ticks": ""
                      },
                      "bgcolor": "#E5ECF6",
                      "radialaxis": {
                        "gridcolor": "white",
                        "linecolor": "white",
                        "ticks": ""
                      }
                    },
                    "scene": {
                      "xaxis": {
                        "backgroundcolor": "#E5ECF6",
                        "gridcolor": "white",
                        "gridwidth": 2,
                        "linecolor": "white",
                        "showbackground": true,
                        "ticks": "",
                        "zerolinecolor": "white"
                      },
                      "yaxis": {
                        "backgroundcolor": "#E5ECF6",
                        "gridcolor": "white",
                        "gridwidth": 2,
                        "linecolor": "white",
                        "showbackground": true,
                        "ticks": "",
                        "zerolinecolor": "white"
                      },
                      "zaxis": {
                        "backgroundcolor": "#E5ECF6",
                        "gridcolor": "white",
                        "gridwidth": 2,
                        "linecolor": "white",
                        "showbackground": true,
                        "ticks": "",
                        "zerolinecolor": "white"
                      }
                    },
                    "shapedefaults": {
                      "line": {
                        "color": "#2a3f5f"
                      }
                    },
                    "ternary": {
                      "aaxis": {
                        "gridcolor": "white",
                        "linecolor": "white",
                        "ticks": ""
                      },
                      "baxis": {
                        "gridcolor": "white",
                        "linecolor": "white",
                        "ticks": ""
                      },
                      "bgcolor": "#E5ECF6",
                      "caxis": {
                        "gridcolor": "white",
                        "linecolor": "white",
                        "ticks": ""
                      }
                    },
                    "title": {
                      "x": 0.05
                    },
                    "xaxis": {
                      "automargin": true,
                      "gridcolor": "white",
                      "linecolor": "white",
                      "ticks": "",
                      "title": {
                        "standoff": 15
                      },
                      "zerolinecolor": "white",
                      "zerolinewidth": 2
                    },
                    "yaxis": {
                      "automargin": true,
                      "gridcolor": "white",
                      "linecolor": "white",
                      "ticks": "",
                      "title": {
                        "standoff": 15
                      },
                      "zerolinecolor": "white",
                      "zerolinewidth": 2
                    }
                  }
                },
                "title": {
                  "text": "Genre Distribution"
                },
                "xaxis": {
                  "anchor": "y",
                  "domain": [
                    0,
                    1
                  ],
                  "title": {
                    "text": "Genre"
                  }
                },
                "yaxis": {
                  "anchor": "x",
                  "domain": [
                    0,
                    1
                  ],
                  "title": {
                    "text": "Count"
                  }
                }
              }
            }
          },
          "metadata": {},
          "output_type": "display_data"
        }
      ],
      "source": [
        "genre = data['Genre'].value_counts()\n",
        "fig = px.bar(genre, x=genre.index, y=genre, title='Genre Distribution')\n",
        "fig.update_layout(xaxis_title='Genre', yaxis_title='Count')\n",
        "fig.show()"
      ]
    },
    {
      "cell_type": "code",
      "execution_count": 40,
      "metadata": {
        "colab": {
          "base_uri": "https://localhost:8080/"
        },
        "id": "7nFjEUvuDisQ",
        "outputId": "20115a54-19b3-4d3a-c446-c93224c30fb9"
      },
      "outputs": [
        {
          "data": {
            "text/plain": [
              "array([' drama ', ' thriller ', ' adult ', ' documentary ', ' comedy ',\n",
              "       ' crime ', ' reality-tv ', ' horror ', ' sport ', ' animation ',\n",
              "       ' action ', ' fantasy ', ' short ', ' sci-fi ', ' music ',\n",
              "       ' adventure ', ' talk-show ', ' western ', ' family ', ' mystery ',\n",
              "       ' history ', ' news ', ' biography ', ' romance ', ' game-show ',\n",
              "       ' musical ', ' war '], dtype=object)"
            ]
          },
          "execution_count": 40,
          "metadata": {},
          "output_type": "execute_result"
        }
      ],
      "source": [
        "data['Genre'].unique()\n"
      ]
    },
    {
      "cell_type": "code",
      "execution_count": 41,
      "metadata": {
        "colab": {
          "base_uri": "https://localhost:8080/"
        },
        "id": "g59pjIv9NMs3",
        "outputId": "34682355-6d96-47cc-f3a3-0f9e1efe8f77"
      },
      "outputs": [
        {
          "data": {
            "text/plain": [
              "array(['drama', 'thriller', 'adult', 'documentary', 'comedy', 'crime',\n",
              "       'reality-tv', 'horror', 'sport', 'animation', 'action', 'fantasy',\n",
              "       'short', 'sci-fi', 'music', 'adventure', 'talk-show', 'western',\n",
              "       'family', 'mystery', 'history', 'news', 'biography', 'romance',\n",
              "       'game-show', 'musical', 'war'], dtype=object)"
            ]
          },
          "execution_count": 41,
          "metadata": {},
          "output_type": "execute_result"
        }
      ],
      "source": [
        "# Removed the white spaces\n",
        "data['Genre'] = data['Genre'].str.strip()\n",
        "data['Genre'].unique()"
      ]
    },
    {
      "cell_type": "code",
      "execution_count": 17,
      "metadata": {
        "colab": {
          "base_uri": "https://localhost:8080/"
        },
        "id": "GdT2RjqbSPw6",
        "outputId": "b15bd2ce-d143-4ce5-afa4-521981fcd9ac"
      },
      "outputs": [
        {
          "data": {
            "text/plain": [
              "(108414, 3)"
            ]
          },
          "execution_count": 17,
          "metadata": {},
          "output_type": "execute_result"
        }
      ],
      "source": [
        "data.shape"
      ]
    },
    {
      "cell_type": "code",
      "execution_count": 18,
      "metadata": {
        "id": "oImhnf7zAsSH"
      },
      "outputs": [],
      "source": [
        "def get_top_n_bigram(text, ngram=1, top=None):\n",
        "    vec = CountVectorizer(ngram_range=(ngram, ngram), stop_words='english').fit(text)\n",
        "    bag_of_words = vec.transform(text)\n",
        "\n",
        "    sum_words = bag_of_words.sum(axis=0)\n",
        "    words_freq = [(word, sum_words[0, idx]) for word, idx in vec.vocabulary_.items()]\n",
        "\n",
        "    words_freq =sorted(words_freq, key = lambda x: x[1], reverse=True)\n",
        "    return words_freq[:top]"
      ]
    },
    {
      "cell_type": "code",
      "execution_count": 19,
      "metadata": {
        "id": "7Rc0g2saBVYF"
      },
      "outputs": [],
      "source": [
        "top_30_unigrams = get_top_n_bigram(data.Description, ngram=1, top=30)\n",
        "top_30_bigrams = get_top_n_bigram(data.Description, ngram=2, top=30)\n",
        "top_30_trigrams = get_top_n_bigram(data.Description, ngram=3, top=30)"
      ]
    },
    {
      "cell_type": "code",
      "execution_count": 26,
      "metadata": {
        "colab": {
          "base_uri": "https://localhost:8080/",
          "height": 542
        },
        "id": "2JtiBat0BZnq",
        "outputId": "8f50fe78-0375-4950-974c-97cb6c3da4be"
      },
      "outputs": [
        {
          "data": {
            "application/vnd.plotly.v1+json": {
              "config": {
                "plotlyServerURL": "https://plot.ly"
              },
              "data": [
                {
                  "alignmentgroup": "True",
                  "hovertemplate": "unigram=%{x}<br>count=%{y}<extra></extra>",
                  "legendgroup": "life",
                  "marker": {
                    "color": "#636efa",
                    "pattern": {
                      "shape": ""
                    }
                  },
                  "name": "life",
                  "offsetgroup": "life",
                  "orientation": "v",
                  "showlegend": true,
                  "textposition": "auto",
                  "type": "bar",
                  "x": [
                    "life"
                  ],
                  "xaxis": "x",
                  "y": [
                    36432
                  ],
                  "yaxis": "y"
                },
                {
                  "alignmentgroup": "True",
                  "hovertemplate": "unigram=%{x}<br>count=%{y}<extra></extra>",
                  "legendgroup": "film",
                  "marker": {
                    "color": "#EF553B",
                    "pattern": {
                      "shape": ""
                    }
                  },
                  "name": "film",
                  "offsetgroup": "film",
                  "orientation": "v",
                  "showlegend": true,
                  "textposition": "auto",
                  "type": "bar",
                  "x": [
                    "film"
                  ],
                  "xaxis": "x",
                  "y": [
                    27420
                  ],
                  "yaxis": "y"
                },
                {
                  "alignmentgroup": "True",
                  "hovertemplate": "unigram=%{x}<br>count=%{y}<extra></extra>",
                  "legendgroup": "new",
                  "marker": {
                    "color": "#00cc96",
                    "pattern": {
                      "shape": ""
                    }
                  },
                  "name": "new",
                  "offsetgroup": "new",
                  "orientation": "v",
                  "showlegend": true,
                  "textposition": "auto",
                  "type": "bar",
                  "x": [
                    "new"
                  ],
                  "xaxis": "x",
                  "y": [
                    23323
                  ],
                  "yaxis": "y"
                },
                {
                  "alignmentgroup": "True",
                  "hovertemplate": "unigram=%{x}<br>count=%{y}<extra></extra>",
                  "legendgroup": "world",
                  "marker": {
                    "color": "#ab63fa",
                    "pattern": {
                      "shape": ""
                    }
                  },
                  "name": "world",
                  "offsetgroup": "world",
                  "orientation": "v",
                  "showlegend": true,
                  "textposition": "auto",
                  "type": "bar",
                  "x": [
                    "world"
                  ],
                  "xaxis": "x",
                  "y": [
                    23231
                  ],
                  "yaxis": "y"
                },
                {
                  "alignmentgroup": "True",
                  "hovertemplate": "unigram=%{x}<br>count=%{y}<extra></extra>",
                  "legendgroup": "story",
                  "marker": {
                    "color": "#FFA15A",
                    "pattern": {
                      "shape": ""
                    }
                  },
                  "name": "story",
                  "offsetgroup": "story",
                  "orientation": "v",
                  "showlegend": true,
                  "textposition": "auto",
                  "type": "bar",
                  "x": [
                    "story"
                  ],
                  "xaxis": "x",
                  "y": [
                    20289
                  ],
                  "yaxis": "y"
                },
                {
                  "alignmentgroup": "True",
                  "hovertemplate": "unigram=%{x}<br>count=%{y}<extra></extra>",
                  "legendgroup": "young",
                  "marker": {
                    "color": "#19d3f3",
                    "pattern": {
                      "shape": ""
                    }
                  },
                  "name": "young",
                  "offsetgroup": "young",
                  "orientation": "v",
                  "showlegend": true,
                  "textposition": "auto",
                  "type": "bar",
                  "x": [
                    "young"
                  ],
                  "xaxis": "x",
                  "y": [
                    20099
                  ],
                  "yaxis": "y"
                },
                {
                  "alignmentgroup": "True",
                  "hovertemplate": "unigram=%{x}<br>count=%{y}<extra></extra>",
                  "legendgroup": "family",
                  "marker": {
                    "color": "#FF6692",
                    "pattern": {
                      "shape": ""
                    }
                  },
                  "name": "family",
                  "offsetgroup": "family",
                  "orientation": "v",
                  "showlegend": true,
                  "textposition": "auto",
                  "type": "bar",
                  "x": [
                    "family"
                  ],
                  "xaxis": "x",
                  "y": [
                    19441
                  ],
                  "yaxis": "y"
                },
                {
                  "alignmentgroup": "True",
                  "hovertemplate": "unigram=%{x}<br>count=%{y}<extra></extra>",
                  "legendgroup": "man",
                  "marker": {
                    "color": "#B6E880",
                    "pattern": {
                      "shape": ""
                    }
                  },
                  "name": "man",
                  "offsetgroup": "man",
                  "orientation": "v",
                  "showlegend": true,
                  "textposition": "auto",
                  "type": "bar",
                  "x": [
                    "man"
                  ],
                  "xaxis": "x",
                  "y": [
                    18877
                  ],
                  "yaxis": "y"
                },
                {
                  "alignmentgroup": "True",
                  "hovertemplate": "unigram=%{x}<br>count=%{y}<extra></extra>",
                  "legendgroup": "love",
                  "marker": {
                    "color": "#FF97FF",
                    "pattern": {
                      "shape": ""
                    }
                  },
                  "name": "love",
                  "offsetgroup": "love",
                  "orientation": "v",
                  "showlegend": true,
                  "textposition": "auto",
                  "type": "bar",
                  "x": [
                    "love"
                  ],
                  "xaxis": "x",
                  "y": [
                    18813
                  ],
                  "yaxis": "y"
                },
                {
                  "alignmentgroup": "True",
                  "hovertemplate": "unigram=%{x}<br>count=%{y}<extra></extra>",
                  "legendgroup": "time",
                  "marker": {
                    "color": "#FECB52",
                    "pattern": {
                      "shape": ""
                    }
                  },
                  "name": "time",
                  "offsetgroup": "time",
                  "orientation": "v",
                  "showlegend": true,
                  "textposition": "auto",
                  "type": "bar",
                  "x": [
                    "time"
                  ],
                  "xaxis": "x",
                  "y": [
                    18146
                  ],
                  "yaxis": "y"
                },
                {
                  "alignmentgroup": "True",
                  "hovertemplate": "unigram=%{x}<br>count=%{y}<extra></extra>",
                  "legendgroup": "years",
                  "marker": {
                    "color": "#636efa",
                    "pattern": {
                      "shape": ""
                    }
                  },
                  "name": "years",
                  "offsetgroup": "years",
                  "orientation": "v",
                  "showlegend": true,
                  "textposition": "auto",
                  "type": "bar",
                  "x": [
                    "years"
                  ],
                  "xaxis": "x",
                  "y": [
                    16585
                  ],
                  "yaxis": "y"
                },
                {
                  "alignmentgroup": "True",
                  "hovertemplate": "unigram=%{x}<br>count=%{y}<extra></extra>",
                  "legendgroup": "people",
                  "marker": {
                    "color": "#EF553B",
                    "pattern": {
                      "shape": ""
                    }
                  },
                  "name": "people",
                  "offsetgroup": "people",
                  "orientation": "v",
                  "showlegend": true,
                  "textposition": "auto",
                  "type": "bar",
                  "x": [
                    "people"
                  ],
                  "xaxis": "x",
                  "y": [
                    15991
                  ],
                  "yaxis": "y"
                },
                {
                  "alignmentgroup": "True",
                  "hovertemplate": "unigram=%{x}<br>count=%{y}<extra></extra>",
                  "legendgroup": "old",
                  "marker": {
                    "color": "#00cc96",
                    "pattern": {
                      "shape": ""
                    }
                  },
                  "name": "old",
                  "offsetgroup": "old",
                  "orientation": "v",
                  "showlegend": true,
                  "textposition": "auto",
                  "type": "bar",
                  "x": [
                    "old"
                  ],
                  "xaxis": "x",
                  "y": [
                    14933
                  ],
                  "yaxis": "y"
                },
                {
                  "alignmentgroup": "True",
                  "hovertemplate": "unigram=%{x}<br>count=%{y}<extra></extra>",
                  "legendgroup": "father",
                  "marker": {
                    "color": "#ab63fa",
                    "pattern": {
                      "shape": ""
                    }
                  },
                  "name": "father",
                  "offsetgroup": "father",
                  "orientation": "v",
                  "showlegend": true,
                  "textposition": "auto",
                  "type": "bar",
                  "x": [
                    "father"
                  ],
                  "xaxis": "x",
                  "y": [
                    13981
                  ],
                  "yaxis": "y"
                },
                {
                  "alignmentgroup": "True",
                  "hovertemplate": "unigram=%{x}<br>count=%{y}<extra></extra>",
                  "legendgroup": "day",
                  "marker": {
                    "color": "#FFA15A",
                    "pattern": {
                      "shape": ""
                    }
                  },
                  "name": "day",
                  "offsetgroup": "day",
                  "orientation": "v",
                  "showlegend": true,
                  "textposition": "auto",
                  "type": "bar",
                  "x": [
                    "day"
                  ],
                  "xaxis": "x",
                  "y": [
                    12993
                  ],
                  "yaxis": "y"
                },
                {
                  "alignmentgroup": "True",
                  "hovertemplate": "unigram=%{x}<br>count=%{y}<extra></extra>",
                  "legendgroup": "lives",
                  "marker": {
                    "color": "#19d3f3",
                    "pattern": {
                      "shape": ""
                    }
                  },
                  "name": "lives",
                  "offsetgroup": "lives",
                  "orientation": "v",
                  "showlegend": true,
                  "textposition": "auto",
                  "type": "bar",
                  "x": [
                    "lives"
                  ],
                  "xaxis": "x",
                  "y": [
                    12837
                  ],
                  "yaxis": "y"
                },
                {
                  "alignmentgroup": "True",
                  "hovertemplate": "unigram=%{x}<br>count=%{y}<extra></extra>",
                  "legendgroup": "home",
                  "marker": {
                    "color": "#FF6692",
                    "pattern": {
                      "shape": ""
                    }
                  },
                  "name": "home",
                  "offsetgroup": "home",
                  "orientation": "v",
                  "showlegend": true,
                  "textposition": "auto",
                  "type": "bar",
                  "x": [
                    "home"
                  ],
                  "xaxis": "x",
                  "y": [
                    12365
                  ],
                  "yaxis": "y"
                },
                {
                  "alignmentgroup": "True",
                  "hovertemplate": "unigram=%{x}<br>count=%{y}<extra></extra>",
                  "legendgroup": "way",
                  "marker": {
                    "color": "#B6E880",
                    "pattern": {
                      "shape": ""
                    }
                  },
                  "name": "way",
                  "offsetgroup": "way",
                  "orientation": "v",
                  "showlegend": true,
                  "textposition": "auto",
                  "type": "bar",
                  "x": [
                    "way"
                  ],
                  "xaxis": "x",
                  "y": [
                    11767
                  ],
                  "yaxis": "y"
                },
                {
                  "alignmentgroup": "True",
                  "hovertemplate": "unigram=%{x}<br>count=%{y}<extra></extra>",
                  "legendgroup": "documentary",
                  "marker": {
                    "color": "#FF97FF",
                    "pattern": {
                      "shape": ""
                    }
                  },
                  "name": "documentary",
                  "offsetgroup": "documentary",
                  "orientation": "v",
                  "showlegend": true,
                  "textposition": "auto",
                  "type": "bar",
                  "x": [
                    "documentary"
                  ],
                  "xaxis": "x",
                  "y": [
                    11294
                  ],
                  "yaxis": "y"
                },
                {
                  "alignmentgroup": "True",
                  "hovertemplate": "unigram=%{x}<br>count=%{y}<extra></extra>",
                  "legendgroup": "year",
                  "marker": {
                    "color": "#FECB52",
                    "pattern": {
                      "shape": ""
                    }
                  },
                  "name": "year",
                  "offsetgroup": "year",
                  "orientation": "v",
                  "showlegend": true,
                  "textposition": "auto",
                  "type": "bar",
                  "x": [
                    "year"
                  ],
                  "xaxis": "x",
                  "y": [
                    11184
                  ],
                  "yaxis": "y"
                },
                {
                  "alignmentgroup": "True",
                  "hovertemplate": "unigram=%{x}<br>count=%{y}<extra></extra>",
                  "legendgroup": "woman",
                  "marker": {
                    "color": "#636efa",
                    "pattern": {
                      "shape": ""
                    }
                  },
                  "name": "woman",
                  "offsetgroup": "woman",
                  "orientation": "v",
                  "showlegend": true,
                  "textposition": "auto",
                  "type": "bar",
                  "x": [
                    "woman"
                  ],
                  "xaxis": "x",
                  "y": [
                    10884
                  ],
                  "yaxis": "y"
                },
                {
                  "alignmentgroup": "True",
                  "hovertemplate": "unigram=%{x}<br>count=%{y}<extra></extra>",
                  "legendgroup": "mother",
                  "marker": {
                    "color": "#EF553B",
                    "pattern": {
                      "shape": ""
                    }
                  },
                  "name": "mother",
                  "offsetgroup": "mother",
                  "orientation": "v",
                  "showlegend": true,
                  "textposition": "auto",
                  "type": "bar",
                  "x": [
                    "mother"
                  ],
                  "xaxis": "x",
                  "y": [
                    10863
                  ],
                  "yaxis": "y"
                },
                {
                  "alignmentgroup": "True",
                  "hovertemplate": "unigram=%{x}<br>count=%{y}<extra></extra>",
                  "legendgroup": "make",
                  "marker": {
                    "color": "#00cc96",
                    "pattern": {
                      "shape": ""
                    }
                  },
                  "name": "make",
                  "offsetgroup": "make",
                  "orientation": "v",
                  "showlegend": true,
                  "textposition": "auto",
                  "type": "bar",
                  "x": [
                    "make"
                  ],
                  "xaxis": "x",
                  "y": [
                    10535
                  ],
                  "yaxis": "y"
                },
                {
                  "alignmentgroup": "True",
                  "hovertemplate": "unigram=%{x}<br>count=%{y}<extra></extra>",
                  "legendgroup": "friends",
                  "marker": {
                    "color": "#ab63fa",
                    "pattern": {
                      "shape": ""
                    }
                  },
                  "name": "friends",
                  "offsetgroup": "friends",
                  "orientation": "v",
                  "showlegend": true,
                  "textposition": "auto",
                  "type": "bar",
                  "x": [
                    "friends"
                  ],
                  "xaxis": "x",
                  "y": [
                    10388
                  ],
                  "yaxis": "y"
                },
                {
                  "alignmentgroup": "True",
                  "hovertemplate": "unigram=%{x}<br>count=%{y}<extra></extra>",
                  "legendgroup": "wife",
                  "marker": {
                    "color": "#FFA15A",
                    "pattern": {
                      "shape": ""
                    }
                  },
                  "name": "wife",
                  "offsetgroup": "wife",
                  "orientation": "v",
                  "showlegend": true,
                  "textposition": "auto",
                  "type": "bar",
                  "x": [
                    "wife"
                  ],
                  "xaxis": "x",
                  "y": [
                    10006
                  ],
                  "yaxis": "y"
                },
                {
                  "alignmentgroup": "True",
                  "hovertemplate": "unigram=%{x}<br>count=%{y}<extra></extra>",
                  "legendgroup": "just",
                  "marker": {
                    "color": "#19d3f3",
                    "pattern": {
                      "shape": ""
                    }
                  },
                  "name": "just",
                  "offsetgroup": "just",
                  "orientation": "v",
                  "showlegend": true,
                  "textposition": "auto",
                  "type": "bar",
                  "x": [
                    "just"
                  ],
                  "xaxis": "x",
                  "y": [
                    9928
                  ],
                  "yaxis": "y"
                },
                {
                  "alignmentgroup": "True",
                  "hovertemplate": "unigram=%{x}<br>count=%{y}<extra></extra>",
                  "legendgroup": "girl",
                  "marker": {
                    "color": "#FF6692",
                    "pattern": {
                      "shape": ""
                    }
                  },
                  "name": "girl",
                  "offsetgroup": "girl",
                  "orientation": "v",
                  "showlegend": true,
                  "textposition": "auto",
                  "type": "bar",
                  "x": [
                    "girl"
                  ],
                  "xaxis": "x",
                  "y": [
                    9916
                  ],
                  "yaxis": "y"
                },
                {
                  "alignmentgroup": "True",
                  "hovertemplate": "unigram=%{x}<br>count=%{y}<extra></extra>",
                  "legendgroup": "work",
                  "marker": {
                    "color": "#B6E880",
                    "pattern": {
                      "shape": ""
                    }
                  },
                  "name": "work",
                  "offsetgroup": "work",
                  "orientation": "v",
                  "showlegend": true,
                  "textposition": "auto",
                  "type": "bar",
                  "x": [
                    "work"
                  ],
                  "xaxis": "x",
                  "y": [
                    9607
                  ],
                  "yaxis": "y"
                },
                {
                  "alignmentgroup": "True",
                  "hovertemplate": "unigram=%{x}<br>count=%{y}<extra></extra>",
                  "legendgroup": "city",
                  "marker": {
                    "color": "#FF97FF",
                    "pattern": {
                      "shape": ""
                    }
                  },
                  "name": "city",
                  "offsetgroup": "city",
                  "orientation": "v",
                  "showlegend": true,
                  "textposition": "auto",
                  "type": "bar",
                  "x": [
                    "city"
                  ],
                  "xaxis": "x",
                  "y": [
                    9587
                  ],
                  "yaxis": "y"
                },
                {
                  "alignmentgroup": "True",
                  "hovertemplate": "unigram=%{x}<br>count=%{y}<extra></extra>",
                  "legendgroup": "takes",
                  "marker": {
                    "color": "#FECB52",
                    "pattern": {
                      "shape": ""
                    }
                  },
                  "name": "takes",
                  "offsetgroup": "takes",
                  "orientation": "v",
                  "showlegend": true,
                  "textposition": "auto",
                  "type": "bar",
                  "x": [
                    "takes"
                  ],
                  "xaxis": "x",
                  "y": [
                    9564
                  ],
                  "yaxis": "y"
                }
              ],
              "layout": {
                "barmode": "relative",
                "legend": {
                  "title": {
                    "text": "unigram"
                  },
                  "tracegroupgap": 0
                },
                "template": {
                  "data": {
                    "bar": [
                      {
                        "error_x": {
                          "color": "#2a3f5f"
                        },
                        "error_y": {
                          "color": "#2a3f5f"
                        },
                        "marker": {
                          "line": {
                            "color": "#E5ECF6",
                            "width": 0.5
                          },
                          "pattern": {
                            "fillmode": "overlay",
                            "size": 10,
                            "solidity": 0.2
                          }
                        },
                        "type": "bar"
                      }
                    ],
                    "barpolar": [
                      {
                        "marker": {
                          "line": {
                            "color": "#E5ECF6",
                            "width": 0.5
                          },
                          "pattern": {
                            "fillmode": "overlay",
                            "size": 10,
                            "solidity": 0.2
                          }
                        },
                        "type": "barpolar"
                      }
                    ],
                    "carpet": [
                      {
                        "aaxis": {
                          "endlinecolor": "#2a3f5f",
                          "gridcolor": "white",
                          "linecolor": "white",
                          "minorgridcolor": "white",
                          "startlinecolor": "#2a3f5f"
                        },
                        "baxis": {
                          "endlinecolor": "#2a3f5f",
                          "gridcolor": "white",
                          "linecolor": "white",
                          "minorgridcolor": "white",
                          "startlinecolor": "#2a3f5f"
                        },
                        "type": "carpet"
                      }
                    ],
                    "choropleth": [
                      {
                        "colorbar": {
                          "outlinewidth": 0,
                          "ticks": ""
                        },
                        "type": "choropleth"
                      }
                    ],
                    "contour": [
                      {
                        "colorbar": {
                          "outlinewidth": 0,
                          "ticks": ""
                        },
                        "colorscale": [
                          [
                            0,
                            "#0d0887"
                          ],
                          [
                            0.1111111111111111,
                            "#46039f"
                          ],
                          [
                            0.2222222222222222,
                            "#7201a8"
                          ],
                          [
                            0.3333333333333333,
                            "#9c179e"
                          ],
                          [
                            0.4444444444444444,
                            "#bd3786"
                          ],
                          [
                            0.5555555555555556,
                            "#d8576b"
                          ],
                          [
                            0.6666666666666666,
                            "#ed7953"
                          ],
                          [
                            0.7777777777777778,
                            "#fb9f3a"
                          ],
                          [
                            0.8888888888888888,
                            "#fdca26"
                          ],
                          [
                            1,
                            "#f0f921"
                          ]
                        ],
                        "type": "contour"
                      }
                    ],
                    "contourcarpet": [
                      {
                        "colorbar": {
                          "outlinewidth": 0,
                          "ticks": ""
                        },
                        "type": "contourcarpet"
                      }
                    ],
                    "heatmap": [
                      {
                        "colorbar": {
                          "outlinewidth": 0,
                          "ticks": ""
                        },
                        "colorscale": [
                          [
                            0,
                            "#0d0887"
                          ],
                          [
                            0.1111111111111111,
                            "#46039f"
                          ],
                          [
                            0.2222222222222222,
                            "#7201a8"
                          ],
                          [
                            0.3333333333333333,
                            "#9c179e"
                          ],
                          [
                            0.4444444444444444,
                            "#bd3786"
                          ],
                          [
                            0.5555555555555556,
                            "#d8576b"
                          ],
                          [
                            0.6666666666666666,
                            "#ed7953"
                          ],
                          [
                            0.7777777777777778,
                            "#fb9f3a"
                          ],
                          [
                            0.8888888888888888,
                            "#fdca26"
                          ],
                          [
                            1,
                            "#f0f921"
                          ]
                        ],
                        "type": "heatmap"
                      }
                    ],
                    "heatmapgl": [
                      {
                        "colorbar": {
                          "outlinewidth": 0,
                          "ticks": ""
                        },
                        "colorscale": [
                          [
                            0,
                            "#0d0887"
                          ],
                          [
                            0.1111111111111111,
                            "#46039f"
                          ],
                          [
                            0.2222222222222222,
                            "#7201a8"
                          ],
                          [
                            0.3333333333333333,
                            "#9c179e"
                          ],
                          [
                            0.4444444444444444,
                            "#bd3786"
                          ],
                          [
                            0.5555555555555556,
                            "#d8576b"
                          ],
                          [
                            0.6666666666666666,
                            "#ed7953"
                          ],
                          [
                            0.7777777777777778,
                            "#fb9f3a"
                          ],
                          [
                            0.8888888888888888,
                            "#fdca26"
                          ],
                          [
                            1,
                            "#f0f921"
                          ]
                        ],
                        "type": "heatmapgl"
                      }
                    ],
                    "histogram": [
                      {
                        "marker": {
                          "pattern": {
                            "fillmode": "overlay",
                            "size": 10,
                            "solidity": 0.2
                          }
                        },
                        "type": "histogram"
                      }
                    ],
                    "histogram2d": [
                      {
                        "colorbar": {
                          "outlinewidth": 0,
                          "ticks": ""
                        },
                        "colorscale": [
                          [
                            0,
                            "#0d0887"
                          ],
                          [
                            0.1111111111111111,
                            "#46039f"
                          ],
                          [
                            0.2222222222222222,
                            "#7201a8"
                          ],
                          [
                            0.3333333333333333,
                            "#9c179e"
                          ],
                          [
                            0.4444444444444444,
                            "#bd3786"
                          ],
                          [
                            0.5555555555555556,
                            "#d8576b"
                          ],
                          [
                            0.6666666666666666,
                            "#ed7953"
                          ],
                          [
                            0.7777777777777778,
                            "#fb9f3a"
                          ],
                          [
                            0.8888888888888888,
                            "#fdca26"
                          ],
                          [
                            1,
                            "#f0f921"
                          ]
                        ],
                        "type": "histogram2d"
                      }
                    ],
                    "histogram2dcontour": [
                      {
                        "colorbar": {
                          "outlinewidth": 0,
                          "ticks": ""
                        },
                        "colorscale": [
                          [
                            0,
                            "#0d0887"
                          ],
                          [
                            0.1111111111111111,
                            "#46039f"
                          ],
                          [
                            0.2222222222222222,
                            "#7201a8"
                          ],
                          [
                            0.3333333333333333,
                            "#9c179e"
                          ],
                          [
                            0.4444444444444444,
                            "#bd3786"
                          ],
                          [
                            0.5555555555555556,
                            "#d8576b"
                          ],
                          [
                            0.6666666666666666,
                            "#ed7953"
                          ],
                          [
                            0.7777777777777778,
                            "#fb9f3a"
                          ],
                          [
                            0.8888888888888888,
                            "#fdca26"
                          ],
                          [
                            1,
                            "#f0f921"
                          ]
                        ],
                        "type": "histogram2dcontour"
                      }
                    ],
                    "mesh3d": [
                      {
                        "colorbar": {
                          "outlinewidth": 0,
                          "ticks": ""
                        },
                        "type": "mesh3d"
                      }
                    ],
                    "parcoords": [
                      {
                        "line": {
                          "colorbar": {
                            "outlinewidth": 0,
                            "ticks": ""
                          }
                        },
                        "type": "parcoords"
                      }
                    ],
                    "pie": [
                      {
                        "automargin": true,
                        "type": "pie"
                      }
                    ],
                    "scatter": [
                      {
                        "fillpattern": {
                          "fillmode": "overlay",
                          "size": 10,
                          "solidity": 0.2
                        },
                        "type": "scatter"
                      }
                    ],
                    "scatter3d": [
                      {
                        "line": {
                          "colorbar": {
                            "outlinewidth": 0,
                            "ticks": ""
                          }
                        },
                        "marker": {
                          "colorbar": {
                            "outlinewidth": 0,
                            "ticks": ""
                          }
                        },
                        "type": "scatter3d"
                      }
                    ],
                    "scattercarpet": [
                      {
                        "marker": {
                          "colorbar": {
                            "outlinewidth": 0,
                            "ticks": ""
                          }
                        },
                        "type": "scattercarpet"
                      }
                    ],
                    "scattergeo": [
                      {
                        "marker": {
                          "colorbar": {
                            "outlinewidth": 0,
                            "ticks": ""
                          }
                        },
                        "type": "scattergeo"
                      }
                    ],
                    "scattergl": [
                      {
                        "marker": {
                          "colorbar": {
                            "outlinewidth": 0,
                            "ticks": ""
                          }
                        },
                        "type": "scattergl"
                      }
                    ],
                    "scattermapbox": [
                      {
                        "marker": {
                          "colorbar": {
                            "outlinewidth": 0,
                            "ticks": ""
                          }
                        },
                        "type": "scattermapbox"
                      }
                    ],
                    "scatterpolar": [
                      {
                        "marker": {
                          "colorbar": {
                            "outlinewidth": 0,
                            "ticks": ""
                          }
                        },
                        "type": "scatterpolar"
                      }
                    ],
                    "scatterpolargl": [
                      {
                        "marker": {
                          "colorbar": {
                            "outlinewidth": 0,
                            "ticks": ""
                          }
                        },
                        "type": "scatterpolargl"
                      }
                    ],
                    "scatterternary": [
                      {
                        "marker": {
                          "colorbar": {
                            "outlinewidth": 0,
                            "ticks": ""
                          }
                        },
                        "type": "scatterternary"
                      }
                    ],
                    "surface": [
                      {
                        "colorbar": {
                          "outlinewidth": 0,
                          "ticks": ""
                        },
                        "colorscale": [
                          [
                            0,
                            "#0d0887"
                          ],
                          [
                            0.1111111111111111,
                            "#46039f"
                          ],
                          [
                            0.2222222222222222,
                            "#7201a8"
                          ],
                          [
                            0.3333333333333333,
                            "#9c179e"
                          ],
                          [
                            0.4444444444444444,
                            "#bd3786"
                          ],
                          [
                            0.5555555555555556,
                            "#d8576b"
                          ],
                          [
                            0.6666666666666666,
                            "#ed7953"
                          ],
                          [
                            0.7777777777777778,
                            "#fb9f3a"
                          ],
                          [
                            0.8888888888888888,
                            "#fdca26"
                          ],
                          [
                            1,
                            "#f0f921"
                          ]
                        ],
                        "type": "surface"
                      }
                    ],
                    "table": [
                      {
                        "cells": {
                          "fill": {
                            "color": "#EBF0F8"
                          },
                          "line": {
                            "color": "white"
                          }
                        },
                        "header": {
                          "fill": {
                            "color": "#C8D4E3"
                          },
                          "line": {
                            "color": "white"
                          }
                        },
                        "type": "table"
                      }
                    ]
                  },
                  "layout": {
                    "annotationdefaults": {
                      "arrowcolor": "#2a3f5f",
                      "arrowhead": 0,
                      "arrowwidth": 1
                    },
                    "autotypenumbers": "strict",
                    "coloraxis": {
                      "colorbar": {
                        "outlinewidth": 0,
                        "ticks": ""
                      }
                    },
                    "colorscale": {
                      "diverging": [
                        [
                          0,
                          "#8e0152"
                        ],
                        [
                          0.1,
                          "#c51b7d"
                        ],
                        [
                          0.2,
                          "#de77ae"
                        ],
                        [
                          0.3,
                          "#f1b6da"
                        ],
                        [
                          0.4,
                          "#fde0ef"
                        ],
                        [
                          0.5,
                          "#f7f7f7"
                        ],
                        [
                          0.6,
                          "#e6f5d0"
                        ],
                        [
                          0.7,
                          "#b8e186"
                        ],
                        [
                          0.8,
                          "#7fbc41"
                        ],
                        [
                          0.9,
                          "#4d9221"
                        ],
                        [
                          1,
                          "#276419"
                        ]
                      ],
                      "sequential": [
                        [
                          0,
                          "#0d0887"
                        ],
                        [
                          0.1111111111111111,
                          "#46039f"
                        ],
                        [
                          0.2222222222222222,
                          "#7201a8"
                        ],
                        [
                          0.3333333333333333,
                          "#9c179e"
                        ],
                        [
                          0.4444444444444444,
                          "#bd3786"
                        ],
                        [
                          0.5555555555555556,
                          "#d8576b"
                        ],
                        [
                          0.6666666666666666,
                          "#ed7953"
                        ],
                        [
                          0.7777777777777778,
                          "#fb9f3a"
                        ],
                        [
                          0.8888888888888888,
                          "#fdca26"
                        ],
                        [
                          1,
                          "#f0f921"
                        ]
                      ],
                      "sequentialminus": [
                        [
                          0,
                          "#0d0887"
                        ],
                        [
                          0.1111111111111111,
                          "#46039f"
                        ],
                        [
                          0.2222222222222222,
                          "#7201a8"
                        ],
                        [
                          0.3333333333333333,
                          "#9c179e"
                        ],
                        [
                          0.4444444444444444,
                          "#bd3786"
                        ],
                        [
                          0.5555555555555556,
                          "#d8576b"
                        ],
                        [
                          0.6666666666666666,
                          "#ed7953"
                        ],
                        [
                          0.7777777777777778,
                          "#fb9f3a"
                        ],
                        [
                          0.8888888888888888,
                          "#fdca26"
                        ],
                        [
                          1,
                          "#f0f921"
                        ]
                      ]
                    },
                    "colorway": [
                      "#636efa",
                      "#EF553B",
                      "#00cc96",
                      "#ab63fa",
                      "#FFA15A",
                      "#19d3f3",
                      "#FF6692",
                      "#B6E880",
                      "#FF97FF",
                      "#FECB52"
                    ],
                    "font": {
                      "color": "#2a3f5f"
                    },
                    "geo": {
                      "bgcolor": "white",
                      "lakecolor": "white",
                      "landcolor": "#E5ECF6",
                      "showlakes": true,
                      "showland": true,
                      "subunitcolor": "white"
                    },
                    "hoverlabel": {
                      "align": "left"
                    },
                    "hovermode": "closest",
                    "mapbox": {
                      "style": "light"
                    },
                    "paper_bgcolor": "white",
                    "plot_bgcolor": "#E5ECF6",
                    "polar": {
                      "angularaxis": {
                        "gridcolor": "white",
                        "linecolor": "white",
                        "ticks": ""
                      },
                      "bgcolor": "#E5ECF6",
                      "radialaxis": {
                        "gridcolor": "white",
                        "linecolor": "white",
                        "ticks": ""
                      }
                    },
                    "scene": {
                      "xaxis": {
                        "backgroundcolor": "#E5ECF6",
                        "gridcolor": "white",
                        "gridwidth": 2,
                        "linecolor": "white",
                        "showbackground": true,
                        "ticks": "",
                        "zerolinecolor": "white"
                      },
                      "yaxis": {
                        "backgroundcolor": "#E5ECF6",
                        "gridcolor": "white",
                        "gridwidth": 2,
                        "linecolor": "white",
                        "showbackground": true,
                        "ticks": "",
                        "zerolinecolor": "white"
                      },
                      "zaxis": {
                        "backgroundcolor": "#E5ECF6",
                        "gridcolor": "white",
                        "gridwidth": 2,
                        "linecolor": "white",
                        "showbackground": true,
                        "ticks": "",
                        "zerolinecolor": "white"
                      }
                    },
                    "shapedefaults": {
                      "line": {
                        "color": "#2a3f5f"
                      }
                    },
                    "ternary": {
                      "aaxis": {
                        "gridcolor": "white",
                        "linecolor": "white",
                        "ticks": ""
                      },
                      "baxis": {
                        "gridcolor": "white",
                        "linecolor": "white",
                        "ticks": ""
                      },
                      "bgcolor": "#E5ECF6",
                      "caxis": {
                        "gridcolor": "white",
                        "linecolor": "white",
                        "ticks": ""
                      }
                    },
                    "title": {
                      "x": 0.05
                    },
                    "xaxis": {
                      "automargin": true,
                      "gridcolor": "white",
                      "linecolor": "white",
                      "ticks": "",
                      "title": {
                        "standoff": 15
                      },
                      "zerolinecolor": "white",
                      "zerolinewidth": 2
                    },
                    "yaxis": {
                      "automargin": true,
                      "gridcolor": "white",
                      "linecolor": "white",
                      "ticks": "",
                      "title": {
                        "standoff": 15
                      },
                      "zerolinecolor": "white",
                      "zerolinewidth": 2
                    }
                  }
                },
                "title": {
                  "text": "Top 30 Unigrams"
                },
                "xaxis": {
                  "anchor": "y",
                  "categoryarray": [
                    "life",
                    "film",
                    "new",
                    "world",
                    "story",
                    "young",
                    "family",
                    "man",
                    "love",
                    "time",
                    "years",
                    "people",
                    "old",
                    "father",
                    "day",
                    "lives",
                    "home",
                    "way",
                    "documentary",
                    "year",
                    "woman",
                    "mother",
                    "make",
                    "friends",
                    "wife",
                    "just",
                    "girl",
                    "work",
                    "city",
                    "takes"
                  ],
                  "categoryorder": "array",
                  "domain": [
                    0,
                    1
                  ],
                  "tickangle": 80,
                  "title": {
                    "text": "Unigram"
                  }
                },
                "yaxis": {
                  "anchor": "x",
                  "domain": [
                    0,
                    1
                  ],
                  "title": {
                    "text": "Count"
                  }
                }
              }
            }
          },
          "metadata": {},
          "output_type": "display_data"
        }
      ],
      "source": [
        "df1 = pd.DataFrame(top_30_unigrams, columns = ['unigram' , 'count'])\n",
        "fig = px.bar(df1, x='unigram', y='count', title='Top 30 Unigrams', color='unigram')\n",
        "fig.update_layout(xaxis_title='Unigram', yaxis_title='Count')\n",
        "fig.update_xaxes(tickangle=80)\n",
        "\n",
        "fig.show()"
      ]
    },
    {
      "cell_type": "code",
      "execution_count": 28,
      "metadata": {
        "colab": {
          "base_uri": "https://localhost:8080/",
          "height": 542
        },
        "id": "5jn9NhsrBilN",
        "outputId": "cf81b273-f934-44a6-f5e4-3f7dee901558"
      },
      "outputs": [
        {
          "data": {
            "application/vnd.plotly.v1+json": {
              "config": {
                "plotlyServerURL": "https://plot.ly"
              },
              "data": [
                {
                  "alignmentgroup": "True",
                  "hovertemplate": "bigram=%{x}<br>count=%{y}<extra></extra>",
                  "legendgroup": "year old",
                  "marker": {
                    "color": "#636efa",
                    "pattern": {
                      "shape": ""
                    }
                  },
                  "name": "year old",
                  "offsetgroup": "year old",
                  "orientation": "v",
                  "showlegend": true,
                  "textposition": "auto",
                  "type": "bar",
                  "x": [
                    "year old"
                  ],
                  "xaxis": "x",
                  "y": [
                    5559
                  ],
                  "yaxis": "y"
                },
                {
                  "alignmentgroup": "True",
                  "hovertemplate": "bigram=%{x}<br>count=%{y}<extra></extra>",
                  "legendgroup": "new york",
                  "marker": {
                    "color": "#EF553B",
                    "pattern": {
                      "shape": ""
                    }
                  },
                  "name": "new york",
                  "offsetgroup": "new york",
                  "orientation": "v",
                  "showlegend": true,
                  "textposition": "auto",
                  "type": "bar",
                  "x": [
                    "new york"
                  ],
                  "xaxis": "x",
                  "y": [
                    3927
                  ],
                  "yaxis": "y"
                },
                {
                  "alignmentgroup": "True",
                  "hovertemplate": "bigram=%{x}<br>count=%{y}<extra></extra>",
                  "legendgroup": "high school",
                  "marker": {
                    "color": "#00cc96",
                    "pattern": {
                      "shape": ""
                    }
                  },
                  "name": "high school",
                  "offsetgroup": "high school",
                  "orientation": "v",
                  "showlegend": true,
                  "textposition": "auto",
                  "type": "bar",
                  "x": [
                    "high school"
                  ],
                  "xaxis": "x",
                  "y": [
                    2389
                  ],
                  "yaxis": "y"
                },
                {
                  "alignmentgroup": "True",
                  "hovertemplate": "bigram=%{x}<br>count=%{y}<extra></extra>",
                  "legendgroup": "young man",
                  "marker": {
                    "color": "#ab63fa",
                    "pattern": {
                      "shape": ""
                    }
                  },
                  "name": "young man",
                  "offsetgroup": "young man",
                  "orientation": "v",
                  "showlegend": true,
                  "textposition": "auto",
                  "type": "bar",
                  "x": [
                    "young man"
                  ],
                  "xaxis": "x",
                  "y": [
                    2330
                  ],
                  "yaxis": "y"
                },
                {
                  "alignmentgroup": "True",
                  "hovertemplate": "bigram=%{x}<br>count=%{y}<extra></extra>",
                  "legendgroup": "young woman",
                  "marker": {
                    "color": "#FFA15A",
                    "pattern": {
                      "shape": ""
                    }
                  },
                  "name": "young woman",
                  "offsetgroup": "young woman",
                  "orientation": "v",
                  "showlegend": true,
                  "textposition": "auto",
                  "type": "bar",
                  "x": [
                    "young woman"
                  ],
                  "xaxis": "x",
                  "y": [
                    1980
                  ],
                  "yaxis": "y"
                },
                {
                  "alignmentgroup": "True",
                  "hovertemplate": "bigram=%{x}<br>count=%{y}<extra></extra>",
                  "legendgroup": "falls love",
                  "marker": {
                    "color": "#19d3f3",
                    "pattern": {
                      "shape": ""
                    }
                  },
                  "name": "falls love",
                  "offsetgroup": "falls love",
                  "orientation": "v",
                  "showlegend": true,
                  "textposition": "auto",
                  "type": "bar",
                  "x": [
                    "falls love"
                  ],
                  "xaxis": "x",
                  "y": [
                    1977
                  ],
                  "yaxis": "y"
                },
                {
                  "alignmentgroup": "True",
                  "hovertemplate": "bigram=%{x}<br>count=%{y}<extra></extra>",
                  "legendgroup": "tells story",
                  "marker": {
                    "color": "#FF6692",
                    "pattern": {
                      "shape": ""
                    }
                  },
                  "name": "tells story",
                  "offsetgroup": "tells story",
                  "orientation": "v",
                  "showlegend": true,
                  "textposition": "auto",
                  "type": "bar",
                  "x": [
                    "tells story"
                  ],
                  "xaxis": "x",
                  "y": [
                    1837
                  ],
                  "yaxis": "y"
                },
                {
                  "alignmentgroup": "True",
                  "hovertemplate": "bigram=%{x}<br>count=%{y}<extra></extra>",
                  "legendgroup": "best friend",
                  "marker": {
                    "color": "#B6E880",
                    "pattern": {
                      "shape": ""
                    }
                  },
                  "name": "best friend",
                  "offsetgroup": "best friend",
                  "orientation": "v",
                  "showlegend": true,
                  "textposition": "auto",
                  "type": "bar",
                  "x": [
                    "best friend"
                  ],
                  "xaxis": "x",
                  "y": [
                    1834
                  ],
                  "yaxis": "y"
                },
                {
                  "alignmentgroup": "True",
                  "hovertemplate": "bigram=%{x}<br>count=%{y}<extra></extra>",
                  "legendgroup": "years later",
                  "marker": {
                    "color": "#FF97FF",
                    "pattern": {
                      "shape": ""
                    }
                  },
                  "name": "years later",
                  "offsetgroup": "years later",
                  "orientation": "v",
                  "showlegend": true,
                  "textposition": "auto",
                  "type": "bar",
                  "x": [
                    "years later"
                  ],
                  "xaxis": "x",
                  "y": [
                    1811
                  ],
                  "yaxis": "y"
                },
                {
                  "alignmentgroup": "True",
                  "hovertemplate": "bigram=%{x}<br>count=%{y}<extra></extra>",
                  "legendgroup": "united states",
                  "marker": {
                    "color": "#FECB52",
                    "pattern": {
                      "shape": ""
                    }
                  },
                  "name": "united states",
                  "offsetgroup": "united states",
                  "orientation": "v",
                  "showlegend": true,
                  "textposition": "auto",
                  "type": "bar",
                  "x": [
                    "united states"
                  ],
                  "xaxis": "x",
                  "y": [
                    1643
                  ],
                  "yaxis": "y"
                },
                {
                  "alignmentgroup": "True",
                  "hovertemplate": "bigram=%{x}<br>count=%{y}<extra></extra>",
                  "legendgroup": "los angeles",
                  "marker": {
                    "color": "#636efa",
                    "pattern": {
                      "shape": ""
                    }
                  },
                  "name": "los angeles",
                  "offsetgroup": "los angeles",
                  "orientation": "v",
                  "showlegend": true,
                  "textposition": "auto",
                  "type": "bar",
                  "x": [
                    "los angeles"
                  ],
                  "xaxis": "x",
                  "y": [
                    1639
                  ],
                  "yaxis": "y"
                },
                {
                  "alignmentgroup": "True",
                  "hovertemplate": "bigram=%{x}<br>count=%{y}<extra></extra>",
                  "legendgroup": "years ago",
                  "marker": {
                    "color": "#EF553B",
                    "pattern": {
                      "shape": ""
                    }
                  },
                  "name": "years ago",
                  "offsetgroup": "years ago",
                  "orientation": "v",
                  "showlegend": true,
                  "textposition": "auto",
                  "type": "bar",
                  "x": [
                    "years ago"
                  ],
                  "xaxis": "x",
                  "y": [
                    1622
                  ],
                  "yaxis": "y"
                },
                {
                  "alignmentgroup": "True",
                  "hovertemplate": "bigram=%{x}<br>count=%{y}<extra></extra>",
                  "legendgroup": "small town",
                  "marker": {
                    "color": "#00cc96",
                    "pattern": {
                      "shape": ""
                    }
                  },
                  "name": "small town",
                  "offsetgroup": "small town",
                  "orientation": "v",
                  "showlegend": true,
                  "textposition": "auto",
                  "type": "bar",
                  "x": [
                    "small town"
                  ],
                  "xaxis": "x",
                  "y": [
                    1556
                  ],
                  "yaxis": "y"
                },
                {
                  "alignmentgroup": "True",
                  "hovertemplate": "bigram=%{x}<br>count=%{y}<extra></extra>",
                  "legendgroup": "world war",
                  "marker": {
                    "color": "#ab63fa",
                    "pattern": {
                      "shape": ""
                    }
                  },
                  "name": "world war",
                  "offsetgroup": "world war",
                  "orientation": "v",
                  "showlegend": true,
                  "textposition": "auto",
                  "type": "bar",
                  "x": [
                    "world war"
                  ],
                  "xaxis": "x",
                  "y": [
                    1272
                  ],
                  "yaxis": "y"
                },
                {
                  "alignmentgroup": "True",
                  "hovertemplate": "bigram=%{x}<br>count=%{y}<extra></extra>",
                  "legendgroup": "york city",
                  "marker": {
                    "color": "#FFA15A",
                    "pattern": {
                      "shape": ""
                    }
                  },
                  "name": "york city",
                  "offsetgroup": "york city",
                  "orientation": "v",
                  "showlegend": true,
                  "textposition": "auto",
                  "type": "bar",
                  "x": [
                    "york city"
                  ],
                  "xaxis": "x",
                  "y": [
                    1209
                  ],
                  "yaxis": "y"
                },
                {
                  "alignmentgroup": "True",
                  "hovertemplate": "bigram=%{x}<br>count=%{y}<extra></extra>",
                  "legendgroup": "years old",
                  "marker": {
                    "color": "#19d3f3",
                    "pattern": {
                      "shape": ""
                    }
                  },
                  "name": "years old",
                  "offsetgroup": "years old",
                  "orientation": "v",
                  "showlegend": true,
                  "textposition": "auto",
                  "type": "bar",
                  "x": [
                    "years old"
                  ],
                  "xaxis": "x",
                  "y": [
                    1061
                  ],
                  "yaxis": "y"
                },
                {
                  "alignmentgroup": "True",
                  "hovertemplate": "bigram=%{x}<br>count=%{y}<extra></extra>",
                  "legendgroup": "fall love",
                  "marker": {
                    "color": "#FF6692",
                    "pattern": {
                      "shape": ""
                    }
                  },
                  "name": "fall love",
                  "offsetgroup": "fall love",
                  "orientation": "v",
                  "showlegend": true,
                  "textposition": "auto",
                  "type": "bar",
                  "x": [
                    "fall love"
                  ],
                  "xaxis": "x",
                  "y": [
                    1009
                  ],
                  "yaxis": "y"
                },
                {
                  "alignmentgroup": "True",
                  "hovertemplate": "bigram=%{x}<br>count=%{y}<extra></extra>",
                  "legendgroup": "young girl",
                  "marker": {
                    "color": "#B6E880",
                    "pattern": {
                      "shape": ""
                    }
                  },
                  "name": "young girl",
                  "offsetgroup": "young girl",
                  "orientation": "v",
                  "showlegend": true,
                  "textposition": "auto",
                  "type": "bar",
                  "x": [
                    "young girl"
                  ],
                  "xaxis": "x",
                  "y": [
                    978
                  ],
                  "yaxis": "y"
                },
                {
                  "alignmentgroup": "True",
                  "hovertemplate": "bigram=%{x}<br>count=%{y}<extra></extra>",
                  "legendgroup": "award winning",
                  "marker": {
                    "color": "#FF97FF",
                    "pattern": {
                      "shape": ""
                    }
                  },
                  "name": "award winning",
                  "offsetgroup": "award winning",
                  "orientation": "v",
                  "showlegend": true,
                  "textposition": "auto",
                  "type": "bar",
                  "x": [
                    "award winning"
                  ],
                  "xaxis": "x",
                  "y": [
                    902
                  ],
                  "yaxis": "y"
                },
                {
                  "alignmentgroup": "True",
                  "hovertemplate": "bigram=%{x}<br>count=%{y}<extra></extra>",
                  "legendgroup": "real life",
                  "marker": {
                    "color": "#FECB52",
                    "pattern": {
                      "shape": ""
                    }
                  },
                  "name": "real life",
                  "offsetgroup": "real life",
                  "orientation": "v",
                  "showlegend": true,
                  "textposition": "auto",
                  "type": "bar",
                  "x": [
                    "real life"
                  ],
                  "xaxis": "x",
                  "y": [
                    886
                  ],
                  "yaxis": "y"
                },
                {
                  "alignmentgroup": "True",
                  "hovertemplate": "bigram=%{x}<br>count=%{y}<extra></extra>",
                  "legendgroup": "documentary film",
                  "marker": {
                    "color": "#636efa",
                    "pattern": {
                      "shape": ""
                    }
                  },
                  "name": "documentary film",
                  "offsetgroup": "documentary film",
                  "orientation": "v",
                  "showlegend": true,
                  "textposition": "auto",
                  "type": "bar",
                  "x": [
                    "documentary film"
                  ],
                  "xaxis": "x",
                  "y": [
                    838
                  ],
                  "yaxis": "y"
                },
                {
                  "alignmentgroup": "True",
                  "hovertemplate": "bigram=%{x}<br>count=%{y}<extra></extra>",
                  "legendgroup": "true story",
                  "marker": {
                    "color": "#EF553B",
                    "pattern": {
                      "shape": ""
                    }
                  },
                  "name": "true story",
                  "offsetgroup": "true story",
                  "orientation": "v",
                  "showlegend": true,
                  "textposition": "auto",
                  "type": "bar",
                  "x": [
                    "true story"
                  ],
                  "xaxis": "x",
                  "y": [
                    824
                  ],
                  "yaxis": "y"
                },
                {
                  "alignmentgroup": "True",
                  "hovertemplate": "bigram=%{x}<br>count=%{y}<extra></extra>",
                  "legendgroup": "new life",
                  "marker": {
                    "color": "#00cc96",
                    "pattern": {
                      "shape": ""
                    }
                  },
                  "name": "new life",
                  "offsetgroup": "new life",
                  "orientation": "v",
                  "showlegend": true,
                  "textposition": "auto",
                  "type": "bar",
                  "x": [
                    "new life"
                  ],
                  "xaxis": "x",
                  "y": [
                    823
                  ],
                  "yaxis": "y"
                },
                {
                  "alignmentgroup": "True",
                  "hovertemplate": "bigram=%{x}<br>count=%{y}<extra></extra>",
                  "legendgroup": "takes place",
                  "marker": {
                    "color": "#ab63fa",
                    "pattern": {
                      "shape": ""
                    }
                  },
                  "name": "takes place",
                  "offsetgroup": "takes place",
                  "orientation": "v",
                  "showlegend": true,
                  "textposition": "auto",
                  "type": "bar",
                  "x": [
                    "takes place"
                  ],
                  "xaxis": "x",
                  "y": [
                    818
                  ],
                  "yaxis": "y"
                },
                {
                  "alignmentgroup": "True",
                  "hovertemplate": "bigram=%{x}<br>count=%{y}<extra></extra>",
                  "legendgroup": "old man",
                  "marker": {
                    "color": "#FFA15A",
                    "pattern": {
                      "shape": ""
                    }
                  },
                  "name": "old man",
                  "offsetgroup": "old man",
                  "orientation": "v",
                  "showlegend": true,
                  "textposition": "auto",
                  "type": "bar",
                  "x": [
                    "old man"
                  ],
                  "xaxis": "x",
                  "y": [
                    797
                  ],
                  "yaxis": "y"
                },
                {
                  "alignmentgroup": "True",
                  "hovertemplate": "bigram=%{x}<br>count=%{y}<extra></extra>",
                  "legendgroup": "film follows",
                  "marker": {
                    "color": "#19d3f3",
                    "pattern": {
                      "shape": ""
                    }
                  },
                  "name": "film follows",
                  "offsetgroup": "film follows",
                  "orientation": "v",
                  "showlegend": true,
                  "textposition": "auto",
                  "type": "bar",
                  "x": [
                    "film follows"
                  ],
                  "xaxis": "x",
                  "y": [
                    769
                  ],
                  "yaxis": "y"
                },
                {
                  "alignmentgroup": "True",
                  "hovertemplate": "bigram=%{x}<br>count=%{y}<extra></extra>",
                  "legendgroup": "best friends",
                  "marker": {
                    "color": "#FF6692",
                    "pattern": {
                      "shape": ""
                    }
                  },
                  "name": "best friends",
                  "offsetgroup": "best friends",
                  "orientation": "v",
                  "showlegend": true,
                  "textposition": "auto",
                  "type": "bar",
                  "x": [
                    "best friends"
                  ],
                  "xaxis": "x",
                  "y": [
                    752
                  ],
                  "yaxis": "y"
                },
                {
                  "alignmentgroup": "True",
                  "hovertemplate": "bigram=%{x}<br>count=%{y}<extra></extra>",
                  "legendgroup": "young people",
                  "marker": {
                    "color": "#B6E880",
                    "pattern": {
                      "shape": ""
                    }
                  },
                  "name": "young people",
                  "offsetgroup": "young people",
                  "orientation": "v",
                  "showlegend": true,
                  "textposition": "auto",
                  "type": "bar",
                  "x": [
                    "young people"
                  ],
                  "xaxis": "x",
                  "y": [
                    724
                  ],
                  "yaxis": "y"
                },
                {
                  "alignmentgroup": "True",
                  "hovertemplate": "bigram=%{x}<br>count=%{y}<extra></extra>",
                  "legendgroup": "san francisco",
                  "marker": {
                    "color": "#FF97FF",
                    "pattern": {
                      "shape": ""
                    }
                  },
                  "name": "san francisco",
                  "offsetgroup": "san francisco",
                  "orientation": "v",
                  "showlegend": true,
                  "textposition": "auto",
                  "type": "bar",
                  "x": [
                    "san francisco"
                  ],
                  "xaxis": "x",
                  "y": [
                    699
                  ],
                  "yaxis": "y"
                },
                {
                  "alignmentgroup": "True",
                  "hovertemplate": "bigram=%{x}<br>count=%{y}<extra></extra>",
                  "legendgroup": "returns home",
                  "marker": {
                    "color": "#FECB52",
                    "pattern": {
                      "shape": ""
                    }
                  },
                  "name": "returns home",
                  "offsetgroup": "returns home",
                  "orientation": "v",
                  "showlegend": true,
                  "textposition": "auto",
                  "type": "bar",
                  "x": [
                    "returns home"
                  ],
                  "xaxis": "x",
                  "y": [
                    692
                  ],
                  "yaxis": "y"
                }
              ],
              "layout": {
                "barmode": "relative",
                "legend": {
                  "title": {
                    "text": "bigram"
                  },
                  "tracegroupgap": 0
                },
                "template": {
                  "data": {
                    "bar": [
                      {
                        "error_x": {
                          "color": "#2a3f5f"
                        },
                        "error_y": {
                          "color": "#2a3f5f"
                        },
                        "marker": {
                          "line": {
                            "color": "#E5ECF6",
                            "width": 0.5
                          },
                          "pattern": {
                            "fillmode": "overlay",
                            "size": 10,
                            "solidity": 0.2
                          }
                        },
                        "type": "bar"
                      }
                    ],
                    "barpolar": [
                      {
                        "marker": {
                          "line": {
                            "color": "#E5ECF6",
                            "width": 0.5
                          },
                          "pattern": {
                            "fillmode": "overlay",
                            "size": 10,
                            "solidity": 0.2
                          }
                        },
                        "type": "barpolar"
                      }
                    ],
                    "carpet": [
                      {
                        "aaxis": {
                          "endlinecolor": "#2a3f5f",
                          "gridcolor": "white",
                          "linecolor": "white",
                          "minorgridcolor": "white",
                          "startlinecolor": "#2a3f5f"
                        },
                        "baxis": {
                          "endlinecolor": "#2a3f5f",
                          "gridcolor": "white",
                          "linecolor": "white",
                          "minorgridcolor": "white",
                          "startlinecolor": "#2a3f5f"
                        },
                        "type": "carpet"
                      }
                    ],
                    "choropleth": [
                      {
                        "colorbar": {
                          "outlinewidth": 0,
                          "ticks": ""
                        },
                        "type": "choropleth"
                      }
                    ],
                    "contour": [
                      {
                        "colorbar": {
                          "outlinewidth": 0,
                          "ticks": ""
                        },
                        "colorscale": [
                          [
                            0,
                            "#0d0887"
                          ],
                          [
                            0.1111111111111111,
                            "#46039f"
                          ],
                          [
                            0.2222222222222222,
                            "#7201a8"
                          ],
                          [
                            0.3333333333333333,
                            "#9c179e"
                          ],
                          [
                            0.4444444444444444,
                            "#bd3786"
                          ],
                          [
                            0.5555555555555556,
                            "#d8576b"
                          ],
                          [
                            0.6666666666666666,
                            "#ed7953"
                          ],
                          [
                            0.7777777777777778,
                            "#fb9f3a"
                          ],
                          [
                            0.8888888888888888,
                            "#fdca26"
                          ],
                          [
                            1,
                            "#f0f921"
                          ]
                        ],
                        "type": "contour"
                      }
                    ],
                    "contourcarpet": [
                      {
                        "colorbar": {
                          "outlinewidth": 0,
                          "ticks": ""
                        },
                        "type": "contourcarpet"
                      }
                    ],
                    "heatmap": [
                      {
                        "colorbar": {
                          "outlinewidth": 0,
                          "ticks": ""
                        },
                        "colorscale": [
                          [
                            0,
                            "#0d0887"
                          ],
                          [
                            0.1111111111111111,
                            "#46039f"
                          ],
                          [
                            0.2222222222222222,
                            "#7201a8"
                          ],
                          [
                            0.3333333333333333,
                            "#9c179e"
                          ],
                          [
                            0.4444444444444444,
                            "#bd3786"
                          ],
                          [
                            0.5555555555555556,
                            "#d8576b"
                          ],
                          [
                            0.6666666666666666,
                            "#ed7953"
                          ],
                          [
                            0.7777777777777778,
                            "#fb9f3a"
                          ],
                          [
                            0.8888888888888888,
                            "#fdca26"
                          ],
                          [
                            1,
                            "#f0f921"
                          ]
                        ],
                        "type": "heatmap"
                      }
                    ],
                    "heatmapgl": [
                      {
                        "colorbar": {
                          "outlinewidth": 0,
                          "ticks": ""
                        },
                        "colorscale": [
                          [
                            0,
                            "#0d0887"
                          ],
                          [
                            0.1111111111111111,
                            "#46039f"
                          ],
                          [
                            0.2222222222222222,
                            "#7201a8"
                          ],
                          [
                            0.3333333333333333,
                            "#9c179e"
                          ],
                          [
                            0.4444444444444444,
                            "#bd3786"
                          ],
                          [
                            0.5555555555555556,
                            "#d8576b"
                          ],
                          [
                            0.6666666666666666,
                            "#ed7953"
                          ],
                          [
                            0.7777777777777778,
                            "#fb9f3a"
                          ],
                          [
                            0.8888888888888888,
                            "#fdca26"
                          ],
                          [
                            1,
                            "#f0f921"
                          ]
                        ],
                        "type": "heatmapgl"
                      }
                    ],
                    "histogram": [
                      {
                        "marker": {
                          "pattern": {
                            "fillmode": "overlay",
                            "size": 10,
                            "solidity": 0.2
                          }
                        },
                        "type": "histogram"
                      }
                    ],
                    "histogram2d": [
                      {
                        "colorbar": {
                          "outlinewidth": 0,
                          "ticks": ""
                        },
                        "colorscale": [
                          [
                            0,
                            "#0d0887"
                          ],
                          [
                            0.1111111111111111,
                            "#46039f"
                          ],
                          [
                            0.2222222222222222,
                            "#7201a8"
                          ],
                          [
                            0.3333333333333333,
                            "#9c179e"
                          ],
                          [
                            0.4444444444444444,
                            "#bd3786"
                          ],
                          [
                            0.5555555555555556,
                            "#d8576b"
                          ],
                          [
                            0.6666666666666666,
                            "#ed7953"
                          ],
                          [
                            0.7777777777777778,
                            "#fb9f3a"
                          ],
                          [
                            0.8888888888888888,
                            "#fdca26"
                          ],
                          [
                            1,
                            "#f0f921"
                          ]
                        ],
                        "type": "histogram2d"
                      }
                    ],
                    "histogram2dcontour": [
                      {
                        "colorbar": {
                          "outlinewidth": 0,
                          "ticks": ""
                        },
                        "colorscale": [
                          [
                            0,
                            "#0d0887"
                          ],
                          [
                            0.1111111111111111,
                            "#46039f"
                          ],
                          [
                            0.2222222222222222,
                            "#7201a8"
                          ],
                          [
                            0.3333333333333333,
                            "#9c179e"
                          ],
                          [
                            0.4444444444444444,
                            "#bd3786"
                          ],
                          [
                            0.5555555555555556,
                            "#d8576b"
                          ],
                          [
                            0.6666666666666666,
                            "#ed7953"
                          ],
                          [
                            0.7777777777777778,
                            "#fb9f3a"
                          ],
                          [
                            0.8888888888888888,
                            "#fdca26"
                          ],
                          [
                            1,
                            "#f0f921"
                          ]
                        ],
                        "type": "histogram2dcontour"
                      }
                    ],
                    "mesh3d": [
                      {
                        "colorbar": {
                          "outlinewidth": 0,
                          "ticks": ""
                        },
                        "type": "mesh3d"
                      }
                    ],
                    "parcoords": [
                      {
                        "line": {
                          "colorbar": {
                            "outlinewidth": 0,
                            "ticks": ""
                          }
                        },
                        "type": "parcoords"
                      }
                    ],
                    "pie": [
                      {
                        "automargin": true,
                        "type": "pie"
                      }
                    ],
                    "scatter": [
                      {
                        "fillpattern": {
                          "fillmode": "overlay",
                          "size": 10,
                          "solidity": 0.2
                        },
                        "type": "scatter"
                      }
                    ],
                    "scatter3d": [
                      {
                        "line": {
                          "colorbar": {
                            "outlinewidth": 0,
                            "ticks": ""
                          }
                        },
                        "marker": {
                          "colorbar": {
                            "outlinewidth": 0,
                            "ticks": ""
                          }
                        },
                        "type": "scatter3d"
                      }
                    ],
                    "scattercarpet": [
                      {
                        "marker": {
                          "colorbar": {
                            "outlinewidth": 0,
                            "ticks": ""
                          }
                        },
                        "type": "scattercarpet"
                      }
                    ],
                    "scattergeo": [
                      {
                        "marker": {
                          "colorbar": {
                            "outlinewidth": 0,
                            "ticks": ""
                          }
                        },
                        "type": "scattergeo"
                      }
                    ],
                    "scattergl": [
                      {
                        "marker": {
                          "colorbar": {
                            "outlinewidth": 0,
                            "ticks": ""
                          }
                        },
                        "type": "scattergl"
                      }
                    ],
                    "scattermapbox": [
                      {
                        "marker": {
                          "colorbar": {
                            "outlinewidth": 0,
                            "ticks": ""
                          }
                        },
                        "type": "scattermapbox"
                      }
                    ],
                    "scatterpolar": [
                      {
                        "marker": {
                          "colorbar": {
                            "outlinewidth": 0,
                            "ticks": ""
                          }
                        },
                        "type": "scatterpolar"
                      }
                    ],
                    "scatterpolargl": [
                      {
                        "marker": {
                          "colorbar": {
                            "outlinewidth": 0,
                            "ticks": ""
                          }
                        },
                        "type": "scatterpolargl"
                      }
                    ],
                    "scatterternary": [
                      {
                        "marker": {
                          "colorbar": {
                            "outlinewidth": 0,
                            "ticks": ""
                          }
                        },
                        "type": "scatterternary"
                      }
                    ],
                    "surface": [
                      {
                        "colorbar": {
                          "outlinewidth": 0,
                          "ticks": ""
                        },
                        "colorscale": [
                          [
                            0,
                            "#0d0887"
                          ],
                          [
                            0.1111111111111111,
                            "#46039f"
                          ],
                          [
                            0.2222222222222222,
                            "#7201a8"
                          ],
                          [
                            0.3333333333333333,
                            "#9c179e"
                          ],
                          [
                            0.4444444444444444,
                            "#bd3786"
                          ],
                          [
                            0.5555555555555556,
                            "#d8576b"
                          ],
                          [
                            0.6666666666666666,
                            "#ed7953"
                          ],
                          [
                            0.7777777777777778,
                            "#fb9f3a"
                          ],
                          [
                            0.8888888888888888,
                            "#fdca26"
                          ],
                          [
                            1,
                            "#f0f921"
                          ]
                        ],
                        "type": "surface"
                      }
                    ],
                    "table": [
                      {
                        "cells": {
                          "fill": {
                            "color": "#EBF0F8"
                          },
                          "line": {
                            "color": "white"
                          }
                        },
                        "header": {
                          "fill": {
                            "color": "#C8D4E3"
                          },
                          "line": {
                            "color": "white"
                          }
                        },
                        "type": "table"
                      }
                    ]
                  },
                  "layout": {
                    "annotationdefaults": {
                      "arrowcolor": "#2a3f5f",
                      "arrowhead": 0,
                      "arrowwidth": 1
                    },
                    "autotypenumbers": "strict",
                    "coloraxis": {
                      "colorbar": {
                        "outlinewidth": 0,
                        "ticks": ""
                      }
                    },
                    "colorscale": {
                      "diverging": [
                        [
                          0,
                          "#8e0152"
                        ],
                        [
                          0.1,
                          "#c51b7d"
                        ],
                        [
                          0.2,
                          "#de77ae"
                        ],
                        [
                          0.3,
                          "#f1b6da"
                        ],
                        [
                          0.4,
                          "#fde0ef"
                        ],
                        [
                          0.5,
                          "#f7f7f7"
                        ],
                        [
                          0.6,
                          "#e6f5d0"
                        ],
                        [
                          0.7,
                          "#b8e186"
                        ],
                        [
                          0.8,
                          "#7fbc41"
                        ],
                        [
                          0.9,
                          "#4d9221"
                        ],
                        [
                          1,
                          "#276419"
                        ]
                      ],
                      "sequential": [
                        [
                          0,
                          "#0d0887"
                        ],
                        [
                          0.1111111111111111,
                          "#46039f"
                        ],
                        [
                          0.2222222222222222,
                          "#7201a8"
                        ],
                        [
                          0.3333333333333333,
                          "#9c179e"
                        ],
                        [
                          0.4444444444444444,
                          "#bd3786"
                        ],
                        [
                          0.5555555555555556,
                          "#d8576b"
                        ],
                        [
                          0.6666666666666666,
                          "#ed7953"
                        ],
                        [
                          0.7777777777777778,
                          "#fb9f3a"
                        ],
                        [
                          0.8888888888888888,
                          "#fdca26"
                        ],
                        [
                          1,
                          "#f0f921"
                        ]
                      ],
                      "sequentialminus": [
                        [
                          0,
                          "#0d0887"
                        ],
                        [
                          0.1111111111111111,
                          "#46039f"
                        ],
                        [
                          0.2222222222222222,
                          "#7201a8"
                        ],
                        [
                          0.3333333333333333,
                          "#9c179e"
                        ],
                        [
                          0.4444444444444444,
                          "#bd3786"
                        ],
                        [
                          0.5555555555555556,
                          "#d8576b"
                        ],
                        [
                          0.6666666666666666,
                          "#ed7953"
                        ],
                        [
                          0.7777777777777778,
                          "#fb9f3a"
                        ],
                        [
                          0.8888888888888888,
                          "#fdca26"
                        ],
                        [
                          1,
                          "#f0f921"
                        ]
                      ]
                    },
                    "colorway": [
                      "#636efa",
                      "#EF553B",
                      "#00cc96",
                      "#ab63fa",
                      "#FFA15A",
                      "#19d3f3",
                      "#FF6692",
                      "#B6E880",
                      "#FF97FF",
                      "#FECB52"
                    ],
                    "font": {
                      "color": "#2a3f5f"
                    },
                    "geo": {
                      "bgcolor": "white",
                      "lakecolor": "white",
                      "landcolor": "#E5ECF6",
                      "showlakes": true,
                      "showland": true,
                      "subunitcolor": "white"
                    },
                    "hoverlabel": {
                      "align": "left"
                    },
                    "hovermode": "closest",
                    "mapbox": {
                      "style": "light"
                    },
                    "paper_bgcolor": "white",
                    "plot_bgcolor": "#E5ECF6",
                    "polar": {
                      "angularaxis": {
                        "gridcolor": "white",
                        "linecolor": "white",
                        "ticks": ""
                      },
                      "bgcolor": "#E5ECF6",
                      "radialaxis": {
                        "gridcolor": "white",
                        "linecolor": "white",
                        "ticks": ""
                      }
                    },
                    "scene": {
                      "xaxis": {
                        "backgroundcolor": "#E5ECF6",
                        "gridcolor": "white",
                        "gridwidth": 2,
                        "linecolor": "white",
                        "showbackground": true,
                        "ticks": "",
                        "zerolinecolor": "white"
                      },
                      "yaxis": {
                        "backgroundcolor": "#E5ECF6",
                        "gridcolor": "white",
                        "gridwidth": 2,
                        "linecolor": "white",
                        "showbackground": true,
                        "ticks": "",
                        "zerolinecolor": "white"
                      },
                      "zaxis": {
                        "backgroundcolor": "#E5ECF6",
                        "gridcolor": "white",
                        "gridwidth": 2,
                        "linecolor": "white",
                        "showbackground": true,
                        "ticks": "",
                        "zerolinecolor": "white"
                      }
                    },
                    "shapedefaults": {
                      "line": {
                        "color": "#2a3f5f"
                      }
                    },
                    "ternary": {
                      "aaxis": {
                        "gridcolor": "white",
                        "linecolor": "white",
                        "ticks": ""
                      },
                      "baxis": {
                        "gridcolor": "white",
                        "linecolor": "white",
                        "ticks": ""
                      },
                      "bgcolor": "#E5ECF6",
                      "caxis": {
                        "gridcolor": "white",
                        "linecolor": "white",
                        "ticks": ""
                      }
                    },
                    "title": {
                      "x": 0.05
                    },
                    "xaxis": {
                      "automargin": true,
                      "gridcolor": "white",
                      "linecolor": "white",
                      "ticks": "",
                      "title": {
                        "standoff": 15
                      },
                      "zerolinecolor": "white",
                      "zerolinewidth": 2
                    },
                    "yaxis": {
                      "automargin": true,
                      "gridcolor": "white",
                      "linecolor": "white",
                      "ticks": "",
                      "title": {
                        "standoff": 15
                      },
                      "zerolinecolor": "white",
                      "zerolinewidth": 2
                    }
                  }
                },
                "title": {
                  "text": "Top 30 Bigrams"
                },
                "xaxis": {
                  "anchor": "y",
                  "categoryarray": [
                    "year old",
                    "new york",
                    "high school",
                    "young man",
                    "young woman",
                    "falls love",
                    "tells story",
                    "best friend",
                    "years later",
                    "united states",
                    "los angeles",
                    "years ago",
                    "small town",
                    "world war",
                    "york city",
                    "years old",
                    "fall love",
                    "young girl",
                    "award winning",
                    "real life",
                    "documentary film",
                    "true story",
                    "new life",
                    "takes place",
                    "old man",
                    "film follows",
                    "best friends",
                    "young people",
                    "san francisco",
                    "returns home"
                  ],
                  "categoryorder": "array",
                  "domain": [
                    0,
                    1
                  ],
                  "tickangle": 80,
                  "title": {
                    "text": "Bigram"
                  }
                },
                "yaxis": {
                  "anchor": "x",
                  "domain": [
                    0,
                    1
                  ],
                  "title": {
                    "text": "Count"
                  }
                }
              }
            }
          },
          "metadata": {},
          "output_type": "display_data"
        }
      ],
      "source": [
        "df1 = pd.DataFrame(top_30_bigrams, columns = ['bigram' , 'count'])\n",
        "fig = px.bar(df1, x='bigram', y='count', title='Top 30 Bigrams', color='bigram')\n",
        "fig.update_layout(xaxis_title='Bigram', yaxis_title='Count')\n",
        "fig.update_xaxes(tickangle=80)\n",
        "\n",
        "fig.show()"
      ]
    },
    {
      "cell_type": "code",
      "execution_count": 29,
      "metadata": {
        "colab": {
          "base_uri": "https://localhost:8080/",
          "height": 542
        },
        "id": "3sBpkYGLBkzT",
        "outputId": "f913369b-a5d7-45cd-f7f0-9b4ba10cd857"
      },
      "outputs": [
        {
          "data": {
            "application/vnd.plotly.v1+json": {
              "config": {
                "plotlyServerURL": "https://plot.ly"
              },
              "data": [
                {
                  "alignmentgroup": "True",
                  "hovertemplate": "trigram=%{x}<br>count=%{y}<extra></extra>",
                  "legendgroup": "new york city",
                  "marker": {
                    "color": "#636efa",
                    "pattern": {
                      "shape": ""
                    }
                  },
                  "name": "new york city",
                  "offsetgroup": "new york city",
                  "orientation": "v",
                  "showlegend": true,
                  "textposition": "auto",
                  "type": "bar",
                  "x": [
                    "new york city"
                  ],
                  "xaxis": "x",
                  "y": [
                    1206
                  ],
                  "yaxis": "y"
                },
                {
                  "alignmentgroup": "True",
                  "hovertemplate": "trigram=%{x}<br>count=%{y}<extra></extra>",
                  "legendgroup": "world war ii",
                  "marker": {
                    "color": "#EF553B",
                    "pattern": {
                      "shape": ""
                    }
                  },
                  "name": "world war ii",
                  "offsetgroup": "world war ii",
                  "orientation": "v",
                  "showlegend": true,
                  "textposition": "auto",
                  "type": "bar",
                  "x": [
                    "world war ii"
                  ],
                  "xaxis": "x",
                  "y": [
                    662
                  ],
                  "yaxis": "y"
                },
                {
                  "alignmentgroup": "True",
                  "hovertemplate": "trigram=%{x}<br>count=%{y}<extra></extra>",
                  "legendgroup": "year old girl",
                  "marker": {
                    "color": "#00cc96",
                    "pattern": {
                      "shape": ""
                    }
                  },
                  "name": "year old girl",
                  "offsetgroup": "year old girl",
                  "orientation": "v",
                  "showlegend": true,
                  "textposition": "auto",
                  "type": "bar",
                  "x": [
                    "year old girl"
                  ],
                  "xaxis": "x",
                  "y": [
                    380
                  ],
                  "yaxis": "y"
                },
                {
                  "alignmentgroup": "True",
                  "hovertemplate": "trigram=%{x}<br>count=%{y}<extra></extra>",
                  "legendgroup": "feature length documentary",
                  "marker": {
                    "color": "#ab63fa",
                    "pattern": {
                      "shape": ""
                    }
                  },
                  "name": "feature length documentary",
                  "offsetgroup": "feature length documentary",
                  "orientation": "v",
                  "showlegend": true,
                  "textposition": "auto",
                  "type": "bar",
                  "x": [
                    "feature length documentary"
                  ],
                  "xaxis": "x",
                  "y": [
                    346
                  ],
                  "yaxis": "y"
                },
                {
                  "alignmentgroup": "True",
                  "hovertemplate": "trigram=%{x}<br>count=%{y}<extra></extra>",
                  "legendgroup": "year old son",
                  "marker": {
                    "color": "#FFA15A",
                    "pattern": {
                      "shape": ""
                    }
                  },
                  "name": "year old son",
                  "offsetgroup": "year old son",
                  "orientation": "v",
                  "showlegend": true,
                  "textposition": "auto",
                  "type": "bar",
                  "x": [
                    "year old son"
                  ],
                  "xaxis": "x",
                  "y": [
                    330
                  ],
                  "yaxis": "y"
                },
                {
                  "alignmentgroup": "True",
                  "hovertemplate": "trigram=%{x}<br>count=%{y}<extra></extra>",
                  "legendgroup": "year old boy",
                  "marker": {
                    "color": "#19d3f3",
                    "pattern": {
                      "shape": ""
                    }
                  },
                  "name": "year old boy",
                  "offsetgroup": "year old boy",
                  "orientation": "v",
                  "showlegend": true,
                  "textposition": "auto",
                  "type": "bar",
                  "x": [
                    "year old boy"
                  ],
                  "xaxis": "x",
                  "y": [
                    324
                  ],
                  "yaxis": "y"
                },
                {
                  "alignmentgroup": "True",
                  "hovertemplate": "trigram=%{x}<br>count=%{y}<extra></extra>",
                  "legendgroup": "year old daughter",
                  "marker": {
                    "color": "#FF6692",
                    "pattern": {
                      "shape": ""
                    }
                  },
                  "name": "year old daughter",
                  "offsetgroup": "year old daughter",
                  "orientation": "v",
                  "showlegend": true,
                  "textposition": "auto",
                  "type": "bar",
                  "x": [
                    "year old daughter"
                  ],
                  "xaxis": "x",
                  "y": [
                    296
                  ],
                  "yaxis": "y"
                },
                {
                  "alignmentgroup": "True",
                  "hovertemplate": "trigram=%{x}<br>count=%{y}<extra></extra>",
                  "legendgroup": "film tells story",
                  "marker": {
                    "color": "#B6E880",
                    "pattern": {
                      "shape": ""
                    }
                  },
                  "name": "film tells story",
                  "offsetgroup": "film tells story",
                  "orientation": "v",
                  "showlegend": true,
                  "textposition": "auto",
                  "type": "bar",
                  "x": [
                    "film tells story"
                  ],
                  "xaxis": "x",
                  "y": [
                    285
                  ],
                  "yaxis": "y"
                },
                {
                  "alignmentgroup": "True",
                  "hovertemplate": "trigram=%{x}<br>count=%{y}<extra></extra>",
                  "legendgroup": "based true story",
                  "marker": {
                    "color": "#FF97FF",
                    "pattern": {
                      "shape": ""
                    }
                  },
                  "name": "based true story",
                  "offsetgroup": "based true story",
                  "orientation": "v",
                  "showlegend": true,
                  "textposition": "auto",
                  "type": "bar",
                  "x": [
                    "based true story"
                  ],
                  "xaxis": "x",
                  "y": [
                    278
                  ],
                  "yaxis": "y"
                },
                {
                  "alignmentgroup": "True",
                  "hovertemplate": "trigram=%{x}<br>count=%{y}<extra></extra>",
                  "legendgroup": "17 year old",
                  "marker": {
                    "color": "#FECB52",
                    "pattern": {
                      "shape": ""
                    }
                  },
                  "name": "17 year old",
                  "offsetgroup": "17 year old",
                  "orientation": "v",
                  "showlegend": true,
                  "textposition": "auto",
                  "type": "bar",
                  "x": [
                    "17 year old"
                  ],
                  "xaxis": "x",
                  "y": [
                    229
                  ],
                  "yaxis": "y"
                },
                {
                  "alignmentgroup": "True",
                  "hovertemplate": "trigram=%{x}<br>count=%{y}<extra></extra>",
                  "legendgroup": "12 year old",
                  "marker": {
                    "color": "#636efa",
                    "pattern": {
                      "shape": ""
                    }
                  },
                  "name": "12 year old",
                  "offsetgroup": "12 year old",
                  "orientation": "v",
                  "showlegend": true,
                  "textposition": "auto",
                  "type": "bar",
                  "x": [
                    "12 year old"
                  ],
                  "xaxis": "x",
                  "y": [
                    225
                  ],
                  "yaxis": "y"
                },
                {
                  "alignmentgroup": "True",
                  "hovertemplate": "trigram=%{x}<br>count=%{y}<extra></extra>",
                  "legendgroup": "16 year old",
                  "marker": {
                    "color": "#EF553B",
                    "pattern": {
                      "shape": ""
                    }
                  },
                  "name": "16 year old",
                  "offsetgroup": "16 year old",
                  "orientation": "v",
                  "showlegend": true,
                  "textposition": "auto",
                  "type": "bar",
                  "x": [
                    "16 year old"
                  ],
                  "xaxis": "x",
                  "y": [
                    220
                  ],
                  "yaxis": "y"
                },
                {
                  "alignmentgroup": "True",
                  "hovertemplate": "trigram=%{x}<br>count=%{y}<extra></extra>",
                  "legendgroup": "second world war",
                  "marker": {
                    "color": "#00cc96",
                    "pattern": {
                      "shape": ""
                    }
                  },
                  "name": "second world war",
                  "offsetgroup": "second world war",
                  "orientation": "v",
                  "showlegend": true,
                  "textposition": "auto",
                  "type": "bar",
                  "x": [
                    "second world war"
                  ],
                  "xaxis": "x",
                  "y": [
                    193
                  ],
                  "yaxis": "y"
                },
                {
                  "alignmentgroup": "True",
                  "hovertemplate": "trigram=%{x}<br>count=%{y}<extra></extra>",
                  "legendgroup": "make ends meet",
                  "marker": {
                    "color": "#ab63fa",
                    "pattern": {
                      "shape": ""
                    }
                  },
                  "name": "make ends meet",
                  "offsetgroup": "make ends meet",
                  "orientation": "v",
                  "showlegend": true,
                  "textposition": "auto",
                  "type": "bar",
                  "x": [
                    "make ends meet"
                  ],
                  "xaxis": "x",
                  "y": [
                    186
                  ],
                  "yaxis": "y"
                },
                {
                  "alignmentgroup": "True",
                  "hovertemplate": "trigram=%{x}<br>count=%{y}<extra></extra>",
                  "legendgroup": "start new life",
                  "marker": {
                    "color": "#FFA15A",
                    "pattern": {
                      "shape": ""
                    }
                  },
                  "name": "start new life",
                  "offsetgroup": "start new life",
                  "orientation": "v",
                  "showlegend": true,
                  "textposition": "auto",
                  "type": "bar",
                  "x": [
                    "start new life"
                  ],
                  "xaxis": "x",
                  "y": [
                    185
                  ],
                  "yaxis": "y"
                },
                {
                  "alignmentgroup": "True",
                  "hovertemplate": "trigram=%{x}<br>count=%{y}<extra></extra>",
                  "legendgroup": "15 year old",
                  "marker": {
                    "color": "#19d3f3",
                    "pattern": {
                      "shape": ""
                    }
                  },
                  "name": "15 year old",
                  "offsetgroup": "15 year old",
                  "orientation": "v",
                  "showlegend": true,
                  "textposition": "auto",
                  "type": "bar",
                  "x": [
                    "15 year old"
                  ],
                  "xaxis": "x",
                  "y": [
                    183
                  ],
                  "yaxis": "y"
                },
                {
                  "alignmentgroup": "True",
                  "hovertemplate": "trigram=%{x}<br>count=%{y}<extra></extra>",
                  "legendgroup": "14 year old",
                  "marker": {
                    "color": "#FF6692",
                    "pattern": {
                      "shape": ""
                    }
                  },
                  "name": "14 year old",
                  "offsetgroup": "14 year old",
                  "orientation": "v",
                  "showlegend": true,
                  "textposition": "auto",
                  "type": "bar",
                  "x": [
                    "14 year old"
                  ],
                  "xaxis": "x",
                  "y": [
                    173
                  ],
                  "yaxis": "y"
                },
                {
                  "alignmentgroup": "True",
                  "hovertemplate": "trigram=%{x}<br>count=%{y}<extra></extra>",
                  "legendgroup": "18 year old",
                  "marker": {
                    "color": "#B6E880",
                    "pattern": {
                      "shape": ""
                    }
                  },
                  "name": "18 year old",
                  "offsetgroup": "18 year old",
                  "orientation": "v",
                  "showlegend": true,
                  "textposition": "auto",
                  "type": "bar",
                  "x": [
                    "18 year old"
                  ],
                  "xaxis": "x",
                  "y": [
                    161
                  ],
                  "yaxis": "y"
                },
                {
                  "alignmentgroup": "True",
                  "hovertemplate": "trigram=%{x}<br>count=%{y}<extra></extra>",
                  "legendgroup": "10 year old",
                  "marker": {
                    "color": "#FF97FF",
                    "pattern": {
                      "shape": ""
                    }
                  },
                  "name": "10 year old",
                  "offsetgroup": "10 year old",
                  "orientation": "v",
                  "showlegend": true,
                  "textposition": "auto",
                  "type": "bar",
                  "x": [
                    "10 year old"
                  ],
                  "xaxis": "x",
                  "y": [
                    146
                  ],
                  "yaxis": "y"
                },
                {
                  "alignmentgroup": "True",
                  "hovertemplate": "trigram=%{x}<br>count=%{y}<extra></extra>",
                  "legendgroup": "13 year old",
                  "marker": {
                    "color": "#FECB52",
                    "pattern": {
                      "shape": ""
                    }
                  },
                  "name": "13 year old",
                  "offsetgroup": "13 year old",
                  "orientation": "v",
                  "showlegend": true,
                  "textposition": "auto",
                  "type": "bar",
                  "x": [
                    "13 year old"
                  ],
                  "xaxis": "x",
                  "y": [
                    146
                  ],
                  "yaxis": "y"
                },
                {
                  "alignmentgroup": "True",
                  "hovertemplate": "trigram=%{x}<br>count=%{y}<extra></extra>",
                  "legendgroup": "make matters worse",
                  "marker": {
                    "color": "#636efa",
                    "pattern": {
                      "shape": ""
                    }
                  },
                  "name": "make matters worse",
                  "offsetgroup": "make matters worse",
                  "orientation": "v",
                  "showlegend": true,
                  "textposition": "auto",
                  "type": "bar",
                  "x": [
                    "make matters worse"
                  ],
                  "xaxis": "x",
                  "y": [
                    139
                  ],
                  "yaxis": "y"
                },
                {
                  "alignmentgroup": "True",
                  "hovertemplate": "trigram=%{x}<br>count=%{y}<extra></extra>",
                  "legendgroup": "high school student",
                  "marker": {
                    "color": "#EF553B",
                    "pattern": {
                      "shape": ""
                    }
                  },
                  "name": "high school student",
                  "offsetgroup": "high school student",
                  "orientation": "v",
                  "showlegend": true,
                  "textposition": "auto",
                  "type": "bar",
                  "x": [
                    "high school student"
                  ],
                  "xaxis": "x",
                  "y": [
                    138
                  ],
                  "yaxis": "y"
                },
                {
                  "alignmentgroup": "True",
                  "hovertemplate": "trigram=%{x}<br>count=%{y}<extra></extra>",
                  "legendgroup": "coming age story",
                  "marker": {
                    "color": "#00cc96",
                    "pattern": {
                      "shape": ""
                    }
                  },
                  "name": "coming age story",
                  "offsetgroup": "coming age story",
                  "orientation": "v",
                  "showlegend": true,
                  "textposition": "auto",
                  "type": "bar",
                  "x": [
                    "coming age story"
                  ],
                  "xaxis": "x",
                  "y": [
                    131
                  ],
                  "yaxis": "y"
                },
                {
                  "alignmentgroup": "True",
                  "hovertemplate": "trigram=%{x}<br>count=%{y}<extra></extra>",
                  "legendgroup": "documentary tells story",
                  "marker": {
                    "color": "#ab63fa",
                    "pattern": {
                      "shape": ""
                    }
                  },
                  "name": "documentary tells story",
                  "offsetgroup": "documentary tells story",
                  "orientation": "v",
                  "showlegend": true,
                  "textposition": "auto",
                  "type": "bar",
                  "x": [
                    "documentary tells story"
                  ],
                  "xaxis": "x",
                  "y": [
                    131
                  ],
                  "yaxis": "y"
                },
                {
                  "alignmentgroup": "True",
                  "hovertemplate": "trigram=%{x}<br>count=%{y}<extra></extra>",
                  "legendgroup": "story takes place",
                  "marker": {
                    "color": "#FFA15A",
                    "pattern": {
                      "shape": ""
                    }
                  },
                  "name": "story takes place",
                  "offsetgroup": "story takes place",
                  "orientation": "v",
                  "showlegend": true,
                  "textposition": "auto",
                  "type": "bar",
                  "x": [
                    "story takes place"
                  ],
                  "xaxis": "x",
                  "y": [
                    127
                  ],
                  "yaxis": "y"
                },
                {
                  "alignmentgroup": "True",
                  "hovertemplate": "trigram=%{x}<br>count=%{y}<extra></extra>",
                  "legendgroup": "11 year old",
                  "marker": {
                    "color": "#19d3f3",
                    "pattern": {
                      "shape": ""
                    }
                  },
                  "name": "11 year old",
                  "offsetgroup": "11 year old",
                  "orientation": "v",
                  "showlegend": true,
                  "textposition": "auto",
                  "type": "bar",
                  "x": [
                    "11 year old"
                  ],
                  "xaxis": "x",
                  "y": [
                    125
                  ],
                  "yaxis": "y"
                },
                {
                  "alignmentgroup": "True",
                  "hovertemplate": "trigram=%{x}<br>count=%{y}<extra></extra>",
                  "legendgroup": "19 year old",
                  "marker": {
                    "color": "#FF6692",
                    "pattern": {
                      "shape": ""
                    }
                  },
                  "name": "19 year old",
                  "offsetgroup": "19 year old",
                  "orientation": "v",
                  "showlegend": true,
                  "textposition": "auto",
                  "type": "bar",
                  "x": [
                    "19 year old"
                  ],
                  "xaxis": "x",
                  "y": [
                    123
                  ],
                  "yaxis": "y"
                },
                {
                  "alignmentgroup": "True",
                  "hovertemplate": "trigram=%{x}<br>count=%{y}<extra></extra>",
                  "legendgroup": "high school students",
                  "marker": {
                    "color": "#B6E880",
                    "pattern": {
                      "shape": ""
                    }
                  },
                  "name": "high school students",
                  "offsetgroup": "high school students",
                  "orientation": "v",
                  "showlegend": true,
                  "textposition": "auto",
                  "type": "bar",
                  "x": [
                    "high school students"
                  ],
                  "xaxis": "x",
                  "y": [
                    120
                  ],
                  "yaxis": "y"
                },
                {
                  "alignmentgroup": "True",
                  "hovertemplate": "trigram=%{x}<br>count=%{y}<extra></extra>",
                  "legendgroup": "young woman named",
                  "marker": {
                    "color": "#FF97FF",
                    "pattern": {
                      "shape": ""
                    }
                  },
                  "name": "young woman named",
                  "offsetgroup": "young woman named",
                  "orientation": "v",
                  "showlegend": true,
                  "textposition": "auto",
                  "type": "bar",
                  "x": [
                    "young woman named"
                  ],
                  "xaxis": "x",
                  "y": [
                    114
                  ],
                  "yaxis": "y"
                },
                {
                  "alignmentgroup": "True",
                  "hovertemplate": "trigram=%{x}<br>count=%{y}<extra></extra>",
                  "legendgroup": "beautiful young woman",
                  "marker": {
                    "color": "#FECB52",
                    "pattern": {
                      "shape": ""
                    }
                  },
                  "name": "beautiful young woman",
                  "offsetgroup": "beautiful young woman",
                  "orientation": "v",
                  "showlegend": true,
                  "textposition": "auto",
                  "type": "bar",
                  "x": [
                    "beautiful young woman"
                  ],
                  "xaxis": "x",
                  "y": [
                    112
                  ],
                  "yaxis": "y"
                }
              ],
              "layout": {
                "barmode": "relative",
                "legend": {
                  "title": {
                    "text": "trigram"
                  },
                  "tracegroupgap": 0
                },
                "template": {
                  "data": {
                    "bar": [
                      {
                        "error_x": {
                          "color": "#2a3f5f"
                        },
                        "error_y": {
                          "color": "#2a3f5f"
                        },
                        "marker": {
                          "line": {
                            "color": "#E5ECF6",
                            "width": 0.5
                          },
                          "pattern": {
                            "fillmode": "overlay",
                            "size": 10,
                            "solidity": 0.2
                          }
                        },
                        "type": "bar"
                      }
                    ],
                    "barpolar": [
                      {
                        "marker": {
                          "line": {
                            "color": "#E5ECF6",
                            "width": 0.5
                          },
                          "pattern": {
                            "fillmode": "overlay",
                            "size": 10,
                            "solidity": 0.2
                          }
                        },
                        "type": "barpolar"
                      }
                    ],
                    "carpet": [
                      {
                        "aaxis": {
                          "endlinecolor": "#2a3f5f",
                          "gridcolor": "white",
                          "linecolor": "white",
                          "minorgridcolor": "white",
                          "startlinecolor": "#2a3f5f"
                        },
                        "baxis": {
                          "endlinecolor": "#2a3f5f",
                          "gridcolor": "white",
                          "linecolor": "white",
                          "minorgridcolor": "white",
                          "startlinecolor": "#2a3f5f"
                        },
                        "type": "carpet"
                      }
                    ],
                    "choropleth": [
                      {
                        "colorbar": {
                          "outlinewidth": 0,
                          "ticks": ""
                        },
                        "type": "choropleth"
                      }
                    ],
                    "contour": [
                      {
                        "colorbar": {
                          "outlinewidth": 0,
                          "ticks": ""
                        },
                        "colorscale": [
                          [
                            0,
                            "#0d0887"
                          ],
                          [
                            0.1111111111111111,
                            "#46039f"
                          ],
                          [
                            0.2222222222222222,
                            "#7201a8"
                          ],
                          [
                            0.3333333333333333,
                            "#9c179e"
                          ],
                          [
                            0.4444444444444444,
                            "#bd3786"
                          ],
                          [
                            0.5555555555555556,
                            "#d8576b"
                          ],
                          [
                            0.6666666666666666,
                            "#ed7953"
                          ],
                          [
                            0.7777777777777778,
                            "#fb9f3a"
                          ],
                          [
                            0.8888888888888888,
                            "#fdca26"
                          ],
                          [
                            1,
                            "#f0f921"
                          ]
                        ],
                        "type": "contour"
                      }
                    ],
                    "contourcarpet": [
                      {
                        "colorbar": {
                          "outlinewidth": 0,
                          "ticks": ""
                        },
                        "type": "contourcarpet"
                      }
                    ],
                    "heatmap": [
                      {
                        "colorbar": {
                          "outlinewidth": 0,
                          "ticks": ""
                        },
                        "colorscale": [
                          [
                            0,
                            "#0d0887"
                          ],
                          [
                            0.1111111111111111,
                            "#46039f"
                          ],
                          [
                            0.2222222222222222,
                            "#7201a8"
                          ],
                          [
                            0.3333333333333333,
                            "#9c179e"
                          ],
                          [
                            0.4444444444444444,
                            "#bd3786"
                          ],
                          [
                            0.5555555555555556,
                            "#d8576b"
                          ],
                          [
                            0.6666666666666666,
                            "#ed7953"
                          ],
                          [
                            0.7777777777777778,
                            "#fb9f3a"
                          ],
                          [
                            0.8888888888888888,
                            "#fdca26"
                          ],
                          [
                            1,
                            "#f0f921"
                          ]
                        ],
                        "type": "heatmap"
                      }
                    ],
                    "heatmapgl": [
                      {
                        "colorbar": {
                          "outlinewidth": 0,
                          "ticks": ""
                        },
                        "colorscale": [
                          [
                            0,
                            "#0d0887"
                          ],
                          [
                            0.1111111111111111,
                            "#46039f"
                          ],
                          [
                            0.2222222222222222,
                            "#7201a8"
                          ],
                          [
                            0.3333333333333333,
                            "#9c179e"
                          ],
                          [
                            0.4444444444444444,
                            "#bd3786"
                          ],
                          [
                            0.5555555555555556,
                            "#d8576b"
                          ],
                          [
                            0.6666666666666666,
                            "#ed7953"
                          ],
                          [
                            0.7777777777777778,
                            "#fb9f3a"
                          ],
                          [
                            0.8888888888888888,
                            "#fdca26"
                          ],
                          [
                            1,
                            "#f0f921"
                          ]
                        ],
                        "type": "heatmapgl"
                      }
                    ],
                    "histogram": [
                      {
                        "marker": {
                          "pattern": {
                            "fillmode": "overlay",
                            "size": 10,
                            "solidity": 0.2
                          }
                        },
                        "type": "histogram"
                      }
                    ],
                    "histogram2d": [
                      {
                        "colorbar": {
                          "outlinewidth": 0,
                          "ticks": ""
                        },
                        "colorscale": [
                          [
                            0,
                            "#0d0887"
                          ],
                          [
                            0.1111111111111111,
                            "#46039f"
                          ],
                          [
                            0.2222222222222222,
                            "#7201a8"
                          ],
                          [
                            0.3333333333333333,
                            "#9c179e"
                          ],
                          [
                            0.4444444444444444,
                            "#bd3786"
                          ],
                          [
                            0.5555555555555556,
                            "#d8576b"
                          ],
                          [
                            0.6666666666666666,
                            "#ed7953"
                          ],
                          [
                            0.7777777777777778,
                            "#fb9f3a"
                          ],
                          [
                            0.8888888888888888,
                            "#fdca26"
                          ],
                          [
                            1,
                            "#f0f921"
                          ]
                        ],
                        "type": "histogram2d"
                      }
                    ],
                    "histogram2dcontour": [
                      {
                        "colorbar": {
                          "outlinewidth": 0,
                          "ticks": ""
                        },
                        "colorscale": [
                          [
                            0,
                            "#0d0887"
                          ],
                          [
                            0.1111111111111111,
                            "#46039f"
                          ],
                          [
                            0.2222222222222222,
                            "#7201a8"
                          ],
                          [
                            0.3333333333333333,
                            "#9c179e"
                          ],
                          [
                            0.4444444444444444,
                            "#bd3786"
                          ],
                          [
                            0.5555555555555556,
                            "#d8576b"
                          ],
                          [
                            0.6666666666666666,
                            "#ed7953"
                          ],
                          [
                            0.7777777777777778,
                            "#fb9f3a"
                          ],
                          [
                            0.8888888888888888,
                            "#fdca26"
                          ],
                          [
                            1,
                            "#f0f921"
                          ]
                        ],
                        "type": "histogram2dcontour"
                      }
                    ],
                    "mesh3d": [
                      {
                        "colorbar": {
                          "outlinewidth": 0,
                          "ticks": ""
                        },
                        "type": "mesh3d"
                      }
                    ],
                    "parcoords": [
                      {
                        "line": {
                          "colorbar": {
                            "outlinewidth": 0,
                            "ticks": ""
                          }
                        },
                        "type": "parcoords"
                      }
                    ],
                    "pie": [
                      {
                        "automargin": true,
                        "type": "pie"
                      }
                    ],
                    "scatter": [
                      {
                        "fillpattern": {
                          "fillmode": "overlay",
                          "size": 10,
                          "solidity": 0.2
                        },
                        "type": "scatter"
                      }
                    ],
                    "scatter3d": [
                      {
                        "line": {
                          "colorbar": {
                            "outlinewidth": 0,
                            "ticks": ""
                          }
                        },
                        "marker": {
                          "colorbar": {
                            "outlinewidth": 0,
                            "ticks": ""
                          }
                        },
                        "type": "scatter3d"
                      }
                    ],
                    "scattercarpet": [
                      {
                        "marker": {
                          "colorbar": {
                            "outlinewidth": 0,
                            "ticks": ""
                          }
                        },
                        "type": "scattercarpet"
                      }
                    ],
                    "scattergeo": [
                      {
                        "marker": {
                          "colorbar": {
                            "outlinewidth": 0,
                            "ticks": ""
                          }
                        },
                        "type": "scattergeo"
                      }
                    ],
                    "scattergl": [
                      {
                        "marker": {
                          "colorbar": {
                            "outlinewidth": 0,
                            "ticks": ""
                          }
                        },
                        "type": "scattergl"
                      }
                    ],
                    "scattermapbox": [
                      {
                        "marker": {
                          "colorbar": {
                            "outlinewidth": 0,
                            "ticks": ""
                          }
                        },
                        "type": "scattermapbox"
                      }
                    ],
                    "scatterpolar": [
                      {
                        "marker": {
                          "colorbar": {
                            "outlinewidth": 0,
                            "ticks": ""
                          }
                        },
                        "type": "scatterpolar"
                      }
                    ],
                    "scatterpolargl": [
                      {
                        "marker": {
                          "colorbar": {
                            "outlinewidth": 0,
                            "ticks": ""
                          }
                        },
                        "type": "scatterpolargl"
                      }
                    ],
                    "scatterternary": [
                      {
                        "marker": {
                          "colorbar": {
                            "outlinewidth": 0,
                            "ticks": ""
                          }
                        },
                        "type": "scatterternary"
                      }
                    ],
                    "surface": [
                      {
                        "colorbar": {
                          "outlinewidth": 0,
                          "ticks": ""
                        },
                        "colorscale": [
                          [
                            0,
                            "#0d0887"
                          ],
                          [
                            0.1111111111111111,
                            "#46039f"
                          ],
                          [
                            0.2222222222222222,
                            "#7201a8"
                          ],
                          [
                            0.3333333333333333,
                            "#9c179e"
                          ],
                          [
                            0.4444444444444444,
                            "#bd3786"
                          ],
                          [
                            0.5555555555555556,
                            "#d8576b"
                          ],
                          [
                            0.6666666666666666,
                            "#ed7953"
                          ],
                          [
                            0.7777777777777778,
                            "#fb9f3a"
                          ],
                          [
                            0.8888888888888888,
                            "#fdca26"
                          ],
                          [
                            1,
                            "#f0f921"
                          ]
                        ],
                        "type": "surface"
                      }
                    ],
                    "table": [
                      {
                        "cells": {
                          "fill": {
                            "color": "#EBF0F8"
                          },
                          "line": {
                            "color": "white"
                          }
                        },
                        "header": {
                          "fill": {
                            "color": "#C8D4E3"
                          },
                          "line": {
                            "color": "white"
                          }
                        },
                        "type": "table"
                      }
                    ]
                  },
                  "layout": {
                    "annotationdefaults": {
                      "arrowcolor": "#2a3f5f",
                      "arrowhead": 0,
                      "arrowwidth": 1
                    },
                    "autotypenumbers": "strict",
                    "coloraxis": {
                      "colorbar": {
                        "outlinewidth": 0,
                        "ticks": ""
                      }
                    },
                    "colorscale": {
                      "diverging": [
                        [
                          0,
                          "#8e0152"
                        ],
                        [
                          0.1,
                          "#c51b7d"
                        ],
                        [
                          0.2,
                          "#de77ae"
                        ],
                        [
                          0.3,
                          "#f1b6da"
                        ],
                        [
                          0.4,
                          "#fde0ef"
                        ],
                        [
                          0.5,
                          "#f7f7f7"
                        ],
                        [
                          0.6,
                          "#e6f5d0"
                        ],
                        [
                          0.7,
                          "#b8e186"
                        ],
                        [
                          0.8,
                          "#7fbc41"
                        ],
                        [
                          0.9,
                          "#4d9221"
                        ],
                        [
                          1,
                          "#276419"
                        ]
                      ],
                      "sequential": [
                        [
                          0,
                          "#0d0887"
                        ],
                        [
                          0.1111111111111111,
                          "#46039f"
                        ],
                        [
                          0.2222222222222222,
                          "#7201a8"
                        ],
                        [
                          0.3333333333333333,
                          "#9c179e"
                        ],
                        [
                          0.4444444444444444,
                          "#bd3786"
                        ],
                        [
                          0.5555555555555556,
                          "#d8576b"
                        ],
                        [
                          0.6666666666666666,
                          "#ed7953"
                        ],
                        [
                          0.7777777777777778,
                          "#fb9f3a"
                        ],
                        [
                          0.8888888888888888,
                          "#fdca26"
                        ],
                        [
                          1,
                          "#f0f921"
                        ]
                      ],
                      "sequentialminus": [
                        [
                          0,
                          "#0d0887"
                        ],
                        [
                          0.1111111111111111,
                          "#46039f"
                        ],
                        [
                          0.2222222222222222,
                          "#7201a8"
                        ],
                        [
                          0.3333333333333333,
                          "#9c179e"
                        ],
                        [
                          0.4444444444444444,
                          "#bd3786"
                        ],
                        [
                          0.5555555555555556,
                          "#d8576b"
                        ],
                        [
                          0.6666666666666666,
                          "#ed7953"
                        ],
                        [
                          0.7777777777777778,
                          "#fb9f3a"
                        ],
                        [
                          0.8888888888888888,
                          "#fdca26"
                        ],
                        [
                          1,
                          "#f0f921"
                        ]
                      ]
                    },
                    "colorway": [
                      "#636efa",
                      "#EF553B",
                      "#00cc96",
                      "#ab63fa",
                      "#FFA15A",
                      "#19d3f3",
                      "#FF6692",
                      "#B6E880",
                      "#FF97FF",
                      "#FECB52"
                    ],
                    "font": {
                      "color": "#2a3f5f"
                    },
                    "geo": {
                      "bgcolor": "white",
                      "lakecolor": "white",
                      "landcolor": "#E5ECF6",
                      "showlakes": true,
                      "showland": true,
                      "subunitcolor": "white"
                    },
                    "hoverlabel": {
                      "align": "left"
                    },
                    "hovermode": "closest",
                    "mapbox": {
                      "style": "light"
                    },
                    "paper_bgcolor": "white",
                    "plot_bgcolor": "#E5ECF6",
                    "polar": {
                      "angularaxis": {
                        "gridcolor": "white",
                        "linecolor": "white",
                        "ticks": ""
                      },
                      "bgcolor": "#E5ECF6",
                      "radialaxis": {
                        "gridcolor": "white",
                        "linecolor": "white",
                        "ticks": ""
                      }
                    },
                    "scene": {
                      "xaxis": {
                        "backgroundcolor": "#E5ECF6",
                        "gridcolor": "white",
                        "gridwidth": 2,
                        "linecolor": "white",
                        "showbackground": true,
                        "ticks": "",
                        "zerolinecolor": "white"
                      },
                      "yaxis": {
                        "backgroundcolor": "#E5ECF6",
                        "gridcolor": "white",
                        "gridwidth": 2,
                        "linecolor": "white",
                        "showbackground": true,
                        "ticks": "",
                        "zerolinecolor": "white"
                      },
                      "zaxis": {
                        "backgroundcolor": "#E5ECF6",
                        "gridcolor": "white",
                        "gridwidth": 2,
                        "linecolor": "white",
                        "showbackground": true,
                        "ticks": "",
                        "zerolinecolor": "white"
                      }
                    },
                    "shapedefaults": {
                      "line": {
                        "color": "#2a3f5f"
                      }
                    },
                    "ternary": {
                      "aaxis": {
                        "gridcolor": "white",
                        "linecolor": "white",
                        "ticks": ""
                      },
                      "baxis": {
                        "gridcolor": "white",
                        "linecolor": "white",
                        "ticks": ""
                      },
                      "bgcolor": "#E5ECF6",
                      "caxis": {
                        "gridcolor": "white",
                        "linecolor": "white",
                        "ticks": ""
                      }
                    },
                    "title": {
                      "x": 0.05
                    },
                    "xaxis": {
                      "automargin": true,
                      "gridcolor": "white",
                      "linecolor": "white",
                      "ticks": "",
                      "title": {
                        "standoff": 15
                      },
                      "zerolinecolor": "white",
                      "zerolinewidth": 2
                    },
                    "yaxis": {
                      "automargin": true,
                      "gridcolor": "white",
                      "linecolor": "white",
                      "ticks": "",
                      "title": {
                        "standoff": 15
                      },
                      "zerolinecolor": "white",
                      "zerolinewidth": 2
                    }
                  }
                },
                "title": {
                  "text": "Top 30 Trigrams"
                },
                "xaxis": {
                  "anchor": "y",
                  "categoryarray": [
                    "new york city",
                    "world war ii",
                    "year old girl",
                    "feature length documentary",
                    "year old son",
                    "year old boy",
                    "year old daughter",
                    "film tells story",
                    "based true story",
                    "17 year old",
                    "12 year old",
                    "16 year old",
                    "second world war",
                    "make ends meet",
                    "start new life",
                    "15 year old",
                    "14 year old",
                    "18 year old",
                    "10 year old",
                    "13 year old",
                    "make matters worse",
                    "high school student",
                    "coming age story",
                    "documentary tells story",
                    "story takes place",
                    "11 year old",
                    "19 year old",
                    "high school students",
                    "young woman named",
                    "beautiful young woman"
                  ],
                  "categoryorder": "array",
                  "domain": [
                    0,
                    1
                  ],
                  "tickangle": 80,
                  "title": {
                    "text": "Trigram"
                  }
                },
                "yaxis": {
                  "anchor": "x",
                  "domain": [
                    0,
                    1
                  ],
                  "title": {
                    "text": "Count"
                  }
                }
              }
            }
          },
          "metadata": {},
          "output_type": "display_data"
        }
      ],
      "source": [
        "df1 = pd.DataFrame(top_30_trigrams, columns = ['trigram' , 'count'])\n",
        "fig = px.bar(df1, x='trigram', y='count', title='Top 30 Trigrams', color='trigram')\n",
        "fig.update_layout(xaxis_title='Trigram', yaxis_title='Count')\n",
        "fig.update_xaxes(tickangle=80)\n",
        "\n",
        "fig.show()"
      ]
    },
    {
      "cell_type": "markdown",
      "metadata": {
        "id": "8cXa5hFKBuFw"
      },
      "source": [
        "### Preprocessing"
      ]
    },
    {
      "cell_type": "code",
      "execution_count": 44,
      "metadata": {
        "id": "oLskUrpABmjv"
      },
      "outputs": [],
      "source": [
        "# Function to map POS tags to WordNet POS tags\n",
        "def get_wordnet_pos(tag):\n",
        "    if tag.startswith('J'):\n",
        "        return 'a'  # Adjective\n",
        "    elif tag.startswith('V'):\n",
        "        return 'v'  # Verb\n",
        "    elif tag.startswith('N'):\n",
        "        return 'n'  # Noun\n",
        "    elif tag.startswith('R'):\n",
        "        return 'r'  # Adverb\n",
        "    else:\n",
        "        return 'n'  # Default to noun if not found\n",
        "\n",
        "def clean_text(text):\n",
        "    # Tokenize the text\n",
        "    words = word_tokenize(text)\n",
        "\n",
        "    # Initialize lemmatizer\n",
        "    lemmatizer = WordNetLemmatizer()\n",
        "\n",
        "    # Get parts-of-speech tags for words\n",
        "    tagged_words = pos_tag(words)\n",
        "\n",
        "    # Remove numbers, lowercase words, remove stopwords, and lemmatize based on POS tags\n",
        "    words = [lemmatizer.lemmatize(word.lower(), pos=get_wordnet_pos(tag))\n",
        "             for word, tag in tagged_words\n",
        "             if word.isalpha() and word.lower() not in STOPWORDS]\n",
        "\n",
        "    # Join the cleaned words back into a single string\n",
        "    cleaned_text = ' '.join(words)\n",
        "\n",
        "    return cleaned_text\n",
        "\n",
        "# def clean_text(text):\n",
        "#     # Tokenize the text\n",
        "#     words = word_tokenize(text)\n",
        "\n",
        "#     # Initialize stopwords and lemmatizer\n",
        "#     lemmatizer = WordNetLemmatizer()\n",
        "\n",
        "#     # Remove numbers, lowercase words, remove stopwords, and lemmatize\n",
        "#     words = [lemmatizer.lemmatize(word.lower()) for word in words if word.isalpha() and word.lower() not in STOPWORDS]\n",
        "\n",
        "#     # Join the cleaned words back into a single string\n",
        "#     cleaned_text = ' '.join(words)\n",
        "\n",
        "#     return cleaned_text"
      ]
    },
    {
      "cell_type": "code",
      "execution_count": 45,
      "metadata": {},
      "outputs": [
        {
          "data": {
            "text/plain": [
              "'love loving thing lover lovely adorable caring liking dare waste'"
            ]
          },
          "execution_count": 45,
          "metadata": {},
          "output_type": "execute_result"
        }
      ],
      "source": [
        "clean_text('I love the loving thing of lovers, lovely, adorable, caring, liking, daring, wasting')"
      ]
    },
    {
      "cell_type": "markdown",
      "metadata": {},
      "source": [
        "Uncomment the following lines of code for preprocessing the data for first time."
      ]
    },
    {
      "cell_type": "code",
      "execution_count": 46,
      "metadata": {
        "id": "EjTS_snDCGID"
      },
      "outputs": [],
      "source": [
        "# data['description_cleaned'] = data['Description'].apply(clean_text)"
      ]
    },
    {
      "cell_type": "code",
      "execution_count": 47,
      "metadata": {},
      "outputs": [
        {
          "data": {
            "text/html": [
              "<div>\n",
              "<style scoped>\n",
              "    .dataframe tbody tr th:only-of-type {\n",
              "        vertical-align: middle;\n",
              "    }\n",
              "\n",
              "    .dataframe tbody tr th {\n",
              "        vertical-align: top;\n",
              "    }\n",
              "\n",
              "    .dataframe thead th {\n",
              "        text-align: right;\n",
              "    }\n",
              "</style>\n",
              "<table border=\"1\" class=\"dataframe\">\n",
              "  <thead>\n",
              "    <tr style=\"text-align: right;\">\n",
              "      <th></th>\n",
              "      <th>Genre</th>\n",
              "      <th>description_cleaned</th>\n",
              "    </tr>\n",
              "  </thead>\n",
              "  <tbody>\n",
              "    <tr>\n",
              "      <th>1</th>\n",
              "      <td>drama</td>\n",
              "      <td>listen conversation doctor parent oscar learn ...</td>\n",
              "    </tr>\n",
              "    <tr>\n",
              "      <th>2</th>\n",
              "      <td>thriller</td>\n",
              "      <td>brother sister past incestuous relationship cu...</td>\n",
              "    </tr>\n",
              "    <tr>\n",
              "      <th>3</th>\n",
              "      <td>adult</td>\n",
              "      <td>bus empty student field trip museum natural hi...</td>\n",
              "    </tr>\n",
              "    <tr>\n",
              "      <th>4</th>\n",
              "      <td>drama</td>\n",
              "      <td>help unemployed father make ends meet edith tw...</td>\n",
              "    </tr>\n",
              "    <tr>\n",
              "      <th>5</th>\n",
              "      <td>drama</td>\n",
              "      <td>film title refers body ground zero also state ...</td>\n",
              "    </tr>\n",
              "  </tbody>\n",
              "</table>\n",
              "</div>"
            ],
            "text/plain": [
              "      Genre                                description_cleaned\n",
              "1     drama  listen conversation doctor parent oscar learn ...\n",
              "2  thriller  brother sister past incestuous relationship cu...\n",
              "3     adult  bus empty student field trip museum natural hi...\n",
              "4     drama  help unemployed father make ends meet edith tw...\n",
              "5     drama  film title refers body ground zero also state ..."
            ]
          },
          "execution_count": 47,
          "metadata": {},
          "output_type": "execute_result"
        }
      ],
      "source": [
        "# data = data.drop(['Title','Description'], axis=1)\n",
        "# data.head()"
      ]
    },
    {
      "cell_type": "code",
      "execution_count": 48,
      "metadata": {},
      "outputs": [],
      "source": [
        "# Save the preprocessed data to avoid re-processing if session is lost.\n",
        "data.to_csv('./Data/pre_processed_data.csv')\n",
        "\n",
        "\n",
        "data = pd.read_csv('./Data/pre_processed_data.csv')\n",
        "data = data.drop(['Unnamed: 0'], axis=1)"
      ]
    },
    {
      "cell_type": "code",
      "execution_count": 49,
      "metadata": {
        "colab": {
          "base_uri": "https://localhost:8080/"
        },
        "id": "CqbJpN7VSWYf",
        "outputId": "9e8f2dc9-6a1a-46e4-864c-79b49b5ba348"
      },
      "outputs": [
        {
          "data": {
            "text/plain": [
              "(108414, 2)"
            ]
          },
          "execution_count": 49,
          "metadata": {},
          "output_type": "execute_result"
        }
      ],
      "source": [
        "data.shape"
      ]
    },
    {
      "cell_type": "code",
      "execution_count": 50,
      "metadata": {
        "colab": {
          "base_uri": "https://localhost:8080/",
          "height": 597
        },
        "id": "u4VCJ9A9CJeb",
        "outputId": "afe7a253-f23f-45c1-af4f-506b69df641a"
      },
      "outputs": [
        {
          "data": {
            "text/html": [
              "<div>\n",
              "<style scoped>\n",
              "    .dataframe tbody tr th:only-of-type {\n",
              "        vertical-align: middle;\n",
              "    }\n",
              "\n",
              "    .dataframe tbody tr th {\n",
              "        vertical-align: top;\n",
              "    }\n",
              "\n",
              "    .dataframe thead th {\n",
              "        text-align: right;\n",
              "    }\n",
              "</style>\n",
              "<table border=\"1\" class=\"dataframe\">\n",
              "  <thead>\n",
              "    <tr style=\"text-align: right;\">\n",
              "      <th></th>\n",
              "      <th>Genre</th>\n",
              "      <th>description_cleaned</th>\n",
              "    </tr>\n",
              "  </thead>\n",
              "  <tbody>\n",
              "    <tr>\n",
              "      <th>0</th>\n",
              "      <td>drama</td>\n",
              "      <td>listen conversation doctor parent oscar learn ...</td>\n",
              "    </tr>\n",
              "    <tr>\n",
              "      <th>1</th>\n",
              "      <td>thriller</td>\n",
              "      <td>brother sister past incestuous relationship cu...</td>\n",
              "    </tr>\n",
              "    <tr>\n",
              "      <th>2</th>\n",
              "      <td>adult</td>\n",
              "      <td>bus empty student field trip museum natural hi...</td>\n",
              "    </tr>\n",
              "    <tr>\n",
              "      <th>3</th>\n",
              "      <td>drama</td>\n",
              "      <td>help unemployed father make ends meet edith tw...</td>\n",
              "    </tr>\n",
              "    <tr>\n",
              "      <th>4</th>\n",
              "      <td>drama</td>\n",
              "      <td>film title refers body ground zero also state ...</td>\n",
              "    </tr>\n",
              "    <tr>\n",
              "      <th>...</th>\n",
              "      <td>...</td>\n",
              "      <td>...</td>\n",
              "    </tr>\n",
              "    <tr>\n",
              "      <th>108409</th>\n",
              "      <td>horror</td>\n",
              "      <td>cover multiple genre tale light dark anthology...</td>\n",
              "    </tr>\n",
              "    <tr>\n",
              "      <th>108410</th>\n",
              "      <td>western</td>\n",
              "      <td>alice cora munro attempt find father british o...</td>\n",
              "    </tr>\n",
              "    <tr>\n",
              "      <th>108411</th>\n",
              "      <td>adult</td>\n",
              "      <td>movie year making oliver twist artful dodger f...</td>\n",
              "    </tr>\n",
              "    <tr>\n",
              "      <th>108412</th>\n",
              "      <td>drama</td>\n",
              "      <td>popular mysterious rock mike mallard askew bro...</td>\n",
              "    </tr>\n",
              "    <tr>\n",
              "      <th>108413</th>\n",
              "      <td>drama</td>\n",
              "      <td>curitiba city movement rhythm different pulsat...</td>\n",
              "    </tr>\n",
              "  </tbody>\n",
              "</table>\n",
              "<p>108414 rows × 2 columns</p>\n",
              "</div>"
            ],
            "text/plain": [
              "           Genre                                description_cleaned\n",
              "0          drama  listen conversation doctor parent oscar learn ...\n",
              "1       thriller  brother sister past incestuous relationship cu...\n",
              "2          adult  bus empty student field trip museum natural hi...\n",
              "3          drama  help unemployed father make ends meet edith tw...\n",
              "4          drama  film title refers body ground zero also state ...\n",
              "...          ...                                                ...\n",
              "108409    horror  cover multiple genre tale light dark anthology...\n",
              "108410   western  alice cora munro attempt find father british o...\n",
              "108411     adult  movie year making oliver twist artful dodger f...\n",
              "108412     drama  popular mysterious rock mike mallard askew bro...\n",
              "108413     drama  curitiba city movement rhythm different pulsat...\n",
              "\n",
              "[108414 rows x 2 columns]"
            ]
          },
          "execution_count": 50,
          "metadata": {},
          "output_type": "execute_result"
        }
      ],
      "source": [
        "data"
      ]
    },
    {
      "cell_type": "code",
      "execution_count": 7,
      "metadata": {
        "id": "WOOPweR0CMkD"
      },
      "outputs": [],
      "source": [
        "# Group the similar genres\n",
        "def make_genre_groups(df):\n",
        "    # Replace 'biography', 'history', and 'news' with 'documentary'\n",
        "    df['Genre'].replace(['biography', 'history', 'news'], 'documentary', inplace=True)\n",
        "\n",
        "    # Replace 'mystery' and 'crime' with 'thriller'\n",
        "    df['Genre'].replace(['mystery', 'crime'], 'thriller', inplace=True)\n",
        "\n",
        "    # Replace 'fantasy' with 'adventure'\n",
        "    df['Genre'].replace('fantasy', 'adventure', inplace=True)\n",
        "\n",
        "    # Replace 'family' with 'comedy'\n",
        "    df['Genre'].replace('family', 'comedy', inplace=True)\n",
        "\n",
        "    # Replace 'reality-tv', 'game-show', 'talk-show' with 'tv-show'\n",
        "    df['Genre'].replace(['reality-tv', 'game-show', 'talk-show'], 'tv-show', inplace=True)\n",
        "\n",
        "    # Group remaining genres into 'other'\n",
        "    other_genres = ['short', 'western', 'music', 'animation', 'sport', 'musical', 'war']\n",
        "    df.loc[df['Genre'].isin(other_genres), 'Genre'] = 'other'\n",
        "\n",
        "    return df"
      ]
    },
    {
      "cell_type": "code",
      "execution_count": 51,
      "metadata": {
        "id": "prq2dOljJiij"
      },
      "outputs": [],
      "source": [
        "train_df = make_genre_groups(data.copy())\n"
      ]
    },
    {
      "cell_type": "code",
      "execution_count": 53,
      "metadata": {
        "colab": {
          "base_uri": "https://localhost:8080/",
          "height": 424
        },
        "id": "ZeKjeRT_LL6e",
        "outputId": "1075d648-ae91-4fff-acc6-f0b2543235c8"
      },
      "outputs": [
        {
          "data": {
            "text/html": [
              "<div>\n",
              "<style scoped>\n",
              "    .dataframe tbody tr th:only-of-type {\n",
              "        vertical-align: middle;\n",
              "    }\n",
              "\n",
              "    .dataframe tbody tr th {\n",
              "        vertical-align: top;\n",
              "    }\n",
              "\n",
              "    .dataframe thead th {\n",
              "        text-align: right;\n",
              "    }\n",
              "</style>\n",
              "<table border=\"1\" class=\"dataframe\">\n",
              "  <thead>\n",
              "    <tr style=\"text-align: right;\">\n",
              "      <th></th>\n",
              "      <th>Genre</th>\n",
              "      <th>description_cleaned</th>\n",
              "    </tr>\n",
              "  </thead>\n",
              "  <tbody>\n",
              "    <tr>\n",
              "      <th>0</th>\n",
              "      <td>drama</td>\n",
              "      <td>listen conversation doctor parent oscar learn ...</td>\n",
              "    </tr>\n",
              "    <tr>\n",
              "      <th>1</th>\n",
              "      <td>thriller</td>\n",
              "      <td>brother sister past incestuous relationship cu...</td>\n",
              "    </tr>\n",
              "    <tr>\n",
              "      <th>2</th>\n",
              "      <td>adult</td>\n",
              "      <td>bus empty student field trip museum natural hi...</td>\n",
              "    </tr>\n",
              "    <tr>\n",
              "      <th>3</th>\n",
              "      <td>drama</td>\n",
              "      <td>help unemployed father make ends meet edith tw...</td>\n",
              "    </tr>\n",
              "    <tr>\n",
              "      <th>4</th>\n",
              "      <td>drama</td>\n",
              "      <td>film title refers body ground zero also state ...</td>\n",
              "    </tr>\n",
              "    <tr>\n",
              "      <th>...</th>\n",
              "      <td>...</td>\n",
              "      <td>...</td>\n",
              "    </tr>\n",
              "    <tr>\n",
              "      <th>108409</th>\n",
              "      <td>horror</td>\n",
              "      <td>cover multiple genre tale light dark anthology...</td>\n",
              "    </tr>\n",
              "    <tr>\n",
              "      <th>108410</th>\n",
              "      <td>other</td>\n",
              "      <td>alice cora munro attempt find father british o...</td>\n",
              "    </tr>\n",
              "    <tr>\n",
              "      <th>108411</th>\n",
              "      <td>adult</td>\n",
              "      <td>movie year making oliver twist artful dodger f...</td>\n",
              "    </tr>\n",
              "    <tr>\n",
              "      <th>108412</th>\n",
              "      <td>drama</td>\n",
              "      <td>popular mysterious rock mike mallard askew bro...</td>\n",
              "    </tr>\n",
              "    <tr>\n",
              "      <th>108413</th>\n",
              "      <td>drama</td>\n",
              "      <td>curitiba city movement rhythm different pulsat...</td>\n",
              "    </tr>\n",
              "  </tbody>\n",
              "</table>\n",
              "<p>108414 rows × 2 columns</p>\n",
              "</div>"
            ],
            "text/plain": [
              "           Genre                                description_cleaned\n",
              "0          drama  listen conversation doctor parent oscar learn ...\n",
              "1       thriller  brother sister past incestuous relationship cu...\n",
              "2          adult  bus empty student field trip museum natural hi...\n",
              "3          drama  help unemployed father make ends meet edith tw...\n",
              "4          drama  film title refers body ground zero also state ...\n",
              "...          ...                                                ...\n",
              "108409    horror  cover multiple genre tale light dark anthology...\n",
              "108410     other  alice cora munro attempt find father british o...\n",
              "108411     adult  movie year making oliver twist artful dodger f...\n",
              "108412     drama  popular mysterious rock mike mallard askew bro...\n",
              "108413     drama  curitiba city movement rhythm different pulsat...\n",
              "\n",
              "[108414 rows x 2 columns]"
            ]
          },
          "execution_count": 53,
          "metadata": {},
          "output_type": "execute_result"
        }
      ],
      "source": [
        "\n",
        "train_df"
      ]
    },
    {
      "cell_type": "code",
      "execution_count": 54,
      "metadata": {
        "colab": {
          "base_uri": "https://localhost:8080/",
          "height": 542
        },
        "id": "afqSjcdwJoGI",
        "outputId": "48dd0777-ba2f-433b-a7a8-d4d4fdef4098"
      },
      "outputs": [
        {
          "data": {
            "application/vnd.plotly.v1+json": {
              "config": {
                "plotlyServerURL": "https://plot.ly"
              },
              "data": [
                {
                  "alignmentgroup": "True",
                  "hovertemplate": "Genre=%{x}<br>y=%{y}<extra></extra>",
                  "legendgroup": "documentary",
                  "marker": {
                    "color": "#636efa",
                    "pattern": {
                      "shape": ""
                    }
                  },
                  "name": "documentary",
                  "offsetgroup": "documentary",
                  "orientation": "v",
                  "showlegend": true,
                  "textposition": "auto",
                  "type": "bar",
                  "x": [
                    "documentary"
                  ],
                  "xaxis": "x",
                  "y": [
                    27569
                  ],
                  "yaxis": "y"
                },
                {
                  "alignmentgroup": "True",
                  "hovertemplate": "Genre=%{x}<br>y=%{y}<extra></extra>",
                  "legendgroup": "drama",
                  "marker": {
                    "color": "#EF553B",
                    "pattern": {
                      "shape": ""
                    }
                  },
                  "name": "drama",
                  "offsetgroup": "drama",
                  "orientation": "v",
                  "showlegend": true,
                  "textposition": "auto",
                  "type": "bar",
                  "x": [
                    "drama"
                  ],
                  "xaxis": "x",
                  "y": [
                    27225
                  ],
                  "yaxis": "y"
                },
                {
                  "alignmentgroup": "True",
                  "hovertemplate": "Genre=%{x}<br>y=%{y}<extra></extra>",
                  "legendgroup": "comedy",
                  "marker": {
                    "color": "#00cc96",
                    "pattern": {
                      "shape": ""
                    }
                  },
                  "name": "comedy",
                  "offsetgroup": "comedy",
                  "orientation": "v",
                  "showlegend": true,
                  "textposition": "auto",
                  "type": "bar",
                  "x": [
                    "comedy"
                  ],
                  "xaxis": "x",
                  "y": [
                    16460
                  ],
                  "yaxis": "y"
                },
                {
                  "alignmentgroup": "True",
                  "hovertemplate": "Genre=%{x}<br>y=%{y}<extra></extra>",
                  "legendgroup": "other",
                  "marker": {
                    "color": "#ab63fa",
                    "pattern": {
                      "shape": ""
                    }
                  },
                  "name": "other",
                  "offsetgroup": "other",
                  "orientation": "v",
                  "showlegend": true,
                  "textposition": "auto",
                  "type": "bar",
                  "x": [
                    "other"
                  ],
                  "xaxis": "x",
                  "y": [
                    16347
                  ],
                  "yaxis": "y"
                },
                {
                  "alignmentgroup": "True",
                  "hovertemplate": "Genre=%{x}<br>y=%{y}<extra></extra>",
                  "legendgroup": "thriller",
                  "marker": {
                    "color": "#FFA15A",
                    "pattern": {
                      "shape": ""
                    }
                  },
                  "name": "thriller",
                  "offsetgroup": "thriller",
                  "orientation": "v",
                  "showlegend": true,
                  "textposition": "auto",
                  "type": "bar",
                  "x": [
                    "thriller"
                  ],
                  "xaxis": "x",
                  "y": [
                    4828
                  ],
                  "yaxis": "y"
                },
                {
                  "alignmentgroup": "True",
                  "hovertemplate": "Genre=%{x}<br>y=%{y}<extra></extra>",
                  "legendgroup": "horror",
                  "marker": {
                    "color": "#19d3f3",
                    "pattern": {
                      "shape": ""
                    }
                  },
                  "name": "horror",
                  "offsetgroup": "horror",
                  "orientation": "v",
                  "showlegend": true,
                  "textposition": "auto",
                  "type": "bar",
                  "x": [
                    "horror"
                  ],
                  "xaxis": "x",
                  "y": [
                    4408
                  ],
                  "yaxis": "y"
                },
                {
                  "alignmentgroup": "True",
                  "hovertemplate": "Genre=%{x}<br>y=%{y}<extra></extra>",
                  "legendgroup": "tv-show",
                  "marker": {
                    "color": "#FF6692",
                    "pattern": {
                      "shape": ""
                    }
                  },
                  "name": "tv-show",
                  "offsetgroup": "tv-show",
                  "orientation": "v",
                  "showlegend": true,
                  "textposition": "auto",
                  "type": "bar",
                  "x": [
                    "tv-show"
                  ],
                  "xaxis": "x",
                  "y": [
                    2936
                  ],
                  "yaxis": "y"
                },
                {
                  "alignmentgroup": "True",
                  "hovertemplate": "Genre=%{x}<br>y=%{y}<extra></extra>",
                  "legendgroup": "action",
                  "marker": {
                    "color": "#B6E880",
                    "pattern": {
                      "shape": ""
                    }
                  },
                  "name": "action",
                  "offsetgroup": "action",
                  "orientation": "v",
                  "showlegend": true,
                  "textposition": "auto",
                  "type": "bar",
                  "x": [
                    "action"
                  ],
                  "xaxis": "x",
                  "y": [
                    2629
                  ],
                  "yaxis": "y"
                },
                {
                  "alignmentgroup": "True",
                  "hovertemplate": "Genre=%{x}<br>y=%{y}<extra></extra>",
                  "legendgroup": "adventure",
                  "marker": {
                    "color": "#FF97FF",
                    "pattern": {
                      "shape": ""
                    }
                  },
                  "name": "adventure",
                  "offsetgroup": "adventure",
                  "orientation": "v",
                  "showlegend": true,
                  "textposition": "auto",
                  "type": "bar",
                  "x": [
                    "adventure"
                  ],
                  "xaxis": "x",
                  "y": [
                    2195
                  ],
                  "yaxis": "y"
                },
                {
                  "alignmentgroup": "True",
                  "hovertemplate": "Genre=%{x}<br>y=%{y}<extra></extra>",
                  "legendgroup": "romance",
                  "marker": {
                    "color": "#FECB52",
                    "pattern": {
                      "shape": ""
                    }
                  },
                  "name": "romance",
                  "offsetgroup": "romance",
                  "orientation": "v",
                  "showlegend": true,
                  "textposition": "auto",
                  "type": "bar",
                  "x": [
                    "romance"
                  ],
                  "xaxis": "x",
                  "y": [
                    1344
                  ],
                  "yaxis": "y"
                },
                {
                  "alignmentgroup": "True",
                  "hovertemplate": "Genre=%{x}<br>y=%{y}<extra></extra>",
                  "legendgroup": "sci-fi",
                  "marker": {
                    "color": "#636efa",
                    "pattern": {
                      "shape": ""
                    }
                  },
                  "name": "sci-fi",
                  "offsetgroup": "sci-fi",
                  "orientation": "v",
                  "showlegend": true,
                  "textposition": "auto",
                  "type": "bar",
                  "x": [
                    "sci-fi"
                  ],
                  "xaxis": "x",
                  "y": [
                    1293
                  ],
                  "yaxis": "y"
                },
                {
                  "alignmentgroup": "True",
                  "hovertemplate": "Genre=%{x}<br>y=%{y}<extra></extra>",
                  "legendgroup": "adult",
                  "marker": {
                    "color": "#EF553B",
                    "pattern": {
                      "shape": ""
                    }
                  },
                  "name": "adult",
                  "offsetgroup": "adult",
                  "orientation": "v",
                  "showlegend": true,
                  "textposition": "auto",
                  "type": "bar",
                  "x": [
                    "adult"
                  ],
                  "xaxis": "x",
                  "y": [
                    1180
                  ],
                  "yaxis": "y"
                }
              ],
              "layout": {
                "barmode": "relative",
                "legend": {
                  "title": {
                    "text": "Genre"
                  },
                  "tracegroupgap": 0
                },
                "template": {
                  "data": {
                    "bar": [
                      {
                        "error_x": {
                          "color": "#2a3f5f"
                        },
                        "error_y": {
                          "color": "#2a3f5f"
                        },
                        "marker": {
                          "line": {
                            "color": "#E5ECF6",
                            "width": 0.5
                          },
                          "pattern": {
                            "fillmode": "overlay",
                            "size": 10,
                            "solidity": 0.2
                          }
                        },
                        "type": "bar"
                      }
                    ],
                    "barpolar": [
                      {
                        "marker": {
                          "line": {
                            "color": "#E5ECF6",
                            "width": 0.5
                          },
                          "pattern": {
                            "fillmode": "overlay",
                            "size": 10,
                            "solidity": 0.2
                          }
                        },
                        "type": "barpolar"
                      }
                    ],
                    "carpet": [
                      {
                        "aaxis": {
                          "endlinecolor": "#2a3f5f",
                          "gridcolor": "white",
                          "linecolor": "white",
                          "minorgridcolor": "white",
                          "startlinecolor": "#2a3f5f"
                        },
                        "baxis": {
                          "endlinecolor": "#2a3f5f",
                          "gridcolor": "white",
                          "linecolor": "white",
                          "minorgridcolor": "white",
                          "startlinecolor": "#2a3f5f"
                        },
                        "type": "carpet"
                      }
                    ],
                    "choropleth": [
                      {
                        "colorbar": {
                          "outlinewidth": 0,
                          "ticks": ""
                        },
                        "type": "choropleth"
                      }
                    ],
                    "contour": [
                      {
                        "colorbar": {
                          "outlinewidth": 0,
                          "ticks": ""
                        },
                        "colorscale": [
                          [
                            0,
                            "#0d0887"
                          ],
                          [
                            0.1111111111111111,
                            "#46039f"
                          ],
                          [
                            0.2222222222222222,
                            "#7201a8"
                          ],
                          [
                            0.3333333333333333,
                            "#9c179e"
                          ],
                          [
                            0.4444444444444444,
                            "#bd3786"
                          ],
                          [
                            0.5555555555555556,
                            "#d8576b"
                          ],
                          [
                            0.6666666666666666,
                            "#ed7953"
                          ],
                          [
                            0.7777777777777778,
                            "#fb9f3a"
                          ],
                          [
                            0.8888888888888888,
                            "#fdca26"
                          ],
                          [
                            1,
                            "#f0f921"
                          ]
                        ],
                        "type": "contour"
                      }
                    ],
                    "contourcarpet": [
                      {
                        "colorbar": {
                          "outlinewidth": 0,
                          "ticks": ""
                        },
                        "type": "contourcarpet"
                      }
                    ],
                    "heatmap": [
                      {
                        "colorbar": {
                          "outlinewidth": 0,
                          "ticks": ""
                        },
                        "colorscale": [
                          [
                            0,
                            "#0d0887"
                          ],
                          [
                            0.1111111111111111,
                            "#46039f"
                          ],
                          [
                            0.2222222222222222,
                            "#7201a8"
                          ],
                          [
                            0.3333333333333333,
                            "#9c179e"
                          ],
                          [
                            0.4444444444444444,
                            "#bd3786"
                          ],
                          [
                            0.5555555555555556,
                            "#d8576b"
                          ],
                          [
                            0.6666666666666666,
                            "#ed7953"
                          ],
                          [
                            0.7777777777777778,
                            "#fb9f3a"
                          ],
                          [
                            0.8888888888888888,
                            "#fdca26"
                          ],
                          [
                            1,
                            "#f0f921"
                          ]
                        ],
                        "type": "heatmap"
                      }
                    ],
                    "heatmapgl": [
                      {
                        "colorbar": {
                          "outlinewidth": 0,
                          "ticks": ""
                        },
                        "colorscale": [
                          [
                            0,
                            "#0d0887"
                          ],
                          [
                            0.1111111111111111,
                            "#46039f"
                          ],
                          [
                            0.2222222222222222,
                            "#7201a8"
                          ],
                          [
                            0.3333333333333333,
                            "#9c179e"
                          ],
                          [
                            0.4444444444444444,
                            "#bd3786"
                          ],
                          [
                            0.5555555555555556,
                            "#d8576b"
                          ],
                          [
                            0.6666666666666666,
                            "#ed7953"
                          ],
                          [
                            0.7777777777777778,
                            "#fb9f3a"
                          ],
                          [
                            0.8888888888888888,
                            "#fdca26"
                          ],
                          [
                            1,
                            "#f0f921"
                          ]
                        ],
                        "type": "heatmapgl"
                      }
                    ],
                    "histogram": [
                      {
                        "marker": {
                          "pattern": {
                            "fillmode": "overlay",
                            "size": 10,
                            "solidity": 0.2
                          }
                        },
                        "type": "histogram"
                      }
                    ],
                    "histogram2d": [
                      {
                        "colorbar": {
                          "outlinewidth": 0,
                          "ticks": ""
                        },
                        "colorscale": [
                          [
                            0,
                            "#0d0887"
                          ],
                          [
                            0.1111111111111111,
                            "#46039f"
                          ],
                          [
                            0.2222222222222222,
                            "#7201a8"
                          ],
                          [
                            0.3333333333333333,
                            "#9c179e"
                          ],
                          [
                            0.4444444444444444,
                            "#bd3786"
                          ],
                          [
                            0.5555555555555556,
                            "#d8576b"
                          ],
                          [
                            0.6666666666666666,
                            "#ed7953"
                          ],
                          [
                            0.7777777777777778,
                            "#fb9f3a"
                          ],
                          [
                            0.8888888888888888,
                            "#fdca26"
                          ],
                          [
                            1,
                            "#f0f921"
                          ]
                        ],
                        "type": "histogram2d"
                      }
                    ],
                    "histogram2dcontour": [
                      {
                        "colorbar": {
                          "outlinewidth": 0,
                          "ticks": ""
                        },
                        "colorscale": [
                          [
                            0,
                            "#0d0887"
                          ],
                          [
                            0.1111111111111111,
                            "#46039f"
                          ],
                          [
                            0.2222222222222222,
                            "#7201a8"
                          ],
                          [
                            0.3333333333333333,
                            "#9c179e"
                          ],
                          [
                            0.4444444444444444,
                            "#bd3786"
                          ],
                          [
                            0.5555555555555556,
                            "#d8576b"
                          ],
                          [
                            0.6666666666666666,
                            "#ed7953"
                          ],
                          [
                            0.7777777777777778,
                            "#fb9f3a"
                          ],
                          [
                            0.8888888888888888,
                            "#fdca26"
                          ],
                          [
                            1,
                            "#f0f921"
                          ]
                        ],
                        "type": "histogram2dcontour"
                      }
                    ],
                    "mesh3d": [
                      {
                        "colorbar": {
                          "outlinewidth": 0,
                          "ticks": ""
                        },
                        "type": "mesh3d"
                      }
                    ],
                    "parcoords": [
                      {
                        "line": {
                          "colorbar": {
                            "outlinewidth": 0,
                            "ticks": ""
                          }
                        },
                        "type": "parcoords"
                      }
                    ],
                    "pie": [
                      {
                        "automargin": true,
                        "type": "pie"
                      }
                    ],
                    "scatter": [
                      {
                        "fillpattern": {
                          "fillmode": "overlay",
                          "size": 10,
                          "solidity": 0.2
                        },
                        "type": "scatter"
                      }
                    ],
                    "scatter3d": [
                      {
                        "line": {
                          "colorbar": {
                            "outlinewidth": 0,
                            "ticks": ""
                          }
                        },
                        "marker": {
                          "colorbar": {
                            "outlinewidth": 0,
                            "ticks": ""
                          }
                        },
                        "type": "scatter3d"
                      }
                    ],
                    "scattercarpet": [
                      {
                        "marker": {
                          "colorbar": {
                            "outlinewidth": 0,
                            "ticks": ""
                          }
                        },
                        "type": "scattercarpet"
                      }
                    ],
                    "scattergeo": [
                      {
                        "marker": {
                          "colorbar": {
                            "outlinewidth": 0,
                            "ticks": ""
                          }
                        },
                        "type": "scattergeo"
                      }
                    ],
                    "scattergl": [
                      {
                        "marker": {
                          "colorbar": {
                            "outlinewidth": 0,
                            "ticks": ""
                          }
                        },
                        "type": "scattergl"
                      }
                    ],
                    "scattermapbox": [
                      {
                        "marker": {
                          "colorbar": {
                            "outlinewidth": 0,
                            "ticks": ""
                          }
                        },
                        "type": "scattermapbox"
                      }
                    ],
                    "scatterpolar": [
                      {
                        "marker": {
                          "colorbar": {
                            "outlinewidth": 0,
                            "ticks": ""
                          }
                        },
                        "type": "scatterpolar"
                      }
                    ],
                    "scatterpolargl": [
                      {
                        "marker": {
                          "colorbar": {
                            "outlinewidth": 0,
                            "ticks": ""
                          }
                        },
                        "type": "scatterpolargl"
                      }
                    ],
                    "scatterternary": [
                      {
                        "marker": {
                          "colorbar": {
                            "outlinewidth": 0,
                            "ticks": ""
                          }
                        },
                        "type": "scatterternary"
                      }
                    ],
                    "surface": [
                      {
                        "colorbar": {
                          "outlinewidth": 0,
                          "ticks": ""
                        },
                        "colorscale": [
                          [
                            0,
                            "#0d0887"
                          ],
                          [
                            0.1111111111111111,
                            "#46039f"
                          ],
                          [
                            0.2222222222222222,
                            "#7201a8"
                          ],
                          [
                            0.3333333333333333,
                            "#9c179e"
                          ],
                          [
                            0.4444444444444444,
                            "#bd3786"
                          ],
                          [
                            0.5555555555555556,
                            "#d8576b"
                          ],
                          [
                            0.6666666666666666,
                            "#ed7953"
                          ],
                          [
                            0.7777777777777778,
                            "#fb9f3a"
                          ],
                          [
                            0.8888888888888888,
                            "#fdca26"
                          ],
                          [
                            1,
                            "#f0f921"
                          ]
                        ],
                        "type": "surface"
                      }
                    ],
                    "table": [
                      {
                        "cells": {
                          "fill": {
                            "color": "#EBF0F8"
                          },
                          "line": {
                            "color": "white"
                          }
                        },
                        "header": {
                          "fill": {
                            "color": "#C8D4E3"
                          },
                          "line": {
                            "color": "white"
                          }
                        },
                        "type": "table"
                      }
                    ]
                  },
                  "layout": {
                    "annotationdefaults": {
                      "arrowcolor": "#2a3f5f",
                      "arrowhead": 0,
                      "arrowwidth": 1
                    },
                    "autotypenumbers": "strict",
                    "coloraxis": {
                      "colorbar": {
                        "outlinewidth": 0,
                        "ticks": ""
                      }
                    },
                    "colorscale": {
                      "diverging": [
                        [
                          0,
                          "#8e0152"
                        ],
                        [
                          0.1,
                          "#c51b7d"
                        ],
                        [
                          0.2,
                          "#de77ae"
                        ],
                        [
                          0.3,
                          "#f1b6da"
                        ],
                        [
                          0.4,
                          "#fde0ef"
                        ],
                        [
                          0.5,
                          "#f7f7f7"
                        ],
                        [
                          0.6,
                          "#e6f5d0"
                        ],
                        [
                          0.7,
                          "#b8e186"
                        ],
                        [
                          0.8,
                          "#7fbc41"
                        ],
                        [
                          0.9,
                          "#4d9221"
                        ],
                        [
                          1,
                          "#276419"
                        ]
                      ],
                      "sequential": [
                        [
                          0,
                          "#0d0887"
                        ],
                        [
                          0.1111111111111111,
                          "#46039f"
                        ],
                        [
                          0.2222222222222222,
                          "#7201a8"
                        ],
                        [
                          0.3333333333333333,
                          "#9c179e"
                        ],
                        [
                          0.4444444444444444,
                          "#bd3786"
                        ],
                        [
                          0.5555555555555556,
                          "#d8576b"
                        ],
                        [
                          0.6666666666666666,
                          "#ed7953"
                        ],
                        [
                          0.7777777777777778,
                          "#fb9f3a"
                        ],
                        [
                          0.8888888888888888,
                          "#fdca26"
                        ],
                        [
                          1,
                          "#f0f921"
                        ]
                      ],
                      "sequentialminus": [
                        [
                          0,
                          "#0d0887"
                        ],
                        [
                          0.1111111111111111,
                          "#46039f"
                        ],
                        [
                          0.2222222222222222,
                          "#7201a8"
                        ],
                        [
                          0.3333333333333333,
                          "#9c179e"
                        ],
                        [
                          0.4444444444444444,
                          "#bd3786"
                        ],
                        [
                          0.5555555555555556,
                          "#d8576b"
                        ],
                        [
                          0.6666666666666666,
                          "#ed7953"
                        ],
                        [
                          0.7777777777777778,
                          "#fb9f3a"
                        ],
                        [
                          0.8888888888888888,
                          "#fdca26"
                        ],
                        [
                          1,
                          "#f0f921"
                        ]
                      ]
                    },
                    "colorway": [
                      "#636efa",
                      "#EF553B",
                      "#00cc96",
                      "#ab63fa",
                      "#FFA15A",
                      "#19d3f3",
                      "#FF6692",
                      "#B6E880",
                      "#FF97FF",
                      "#FECB52"
                    ],
                    "font": {
                      "color": "#2a3f5f"
                    },
                    "geo": {
                      "bgcolor": "white",
                      "lakecolor": "white",
                      "landcolor": "#E5ECF6",
                      "showlakes": true,
                      "showland": true,
                      "subunitcolor": "white"
                    },
                    "hoverlabel": {
                      "align": "left"
                    },
                    "hovermode": "closest",
                    "mapbox": {
                      "style": "light"
                    },
                    "paper_bgcolor": "white",
                    "plot_bgcolor": "#E5ECF6",
                    "polar": {
                      "angularaxis": {
                        "gridcolor": "white",
                        "linecolor": "white",
                        "ticks": ""
                      },
                      "bgcolor": "#E5ECF6",
                      "radialaxis": {
                        "gridcolor": "white",
                        "linecolor": "white",
                        "ticks": ""
                      }
                    },
                    "scene": {
                      "xaxis": {
                        "backgroundcolor": "#E5ECF6",
                        "gridcolor": "white",
                        "gridwidth": 2,
                        "linecolor": "white",
                        "showbackground": true,
                        "ticks": "",
                        "zerolinecolor": "white"
                      },
                      "yaxis": {
                        "backgroundcolor": "#E5ECF6",
                        "gridcolor": "white",
                        "gridwidth": 2,
                        "linecolor": "white",
                        "showbackground": true,
                        "ticks": "",
                        "zerolinecolor": "white"
                      },
                      "zaxis": {
                        "backgroundcolor": "#E5ECF6",
                        "gridcolor": "white",
                        "gridwidth": 2,
                        "linecolor": "white",
                        "showbackground": true,
                        "ticks": "",
                        "zerolinecolor": "white"
                      }
                    },
                    "shapedefaults": {
                      "line": {
                        "color": "#2a3f5f"
                      }
                    },
                    "ternary": {
                      "aaxis": {
                        "gridcolor": "white",
                        "linecolor": "white",
                        "ticks": ""
                      },
                      "baxis": {
                        "gridcolor": "white",
                        "linecolor": "white",
                        "ticks": ""
                      },
                      "bgcolor": "#E5ECF6",
                      "caxis": {
                        "gridcolor": "white",
                        "linecolor": "white",
                        "ticks": ""
                      }
                    },
                    "title": {
                      "x": 0.05
                    },
                    "xaxis": {
                      "automargin": true,
                      "gridcolor": "white",
                      "linecolor": "white",
                      "ticks": "",
                      "title": {
                        "standoff": 15
                      },
                      "zerolinecolor": "white",
                      "zerolinewidth": 2
                    },
                    "yaxis": {
                      "automargin": true,
                      "gridcolor": "white",
                      "linecolor": "white",
                      "ticks": "",
                      "title": {
                        "standoff": 15
                      },
                      "zerolinecolor": "white",
                      "zerolinewidth": 2
                    }
                  }
                },
                "title": {
                  "text": "Genre Distribution"
                },
                "xaxis": {
                  "anchor": "y",
                  "categoryarray": [
                    "documentary",
                    "drama",
                    "comedy",
                    "other",
                    "thriller",
                    "horror",
                    "tv-show",
                    "action",
                    "adventure",
                    "romance",
                    "sci-fi",
                    "adult"
                  ],
                  "categoryorder": "array",
                  "domain": [
                    0,
                    1
                  ],
                  "title": {
                    "text": "Genre"
                  }
                },
                "yaxis": {
                  "anchor": "x",
                  "domain": [
                    0,
                    1
                  ],
                  "title": {
                    "text": "Count"
                  }
                }
              }
            }
          },
          "metadata": {},
          "output_type": "display_data"
        }
      ],
      "source": [
        "genre = train_df['Genre'].value_counts()\n",
        "fig = px.bar(genre, x=genre.index, y=genre, title='Genre Distribution', color=genre.index)\n",
        "fig.update_layout(xaxis_title='Genre', yaxis_title='Count')\n",
        "fig.show()"
      ]
    },
    {
      "cell_type": "markdown",
      "metadata": {
        "id": "_HWQj3n-Ui8c"
      },
      "source": [
        "### Vectorize"
      ]
    },
    {
      "cell_type": "code",
      "execution_count": 55,
      "metadata": {
        "id": "SNFr2YLnJtxW"
      },
      "outputs": [],
      "source": [
        "# Using unigrams, bigrams and trigrams(ngram_range) and 6000 features\n",
        "tfidf_vectorizer = TfidfVectorizer(min_df=2, max_df=0.95, ngram_range=(1, 3), max_features=6000)"
      ]
    },
    {
      "cell_type": "code",
      "execution_count": 56,
      "metadata": {
        "id": "AWrHWQaIUnaF"
      },
      "outputs": [],
      "source": [
        "tfidf_matrix = tfidf_vectorizer.fit_transform(train_df.description_cleaned)"
      ]
    },
    {
      "cell_type": "code",
      "execution_count": 57,
      "metadata": {
        "colab": {
          "base_uri": "https://localhost:8080/"
        },
        "id": "Cvdi_jQ7UoMR",
        "outputId": "62b8a642-41dc-41b1-a39e-25207bb6ba5c"
      },
      "outputs": [
        {
          "data": {
            "text/plain": [
              "array(['aaron', 'abandon', 'abandoned', ..., 'zombie', 'zone', 'zoo'],\n",
              "      dtype=object)"
            ]
          },
          "execution_count": 57,
          "metadata": {},
          "output_type": "execute_result"
        }
      ],
      "source": [
        "tfidf_vectorizer.get_feature_names_out()"
      ]
    },
    {
      "cell_type": "code",
      "execution_count": 58,
      "metadata": {
        "id": "aysIIS8JUrx-"
      },
      "outputs": [],
      "source": [
        "train_tfidf_df = pd.DataFrame(tfidf_matrix.toarray(), columns=tfidf_vectorizer.get_feature_names_out())"
      ]
    },
    {
      "cell_type": "code",
      "execution_count": 59,
      "metadata": {},
      "outputs": [
        {
          "data": {
            "text/html": [
              "<div>\n",
              "<style scoped>\n",
              "    .dataframe tbody tr th:only-of-type {\n",
              "        vertical-align: middle;\n",
              "    }\n",
              "\n",
              "    .dataframe tbody tr th {\n",
              "        vertical-align: top;\n",
              "    }\n",
              "\n",
              "    .dataframe thead th {\n",
              "        text-align: right;\n",
              "    }\n",
              "</style>\n",
              "<table border=\"1\" class=\"dataframe\">\n",
              "  <thead>\n",
              "    <tr style=\"text-align: right;\">\n",
              "      <th></th>\n",
              "      <th>Genre</th>\n",
              "      <th>description_cleaned</th>\n",
              "    </tr>\n",
              "  </thead>\n",
              "  <tbody>\n",
              "    <tr>\n",
              "      <th>0</th>\n",
              "      <td>drama</td>\n",
              "      <td>listen conversation doctor parent oscar learn ...</td>\n",
              "    </tr>\n",
              "  </tbody>\n",
              "</table>\n",
              "</div>"
            ],
            "text/plain": [
              "   Genre                                description_cleaned\n",
              "0  drama  listen conversation doctor parent oscar learn ..."
            ]
          },
          "execution_count": 59,
          "metadata": {},
          "output_type": "execute_result"
        }
      ],
      "source": [
        "train_df[:1]"
      ]
    },
    {
      "cell_type": "code",
      "execution_count": 60,
      "metadata": {},
      "outputs": [
        {
          "data": {
            "text/html": [
              "<div>\n",
              "<style scoped>\n",
              "    .dataframe tbody tr th:only-of-type {\n",
              "        vertical-align: middle;\n",
              "    }\n",
              "\n",
              "    .dataframe tbody tr th {\n",
              "        vertical-align: top;\n",
              "    }\n",
              "\n",
              "    .dataframe thead th {\n",
              "        text-align: right;\n",
              "    }\n",
              "</style>\n",
              "<table border=\"1\" class=\"dataframe\">\n",
              "  <thead>\n",
              "    <tr style=\"text-align: right;\">\n",
              "      <th></th>\n",
              "      <th>aaron</th>\n",
              "      <th>abandon</th>\n",
              "      <th>abandoned</th>\n",
              "      <th>abc</th>\n",
              "      <th>abduct</th>\n",
              "      <th>abduction</th>\n",
              "      <th>ability</th>\n",
              "      <th>able</th>\n",
              "      <th>aboard</th>\n",
              "      <th>aboriginal</th>\n",
              "      <th>abortion</th>\n",
              "      <th>abroad</th>\n",
              "      <th>absence</th>\n",
              "      <th>absent</th>\n",
              "      <th>absolute</th>\n",
              "      <th>absolutely</th>\n",
              "      <th>abstract</th>\n",
              "      <th>absurd</th>\n",
              "      <th>abuse</th>\n",
              "      <th>abusive</th>\n",
              "      <th>academic</th>\n",
              "      <th>academy</th>\n",
              "      <th>accept</th>\n",
              "      <th>acceptance</th>\n",
              "      <th>access</th>\n",
              "      <th>accident</th>\n",
              "      <th>accidental</th>\n",
              "      <th>accidentally</th>\n",
              "      <th>acclaim</th>\n",
              "      <th>acclaimed</th>\n",
              "      <th>accompany</th>\n",
              "      <th>accomplish</th>\n",
              "      <th>accord</th>\n",
              "      <th>account</th>\n",
              "      <th>accountant</th>\n",
              "      <th>accuse</th>\n",
              "      <th>ace</th>\n",
              "      <th>achieve</th>\n",
              "      <th>achievement</th>\n",
              "      <th>acknowledge</th>\n",
              "      <th>acquaintance</th>\n",
              "      <th>acquire</th>\n",
              "      <th>across</th>\n",
              "      <th>across country</th>\n",
              "      <th>act</th>\n",
              "      <th>acting</th>\n",
              "      <th>action</th>\n",
              "      <th>active</th>\n",
              "      <th>activism</th>\n",
              "      <th>activist</th>\n",
              "      <th>activity</th>\n",
              "      <th>actor</th>\n",
              "      <th>actress</th>\n",
              "      <th>actual</th>\n",
              "      <th>actually</th>\n",
              "      <th>ad</th>\n",
              "      <th>adam</th>\n",
              "      <th>adapt</th>\n",
              "      <th>adaptation</th>\n",
              "      <th>add</th>\n",
              "      <th>addict</th>\n",
              "      <th>addiction</th>\n",
              "      <th>addition</th>\n",
              "      <th>additional</th>\n",
              "      <th>address</th>\n",
              "      <th>adjust</th>\n",
              "      <th>administration</th>\n",
              "      <th>admire</th>\n",
              "      <th>admirer</th>\n",
              "      <th>admit</th>\n",
              "      <th>adolescence</th>\n",
              "      <th>adolescent</th>\n",
              "      <th>adopt</th>\n",
              "      <th>adoption</th>\n",
              "      <th>adore</th>\n",
              "      <th>adrian</th>\n",
              "      <th>adult</th>\n",
              "      <th>adulthood</th>\n",
              "      <th>advance</th>\n",
              "      <th>advanced</th>\n",
              "      <th>advantage</th>\n",
              "      <th>adventure</th>\n",
              "      <th>adventurer</th>\n",
              "      <th>adventurous</th>\n",
              "      <th>adversity</th>\n",
              "      <th>advertising</th>\n",
              "      <th>advice</th>\n",
              "      <th>advise</th>\n",
              "      <th>advocate</th>\n",
              "      <th>aesthetic</th>\n",
              "      <th>affair</th>\n",
              "      <th>affect</th>\n",
              "      <th>affection</th>\n",
              "      <th>afford</th>\n",
              "      <th>afghanistan</th>\n",
              "      <th>afraid</th>\n",
              "      <th>africa</th>\n",
              "      <th>african</th>\n",
              "      <th>african american</th>\n",
              "      <th>aftermath</th>\n",
              "      <th>afternoon</th>\n",
              "      <th>afterwards</th>\n",
              "      <th>age</th>\n",
              "      <th>agency</th>\n",
              "      <th>agenda</th>\n",
              "      <th>agent</th>\n",
              "      <th>aggressive</th>\n",
              "      <th>agnes</th>\n",
              "      <th>ago</th>\n",
              "      <th>agree</th>\n",
              "      <th>agreement</th>\n",
              "      <th>agricultural</th>\n",
              "      <th>ahead</th>\n",
              "      <th>ai</th>\n",
              "      <th>aid</th>\n",
              "      <th>ail</th>\n",
              "      <th>aim</th>\n",
              "      <th>air</th>\n",
              "      <th>air force</th>\n",
              "      <th>aircraft</th>\n",
              "      <th>aire</th>\n",
              "      <th>airline</th>\n",
              "      <th>airplane</th>\n",
              "      <th>airport</th>\n",
              "      <th>ajay</th>\n",
              "      <th>aka</th>\n",
              "      <th>al</th>\n",
              "      <th>alabama</th>\n",
              "      <th>alan</th>\n",
              "      <th>alarm</th>\n",
              "      <th>alaska</th>\n",
              "      <th>albert</th>\n",
              "      <th>alberto</th>\n",
              "      <th>album</th>\n",
              "      <th>alcohol</th>\n",
              "      <th>alcoholic</th>\n",
              "      <th>alex</th>\n",
              "      <th>alexander</th>\n",
              "      <th>alexis</th>\n",
              "      <th>alfred</th>\n",
              "      <th>ali</th>\n",
              "      <th>alice</th>\n",
              "      <th>alien</th>\n",
              "      <th>alienate</th>\n",
              "      <th>alike</th>\n",
              "      <th>alison</th>\n",
              "      <th>alive</th>\n",
              "      <th>allan</th>\n",
              "      <th>allen</th>\n",
              "      <th>alley</th>\n",
              "      <th>alliance</th>\n",
              "      <th>allison</th>\n",
              "      <th>allow</th>\n",
              "      <th>ally</th>\n",
              "      <th>almost</th>\n",
              "      <th>alone</th>\n",
              "      <th>along</th>\n",
              "      <th>along way</th>\n",
              "      <th>alongside</th>\n",
              "      <th>already</th>\n",
              "      <th>also</th>\n",
              "      <th>also feature</th>\n",
              "      <th>also find</th>\n",
              "      <th>also get</th>\n",
              "      <th>also include</th>\n",
              "      <th>also know</th>\n",
              "      <th>also show</th>\n",
              "      <th>alter</th>\n",
              "      <th>alternate</th>\n",
              "      <th>alternative</th>\n",
              "      <th>although</th>\n",
              "      <th>always</th>\n",
              "      <th>alzheimer</th>\n",
              "      <th>amanda</th>\n",
              "      <th>amar</th>\n",
              "      <th>amateur</th>\n",
              "      <th>amaze</th>\n",
              "      <th>amazing</th>\n",
              "      <th>amazon</th>\n",
              "      <th>ambassador</th>\n",
              "      <th>amber</th>\n",
              "      <th>ambition</th>\n",
              "      <th>ambitious</th>\n",
              "      <th>ambush</th>\n",
              "      <th>america</th>\n",
              "      <th>american</th>\n",
              "      <th>american dream</th>\n",
              "      <th>amid</th>\n",
              "      <th>amidst</th>\n",
              "      <th>among</th>\n",
              "      <th>among others</th>\n",
              "      <th>amongst</th>\n",
              "      <th>amount</th>\n",
              "      <th>amsterdam</th>\n",
              "      <th>amuse</th>\n",
              "      <th>amy</th>\n",
              "      <th>ana</th>\n",
              "      <th>analysis</th>\n",
              "      <th>analyze</th>\n",
              "      <th>ancestor</th>\n",
              "      <th>ancestral</th>\n",
              "      <th>anchor</th>\n",
              "      <th>ancient</th>\n",
              "      <th>anderson</th>\n",
              "      <th>andrea</th>\n",
              "      <th>andrew</th>\n",
              "      <th>andy</th>\n",
              "      <th>angel</th>\n",
              "      <th>angela</th>\n",
              "      <th>angeles</th>\n",
              "      <th>angelo</th>\n",
              "      <th>anger</th>\n",
              "      <th>angle</th>\n",
              "      <th>angry</th>\n",
              "      <th>animal</th>\n",
              "      <th>animate</th>\n",
              "      <th>animated</th>\n",
              "      <th>animation</th>\n",
              "      <th>anita</th>\n",
              "      <th>ann</th>\n",
              "      <th>anna</th>\n",
              "      <th>anne</th>\n",
              "      <th>annie</th>\n",
              "      <th>anniversary</th>\n",
              "      <th>announce</th>\n",
              "      <th>annoy</th>\n",
              "      <th>annual</th>\n",
              "      <th>anonymous</th>\n",
              "      <th>another</th>\n",
              "      <th>another man</th>\n",
              "      <th>another woman</th>\n",
              "      <th>answer</th>\n",
              "      <th>answer question</th>\n",
              "      <th>anthology</th>\n",
              "      <th>anthony</th>\n",
              "      <th>antic</th>\n",
              "      <th>anticipate</th>\n",
              "      <th>antique</th>\n",
              "      <th>anton</th>\n",
              "      <th>antonio</th>\n",
              "      <th>anxiety</th>\n",
              "      <th>anybody</th>\n",
              "      <th>anymore</th>\n",
              "      <th>anyone</th>\n",
              "      <th>anything</th>\n",
              "      <th>anyway</th>\n",
              "      <th>anywhere</th>\n",
              "      <th>apart</th>\n",
              "      <th>apartment</th>\n",
              "      <th>apartment building</th>\n",
              "      <th>apocalypse</th>\n",
              "      <th>apparent</th>\n",
              "      <th>apparently</th>\n",
              "      <th>appeal</th>\n",
              "      <th>appear</th>\n",
              "      <th>appearance</th>\n",
              "      <th>apple</th>\n",
              "      <th>apply</th>\n",
              "      <th>appoint</th>\n",
              "      <th>appreciate</th>\n",
              "      <th>apprentice</th>\n",
              "      <th>approach</th>\n",
              "      <th>appropriate</th>\n",
              "      <th>approve</th>\n",
              "      <th>april</th>\n",
              "      <th>arab</th>\n",
              "      <th>archaeologist</th>\n",
              "      <th>architect</th>\n",
              "      <th>architecture</th>\n",
              "      <th>archival</th>\n",
              "      <th>archival footage</th>\n",
              "      <th>archive</th>\n",
              "      <th>archive footage</th>\n",
              "      <th>arctic</th>\n",
              "      <th>area</th>\n",
              "      <th>arena</th>\n",
              "      <th>argentina</th>\n",
              "      <th>argue</th>\n",
              "      <th>argument</th>\n",
              "      <th>arise</th>\n",
              "      <th>arizona</th>\n",
              "      <th>arjun</th>\n",
              "      <th>arm</th>\n",
              "      <th>armed</th>\n",
              "      <th>armenian</th>\n",
              "      <th>army</th>\n",
              "      <th>arnold</th>\n",
              "      <th>around</th>\n",
              "      <th>around globe</th>\n",
              "      <th>around world</th>\n",
              "      <th>arrange</th>\n",
              "      <th>arrangement</th>\n",
              "      <th>array</th>\n",
              "      <th>arrest</th>\n",
              "      <th>arrival</th>\n",
              "      <th>arrive</th>\n",
              "      <th>arrives</th>\n",
              "      <th>arrogant</th>\n",
              "      <th>art</th>\n",
              "      <th>art form</th>\n",
              "      <th>arthur</th>\n",
              "      <th>article</th>\n",
              "      <th>artifact</th>\n",
              "      <th>artificial</th>\n",
              "      <th>artist</th>\n",
              "      <th>artistic</th>\n",
              "      <th>artwork</th>\n",
              "      <th>ash</th>\n",
              "      <th>ashley</th>\n",
              "      <th>asia</th>\n",
              "      <th>asian</th>\n",
              "      <th>aside</th>\n",
              "      <th>ask</th>\n",
              "      <th>ask question</th>\n",
              "      <th>asleep</th>\n",
              "      <th>aspect</th>\n",
              "      <th>aspiration</th>\n",
              "      <th>aspire</th>\n",
              "      <th>aspiring</th>\n",
              "      <th>assassin</th>\n",
              "      <th>assassinate</th>\n",
              "      <th>assassination</th>\n",
              "      <th>assault</th>\n",
              "      <th>assemble</th>\n",
              "      <th>assign</th>\n",
              "      <th>assignment</th>\n",
              "      <th>assist</th>\n",
              "      <th>assistance</th>\n",
              "      <th>assistant</th>\n",
              "      <th>associate</th>\n",
              "      <th>association</th>\n",
              "      <th>assume</th>\n",
              "      <th>astronaut</th>\n",
              "      <th>asylum</th>\n",
              "      <th>athens</th>\n",
              "      <th>athlete</th>\n",
              "      <th>atlanta</th>\n",
              "      <th>atlantic</th>\n",
              "      <th>atmosphere</th>\n",
              "      <th>attach</th>\n",
              "      <th>attack</th>\n",
              "      <th>attempt</th>\n",
              "      <th>attempt find</th>\n",
              "      <th>attempt make</th>\n",
              "      <th>attend</th>\n",
              "      <th>attendant</th>\n",
              "      <th>attention</th>\n",
              "      <th>attitude</th>\n",
              "      <th>attorney</th>\n",
              "      <th>attract</th>\n",
              "      <th>attraction</th>\n",
              "      <th>attractive</th>\n",
              "      <th>au</th>\n",
              "      <th>auction</th>\n",
              "      <th>audience</th>\n",
              "      <th>audio</th>\n",
              "      <th>audition</th>\n",
              "      <th>august</th>\n",
              "      <th>aunt</th>\n",
              "      <th>austin</th>\n",
              "      <th>australia</th>\n",
              "      <th>australian</th>\n",
              "      <th>austria</th>\n",
              "      <th>austrian</th>\n",
              "      <th>authentic</th>\n",
              "      <th>author</th>\n",
              "      <th>authority</th>\n",
              "      <th>autism</th>\n",
              "      <th>auto</th>\n",
              "      <th>automobile</th>\n",
              "      <th>autumn</th>\n",
              "      <th>available</th>\n",
              "      <th>avenge</th>\n",
              "      <th>average</th>\n",
              "      <th>avoid</th>\n",
              "      <th>await</th>\n",
              "      <th>awake</th>\n",
              "      <th>awaken</th>\n",
              "      <th>awakening</th>\n",
              "      <th>award</th>\n",
              "      <th>award win</th>\n",
              "      <th>aware</th>\n",
              "      <th>awareness</th>\n",
              "      <th>away</th>\n",
              "      <th>away home</th>\n",
              "      <th>awkward</th>\n",
              "      <th>awry</th>\n",
              "      <th>az</th>\n",
              "      <th>babe</th>\n",
              "      <th>baby</th>\n",
              "      <th>bachelor</th>\n",
              "      <th>back</th>\n",
              "      <th>back home</th>\n",
              "      <th>back life</th>\n",
              "      <th>back time</th>\n",
              "      <th>back together</th>\n",
              "      <th>backdrop</th>\n",
              "      <th>background</th>\n",
              "      <th>backstage</th>\n",
              "      <th>backyard</th>\n",
              "      <th>bad</th>\n",
              "      <th>bad guy</th>\n",
              "      <th>badly</th>\n",
              "      <th>bag</th>\n",
              "      <th>bailey</th>\n",
              "      <th>baker</th>\n",
              "      <th>balance</th>\n",
              "      <th>ball</th>\n",
              "      <th>ballet</th>\n",
              "      <th>baltimore</th>\n",
              "      <th>ban</th>\n",
              "      <th>band</th>\n",
              "      <th>bandit</th>\n",
              "      <th>bang</th>\n",
              "      <th>bank</th>\n",
              "      <th>banker</th>\n",
              "      <th>bar</th>\n",
              "      <th>barbara</th>\n",
              "      <th>barber</th>\n",
              "      <th>barcelona</th>\n",
              "      <th>bare</th>\n",
              "      <th>barely</th>\n",
              "      <th>bargain</th>\n",
              "      <th>barn</th>\n",
              "      <th>barney</th>\n",
              "      <th>baron</th>\n",
              "      <th>barrier</th>\n",
              "      <th>barry</th>\n",
              "      <th>bartender</th>\n",
              "      <th>base</th>\n",
              "      <th>base true</th>\n",
              "      <th>base true story</th>\n",
              "      <th>baseball</th>\n",
              "      <th>basement</th>\n",
              "      <th>basic</th>\n",
              "      <th>basis</th>\n",
              "      <th>basketball</th>\n",
              "      <th>bass</th>\n",
              "      <th>bat</th>\n",
              "      <th>bath</th>\n",
              "      <th>bathroom</th>\n",
              "      <th>battle</th>\n",
              "      <th>battlefield</th>\n",
              "      <th>bay</th>\n",
              "      <th>bbc</th>\n",
              "      <th>beach</th>\n",
              "      <th>bear</th>\n",
              "      <th>beast</th>\n",
              "      <th>beat</th>\n",
              "      <th>beautiful</th>\n",
              "      <th>beautiful girl</th>\n",
              "      <th>beautiful woman</th>\n",
              "      <th>beautiful young</th>\n",
              "      <th>beautifully</th>\n",
              "      <th>beauty</th>\n",
              "      <th>become</th>\n",
              "      <th>become clear</th>\n",
              "      <th>become famous</th>\n",
              "      <th>become first</th>\n",
              "      <th>become friend</th>\n",
              "      <th>become increasingly</th>\n",
              "      <th>become involve</th>\n",
              "      <th>become one</th>\n",
              "      <th>become part</th>\n",
              "      <th>becomes</th>\n",
              "      <th>bed</th>\n",
              "      <th>bedroom</th>\n",
              "      <th>bee</th>\n",
              "      <th>beer</th>\n",
              "      <th>befriend</th>\n",
              "      <th>beg</th>\n",
              "      <th>begin</th>\n",
              "      <th>beginning</th>\n",
              "      <th>behave</th>\n",
              "      <th>behavior</th>\n",
              "      <th>behaviour</th>\n",
              "      <th>behind</th>\n",
              "      <th>behind scene</th>\n",
              "      <th>beijing</th>\n",
              "      <th>being</th>\n",
              "      <th>belgium</th>\n",
              "      <th>belief</th>\n",
              "      <th>believe</th>\n",
              "      <th>bell</th>\n",
              "      <th>belle</th>\n",
              "      <th>belong</th>\n",
              "      <th>belonging</th>\n",
              "      <th>beloved</th>\n",
              "      <th>belt</th>\n",
              "      <th>ben</th>\n",
              "      <th>bend</th>\n",
              "      <th>beneath</th>\n",
              "      <th>benefit</th>\n",
              "      <th>benjamin</th>\n",
              "      <th>bennett</th>\n",
              "      <th>benny</th>\n",
              "      <th>bent</th>\n",
              "      <th>berlin</th>\n",
              "      <th>bernard</th>\n",
              "      <th>besides</th>\n",
              "      <th>best</th>\n",
              "      <th>best friend</th>\n",
              "      <th>bet</th>\n",
              "      <th>beth</th>\n",
              "      <th>betray</th>\n",
              "      <th>betrayal</th>\n",
              "      <th>better</th>\n",
              "      <th>betty</th>\n",
              "      <th>beverly</th>\n",
              "      <th>beyond</th>\n",
              "      <th>bible</th>\n",
              "      <th>biblical</th>\n",
              "      <th>bicycle</th>\n",
              "      <th>bid</th>\n",
              "      <th>big</th>\n",
              "      <th>big city</th>\n",
              "      <th>bigfoot</th>\n",
              "      <th>bike</th>\n",
              "      <th>biker</th>\n",
              "      <th>bill</th>\n",
              "      <th>billion</th>\n",
              "      <th>billy</th>\n",
              "      <th>bind</th>\n",
              "      <th>biography</th>\n",
              "      <th>biological</th>\n",
              "      <th>bird</th>\n",
              "      <th>birth</th>\n",
              "      <th>birthday</th>\n",
              "      <th>birthday party</th>\n",
              "      <th>bishop</th>\n",
              "      <th>bit</th>\n",
              "      <th>bite</th>\n",
              "      <th>bitter</th>\n",
              "      <th>bizarre</th>\n",
              "      <th>black</th>\n",
              "      <th>black white</th>\n",
              "      <th>blackmail</th>\n",
              "      <th>blake</th>\n",
              "      <th>blame</th>\n",
              "      <th>blast</th>\n",
              "      <th>blend</th>\n",
              "      <th>bless</th>\n",
              "      <th>blessing</th>\n",
              "      <th>blind</th>\n",
              "      <th>block</th>\n",
              "      <th>blonde</th>\n",
              "      <th>blood</th>\n",
              "      <th>bloody</th>\n",
              "      <th>blossom</th>\n",
              "      <th>blow</th>\n",
              "      <th>blue</th>\n",
              "      <th>blur</th>\n",
              "      <th>board</th>\n",
              "      <th>boarding</th>\n",
              "      <th>boat</th>\n",
              "      <th>bob</th>\n",
              "      <th>bobby</th>\n",
              "      <th>body</th>\n",
              "      <th>bodyguard</th>\n",
              "      <th>bold</th>\n",
              "      <th>bomb</th>\n",
              "      <th>bombay</th>\n",
              "      <th>bomber</th>\n",
              "      <th>bombing</th>\n",
              "      <th>bond</th>\n",
              "      <th>bondage</th>\n",
              "      <th>bone</th>\n",
              "      <th>bonnie</th>\n",
              "      <th>bonus</th>\n",
              "      <th>book</th>\n",
              "      <th>boom</th>\n",
              "      <th>boot</th>\n",
              "      <th>border</th>\n",
              "      <th>bore</th>\n",
              "      <th>boring</th>\n",
              "      <th>boris</th>\n",
              "      <th>born</th>\n",
              "      <th>borrow</th>\n",
              "      <th>bos</th>\n",
              "      <th>boss</th>\n",
              "      <th>boston</th>\n",
              "      <th>bottle</th>\n",
              "      <th>bottom</th>\n",
              "      <th>bound</th>\n",
              "      <th>bound gag</th>\n",
              "      <th>boundary</th>\n",
              "      <th>bounty</th>\n",
              "      <th>bow</th>\n",
              "      <th>bowl</th>\n",
              "      <th>box</th>\n",
              "      <th>boxer</th>\n",
              "      <th>boxing</th>\n",
              "      <th>boy</th>\n",
              "      <th>boy name</th>\n",
              "      <th>boyfriend</th>\n",
              "      <th>brad</th>\n",
              "      <th>bradley</th>\n",
              "      <th>brain</th>\n",
              "      <th>branch</th>\n",
              "      <th>brand</th>\n",
              "      <th>brand new</th>\n",
              "      <th>brandon</th>\n",
              "      <th>brave</th>\n",
              "      <th>brazil</th>\n",
              "      <th>brazilian</th>\n",
              "      <th>bread</th>\n",
              "      <th>break</th>\n",
              "      <th>breakdown</th>\n",
              "      <th>breakfast</th>\n",
              "      <th>breaking</th>\n",
              "      <th>breakthrough</th>\n",
              "      <th>breast</th>\n",
              "      <th>breath</th>\n",
              "      <th>breathe</th>\n",
              "      <th>breathtaking</th>\n",
              "      <th>breed</th>\n",
              "      <th>brian</th>\n",
              "      <th>bribe</th>\n",
              "      <th>brick</th>\n",
              "      <th>bride</th>\n",
              "      <th>bridge</th>\n",
              "      <th>brief</th>\n",
              "      <th>bright</th>\n",
              "      <th>brilliant</th>\n",
              "      <th>bring</th>\n",
              "      <th>bring back</th>\n",
              "      <th>bring home</th>\n",
              "      <th>bring life</th>\n",
              "      <th>bring together</th>\n",
              "      <th>brings</th>\n",
              "      <th>brink</th>\n",
              "      <th>britain</th>\n",
              "      <th>british</th>\n",
              "      <th>broad</th>\n",
              "      <th>broadcast</th>\n",
              "      <th>broadway</th>\n",
              "      <th>broken</th>\n",
              "      <th>broker</th>\n",
              "      <th>brook</th>\n",
              "      <th>brooklyn</th>\n",
              "      <th>brothel</th>\n",
              "      <th>brother</th>\n",
              "      <th>brother sister</th>\n",
              "      <th>brown</th>\n",
              "      <th>bruce</th>\n",
              "      <th>bruno</th>\n",
              "      <th>brutal</th>\n",
              "      <th>brutality</th>\n",
              "      <th>brutally</th>\n",
              "      <th>bubble</th>\n",
              "      <th>buck</th>\n",
              "      <th>bud</th>\n",
              "      <th>buddhist</th>\n",
              "      <th>buddy</th>\n",
              "      <th>budget</th>\n",
              "      <th>buenos</th>\n",
              "      <th>buenos aire</th>\n",
              "      <th>buffalo</th>\n",
              "      <th>build</th>\n",
              "      <th>build new</th>\n",
              "      <th>builder</th>\n",
              "      <th>building</th>\n",
              "      <th>bulgaria</th>\n",
              "      <th>bulgarian</th>\n",
              "      <th>bull</th>\n",
              "      <th>bullet</th>\n",
              "      <th>bully</th>\n",
              "      <th>bump</th>\n",
              "      <th>bunch</th>\n",
              "      <th>burden</th>\n",
              "      <th>burglar</th>\n",
              "      <th>burke</th>\n",
              "      <th>burn</th>\n",
              "      <th>burning</th>\n",
              "      <th>burst</th>\n",
              "      <th>bury</th>\n",
              "      <th>bus</th>\n",
              "      <th>bush</th>\n",
              "      <th>business</th>\n",
              "      <th>business partner</th>\n",
              "      <th>businessman</th>\n",
              "      <th>bust</th>\n",
              "      <th>busy</th>\n",
              "      <th>butcher</th>\n",
              "      <th>butler</th>\n",
              "      <th>butterfly</th>\n",
              "      <th>buxom</th>\n",
              "      <th>buy</th>\n",
              "      <th>ca</th>\n",
              "      <th>ca get</th>\n",
              "      <th>cab</th>\n",
              "      <th>cabaret</th>\n",
              "      <th>cabin</th>\n",
              "      <th>cable</th>\n",
              "      <th>cafe</th>\n",
              "      <th>café</th>\n",
              "      <th>cage</th>\n",
              "      <th>cake</th>\n",
              "      <th>california</th>\n",
              "      <th>call</th>\n",
              "      <th>calm</th>\n",
              "      <th>camera</th>\n",
              "      <th>cameraman</th>\n",
              "      <th>cameron</th>\n",
              "      <th>camp</th>\n",
              "      <th>campaign</th>\n",
              "      <th>campbell</th>\n",
              "      <th>campus</th>\n",
              "      <th>canada</th>\n",
              "      <th>canadian</th>\n",
              "      <th>cancel</th>\n",
              "      <th>cancer</th>\n",
              "      <th>candid</th>\n",
              "      <th>candidate</th>\n",
              "      <th>candy</th>\n",
              "      <th>canvas</th>\n",
              "      <th>canyon</th>\n",
              "      <th>capable</th>\n",
              "      <th>cape</th>\n",
              "      <th>capital</th>\n",
              "      <th>captain</th>\n",
              "      <th>captivate</th>\n",
              "      <th>captive</th>\n",
              "      <th>capture</th>\n",
              "      <th>car</th>\n",
              "      <th>car accident</th>\n",
              "      <th>car crash</th>\n",
              "      <th>card</th>\n",
              "      <th>care</th>\n",
              "      <th>career</th>\n",
              "      <th>carefree</th>\n",
              "      <th>carefully</th>\n",
              "      <th>caretaker</th>\n",
              "      <th>cargo</th>\n",
              "      <th>caribbean</th>\n",
              "      <th>carl</th>\n",
              "      <th>carlo</th>\n",
              "      <th>carlos</th>\n",
              "      <th>carmen</th>\n",
              "      <th>carnival</th>\n",
              "      <th>carol</th>\n",
              "      <th>carolina</th>\n",
              "      <th>caroline</th>\n",
              "      <th>carpet</th>\n",
              "      <th>carrie</th>\n",
              "      <th>carry</th>\n",
              "      <th>carson</th>\n",
              "      <th>cartel</th>\n",
              "      <th>carter</th>\n",
              "      <th>cartoon</th>\n",
              "      <th>case</th>\n",
              "      <th>casey</th>\n",
              "      <th>cash</th>\n",
              "      <th>casino</th>\n",
              "      <th>cast</th>\n",
              "      <th>cast crew</th>\n",
              "      <th>casting</th>\n",
              "      <th>castle</th>\n",
              "      <th>casual</th>\n",
              "      <th>cat</th>\n",
              "      <th>catastrophe</th>\n",
              "      <th>catch</th>\n",
              "      <th>category</th>\n",
              "      <th>catherine</th>\n",
              "      <th>catholic</th>\n",
              "      <th>cattle</th>\n",
              "      <th>caught</th>\n",
              "      <th>cause</th>\n",
              "      <th>cave</th>\n",
              "      <th>ce</th>\n",
              "      <th>celebrate</th>\n",
              "      <th>celebrated</th>\n",
              "      <th>celebration</th>\n",
              "      <th>celebrity</th>\n",
              "      <th>cell</th>\n",
              "      <th>cemetery</th>\n",
              "      <th>center</th>\n",
              "      <th>center around</th>\n",
              "      <th>central</th>\n",
              "      <th>centre</th>\n",
              "      <th>century</th>\n",
              "      <th>ceo</th>\n",
              "      <th>ceremony</th>\n",
              "      <th>certain</th>\n",
              "      <th>certainly</th>\n",
              "      <th>chad</th>\n",
              "      <th>chain</th>\n",
              "      <th>chair</th>\n",
              "      <th>chairman</th>\n",
              "      <th>challenge</th>\n",
              "      <th>challenging</th>\n",
              "      <th>chamber</th>\n",
              "      <th>champion</th>\n",
              "      <th>championship</th>\n",
              "      <th>chance</th>\n",
              "      <th>chance encounter</th>\n",
              "      <th>change</th>\n",
              "      <th>change forever</th>\n",
              "      <th>change life</th>\n",
              "      <th>change life forever</th>\n",
              "      <th>change mind</th>\n",
              "      <th>change way</th>\n",
              "      <th>change world</th>\n",
              "      <th>channel</th>\n",
              "      <th>chaos</th>\n",
              "      <th>chaotic</th>\n",
              "      <th>chapter</th>\n",
              "      <th>character</th>\n",
              "      <th>charge</th>\n",
              "      <th>charismatic</th>\n",
              "      <th>charity</th>\n",
              "      <th>charles</th>\n",
              "      <th>charlie</th>\n",
              "      <th>charlotte</th>\n",
              "      <th>charm</th>\n",
              "      <th>charming</th>\n",
              "      <th>chart</th>\n",
              "      <th>chase</th>\n",
              "      <th>chat</th>\n",
              "      <th>che</th>\n",
              "      <th>cheap</th>\n",
              "      <th>cheat</th>\n",
              "      <th>check</th>\n",
              "      <th>cheer</th>\n",
              "      <th>chef</th>\n",
              "      <th>chemical</th>\n",
              "      <th>chen</th>\n",
              "      <th>chicago</th>\n",
              "      <th>chick</th>\n",
              "      <th>chicken</th>\n",
              "      <th>chief</th>\n",
              "      <th>child</th>\n",
              "      <th>childhood</th>\n",
              "      <th>childhood friend</th>\n",
              "      <th>chile</th>\n",
              "      <th>chill</th>\n",
              "      <th>china</th>\n",
              "      <th>chinese</th>\n",
              "      <th>chip</th>\n",
              "      <th>chloe</th>\n",
              "      <th>chocolate</th>\n",
              "      <th>choice</th>\n",
              "      <th>choice make</th>\n",
              "      <th>choir</th>\n",
              "      <th>choose</th>\n",
              "      <th>choreographer</th>\n",
              "      <th>chosen</th>\n",
              "      <th>chris</th>\n",
              "      <th>christ</th>\n",
              "      <th>christian</th>\n",
              "      <th>christina</th>\n",
              "      <th>christine</th>\n",
              "      <th>christmas</th>\n",
              "      <th>christmas eve</th>\n",
              "      <th>christopher</th>\n",
              "      <th>chronicle</th>\n",
              "      <th>chuck</th>\n",
              "      <th>church</th>\n",
              "      <th>cia</th>\n",
              "      <th>cigarette</th>\n",
              "      <th>cindy</th>\n",
              "      <th>cinema</th>\n",
              "      <th>cinematic</th>\n",
              "      <th>cinematographer</th>\n",
              "      <th>cinematography</th>\n",
              "      <th>circle</th>\n",
              "      <th>circuit</th>\n",
              "      <th>circumstance</th>\n",
              "      <th>circus</th>\n",
              "      <th>citizen</th>\n",
              "      <th>city</th>\n",
              "      <th>civil</th>\n",
              "      <th>civil right</th>\n",
              "      <th>civil war</th>\n",
              "      <th>civilian</th>\n",
              "      <th>civilization</th>\n",
              "      <th>claim</th>\n",
              "      <th>claire</th>\n",
              "      <th>clan</th>\n",
              "      <th>clara</th>\n",
              "      <th>clark</th>\n",
              "      <th>clash</th>\n",
              "      <th>class</th>\n",
              "      <th>classic</th>\n",
              "      <th>classical</th>\n",
              "      <th>classmate</th>\n",
              "      <th>classroom</th>\n",
              "      <th>claude</th>\n",
              "      <th>claudia</th>\n",
              "      <th>clay</th>\n",
              "      <th>clean</th>\n",
              "      <th>clear</th>\n",
              "      <th>clearly</th>\n",
              "      <th>clerk</th>\n",
              "      <th>clever</th>\n",
              "      <th>client</th>\n",
              "      <th>cliff</th>\n",
              "      <th>climate</th>\n",
              "      <th>climate change</th>\n",
              "      <th>climax</th>\n",
              "      <th>climb</th>\n",
              "      <th>clinic</th>\n",
              "      <th>clip</th>\n",
              "      <th>clock</th>\n",
              "      <th>close</th>\n",
              "      <th>close friend</th>\n",
              "      <th>closed</th>\n",
              "      <th>closely</th>\n",
              "      <th>closer</th>\n",
              "      <th>closet</th>\n",
              "      <th>closing</th>\n",
              "      <th>closure</th>\n",
              "      <th>clothes</th>\n",
              "      <th>clothing</th>\n",
              "      <th>cloud</th>\n",
              "      <th>clown</th>\n",
              "      <th>club</th>\n",
              "      <th>clue</th>\n",
              "      <th>clutch</th>\n",
              "      <th>coach</th>\n",
              "      <th>coal</th>\n",
              "      <th>coast</th>\n",
              "      <th>coastal</th>\n",
              "      <th>coaster</th>\n",
              "      <th>cocaine</th>\n",
              "      <th>code</th>\n",
              "      <th>coffee</th>\n",
              "      <th>coin</th>\n",
              "      <th>coincidence</th>\n",
              "      <th>cold</th>\n",
              "      <th>cold war</th>\n",
              "      <th>cole</th>\n",
              "      <th>colin</th>\n",
              "      <th>collaborate</th>\n",
              "      <th>collaboration</th>\n",
              "      <th>collapse</th>\n",
              "      <th>colleague</th>\n",
              "      <th>collect</th>\n",
              "      <th>collection</th>\n",
              "      <th>collective</th>\n",
              "      <th>collector</th>\n",
              "      <th>college</th>\n",
              "      <th>college student</th>\n",
              "      <th>collide</th>\n",
              "      <th>collins</th>\n",
              "      <th>collision</th>\n",
              "      <th>colonel</th>\n",
              "      <th>colonial</th>\n",
              "      <th>colony</th>\n",
              "      <th>color</th>\n",
              "      <th>colorado</th>\n",
              "      <th>colorful</th>\n",
              "      <th>colour</th>\n",
              "      <th>columbia</th>\n",
              "      <th>coma</th>\n",
              "      <th>combat</th>\n",
              "      <th>combination</th>\n",
              "      <th>combine</th>\n",
              "      <th>come</th>\n",
              "      <th>come across</th>\n",
              "      <th>come age</th>\n",
              "      <th>come along</th>\n",
              "      <th>come back</th>\n",
              "      <th>come end</th>\n",
              "      <th>come face</th>\n",
              "      <th>come face face</th>\n",
              "      <th>come home</th>\n",
              "      <th>come know</th>\n",
              "      <th>come life</th>\n",
              "      <th>come term</th>\n",
              "      <th>come together</th>\n",
              "      <th>come true</th>\n",
              "      <th>comedian</th>\n",
              "      <th>comedic</th>\n",
              "      <th>comedy</th>\n",
              "      <th>comfort</th>\n",
              "      <th>comfortable</th>\n",
              "      <th>comic</th>\n",
              "      <th>comic book</th>\n",
              "      <th>comical</th>\n",
              "      <th>coming</th>\n",
              "      <th>command</th>\n",
              "      <th>commander</th>\n",
              "      <th>comment</th>\n",
              "      <th>commentary</th>\n",
              "      <th>commercial</th>\n",
              "      <th>commission</th>\n",
              "      <th>commissioner</th>\n",
              "      <th>commit</th>\n",
              "      <th>commit suicide</th>\n",
              "      <th>commitment</th>\n",
              "      <th>committee</th>\n",
              "      <th>common</th>\n",
              "      <th>communicate</th>\n",
              "      <th>communication</th>\n",
              "      <th>communist</th>\n",
              "      <th>community</th>\n",
              "      <th>companion</th>\n",
              "      <th>company</th>\n",
              "      <th>compare</th>\n",
              "      <th>compassion</th>\n",
              "      <th>compel</th>\n",
              "      <th>compelling</th>\n",
              "      <th>compete</th>\n",
              "      <th>competition</th>\n",
              "      <th>competitive</th>\n",
              "      <th>competitor</th>\n",
              "      <th>compilation</th>\n",
              "      <th>complete</th>\n",
              "      <th>completely</th>\n",
              "      <th>complex</th>\n",
              "      <th>complexity</th>\n",
              "      <th>complicate</th>\n",
              "      <th>complicated</th>\n",
              "      <th>complication</th>\n",
              "      <th>complication ensue</th>\n",
              "      <th>compose</th>\n",
              "      <th>composer</th>\n",
              "      <th>composition</th>\n",
              "      <th>comprehensive</th>\n",
              "      <th>comprise</th>\n",
              "      <th>compromise</th>\n",
              "      <th>computer</th>\n",
              "      <th>comrade</th>\n",
              "      <th>con</th>\n",
              "      <th>conceal</th>\n",
              "      <th>conceive</th>\n",
              "      <th>concentrate</th>\n",
              "      <th>concentration</th>\n",
              "      <th>concentration camp</th>\n",
              "      <th>concept</th>\n",
              "      <th>concern</th>\n",
              "      <th>concert</th>\n",
              "      <th>conclude</th>\n",
              "      <th>conclusion</th>\n",
              "      <th>concrete</th>\n",
              "      <th>condemn</th>\n",
              "      <th>condition</th>\n",
              "      <th>conduct</th>\n",
              "      <th>conference</th>\n",
              "      <th>confess</th>\n",
              "      <th>confession</th>\n",
              "      <th>confidence</th>\n",
              "      <th>confident</th>\n",
              "      <th>confine</th>\n",
              "      <th>confirm</th>\n",
              "      <th>conflict</th>\n",
              "      <th>confront</th>\n",
              "      <th>confrontation</th>\n",
              "      <th>confuse</th>\n",
              "      <th>confused</th>\n",
              "      <th>confusion</th>\n",
              "      <th>congress</th>\n",
              "      <th>connect</th>\n",
              "      <th>connection</th>\n",
              "      <th>conquer</th>\n",
              "      <th>conscience</th>\n",
              "      <th>conscious</th>\n",
              "      <th>consciousness</th>\n",
              "      <th>consent</th>\n",
              "      <th>consequence</th>\n",
              "      <th>conservation</th>\n",
              "      <th>conservative</th>\n",
              "      <th>consider</th>\n",
              "      <th>consist</th>\n",
              "      <th>conspiracy</th>\n",
              "      <th>conspire</th>\n",
              "      <th>constant</th>\n",
              "      <th>constantly</th>\n",
              "      <th>construct</th>\n",
              "      <th>construction</th>\n",
              "      <th>consume</th>\n",
              "      <th>consumer</th>\n",
              "      <th>contact</th>\n",
              "      <th>contain</th>\n",
              "      <th>contemplate</th>\n",
              "      <th>contemporary</th>\n",
              "      <th>content</th>\n",
              "      <th>contest</th>\n",
              "      <th>contestant</th>\n",
              "      <th>context</th>\n",
              "      <th>continent</th>\n",
              "      <th>continually</th>\n",
              "      <th>continue</th>\n",
              "      <th>contract</th>\n",
              "      <th>contradiction</th>\n",
              "      <th>contrast</th>\n",
              "      <th>contribute</th>\n",
              "      <th>contribution</th>\n",
              "      <th>control</th>\n",
              "      <th>controversial</th>\n",
              "      <th>controversy</th>\n",
              "      <th>convent</th>\n",
              "      <th>convention</th>\n",
              "      <th>conventional</th>\n",
              "      <th>converge</th>\n",
              "      <th>conversation</th>\n",
              "      <th>convert</th>\n",
              "      <th>convey</th>\n",
              "      <th>convict</th>\n",
              "      <th>conviction</th>\n",
              "      <th>convince</th>\n",
              "      <th>cook</th>\n",
              "      <th>cooking</th>\n",
              "      <th>cool</th>\n",
              "      <th>cooper</th>\n",
              "      <th>cop</th>\n",
              "      <th>cope</th>\n",
              "      <th>copy</th>\n",
              "      <th>core</th>\n",
              "      <th>corner</th>\n",
              "      <th>corp</th>\n",
              "      <th>corporate</th>\n",
              "      <th>corporation</th>\n",
              "      <th>corpse</th>\n",
              "      <th>correct</th>\n",
              "      <th>correspondent</th>\n",
              "      <th>corrupt</th>\n",
              "      <th>corruption</th>\n",
              "      <th>cost</th>\n",
              "      <th>costa</th>\n",
              "      <th>costume</th>\n",
              "      <th>cottage</th>\n",
              "      <th>couch</th>\n",
              "      <th>could</th>\n",
              "      <th>council</th>\n",
              "      <th>counselor</th>\n",
              "      <th>count</th>\n",
              "      <th>counter</th>\n",
              "      <th>countess</th>\n",
              "      <th>countless</th>\n",
              "      <th>country</th>\n",
              "      <th>country music</th>\n",
              "      <th>countryside</th>\n",
              "      <th>county</th>\n",
              "      <th>coup</th>\n",
              "      <th>couple</th>\n",
              "      <th>courage</th>\n",
              "      <th>courageous</th>\n",
              "      <th>course</th>\n",
              "      <th>court</th>\n",
              "      <th>cousin</th>\n",
              "      <th>cover</th>\n",
              "      <th>coverage</th>\n",
              "      <th>cow</th>\n",
              "      <th>cowboy</th>\n",
              "      <th>crack</th>\n",
              "      <th>craft</th>\n",
              "      <th>craig</th>\n",
              "      <th>crash</th>\n",
              "      <th>crazy</th>\n",
              "      <th>cream</th>\n",
              "      <th>create</th>\n",
              "      <th>create new</th>\n",
              "      <th>creation</th>\n",
              "      <th>creative</th>\n",
              "      <th>creative process</th>\n",
              "      <th>creativity</th>\n",
              "      <th>creator</th>\n",
              "      <th>creature</th>\n",
              "      <th>credit</th>\n",
              "      <th>creek</th>\n",
              "      <th>creepy</th>\n",
              "      <th>crew</th>\n",
              "      <th>crime</th>\n",
              "      <th>crime commit</th>\n",
              "      <th>criminal</th>\n",
              "      <th>cripple</th>\n",
              "      <th>crisis</th>\n",
              "      <th>critic</th>\n",
              "      <th>critical</th>\n",
              "      <th>critically</th>\n",
              "      <th>crook</th>\n",
              "      <th>crooked</th>\n",
              "      <th>crop</th>\n",
              "      <th>cross</th>\n",
              "      <th>cross path</th>\n",
              "      <th>crossroad</th>\n",
              "      <th>crowd</th>\n",
              "      <th>crown</th>\n",
              "      <th>crucial</th>\n",
              "      <th>cruel</th>\n",
              "      <th>cruelty</th>\n",
              "      <th>cruise</th>\n",
              "      <th>crumble</th>\n",
              "      <th>crush</th>\n",
              "      <th>cry</th>\n",
              "      <th>crystal</th>\n",
              "      <th>cuba</th>\n",
              "      <th>cuban</th>\n",
              "      <th>culinary</th>\n",
              "      <th>culminate</th>\n",
              "      <th>culprit</th>\n",
              "      <th>cult</th>\n",
              "      <th>cultural</th>\n",
              "      <th>culture</th>\n",
              "      <th>cunning</th>\n",
              "      <th>cup</th>\n",
              "      <th>cure</th>\n",
              "      <th>curiosity</th>\n",
              "      <th>curious</th>\n",
              "      <th>current</th>\n",
              "      <th>currently</th>\n",
              "      <th>curse</th>\n",
              "      <th>curtain</th>\n",
              "      <th>curtis</th>\n",
              "      <th>custody</th>\n",
              "      <th>custom</th>\n",
              "      <th>customer</th>\n",
              "      <th>cut</th>\n",
              "      <th>cute</th>\n",
              "      <th>cycle</th>\n",
              "      <th>cynical</th>\n",
              "      <th>czech</th>\n",
              "      <th>da</th>\n",
              "      <th>dad</th>\n",
              "      <th>daddy</th>\n",
              "      <th>daily</th>\n",
              "      <th>daily life</th>\n",
              "      <th>daily routine</th>\n",
              "      <th>daisy</th>\n",
              "      <th>dale</th>\n",
              "      <th>dallas</th>\n",
              "      <th>dam</th>\n",
              "      <th>damage</th>\n",
              "      <th>dan</th>\n",
              "      <th>dance</th>\n",
              "      <th>dancer</th>\n",
              "      <th>dancing</th>\n",
              "      <th>danger</th>\n",
              "      <th>dangerous</th>\n",
              "      <th>daniel</th>\n",
              "      <th>danish</th>\n",
              "      <th>danny</th>\n",
              "      <th>dans</th>\n",
              "      <th>dante</th>\n",
              "      <th>dare</th>\n",
              "      <th>dark</th>\n",
              "      <th>dark secret</th>\n",
              "      <th>dark side</th>\n",
              "      <th>darker</th>\n",
              "      <th>darkness</th>\n",
              "      <th>dash</th>\n",
              "      <th>data</th>\n",
              "      <th>date</th>\n",
              "      <th>dating</th>\n",
              "      <th>daughter</th>\n",
              "      <th>dave</th>\n",
              "      <th>david</th>\n",
              "      <th>davis</th>\n",
              "      <th>dawn</th>\n",
              "      <th>day</th>\n",
              "      <th>day day</th>\n",
              "      <th>day later</th>\n",
              "      <th>day life</th>\n",
              "      <th>day meet</th>\n",
              "      <th>day night</th>\n",
              "      <th>dc</th>\n",
              "      <th>de</th>\n",
              "      <th>de janeiro</th>\n",
              "      <th>de la</th>\n",
              "      <th>dead</th>\n",
              "      <th>dead body</th>\n",
              "      <th>deadly</th>\n",
              "      <th>deaf</th>\n",
              "      <th>deal</th>\n",
              "      <th>dealer</th>\n",
              "      <th>dean</th>\n",
              "      <th>dear</th>\n",
              "      <th>death</th>\n",
              "      <th>death father</th>\n",
              "      <th>debate</th>\n",
              "      <th>debbie</th>\n",
              "      <th>debt</th>\n",
              "      <th>debut</th>\n",
              "      <th>decade</th>\n",
              "      <th>decay</th>\n",
              "      <th>decease</th>\n",
              "      <th>deceased</th>\n",
              "      <th>deceit</th>\n",
              "      <th>december</th>\n",
              "      <th>decent</th>\n",
              "      <th>deception</th>\n",
              "      <th>decide</th>\n",
              "      <th>decide get</th>\n",
              "      <th>decide go</th>\n",
              "      <th>decide leave</th>\n",
              "      <th>decide make</th>\n",
              "      <th>decide stay</th>\n",
              "      <th>decide take</th>\n",
              "      <th>decide whether</th>\n",
              "      <th>decides</th>\n",
              "      <th>decision</th>\n",
              "      <th>declare</th>\n",
              "      <th>decline</th>\n",
              "      <th>dedicate</th>\n",
              "      <th>dedicated</th>\n",
              "      <th>dedication</th>\n",
              "      <th>deed</th>\n",
              "      <th>deep</th>\n",
              "      <th>deeper</th>\n",
              "      <th>deeply</th>\n",
              "      <th>defeat</th>\n",
              "      <th>defend</th>\n",
              "      <th>defense</th>\n",
              "      <th>define</th>\n",
              "      <th>definitely</th>\n",
              "      <th>definition</th>\n",
              "      <th>defy</th>\n",
              "      <th>degree</th>\n",
              "      <th>del</th>\n",
              "      <th>delay</th>\n",
              "      <th>delhi</th>\n",
              "      <th>delicate</th>\n",
              "      <th>delight</th>\n",
              "      <th>deliver</th>\n",
              "      <th>delivery</th>\n",
              "      <th>della</th>\n",
              "      <th>delta</th>\n",
              "      <th>delve</th>\n",
              "      <th>demand</th>\n",
              "      <th>demise</th>\n",
              "      <th>democracy</th>\n",
              "      <th>democratic</th>\n",
              "      <th>demon</th>\n",
              "      <th>demonic</th>\n",
              "      <th>demonstrate</th>\n",
              "      <th>demonstration</th>\n",
              "      <th>den</th>\n",
              "      <th>denial</th>\n",
              "      <th>denmark</th>\n",
              "      <th>dennis</th>\n",
              "      <th>deny</th>\n",
              "      <th>depart</th>\n",
              "      <th>department</th>\n",
              "      <th>departure</th>\n",
              "      <th>depend</th>\n",
              "      <th>dependent</th>\n",
              "      <th>depict</th>\n",
              "      <th>depiction</th>\n",
              "      <th>depressed</th>\n",
              "      <th>depression</th>\n",
              "      <th>depth</th>\n",
              "      <th>deputy</th>\n",
              "      <th>der</th>\n",
              "      <th>derek</th>\n",
              "      <th>descend</th>\n",
              "      <th>descendant</th>\n",
              "      <th>descent</th>\n",
              "      <th>describe</th>\n",
              "      <th>description</th>\n",
              "      <th>desert</th>\n",
              "      <th>deserted</th>\n",
              "      <th>deserve</th>\n",
              "      <th>design</th>\n",
              "      <th>designer</th>\n",
              "      <th>desire</th>\n",
              "      <th>desolate</th>\n",
              "      <th>despair</th>\n",
              "      <th>desperate</th>\n",
              "      <th>desperately</th>\n",
              "      <th>desperately try</th>\n",
              "      <th>desperation</th>\n",
              "      <th>despite</th>\n",
              "      <th>destination</th>\n",
              "      <th>destine</th>\n",
              "      <th>destiny</th>\n",
              "      <th>destroy</th>\n",
              "      <th>destruction</th>\n",
              "      <th>destructive</th>\n",
              "      <th>detail</th>\n",
              "      <th>detailed</th>\n",
              "      <th>detective</th>\n",
              "      <th>detention</th>\n",
              "      <th>determination</th>\n",
              "      <th>determine</th>\n",
              "      <th>determined</th>\n",
              "      <th>detroit</th>\n",
              "      <th>devastate</th>\n",
              "      <th>devastating</th>\n",
              "      <th>develop</th>\n",
              "      <th>developer</th>\n",
              "      <th>development</th>\n",
              "      <th>device</th>\n",
              "      <th>devil</th>\n",
              "      <th>devise</th>\n",
              "      <th>devote</th>\n",
              "      <th>devoted</th>\n",
              "      <th>devotion</th>\n",
              "      <th>di</th>\n",
              "      <th>diagnose</th>\n",
              "      <th>diagnosis</th>\n",
              "      <th>dialogue</th>\n",
              "      <th>diamond</th>\n",
              "      <th>diana</th>\n",
              "      <th>diane</th>\n",
              "      <th>diary</th>\n",
              "      <th>dick</th>\n",
              "      <th>dictator</th>\n",
              "      <th>dictatorship</th>\n",
              "      <th>die</th>\n",
              "      <th>diego</th>\n",
              "      <th>diet</th>\n",
              "      <th>difference</th>\n",
              "      <th>different</th>\n",
              "      <th>different people</th>\n",
              "      <th>different way</th>\n",
              "      <th>differently</th>\n",
              "      <th>difficult</th>\n",
              "      <th>difficulty</th>\n",
              "      <th>dig</th>\n",
              "      <th>digital</th>\n",
              "      <th>dignity</th>\n",
              "      <th>dilemma</th>\n",
              "      <th>dimension</th>\n",
              "      <th>diner</th>\n",
              "      <th>dinner</th>\n",
              "      <th>dinosaur</th>\n",
              "      <th>dire</th>\n",
              "      <th>direct</th>\n",
              "      <th>direction</th>\n",
              "      <th>directly</th>\n",
              "      <th>director</th>\n",
              "      <th>dirt</th>\n",
              "      <th>dirty</th>\n",
              "      <th>disability</th>\n",
              "      <th>disabled</th>\n",
              "      <th>disappear</th>\n",
              "      <th>disappearance</th>\n",
              "      <th>disappears</th>\n",
              "      <th>disappointment</th>\n",
              "      <th>disaster</th>\n",
              "      <th>disastrous</th>\n",
              "      <th>discipline</th>\n",
              "      <th>disclose</th>\n",
              "      <th>disco</th>\n",
              "      <th>discover</th>\n",
              "      <th>discover truth</th>\n",
              "      <th>discovers</th>\n",
              "      <th>discovery</th>\n",
              "      <th>discrimination</th>\n",
              "      <th>discuss</th>\n",
              "      <th>discussion</th>\n",
              "      <th>disease</th>\n",
              "      <th>disguise</th>\n",
              "      <th>dish</th>\n",
              "      <th>dislike</th>\n",
              "      <th>dismay</th>\n",
              "      <th>dismiss</th>\n",
              "      <th>disney</th>\n",
              "      <th>disorder</th>\n",
              "      <th>display</th>\n",
              "      <th>dispute</th>\n",
              "      <th>disrupt</th>\n",
              "      <th>distance</th>\n",
              "      <th>distant</th>\n",
              "      <th>distinct</th>\n",
              "      <th>distract</th>\n",
              "      <th>distraught</th>\n",
              "      <th>distress</th>\n",
              "      <th>distribute</th>\n",
              "      <th>distribution</th>\n",
              "      <th>district</th>\n",
              "      <th>disturb</th>\n",
              "      <th>disturbing</th>\n",
              "      <th>diva</th>\n",
              "      <th>dive</th>\n",
              "      <th>diver</th>\n",
              "      <th>diverse</th>\n",
              "      <th>diversity</th>\n",
              "      <th>divide</th>\n",
              "      <th>divine</th>\n",
              "      <th>division</th>\n",
              "      <th>divorce</th>\n",
              "      <th>dj</th>\n",
              "      <th>dna</th>\n",
              "      <th>do</th>\n",
              "      <th>doc</th>\n",
              "      <th>doctor</th>\n",
              "      <th>document</th>\n",
              "      <th>documentary</th>\n",
              "      <th>documentary explore</th>\n",
              "      <th>documentary feature</th>\n",
              "      <th>documentary film</th>\n",
              "      <th>documentary filmmaker</th>\n",
              "      <th>documentary follow</th>\n",
              "      <th>documentary series</th>\n",
              "      <th>documentary show</th>\n",
              "      <th>documentary take</th>\n",
              "      <th>documentary tell</th>\n",
              "      <th>documentary tell story</th>\n",
              "      <th>dodge</th>\n",
              "      <th>dog</th>\n",
              "      <th>doll</th>\n",
              "      <th>dollar</th>\n",
              "      <th>domestic</th>\n",
              "      <th>dominate</th>\n",
              "      <th>donald</th>\n",
              "      <th>donate</th>\n",
              "      <th>donna</th>\n",
              "      <th>...</th>\n",
              "      <th>ring</th>\n",
              "      <th>rio</th>\n",
              "      <th>rio de</th>\n",
              "      <th>rio de janeiro</th>\n",
              "      <th>riot</th>\n",
              "      <th>rip</th>\n",
              "      <th>rise</th>\n",
              "      <th>risk</th>\n",
              "      <th>risk life</th>\n",
              "      <th>rita</th>\n",
              "      <th>rite</th>\n",
              "      <th>ritual</th>\n",
              "      <th>rival</th>\n",
              "      <th>rivalry</th>\n",
              "      <th>river</th>\n",
              "      <th>road</th>\n",
              "      <th>road trip</th>\n",
              "      <th>roam</th>\n",
              "      <th>rob</th>\n",
              "      <th>robber</th>\n",
              "      <th>robbery</th>\n",
              "      <th>robert</th>\n",
              "      <th>roberto</th>\n",
              "      <th>robin</th>\n",
              "      <th>robinson</th>\n",
              "      <th>robot</th>\n",
              "      <th>rock</th>\n",
              "      <th>rock band</th>\n",
              "      <th>rock roll</th>\n",
              "      <th>rock star</th>\n",
              "      <th>rocket</th>\n",
              "      <th>rocky</th>\n",
              "      <th>rod</th>\n",
              "      <th>rodeo</th>\n",
              "      <th>roger</th>\n",
              "      <th>rogers</th>\n",
              "      <th>rogue</th>\n",
              "      <th>role</th>\n",
              "      <th>roll</th>\n",
              "      <th>roller</th>\n",
              "      <th>roller coaster</th>\n",
              "      <th>rom</th>\n",
              "      <th>roman</th>\n",
              "      <th>romance</th>\n",
              "      <th>romania</th>\n",
              "      <th>romantic</th>\n",
              "      <th>romantic comedy</th>\n",
              "      <th>rome</th>\n",
              "      <th>romeo</th>\n",
              "      <th>ron</th>\n",
              "      <th>ronnie</th>\n",
              "      <th>roof</th>\n",
              "      <th>rookie</th>\n",
              "      <th>room</th>\n",
              "      <th>roommate</th>\n",
              "      <th>root</th>\n",
              "      <th>rope</th>\n",
              "      <th>rosa</th>\n",
              "      <th>rose</th>\n",
              "      <th>ross</th>\n",
              "      <th>rough</th>\n",
              "      <th>round</th>\n",
              "      <th>route</th>\n",
              "      <th>routine</th>\n",
              "      <th>row</th>\n",
              "      <th>roy</th>\n",
              "      <th>royal</th>\n",
              "      <th>ruby</th>\n",
              "      <th>ruin</th>\n",
              "      <th>rule</th>\n",
              "      <th>ruler</th>\n",
              "      <th>rumor</th>\n",
              "      <th>run</th>\n",
              "      <th>run away</th>\n",
              "      <th>runaway</th>\n",
              "      <th>runner</th>\n",
              "      <th>running</th>\n",
              "      <th>rural</th>\n",
              "      <th>rush</th>\n",
              "      <th>russell</th>\n",
              "      <th>russia</th>\n",
              "      <th>russian</th>\n",
              "      <th>rustler</th>\n",
              "      <th>ruth</th>\n",
              "      <th>ruthless</th>\n",
              "      <th>ryan</th>\n",
              "      <th>sa</th>\n",
              "      <th>sabotage</th>\n",
              "      <th>sacred</th>\n",
              "      <th>sacrifice</th>\n",
              "      <th>sad</th>\n",
              "      <th>sadistic</th>\n",
              "      <th>sadness</th>\n",
              "      <th>safe</th>\n",
              "      <th>safely</th>\n",
              "      <th>safety</th>\n",
              "      <th>saga</th>\n",
              "      <th>sail</th>\n",
              "      <th>sailor</th>\n",
              "      <th>saint</th>\n",
              "      <th>sake</th>\n",
              "      <th>sale</th>\n",
              "      <th>salesman</th>\n",
              "      <th>sally</th>\n",
              "      <th>salon</th>\n",
              "      <th>saloon</th>\n",
              "      <th>salt</th>\n",
              "      <th>salvation</th>\n",
              "      <th>sam</th>\n",
              "      <th>samantha</th>\n",
              "      <th>sammy</th>\n",
              "      <th>samuel</th>\n",
              "      <th>samurai</th>\n",
              "      <th>san</th>\n",
              "      <th>san diego</th>\n",
              "      <th>san francisco</th>\n",
              "      <th>sanctuary</th>\n",
              "      <th>sand</th>\n",
              "      <th>sandra</th>\n",
              "      <th>sandy</th>\n",
              "      <th>sanity</th>\n",
              "      <th>santa</th>\n",
              "      <th>santiago</th>\n",
              "      <th>sara</th>\n",
              "      <th>sarah</th>\n",
              "      <th>satan</th>\n",
              "      <th>satellite</th>\n",
              "      <th>satire</th>\n",
              "      <th>satirical</th>\n",
              "      <th>satisfy</th>\n",
              "      <th>saturday</th>\n",
              "      <th>savage</th>\n",
              "      <th>save</th>\n",
              "      <th>save day</th>\n",
              "      <th>save life</th>\n",
              "      <th>save world</th>\n",
              "      <th>saving</th>\n",
              "      <th>saw</th>\n",
              "      <th>say</th>\n",
              "      <th>scale</th>\n",
              "      <th>scam</th>\n",
              "      <th>scandal</th>\n",
              "      <th>scar</th>\n",
              "      <th>scary</th>\n",
              "      <th>scenario</th>\n",
              "      <th>scene</th>\n",
              "      <th>scenery</th>\n",
              "      <th>schedule</th>\n",
              "      <th>scheme</th>\n",
              "      <th>scholar</th>\n",
              "      <th>scholarship</th>\n",
              "      <th>school</th>\n",
              "      <th>school friend</th>\n",
              "      <th>school student</th>\n",
              "      <th>school teacher</th>\n",
              "      <th>science</th>\n",
              "      <th>science fiction</th>\n",
              "      <th>scientific</th>\n",
              "      <th>scientist</th>\n",
              "      <th>score</th>\n",
              "      <th>scotland</th>\n",
              "      <th>scott</th>\n",
              "      <th>scottish</th>\n",
              "      <th>scout</th>\n",
              "      <th>scrap</th>\n",
              "      <th>scratch</th>\n",
              "      <th>scream</th>\n",
              "      <th>screen</th>\n",
              "      <th>screenplay</th>\n",
              "      <th>screenwriter</th>\n",
              "      <th>script</th>\n",
              "      <th>sculptor</th>\n",
              "      <th>sculpture</th>\n",
              "      <th>se</th>\n",
              "      <th>sea</th>\n",
              "      <th>seal</th>\n",
              "      <th>sean</th>\n",
              "      <th>search</th>\n",
              "      <th>search answer</th>\n",
              "      <th>seaside</th>\n",
              "      <th>season</th>\n",
              "      <th>seat</th>\n",
              "      <th>seattle</th>\n",
              "      <th>sebastian</th>\n",
              "      <th>second</th>\n",
              "      <th>second chance</th>\n",
              "      <th>second world</th>\n",
              "      <th>second world war</th>\n",
              "      <th>secret</th>\n",
              "      <th>secret service</th>\n",
              "      <th>secretary</th>\n",
              "      <th>secretly</th>\n",
              "      <th>section</th>\n",
              "      <th>secure</th>\n",
              "      <th>security</th>\n",
              "      <th>security guard</th>\n",
              "      <th>seduce</th>\n",
              "      <th>seductive</th>\n",
              "      <th>see</th>\n",
              "      <th>see eye</th>\n",
              "      <th>seed</th>\n",
              "      <th>seedy</th>\n",
              "      <th>seek</th>\n",
              "      <th>seek help</th>\n",
              "      <th>seek revenge</th>\n",
              "      <th>seem</th>\n",
              "      <th>seem like</th>\n",
              "      <th>seemingly</th>\n",
              "      <th>segment</th>\n",
              "      <th>seize</th>\n",
              "      <th>select</th>\n",
              "      <th>selection</th>\n",
              "      <th>self</th>\n",
              "      <th>selfish</th>\n",
              "      <th>sell</th>\n",
              "      <th>senator</th>\n",
              "      <th>send</th>\n",
              "      <th>senior</th>\n",
              "      <th>sens</th>\n",
              "      <th>sensation</th>\n",
              "      <th>sense</th>\n",
              "      <th>sensitive</th>\n",
              "      <th>sensual</th>\n",
              "      <th>sentence</th>\n",
              "      <th>seoul</th>\n",
              "      <th>separate</th>\n",
              "      <th>separation</th>\n",
              "      <th>september</th>\n",
              "      <th>sequel</th>\n",
              "      <th>sequence</th>\n",
              "      <th>serbian</th>\n",
              "      <th>sergeant</th>\n",
              "      <th>serial</th>\n",
              "      <th>serial killer</th>\n",
              "      <th>series</th>\n",
              "      <th>series event</th>\n",
              "      <th>series feature</th>\n",
              "      <th>series follow</th>\n",
              "      <th>serious</th>\n",
              "      <th>seriously</th>\n",
              "      <th>servant</th>\n",
              "      <th>serve</th>\n",
              "      <th>service</th>\n",
              "      <th>session</th>\n",
              "      <th>set</th>\n",
              "      <th>set backdrop</th>\n",
              "      <th>set find</th>\n",
              "      <th>seth</th>\n",
              "      <th>setting</th>\n",
              "      <th>settle</th>\n",
              "      <th>settlement</th>\n",
              "      <th>settler</th>\n",
              "      <th>seven</th>\n",
              "      <th>seven year</th>\n",
              "      <th>several</th>\n",
              "      <th>several year</th>\n",
              "      <th>severe</th>\n",
              "      <th>severely</th>\n",
              "      <th>sex</th>\n",
              "      <th>sexual</th>\n",
              "      <th>sexuality</th>\n",
              "      <th>sexually</th>\n",
              "      <th>sexy</th>\n",
              "      <th>shack</th>\n",
              "      <th>shadow</th>\n",
              "      <th>shady</th>\n",
              "      <th>shake</th>\n",
              "      <th>shakespeare</th>\n",
              "      <th>shall</th>\n",
              "      <th>shame</th>\n",
              "      <th>shane</th>\n",
              "      <th>shanghai</th>\n",
              "      <th>shankar</th>\n",
              "      <th>shannon</th>\n",
              "      <th>shape</th>\n",
              "      <th>share</th>\n",
              "      <th>share story</th>\n",
              "      <th>shark</th>\n",
              "      <th>sharon</th>\n",
              "      <th>sharp</th>\n",
              "      <th>shatter</th>\n",
              "      <th>shawn</th>\n",
              "      <th>shed</th>\n",
              "      <th>shed light</th>\n",
              "      <th>sheep</th>\n",
              "      <th>sheer</th>\n",
              "      <th>shell</th>\n",
              "      <th>shelter</th>\n",
              "      <th>shepherd</th>\n",
              "      <th>sheriff</th>\n",
              "      <th>shift</th>\n",
              "      <th>shin</th>\n",
              "      <th>shine</th>\n",
              "      <th>ship</th>\n",
              "      <th>shipment</th>\n",
              "      <th>shirley</th>\n",
              "      <th>shiva</th>\n",
              "      <th>shock</th>\n",
              "      <th>shocking</th>\n",
              "      <th>shoe</th>\n",
              "      <th>shoot</th>\n",
              "      <th>shooting</th>\n",
              "      <th>shop</th>\n",
              "      <th>shopping</th>\n",
              "      <th>shore</th>\n",
              "      <th>short</th>\n",
              "      <th>short documentary</th>\n",
              "      <th>short film</th>\n",
              "      <th>short story</th>\n",
              "      <th>shortly</th>\n",
              "      <th>shot</th>\n",
              "      <th>shoulder</th>\n",
              "      <th>show</th>\n",
              "      <th>show feature</th>\n",
              "      <th>show host</th>\n",
              "      <th>showcase</th>\n",
              "      <th>showcases</th>\n",
              "      <th>showcasing</th>\n",
              "      <th>showdown</th>\n",
              "      <th>shower</th>\n",
              "      <th>shut</th>\n",
              "      <th>shy</th>\n",
              "      <th>si</th>\n",
              "      <th>sibling</th>\n",
              "      <th>sick</th>\n",
              "      <th>sid</th>\n",
              "      <th>side</th>\n",
              "      <th>sidekick</th>\n",
              "      <th>sierra</th>\n",
              "      <th>sight</th>\n",
              "      <th>sign</th>\n",
              "      <th>signal</th>\n",
              "      <th>signature</th>\n",
              "      <th>significance</th>\n",
              "      <th>significant</th>\n",
              "      <th>silence</th>\n",
              "      <th>silent</th>\n",
              "      <th>silver</th>\n",
              "      <th>similar</th>\n",
              "      <th>simon</th>\n",
              "      <th>simple</th>\n",
              "      <th>simply</th>\n",
              "      <th>simultaneously</th>\n",
              "      <th>sin</th>\n",
              "      <th>since</th>\n",
              "      <th>sing</th>\n",
              "      <th>singapore</th>\n",
              "      <th>singer</th>\n",
              "      <th>singh</th>\n",
              "      <th>singing</th>\n",
              "      <th>single</th>\n",
              "      <th>single mother</th>\n",
              "      <th>sinister</th>\n",
              "      <th>sink</th>\n",
              "      <th>sir</th>\n",
              "      <th>sister</th>\n",
              "      <th>sit</th>\n",
              "      <th>sitcom</th>\n",
              "      <th>site</th>\n",
              "      <th>situate</th>\n",
              "      <th>situation</th>\n",
              "      <th>six</th>\n",
              "      <th>six month</th>\n",
              "      <th>six year</th>\n",
              "      <th>sixteen</th>\n",
              "      <th>sixty</th>\n",
              "      <th>size</th>\n",
              "      <th>sketch</th>\n",
              "      <th>ski</th>\n",
              "      <th>skill</th>\n",
              "      <th>skin</th>\n",
              "      <th>skip</th>\n",
              "      <th>sky</th>\n",
              "      <th>slaughter</th>\n",
              "      <th>slave</th>\n",
              "      <th>slavery</th>\n",
              "      <th>sleep</th>\n",
              "      <th>sleepy</th>\n",
              "      <th>slice</th>\n",
              "      <th>slightly</th>\n",
              "      <th>slim</th>\n",
              "      <th>slip</th>\n",
              "      <th>slow</th>\n",
              "      <th>slowly</th>\n",
              "      <th>slum</th>\n",
              "      <th>small</th>\n",
              "      <th>small group</th>\n",
              "      <th>small town</th>\n",
              "      <th>small village</th>\n",
              "      <th>smart</th>\n",
              "      <th>smile</th>\n",
              "      <th>smith</th>\n",
              "      <th>smoke</th>\n",
              "      <th>smoking</th>\n",
              "      <th>smooth</th>\n",
              "      <th>smuggle</th>\n",
              "      <th>smuggler</th>\n",
              "      <th>snake</th>\n",
              "      <th>sneak</th>\n",
              "      <th>snow</th>\n",
              "      <th>soap</th>\n",
              "      <th>soccer</th>\n",
              "      <th>social</th>\n",
              "      <th>social medium</th>\n",
              "      <th>social worker</th>\n",
              "      <th>socialite</th>\n",
              "      <th>socially</th>\n",
              "      <th>society</th>\n",
              "      <th>sofia</th>\n",
              "      <th>soft</th>\n",
              "      <th>software</th>\n",
              "      <th>soil</th>\n",
              "      <th>solace</th>\n",
              "      <th>solar</th>\n",
              "      <th>soldier</th>\n",
              "      <th>sole</th>\n",
              "      <th>solely</th>\n",
              "      <th>solid</th>\n",
              "      <th>solitary</th>\n",
              "      <th>solitude</th>\n",
              "      <th>solo</th>\n",
              "      <th>solution</th>\n",
              "      <th>solve</th>\n",
              "      <th>solve mystery</th>\n",
              "      <th>solve problem</th>\n",
              "      <th>somebody</th>\n",
              "      <th>somehow</th>\n",
              "      <th>someone</th>\n",
              "      <th>someone else</th>\n",
              "      <th>something</th>\n",
              "      <th>sometimes</th>\n",
              "      <th>somewhat</th>\n",
              "      <th>somewhere</th>\n",
              "      <th>son</th>\n",
              "      <th>song</th>\n",
              "      <th>sonia</th>\n",
              "      <th>sonny</th>\n",
              "      <th>soon</th>\n",
              "      <th>soon become</th>\n",
              "      <th>soon discover</th>\n",
              "      <th>soon find</th>\n",
              "      <th>soon learn</th>\n",
              "      <th>soon realize</th>\n",
              "      <th>sophie</th>\n",
              "      <th>sophisticated</th>\n",
              "      <th>sorrow</th>\n",
              "      <th>sort</th>\n",
              "      <th>soul</th>\n",
              "      <th>sound</th>\n",
              "      <th>soundtrack</th>\n",
              "      <th>source</th>\n",
              "      <th>south</th>\n",
              "      <th>south africa</th>\n",
              "      <th>south african</th>\n",
              "      <th>south america</th>\n",
              "      <th>southern</th>\n",
              "      <th>southern california</th>\n",
              "      <th>soviet</th>\n",
              "      <th>soviet union</th>\n",
              "      <th>space</th>\n",
              "      <th>spain</th>\n",
              "      <th>span</th>\n",
              "      <th>spanish</th>\n",
              "      <th>spare</th>\n",
              "      <th>spark</th>\n",
              "      <th>speak</th>\n",
              "      <th>speaker</th>\n",
              "      <th>special</th>\n",
              "      <th>specialist</th>\n",
              "      <th>specialize</th>\n",
              "      <th>specie</th>\n",
              "      <th>specific</th>\n",
              "      <th>specifically</th>\n",
              "      <th>spectacular</th>\n",
              "      <th>spectator</th>\n",
              "      <th>speech</th>\n",
              "      <th>speed</th>\n",
              "      <th>spell</th>\n",
              "      <th>spencer</th>\n",
              "      <th>spend</th>\n",
              "      <th>spend day</th>\n",
              "      <th>spend night</th>\n",
              "      <th>spend time</th>\n",
              "      <th>spend year</th>\n",
              "      <th>spider</th>\n",
              "      <th>spill</th>\n",
              "      <th>spin</th>\n",
              "      <th>spiral</th>\n",
              "      <th>spiral control</th>\n",
              "      <th>spirit</th>\n",
              "      <th>spiritual</th>\n",
              "      <th>spirituality</th>\n",
              "      <th>spite</th>\n",
              "      <th>split</th>\n",
              "      <th>spoil</th>\n",
              "      <th>sponsor</th>\n",
              "      <th>sport</th>\n",
              "      <th>spot</th>\n",
              "      <th>spotlight</th>\n",
              "      <th>spouse</th>\n",
              "      <th>spread</th>\n",
              "      <th>spree</th>\n",
              "      <th>spring</th>\n",
              "      <th>spy</th>\n",
              "      <th>squad</th>\n",
              "      <th>square</th>\n",
              "      <th>stab</th>\n",
              "      <th>stability</th>\n",
              "      <th>stable</th>\n",
              "      <th>stadium</th>\n",
              "      <th>staff</th>\n",
              "      <th>stag</th>\n",
              "      <th>stage</th>\n",
              "      <th>stagecoach</th>\n",
              "      <th>stake</th>\n",
              "      <th>stalk</th>\n",
              "      <th>stan</th>\n",
              "      <th>stand</th>\n",
              "      <th>stand way</th>\n",
              "      <th>standard</th>\n",
              "      <th>standing</th>\n",
              "      <th>stanley</th>\n",
              "      <th>star</th>\n",
              "      <th>stardom</th>\n",
              "      <th>stark</th>\n",
              "      <th>start</th>\n",
              "      <th>start new</th>\n",
              "      <th>start new life</th>\n",
              "      <th>start work</th>\n",
              "      <th>state</th>\n",
              "      <th>statement</th>\n",
              "      <th>station</th>\n",
              "      <th>statue</th>\n",
              "      <th>status</th>\n",
              "      <th>stay</th>\n",
              "      <th>stay alive</th>\n",
              "      <th>steady</th>\n",
              "      <th>steal</th>\n",
              "      <th>steel</th>\n",
              "      <th>stella</th>\n",
              "      <th>stem</th>\n",
              "      <th>step</th>\n",
              "      <th>stepfather</th>\n",
              "      <th>stephanie</th>\n",
              "      <th>stephen</th>\n",
              "      <th>stereotype</th>\n",
              "      <th>steve</th>\n",
              "      <th>steven</th>\n",
              "      <th>stevens</th>\n",
              "      <th>stewart</th>\n",
              "      <th>stick</th>\n",
              "      <th>still</th>\n",
              "      <th>still alive</th>\n",
              "      <th>still live</th>\n",
              "      <th>stir</th>\n",
              "      <th>stock</th>\n",
              "      <th>stockholm</th>\n",
              "      <th>stolen</th>\n",
              "      <th>stone</th>\n",
              "      <th>stop</th>\n",
              "      <th>stop nothing</th>\n",
              "      <th>store</th>\n",
              "      <th>storm</th>\n",
              "      <th>story</th>\n",
              "      <th>story begin</th>\n",
              "      <th>story behind</th>\n",
              "      <th>story family</th>\n",
              "      <th>story film</th>\n",
              "      <th>story follow</th>\n",
              "      <th>story life</th>\n",
              "      <th>story line</th>\n",
              "      <th>story love</th>\n",
              "      <th>story man</th>\n",
              "      <th>story one</th>\n",
              "      <th>story people</th>\n",
              "      <th>story revolve</th>\n",
              "      <th>story revolve around</th>\n",
              "      <th>story set</th>\n",
              "      <th>story take</th>\n",
              "      <th>story take place</th>\n",
              "      <th>story tell</th>\n",
              "      <th>story three</th>\n",
              "      <th>story two</th>\n",
              "      <th>story woman</th>\n",
              "      <th>story young</th>\n",
              "      <th>storyline</th>\n",
              "      <th>storytelling</th>\n",
              "      <th>straight</th>\n",
              "      <th>strain</th>\n",
              "      <th>strand</th>\n",
              "      <th>strange</th>\n",
              "      <th>strangely</th>\n",
              "      <th>stranger</th>\n",
              "      <th>strategy</th>\n",
              "      <th>stray</th>\n",
              "      <th>stream</th>\n",
              "      <th>street</th>\n",
              "      <th>strength</th>\n",
              "      <th>stress</th>\n",
              "      <th>stretch</th>\n",
              "      <th>strict</th>\n",
              "      <th>strike</th>\n",
              "      <th>string</th>\n",
              "      <th>strip</th>\n",
              "      <th>stripper</th>\n",
              "      <th>strive</th>\n",
              "      <th>stroke</th>\n",
              "      <th>strong</th>\n",
              "      <th>strongly</th>\n",
              "      <th>structure</th>\n",
              "      <th>struggle</th>\n",
              "      <th>struggle find</th>\n",
              "      <th>struggle keep</th>\n",
              "      <th>struggle make</th>\n",
              "      <th>struggle survive</th>\n",
              "      <th>stuart</th>\n",
              "      <th>student</th>\n",
              "      <th>studio</th>\n",
              "      <th>study</th>\n",
              "      <th>stuff</th>\n",
              "      <th>stumble</th>\n",
              "      <th>stumble upon</th>\n",
              "      <th>stun</th>\n",
              "      <th>stunning</th>\n",
              "      <th>stunt</th>\n",
              "      <th>style</th>\n",
              "      <th>su</th>\n",
              "      <th>subculture</th>\n",
              "      <th>subject</th>\n",
              "      <th>submit</th>\n",
              "      <th>subsequent</th>\n",
              "      <th>subsequently</th>\n",
              "      <th>substance</th>\n",
              "      <th>subtle</th>\n",
              "      <th>suburb</th>\n",
              "      <th>suburban</th>\n",
              "      <th>subway</th>\n",
              "      <th>succeed</th>\n",
              "      <th>success</th>\n",
              "      <th>successful</th>\n",
              "      <th>successfully</th>\n",
              "      <th>succumb</th>\n",
              "      <th>suck</th>\n",
              "      <th>sudden</th>\n",
              "      <th>suddenly</th>\n",
              "      <th>sue</th>\n",
              "      <th>suffer</th>\n",
              "      <th>suffering</th>\n",
              "      <th>suffers</th>\n",
              "      <th>sugar</th>\n",
              "      <th>suggest</th>\n",
              "      <th>suicidal</th>\n",
              "      <th>suicide</th>\n",
              "      <th>suit</th>\n",
              "      <th>suitable</th>\n",
              "      <th>suitcase</th>\n",
              "      <th>suitor</th>\n",
              "      <th>sum</th>\n",
              "      <th>summer</th>\n",
              "      <th>summon</th>\n",
              "      <th>sun</th>\n",
              "      <th>sunday</th>\n",
              "      <th>sunny</th>\n",
              "      <th>sunset</th>\n",
              "      <th>super</th>\n",
              "      <th>superhero</th>\n",
              "      <th>superior</th>\n",
              "      <th>supermarket</th>\n",
              "      <th>supernatural</th>\n",
              "      <th>superstar</th>\n",
              "      <th>supervisor</th>\n",
              "      <th>supply</th>\n",
              "      <th>support</th>\n",
              "      <th>supporter</th>\n",
              "      <th>suppose</th>\n",
              "      <th>supposedly</th>\n",
              "      <th>suppress</th>\n",
              "      <th>supreme</th>\n",
              "      <th>sur</th>\n",
              "      <th>sure</th>\n",
              "      <th>surf</th>\n",
              "      <th>surface</th>\n",
              "      <th>surfer</th>\n",
              "      <th>surgeon</th>\n",
              "      <th>surgery</th>\n",
              "      <th>surprise</th>\n",
              "      <th>surprising</th>\n",
              "      <th>surprisingly</th>\n",
              "      <th>surreal</th>\n",
              "      <th>surrender</th>\n",
              "      <th>surround</th>\n",
              "      <th>surroundings</th>\n",
              "      <th>surveillance</th>\n",
              "      <th>survival</th>\n",
              "      <th>survive</th>\n",
              "      <th>survivor</th>\n",
              "      <th>susan</th>\n",
              "      <th>suspect</th>\n",
              "      <th>suspend</th>\n",
              "      <th>suspense</th>\n",
              "      <th>suspicion</th>\n",
              "      <th>suspicious</th>\n",
              "      <th>sustain</th>\n",
              "      <th>sustainable</th>\n",
              "      <th>swamp</th>\n",
              "      <th>swear</th>\n",
              "      <th>sweden</th>\n",
              "      <th>swedish</th>\n",
              "      <th>sweep</th>\n",
              "      <th>sweet</th>\n",
              "      <th>sweetheart</th>\n",
              "      <th>swim</th>\n",
              "      <th>swimming</th>\n",
              "      <th>swing</th>\n",
              "      <th>swiss</th>\n",
              "      <th>switch</th>\n",
              "      <th>switzerland</th>\n",
              "      <th>sword</th>\n",
              "      <th>sydney</th>\n",
              "      <th>sylvia</th>\n",
              "      <th>symbol</th>\n",
              "      <th>sympathy</th>\n",
              "      <th>symphony</th>\n",
              "      <th>symptom</th>\n",
              "      <th>syndicate</th>\n",
              "      <th>syndrome</th>\n",
              "      <th>system</th>\n",
              "      <th>săo</th>\n",
              "      <th>săo paulo</th>\n",
              "      <th>table</th>\n",
              "      <th>taboo</th>\n",
              "      <th>tackle</th>\n",
              "      <th>tactic</th>\n",
              "      <th>tag</th>\n",
              "      <th>taiwan</th>\n",
              "      <th>take</th>\n",
              "      <th>take action</th>\n",
              "      <th>take advantage</th>\n",
              "      <th>take away</th>\n",
              "      <th>take back</th>\n",
              "      <th>take care</th>\n",
              "      <th>take control</th>\n",
              "      <th>take home</th>\n",
              "      <th>take job</th>\n",
              "      <th>take journey</th>\n",
              "      <th>take life</th>\n",
              "      <th>take look</th>\n",
              "      <th>take matter</th>\n",
              "      <th>take new</th>\n",
              "      <th>take one</th>\n",
              "      <th>take part</th>\n",
              "      <th>take place</th>\n",
              "      <th>take refuge</th>\n",
              "      <th>take revenge</th>\n",
              "      <th>take trip</th>\n",
              "      <th>take turn</th>\n",
              "      <th>take viewer</th>\n",
              "      <th>tale</th>\n",
              "      <th>talent</th>\n",
              "      <th>talented</th>\n",
              "      <th>talk</th>\n",
              "      <th>talk show</th>\n",
              "      <th>tall</th>\n",
              "      <th>tank</th>\n",
              "      <th>tap</th>\n",
              "      <th>tape</th>\n",
              "      <th>tara</th>\n",
              "      <th>target</th>\n",
              "      <th>task</th>\n",
              "      <th>taste</th>\n",
              "      <th>tattoo</th>\n",
              "      <th>tax</th>\n",
              "      <th>taxi</th>\n",
              "      <th>taxi driver</th>\n",
              "      <th>taylor</th>\n",
              "      <th>tea</th>\n",
              "      <th>teach</th>\n",
              "      <th>teacher</th>\n",
              "      <th>teaching</th>\n",
              "      <th>team</th>\n",
              "      <th>tear</th>\n",
              "      <th>tear apart</th>\n",
              "      <th>tease</th>\n",
              "      <th>tech</th>\n",
              "      <th>technical</th>\n",
              "      <th>technique</th>\n",
              "      <th>technological</th>\n",
              "      <th>technology</th>\n",
              "      <th>ted</th>\n",
              "      <th>teddy</th>\n",
              "      <th>teen</th>\n",
              "      <th>teenage</th>\n",
              "      <th>teenage daughter</th>\n",
              "      <th>teenage girl</th>\n",
              "      <th>teenager</th>\n",
              "      <th>telephone</th>\n",
              "      <th>television</th>\n",
              "      <th>television series</th>\n",
              "      <th>television show</th>\n",
              "      <th>tell</th>\n",
              "      <th>tell story</th>\n",
              "      <th>tell tale</th>\n",
              "      <th>tell truth</th>\n",
              "      <th>temper</th>\n",
              "      <th>temple</th>\n",
              "      <th>temporary</th>\n",
              "      <th>temptation</th>\n",
              "      <th>ten</th>\n",
              "      <th>ten year</th>\n",
              "      <th>tenant</th>\n",
              "      <th>tend</th>\n",
              "      <th>tender</th>\n",
              "      <th>tennessee</th>\n",
              "      <th>tennis</th>\n",
              "      <th>tense</th>\n",
              "      <th>tension</th>\n",
              "      <th>teresa</th>\n",
              "      <th>term</th>\n",
              "      <th>terminal</th>\n",
              "      <th>terrain</th>\n",
              "      <th>terrible</th>\n",
              "      <th>terrify</th>\n",
              "      <th>terrifying</th>\n",
              "      <th>territory</th>\n",
              "      <th>terror</th>\n",
              "      <th>terrorism</th>\n",
              "      <th>terrorist</th>\n",
              "      <th>terrorize</th>\n",
              "      <th>terry</th>\n",
              "      <th>test</th>\n",
              "      <th>testament</th>\n",
              "      <th>testimony</th>\n",
              "      <th>tex</th>\n",
              "      <th>texas</th>\n",
              "      <th>text</th>\n",
              "      <th>thai</th>\n",
              "      <th>thailand</th>\n",
              "      <th>thanks</th>\n",
              "      <th>theater</th>\n",
              "      <th>theatre</th>\n",
              "      <th>theatrical</th>\n",
              "      <th>theft</th>\n",
              "      <th>theme</th>\n",
              "      <th>theory</th>\n",
              "      <th>therapist</th>\n",
              "      <th>therapy</th>\n",
              "      <th>thereafter</th>\n",
              "      <th>therefore</th>\n",
              "      <th>thick</th>\n",
              "      <th>thief</th>\n",
              "      <th>thin</th>\n",
              "      <th>thing</th>\n",
              "      <th>thing get</th>\n",
              "      <th>thing go</th>\n",
              "      <th>thing happen</th>\n",
              "      <th>thing start</th>\n",
              "      <th>think</th>\n",
              "      <th>thinking</th>\n",
              "      <th>third</th>\n",
              "      <th>thirteen</th>\n",
              "      <th>thirty</th>\n",
              "      <th>thirty year</th>\n",
              "      <th>thomas</th>\n",
              "      <th>thompson</th>\n",
              "      <th>though</th>\n",
              "      <th>thought</th>\n",
              "      <th>thousand</th>\n",
              "      <th>thousand year</th>\n",
              "      <th>thread</th>\n",
              "      <th>threat</th>\n",
              "      <th>threaten</th>\n",
              "      <th>three</th>\n",
              "      <th>three child</th>\n",
              "      <th>three day</th>\n",
              "      <th>three different</th>\n",
              "      <th>three friend</th>\n",
              "      <th>three men</th>\n",
              "      <th>three month</th>\n",
              "      <th>three woman</th>\n",
              "      <th>three year</th>\n",
              "      <th>three young</th>\n",
              "      <th>thrill</th>\n",
              "      <th>thriller</th>\n",
              "      <th>thrive</th>\n",
              "      <th>throne</th>\n",
              "      <th>throughout</th>\n",
              "      <th>throw</th>\n",
              "      <th>thrust</th>\n",
              "      <th>thug</th>\n",
              "      <th>thus</th>\n",
              "      <th>thwart</th>\n",
              "      <th>tibet</th>\n",
              "      <th>tibetan</th>\n",
              "      <th>tick</th>\n",
              "      <th>ticket</th>\n",
              "      <th>tide</th>\n",
              "      <th>tie</th>\n",
              "      <th>tiger</th>\n",
              "      <th>tight</th>\n",
              "      <th>till</th>\n",
              "      <th>tim</th>\n",
              "      <th>time</th>\n",
              "      <th>time come</th>\n",
              "      <th>time go</th>\n",
              "      <th>time life</th>\n",
              "      <th>time year</th>\n",
              "      <th>timeless</th>\n",
              "      <th>tina</th>\n",
              "      <th>tiny</th>\n",
              "      <th>tip</th>\n",
              "      <th>tire</th>\n",
              "      <th>tired</th>\n",
              "      <th>title</th>\n",
              "      <th>today</th>\n",
              "      <th>todd</th>\n",
              "      <th>together</th>\n",
              "      <th>toilet</th>\n",
              "      <th>tokyo</th>\n",
              "      <th>toll</th>\n",
              "      <th>tom</th>\n",
              "      <th>tomb</th>\n",
              "      <th>tommy</th>\n",
              "      <th>tomorrow</th>\n",
              "      <th>tone</th>\n",
              "      <th>tonight</th>\n",
              "      <th>tony</th>\n",
              "      <th>tool</th>\n",
              "      <th>top</th>\n",
              "      <th>topic</th>\n",
              "      <th>torment</th>\n",
              "      <th>torn</th>\n",
              "      <th>toronto</th>\n",
              "      <th>torture</th>\n",
              "      <th>total</th>\n",
              "      <th>totally</th>\n",
              "      <th>touch</th>\n",
              "      <th>tough</th>\n",
              "      <th>tour</th>\n",
              "      <th>tourism</th>\n",
              "      <th>tourist</th>\n",
              "      <th>tournament</th>\n",
              "      <th>toward</th>\n",
              "      <th>towards</th>\n",
              "      <th>tower</th>\n",
              "      <th>town</th>\n",
              "      <th>townspeople</th>\n",
              "      <th>toxic</th>\n",
              "      <th>toy</th>\n",
              "      <th>trace</th>\n",
              "      <th>track</th>\n",
              "      <th>tracy</th>\n",
              "      <th>trade</th>\n",
              "      <th>trader</th>\n",
              "      <th>trading</th>\n",
              "      <th>tradition</th>\n",
              "      <th>traditional</th>\n",
              "      <th>traffic</th>\n",
              "      <th>trafficking</th>\n",
              "      <th>tragedy</th>\n",
              "      <th>tragic</th>\n",
              "      <th>tragically</th>\n",
              "      <th>trail</th>\n",
              "      <th>trailer</th>\n",
              "      <th>train</th>\n",
              "      <th>trainer</th>\n",
              "      <th>training</th>\n",
              "      <th>transcend</th>\n",
              "      <th>transfer</th>\n",
              "      <th>transform</th>\n",
              "      <th>transformation</th>\n",
              "      <th>transgender</th>\n",
              "      <th>transition</th>\n",
              "      <th>translate</th>\n",
              "      <th>translation</th>\n",
              "      <th>transplant</th>\n",
              "      <th>transport</th>\n",
              "      <th>transportation</th>\n",
              "      <th>trap</th>\n",
              "      <th>trash</th>\n",
              "      <th>trauma</th>\n",
              "      <th>traumatic</th>\n",
              "      <th>travel</th>\n",
              "      <th>travel across</th>\n",
              "      <th>travel around</th>\n",
              "      <th>traveler</th>\n",
              "      <th>travis</th>\n",
              "      <th>treacherous</th>\n",
              "      <th>treasure</th>\n",
              "      <th>treat</th>\n",
              "      <th>treatment</th>\n",
              "      <th>tree</th>\n",
              "      <th>trek</th>\n",
              "      <th>trend</th>\n",
              "      <th>trevor</th>\n",
              "      <th>trial</th>\n",
              "      <th>trial tribulation</th>\n",
              "      <th>triangle</th>\n",
              "      <th>tribal</th>\n",
              "      <th>tribe</th>\n",
              "      <th>tribulation</th>\n",
              "      <th>tribute</th>\n",
              "      <th>trick</th>\n",
              "      <th>trigger</th>\n",
              "      <th>trilogy</th>\n",
              "      <th>trio</th>\n",
              "      <th>trip</th>\n",
              "      <th>triumph</th>\n",
              "      <th>troop</th>\n",
              "      <th>tropical</th>\n",
              "      <th>trouble</th>\n",
              "      <th>troubled</th>\n",
              "      <th>troupe</th>\n",
              "      <th>truck</th>\n",
              "      <th>true</th>\n",
              "      <th>true event</th>\n",
              "      <th>true identity</th>\n",
              "      <th>true love</th>\n",
              "      <th>true story</th>\n",
              "      <th>truly</th>\n",
              "      <th>trust</th>\n",
              "      <th>truth</th>\n",
              "      <th>truth behind</th>\n",
              "      <th>try</th>\n",
              "      <th>try convince</th>\n",
              "      <th>try escape</th>\n",
              "      <th>try figure</th>\n",
              "      <th>try find</th>\n",
              "      <th>try get</th>\n",
              "      <th>try help</th>\n",
              "      <th>try keep</th>\n",
              "      <th>try kill</th>\n",
              "      <th>try make</th>\n",
              "      <th>try save</th>\n",
              "      <th>try take</th>\n",
              "      <th>tumultuous</th>\n",
              "      <th>tune</th>\n",
              "      <th>tunnel</th>\n",
              "      <th>turbulent</th>\n",
              "      <th>turkey</th>\n",
              "      <th>turkish</th>\n",
              "      <th>turmoil</th>\n",
              "      <th>turn</th>\n",
              "      <th>turn back</th>\n",
              "      <th>turn life</th>\n",
              "      <th>turn upside</th>\n",
              "      <th>turner</th>\n",
              "      <th>tv</th>\n",
              "      <th>tv series</th>\n",
              "      <th>tv show</th>\n",
              "      <th>twelve</th>\n",
              "      <th>twentieth</th>\n",
              "      <th>twenty</th>\n",
              "      <th>twenty year</th>\n",
              "      <th>twice</th>\n",
              "      <th>twin</th>\n",
              "      <th>twin brother</th>\n",
              "      <th>twist</th>\n",
              "      <th>twist turn</th>\n",
              "      <th>twisted</th>\n",
              "      <th>two</th>\n",
              "      <th>two best</th>\n",
              "      <th>two brother</th>\n",
              "      <th>two child</th>\n",
              "      <th>two day</th>\n",
              "      <th>two different</th>\n",
              "      <th>two family</th>\n",
              "      <th>two friend</th>\n",
              "      <th>two girl</th>\n",
              "      <th>two men</th>\n",
              "      <th>two people</th>\n",
              "      <th>two sister</th>\n",
              "      <th>two son</th>\n",
              "      <th>two week</th>\n",
              "      <th>two woman</th>\n",
              "      <th>two year</th>\n",
              "      <th>two young</th>\n",
              "      <th>tyler</th>\n",
              "      <th>type</th>\n",
              "      <th>typical</th>\n",
              "      <th>ufo</th>\n",
              "      <th>ugly</th>\n",
              "      <th>uk</th>\n",
              "      <th>ukraine</th>\n",
              "      <th>ultimate</th>\n",
              "      <th>ultimately</th>\n",
              "      <th>un</th>\n",
              "      <th>una</th>\n",
              "      <th>unable</th>\n",
              "      <th>unaware</th>\n",
              "      <th>unbeknownst</th>\n",
              "      <th>unbelievable</th>\n",
              "      <th>uncertain</th>\n",
              "      <th>uncertainty</th>\n",
              "      <th>uncle</th>\n",
              "      <th>unconscious</th>\n",
              "      <th>unconventional</th>\n",
              "      <th>uncover</th>\n",
              "      <th>uncovers</th>\n",
              "      <th>undead</th>\n",
              "      <th>undercover</th>\n",
              "      <th>undergo</th>\n",
              "      <th>underground</th>\n",
              "      <th>understand</th>\n",
              "      <th>understanding</th>\n",
              "      <th>undertake</th>\n",
              "      <th>underwater</th>\n",
              "      <th>underworld</th>\n",
              "      <th>une</th>\n",
              "      <th>unearth</th>\n",
              "      <th>unemployed</th>\n",
              "      <th>unemployment</th>\n",
              "      <th>unexpected</th>\n",
              "      <th>unexpectedly</th>\n",
              "      <th>unfaithful</th>\n",
              "      <th>unfold</th>\n",
              "      <th>unfolds</th>\n",
              "      <th>unforgettable</th>\n",
              "      <th>unfortunate</th>\n",
              "      <th>unfortunately</th>\n",
              "      <th>unhappy</th>\n",
              "      <th>uniform</th>\n",
              "      <th>union</th>\n",
              "      <th>unique</th>\n",
              "      <th>unit</th>\n",
              "      <th>unite</th>\n",
              "      <th>united</th>\n",
              "      <th>united state</th>\n",
              "      <th>universal</th>\n",
              "      <th>universe</th>\n",
              "      <th>university</th>\n",
              "      <th>unknowingly</th>\n",
              "      <th>unknown</th>\n",
              "      <th>unleash</th>\n",
              "      <th>unless</th>\n",
              "      <th>unlike</th>\n",
              "      <th>unlikely</th>\n",
              "      <th>unlock</th>\n",
              "      <th>unprecedented</th>\n",
              "      <th>unpredictable</th>\n",
              "      <th>unravel</th>\n",
              "      <th>unscrupulous</th>\n",
              "      <th>unseen</th>\n",
              "      <th>unsolved</th>\n",
              "      <th>unstable</th>\n",
              "      <th>unsuccessful</th>\n",
              "      <th>unsuspecting</th>\n",
              "      <th>untimely</th>\n",
              "      <th>untold</th>\n",
              "      <th>unusual</th>\n",
              "      <th>unveil</th>\n",
              "      <th>unwanted</th>\n",
              "      <th>unwilling</th>\n",
              "      <th>unwittingly</th>\n",
              "      <th>upbringing</th>\n",
              "      <th>upcoming</th>\n",
              "      <th>upon</th>\n",
              "      <th>upon arrival</th>\n",
              "      <th>upper</th>\n",
              "      <th>uprising</th>\n",
              "      <th>ups</th>\n",
              "      <th>ups down</th>\n",
              "      <th>upset</th>\n",
              "      <th>upside</th>\n",
              "      <th>urban</th>\n",
              "      <th>urge</th>\n",
              "      <th>us</th>\n",
              "      <th>usa</th>\n",
              "      <th>use</th>\n",
              "      <th>user</th>\n",
              "      <th>usual</th>\n",
              "      <th>usually</th>\n",
              "      <th>utah</th>\n",
              "      <th>utilize</th>\n",
              "      <th>vacation</th>\n",
              "      <th>vain</th>\n",
              "      <th>valentine</th>\n",
              "      <th>valerie</th>\n",
              "      <th>valley</th>\n",
              "      <th>valuable</th>\n",
              "      <th>value</th>\n",
              "      <th>vampire</th>\n",
              "      <th>van</th>\n",
              "      <th>vancouver</th>\n",
              "      <th>vanessa</th>\n",
              "      <th>vanish</th>\n",
              "      <th>variety</th>\n",
              "      <th>various</th>\n",
              "      <th>vary</th>\n",
              "      <th>vast</th>\n",
              "      <th>vega</th>\n",
              "      <th>vehicle</th>\n",
              "      <th>vengeance</th>\n",
              "      <th>vengeful</th>\n",
              "      <th>venice</th>\n",
              "      <th>venture</th>\n",
              "      <th>venue</th>\n",
              "      <th>vera</th>\n",
              "      <th>verge</th>\n",
              "      <th>veronica</th>\n",
              "      <th>version</th>\n",
              "      <th>versus</th>\n",
              "      <th>vessel</th>\n",
              "      <th>vet</th>\n",
              "      <th>veteran</th>\n",
              "      <th>via</th>\n",
              "      <th>vibrant</th>\n",
              "      <th>vice</th>\n",
              "      <th>vicious</th>\n",
              "      <th>vicky</th>\n",
              "      <th>victim</th>\n",
              "      <th>victor</th>\n",
              "      <th>victoria</th>\n",
              "      <th>victory</th>\n",
              "      <th>video</th>\n",
              "      <th>video game</th>\n",
              "      <th>vie</th>\n",
              "      <th>vienna</th>\n",
              "      <th>vietnam</th>\n",
              "      <th>view</th>\n",
              "      <th>viewer</th>\n",
              "      <th>vigilante</th>\n",
              "      <th>vignette</th>\n",
              "      <th>vijay</th>\n",
              "      <th>vikram</th>\n",
              "      <th>villa</th>\n",
              "      <th>village</th>\n",
              "      <th>villager</th>\n",
              "      <th>villain</th>\n",
              "      <th>vince</th>\n",
              "      <th>vincent</th>\n",
              "      <th>vintage</th>\n",
              "      <th>violence</th>\n",
              "      <th>violent</th>\n",
              "      <th>violin</th>\n",
              "      <th>virgin</th>\n",
              "      <th>virginia</th>\n",
              "      <th>virtual</th>\n",
              "      <th>virtually</th>\n",
              "      <th>virus</th>\n",
              "      <th>visible</th>\n",
              "      <th>vision</th>\n",
              "      <th>visionary</th>\n",
              "      <th>visit</th>\n",
              "      <th>visitor</th>\n",
              "      <th>visual</th>\n",
              "      <th>visually</th>\n",
              "      <th>vital</th>\n",
              "      <th>vivid</th>\n",
              "      <th>vocal</th>\n",
              "      <th>voice</th>\n",
              "      <th>volatile</th>\n",
              "      <th>volcano</th>\n",
              "      <th>volume</th>\n",
              "      <th>volunteer</th>\n",
              "      <th>von</th>\n",
              "      <th>vote</th>\n",
              "      <th>vow</th>\n",
              "      <th>voyage</th>\n",
              "      <th>vulnerable</th>\n",
              "      <th>wacky</th>\n",
              "      <th>wade</th>\n",
              "      <th>wage</th>\n",
              "      <th>wagon</th>\n",
              "      <th>wait</th>\n",
              "      <th>waitress</th>\n",
              "      <th>wake</th>\n",
              "      <th>wale</th>\n",
              "      <th>walk</th>\n",
              "      <th>walk life</th>\n",
              "      <th>walker</th>\n",
              "      <th>wall</th>\n",
              "      <th>wall street</th>\n",
              "      <th>wallace</th>\n",
              "      <th>walt</th>\n",
              "      <th>walter</th>\n",
              "      <th>wander</th>\n",
              "      <th>wang</th>\n",
              "      <th>want</th>\n",
              "      <th>want get</th>\n",
              "      <th>want go</th>\n",
              "      <th>want know</th>\n",
              "      <th>want make</th>\n",
              "      <th>want marry</th>\n",
              "      <th>want see</th>\n",
              "      <th>want take</th>\n",
              "      <th>war</th>\n",
              "      <th>war ii</th>\n",
              "      <th>ward</th>\n",
              "      <th>warden</th>\n",
              "      <th>warehouse</th>\n",
              "      <th>warfare</th>\n",
              "      <th>warm</th>\n",
              "      <th>warn</th>\n",
              "      <th>warning</th>\n",
              "      <th>warren</th>\n",
              "      <th>warrior</th>\n",
              "      <th>wash</th>\n",
              "      <th>washington</th>\n",
              "      <th>waste</th>\n",
              "      <th>watch</th>\n",
              "      <th>water</th>\n",
              "      <th>wave</th>\n",
              "      <th>way</th>\n",
              "      <th>way back</th>\n",
              "      <th>way get</th>\n",
              "      <th>way home</th>\n",
              "      <th>way life</th>\n",
              "      <th>way make</th>\n",
              "      <th>way meet</th>\n",
              "      <th>wayne</th>\n",
              "      <th>weak</th>\n",
              "      <th>weakness</th>\n",
              "      <th>wealth</th>\n",
              "      <th>wealthy</th>\n",
              "      <th>wealthy family</th>\n",
              "      <th>weapon</th>\n",
              "      <th>wear</th>\n",
              "      <th>weather</th>\n",
              "      <th>weave</th>\n",
              "      <th>weave together</th>\n",
              "      <th>web</th>\n",
              "      <th>web series</th>\n",
              "      <th>website</th>\n",
              "      <th>wed</th>\n",
              "      <th>wedding</th>\n",
              "      <th>week</th>\n",
              "      <th>weekend</th>\n",
              "      <th>weekly</th>\n",
              "      <th>weight</th>\n",
              "      <th>weird</th>\n",
              "      <th>welcome</th>\n",
              "      <th>welfare</th>\n",
              "      <th>well</th>\n",
              "      <th>well know</th>\n",
              "      <th>werewolf</th>\n",
              "      <th>west</th>\n",
              "      <th>western</th>\n",
              "      <th>wet</th>\n",
              "      <th>whale</th>\n",
              "      <th>whatever</th>\n",
              "      <th>wheel</th>\n",
              "      <th>wheelchair</th>\n",
              "      <th>whenever</th>\n",
              "      <th>whereabouts</th>\n",
              "      <th>whereas</th>\n",
              "      <th>wherever</th>\n",
              "      <th>whether</th>\n",
              "      <th>whilst</th>\n",
              "      <th>whip</th>\n",
              "      <th>white</th>\n",
              "      <th>whole</th>\n",
              "      <th>whole life</th>\n",
              "      <th>whole new</th>\n",
              "      <th>whose</th>\n",
              "      <th>whose life</th>\n",
              "      <th>wicked</th>\n",
              "      <th>wide</th>\n",
              "      <th>widely</th>\n",
              "      <th>widow</th>\n",
              "      <th>widowed</th>\n",
              "      <th>widower</th>\n",
              "      <th>wife</th>\n",
              "      <th>wife child</th>\n",
              "      <th>wife daughter</th>\n",
              "      <th>wife son</th>\n",
              "      <th>wild</th>\n",
              "      <th>wilderness</th>\n",
              "      <th>wildlife</th>\n",
              "      <th>william</th>\n",
              "      <th>williams</th>\n",
              "      <th>willie</th>\n",
              "      <th>willing</th>\n",
              "      <th>wilson</th>\n",
              "      <th>win</th>\n",
              "      <th>win back</th>\n",
              "      <th>wind</th>\n",
              "      <th>window</th>\n",
              "      <th>wine</th>\n",
              "      <th>wing</th>\n",
              "      <th>winner</th>\n",
              "      <th>winning</th>\n",
              "      <th>winter</th>\n",
              "      <th>wipe</th>\n",
              "      <th>wire</th>\n",
              "      <th>wisdom</th>\n",
              "      <th>wise</th>\n",
              "      <th>wish</th>\n",
              "      <th>wit</th>\n",
              "      <th>witch</th>\n",
              "      <th>within</th>\n",
              "      <th>without</th>\n",
              "      <th>witness</th>\n",
              "      <th>witty</th>\n",
              "      <th>wizard</th>\n",
              "      <th>wo</th>\n",
              "      <th>wolf</th>\n",
              "      <th>woman</th>\n",
              "      <th>woman child</th>\n",
              "      <th>woman find</th>\n",
              "      <th>woman live</th>\n",
              "      <th>woman love</th>\n",
              "      <th>woman name</th>\n",
              "      <th>woman whose</th>\n",
              "      <th>woman work</th>\n",
              "      <th>wonder</th>\n",
              "      <th>wonderful</th>\n",
              "      <th>wong</th>\n",
              "      <th>woo</th>\n",
              "      <th>wood</th>\n",
              "      <th>wooden</th>\n",
              "      <th>word</th>\n",
              "      <th>work</th>\n",
              "      <th>work hard</th>\n",
              "      <th>work together</th>\n",
              "      <th>worker</th>\n",
              "      <th>working</th>\n",
              "      <th>workout</th>\n",
              "      <th>workplace</th>\n",
              "      <th>workshop</th>\n",
              "      <th>world</th>\n",
              "      <th>world around</th>\n",
              "      <th>world cup</th>\n",
              "      <th>world famous</th>\n",
              "      <th>world first</th>\n",
              "      <th>world great</th>\n",
              "      <th>world large</th>\n",
              "      <th>world turn</th>\n",
              "      <th>world war</th>\n",
              "      <th>world war ii</th>\n",
              "      <th>worldwide</th>\n",
              "      <th>worry</th>\n",
              "      <th>worse</th>\n",
              "      <th>worship</th>\n",
              "      <th>worth</th>\n",
              "      <th>worthy</th>\n",
              "      <th>would</th>\n",
              "      <th>would like</th>\n",
              "      <th>wound</th>\n",
              "      <th>wounded</th>\n",
              "      <th>wrap</th>\n",
              "      <th>wrath</th>\n",
              "      <th>wreck</th>\n",
              "      <th>wrestle</th>\n",
              "      <th>wrestler</th>\n",
              "      <th>wrestling</th>\n",
              "      <th>wright</th>\n",
              "      <th>write</th>\n",
              "      <th>writer</th>\n",
              "      <th>writing</th>\n",
              "      <th>wrong</th>\n",
              "      <th>wwii</th>\n",
              "      <th>yacht</th>\n",
              "      <th>yard</th>\n",
              "      <th>year</th>\n",
              "      <th>year ago</th>\n",
              "      <th>year earlier</th>\n",
              "      <th>year film</th>\n",
              "      <th>year later</th>\n",
              "      <th>year life</th>\n",
              "      <th>year old</th>\n",
              "      <th>year old boy</th>\n",
              "      <th>year old girl</th>\n",
              "      <th>year prison</th>\n",
              "      <th>year since</th>\n",
              "      <th>yearn</th>\n",
              "      <th>yellow</th>\n",
              "      <th>yes</th>\n",
              "      <th>yet</th>\n",
              "      <th>yet another</th>\n",
              "      <th>yoga</th>\n",
              "      <th>york</th>\n",
              "      <th>york city</th>\n",
              "      <th>young</th>\n",
              "      <th>young adult</th>\n",
              "      <th>young age</th>\n",
              "      <th>young boy</th>\n",
              "      <th>young brother</th>\n",
              "      <th>young child</th>\n",
              "      <th>young couple</th>\n",
              "      <th>young daughter</th>\n",
              "      <th>young girl</th>\n",
              "      <th>young lady</th>\n",
              "      <th>young man</th>\n",
              "      <th>young men</th>\n",
              "      <th>young people</th>\n",
              "      <th>young sister</th>\n",
              "      <th>young son</th>\n",
              "      <th>young wife</th>\n",
              "      <th>young woman</th>\n",
              "      <th>younger</th>\n",
              "      <th>youngster</th>\n",
              "      <th>youth</th>\n",
              "      <th>youtube</th>\n",
              "      <th>zach</th>\n",
              "      <th>zealand</th>\n",
              "      <th>zero</th>\n",
              "      <th>zoe</th>\n",
              "      <th>zombie</th>\n",
              "      <th>zone</th>\n",
              "      <th>zoo</th>\n",
              "    </tr>\n",
              "  </thead>\n",
              "  <tbody>\n",
              "    <tr>\n",
              "      <th>0</th>\n",
              "      <td>0.0</td>\n",
              "      <td>0.0</td>\n",
              "      <td>0.0</td>\n",
              "      <td>0.0</td>\n",
              "      <td>0.0</td>\n",
              "      <td>0.0</td>\n",
              "      <td>0.0</td>\n",
              "      <td>0.0</td>\n",
              "      <td>0.0</td>\n",
              "      <td>0.0</td>\n",
              "      <td>0.0</td>\n",
              "      <td>0.0</td>\n",
              "      <td>0.0</td>\n",
              "      <td>0.0</td>\n",
              "      <td>0.0</td>\n",
              "      <td>0.0</td>\n",
              "      <td>0.0</td>\n",
              "      <td>0.0</td>\n",
              "      <td>0.0</td>\n",
              "      <td>0.0</td>\n",
              "      <td>0.0</td>\n",
              "      <td>0.0</td>\n",
              "      <td>0.0</td>\n",
              "      <td>0.0</td>\n",
              "      <td>0.0</td>\n",
              "      <td>0.0</td>\n",
              "      <td>0.0</td>\n",
              "      <td>0.0</td>\n",
              "      <td>0.0</td>\n",
              "      <td>0.0</td>\n",
              "      <td>0.0</td>\n",
              "      <td>0.0</td>\n",
              "      <td>0.0</td>\n",
              "      <td>0.0</td>\n",
              "      <td>0.0</td>\n",
              "      <td>0.0</td>\n",
              "      <td>0.0</td>\n",
              "      <td>0.0</td>\n",
              "      <td>0.0</td>\n",
              "      <td>0.0</td>\n",
              "      <td>0.0</td>\n",
              "      <td>0.0</td>\n",
              "      <td>0.0</td>\n",
              "      <td>0.0</td>\n",
              "      <td>0.0</td>\n",
              "      <td>0.0</td>\n",
              "      <td>0.0</td>\n",
              "      <td>0.0</td>\n",
              "      <td>0.0</td>\n",
              "      <td>0.0</td>\n",
              "      <td>0.0</td>\n",
              "      <td>0.0</td>\n",
              "      <td>0.0</td>\n",
              "      <td>0.0</td>\n",
              "      <td>0.0</td>\n",
              "      <td>0.0</td>\n",
              "      <td>0.0</td>\n",
              "      <td>0.0</td>\n",
              "      <td>0.0</td>\n",
              "      <td>0.0</td>\n",
              "      <td>0.0</td>\n",
              "      <td>0.0</td>\n",
              "      <td>0.0</td>\n",
              "      <td>0.0</td>\n",
              "      <td>0.0</td>\n",
              "      <td>0.0</td>\n",
              "      <td>0.0</td>\n",
              "      <td>0.0</td>\n",
              "      <td>0.0</td>\n",
              "      <td>0.0</td>\n",
              "      <td>0.0</td>\n",
              "      <td>0.0</td>\n",
              "      <td>0.0</td>\n",
              "      <td>0.0</td>\n",
              "      <td>0.0</td>\n",
              "      <td>0.0</td>\n",
              "      <td>0.0</td>\n",
              "      <td>0.0</td>\n",
              "      <td>0.0</td>\n",
              "      <td>0.0</td>\n",
              "      <td>0.0</td>\n",
              "      <td>0.0</td>\n",
              "      <td>0.0</td>\n",
              "      <td>0.0</td>\n",
              "      <td>0.0</td>\n",
              "      <td>0.0</td>\n",
              "      <td>0.0</td>\n",
              "      <td>0.0</td>\n",
              "      <td>0.0</td>\n",
              "      <td>0.0</td>\n",
              "      <td>0.0</td>\n",
              "      <td>0.0</td>\n",
              "      <td>0.0</td>\n",
              "      <td>0.0</td>\n",
              "      <td>0.0</td>\n",
              "      <td>0.0</td>\n",
              "      <td>0.0</td>\n",
              "      <td>0.0</td>\n",
              "      <td>0.0</td>\n",
              "      <td>0.0</td>\n",
              "      <td>0.0</td>\n",
              "      <td>0.0</td>\n",
              "      <td>0.0</td>\n",
              "      <td>0.0</td>\n",
              "      <td>0.0</td>\n",
              "      <td>0.0</td>\n",
              "      <td>0.0</td>\n",
              "      <td>0.0</td>\n",
              "      <td>0.0</td>\n",
              "      <td>0.0</td>\n",
              "      <td>0.0</td>\n",
              "      <td>0.0</td>\n",
              "      <td>0.0</td>\n",
              "      <td>0.0</td>\n",
              "      <td>0.0</td>\n",
              "      <td>0.0</td>\n",
              "      <td>0.0</td>\n",
              "      <td>0.0</td>\n",
              "      <td>0.0</td>\n",
              "      <td>0.0</td>\n",
              "      <td>0.0</td>\n",
              "      <td>0.0</td>\n",
              "      <td>0.0</td>\n",
              "      <td>0.0</td>\n",
              "      <td>0.0</td>\n",
              "      <td>0.0</td>\n",
              "      <td>0.0</td>\n",
              "      <td>0.0</td>\n",
              "      <td>0.0</td>\n",
              "      <td>0.0</td>\n",
              "      <td>0.0</td>\n",
              "      <td>0.0</td>\n",
              "      <td>0.0</td>\n",
              "      <td>0.0</td>\n",
              "      <td>0.0</td>\n",
              "      <td>0.0</td>\n",
              "      <td>0.0</td>\n",
              "      <td>0.0</td>\n",
              "      <td>0.0</td>\n",
              "      <td>0.0</td>\n",
              "      <td>0.0</td>\n",
              "      <td>0.0</td>\n",
              "      <td>0.0</td>\n",
              "      <td>0.0</td>\n",
              "      <td>0.0</td>\n",
              "      <td>0.0</td>\n",
              "      <td>0.0</td>\n",
              "      <td>0.0</td>\n",
              "      <td>0.0</td>\n",
              "      <td>0.0</td>\n",
              "      <td>0.0</td>\n",
              "      <td>0.0</td>\n",
              "      <td>0.1278</td>\n",
              "      <td>0.0</td>\n",
              "      <td>0.0</td>\n",
              "      <td>0.0</td>\n",
              "      <td>0.0</td>\n",
              "      <td>0.0</td>\n",
              "      <td>0.0</td>\n",
              "      <td>0.0</td>\n",
              "      <td>0.0</td>\n",
              "      <td>0.0</td>\n",
              "      <td>0.0</td>\n",
              "      <td>0.0</td>\n",
              "      <td>0.0</td>\n",
              "      <td>0.0</td>\n",
              "      <td>0.0</td>\n",
              "      <td>0.0</td>\n",
              "      <td>0.0</td>\n",
              "      <td>0.0</td>\n",
              "      <td>0.0</td>\n",
              "      <td>0.0</td>\n",
              "      <td>0.0</td>\n",
              "      <td>0.0</td>\n",
              "      <td>0.0</td>\n",
              "      <td>0.0</td>\n",
              "      <td>0.0</td>\n",
              "      <td>0.0</td>\n",
              "      <td>0.0</td>\n",
              "      <td>0.0</td>\n",
              "      <td>0.0</td>\n",
              "      <td>0.0</td>\n",
              "      <td>0.0</td>\n",
              "      <td>0.0</td>\n",
              "      <td>0.0</td>\n",
              "      <td>0.0</td>\n",
              "      <td>0.0</td>\n",
              "      <td>0.0</td>\n",
              "      <td>0.0</td>\n",
              "      <td>0.0</td>\n",
              "      <td>0.0</td>\n",
              "      <td>0.0</td>\n",
              "      <td>0.0</td>\n",
              "      <td>0.0</td>\n",
              "      <td>0.0</td>\n",
              "      <td>0.0</td>\n",
              "      <td>0.0</td>\n",
              "      <td>0.0</td>\n",
              "      <td>0.0</td>\n",
              "      <td>0.0</td>\n",
              "      <td>0.0</td>\n",
              "      <td>0.0</td>\n",
              "      <td>0.0</td>\n",
              "      <td>0.0</td>\n",
              "      <td>0.0</td>\n",
              "      <td>0.0</td>\n",
              "      <td>0.0</td>\n",
              "      <td>0.0</td>\n",
              "      <td>0.0</td>\n",
              "      <td>0.0</td>\n",
              "      <td>0.0</td>\n",
              "      <td>0.0</td>\n",
              "      <td>0.0</td>\n",
              "      <td>0.0</td>\n",
              "      <td>0.0</td>\n",
              "      <td>0.0</td>\n",
              "      <td>0.0</td>\n",
              "      <td>0.0</td>\n",
              "      <td>0.0</td>\n",
              "      <td>0.0</td>\n",
              "      <td>0.0</td>\n",
              "      <td>0.0</td>\n",
              "      <td>0.0</td>\n",
              "      <td>0.0</td>\n",
              "      <td>0.0</td>\n",
              "      <td>0.0</td>\n",
              "      <td>0.0</td>\n",
              "      <td>0.0</td>\n",
              "      <td>0.0</td>\n",
              "      <td>0.0</td>\n",
              "      <td>0.0</td>\n",
              "      <td>0.0</td>\n",
              "      <td>0.0</td>\n",
              "      <td>0.0</td>\n",
              "      <td>0.0</td>\n",
              "      <td>0.0</td>\n",
              "      <td>0.0</td>\n",
              "      <td>0.0</td>\n",
              "      <td>0.0</td>\n",
              "      <td>0.0</td>\n",
              "      <td>0.0</td>\n",
              "      <td>0.0</td>\n",
              "      <td>0.0</td>\n",
              "      <td>0.138718</td>\n",
              "      <td>0.0</td>\n",
              "      <td>0.0</td>\n",
              "      <td>0.0</td>\n",
              "      <td>0.0</td>\n",
              "      <td>0.0</td>\n",
              "      <td>0.0</td>\n",
              "      <td>0.0</td>\n",
              "      <td>0.0</td>\n",
              "      <td>0.0</td>\n",
              "      <td>0.0</td>\n",
              "      <td>0.0</td>\n",
              "      <td>0.0</td>\n",
              "      <td>0.0</td>\n",
              "      <td>0.0</td>\n",
              "      <td>0.0</td>\n",
              "      <td>0.0</td>\n",
              "      <td>0.0</td>\n",
              "      <td>0.134339</td>\n",
              "      <td>0.0</td>\n",
              "      <td>0.0</td>\n",
              "      <td>0.0</td>\n",
              "      <td>0.0</td>\n",
              "      <td>0.0</td>\n",
              "      <td>0.0</td>\n",
              "      <td>0.0</td>\n",
              "      <td>0.0</td>\n",
              "      <td>0.0</td>\n",
              "      <td>0.0</td>\n",
              "      <td>0.0</td>\n",
              "      <td>0.0</td>\n",
              "      <td>0.0</td>\n",
              "      <td>0.0</td>\n",
              "      <td>0.0</td>\n",
              "      <td>0.0</td>\n",
              "      <td>0.0</td>\n",
              "      <td>0.0</td>\n",
              "      <td>0.0</td>\n",
              "      <td>0.0</td>\n",
              "      <td>0.0</td>\n",
              "      <td>0.0</td>\n",
              "      <td>0.0</td>\n",
              "      <td>0.0</td>\n",
              "      <td>0.0</td>\n",
              "      <td>0.0</td>\n",
              "      <td>0.0</td>\n",
              "      <td>0.0</td>\n",
              "      <td>0.0</td>\n",
              "      <td>0.0</td>\n",
              "      <td>0.0</td>\n",
              "      <td>0.0</td>\n",
              "      <td>0.0</td>\n",
              "      <td>0.0</td>\n",
              "      <td>0.0</td>\n",
              "      <td>0.0</td>\n",
              "      <td>0.0</td>\n",
              "      <td>0.0</td>\n",
              "      <td>0.0</td>\n",
              "      <td>0.0</td>\n",
              "      <td>0.0</td>\n",
              "      <td>0.0</td>\n",
              "      <td>0.0</td>\n",
              "      <td>0.0</td>\n",
              "      <td>0.0</td>\n",
              "      <td>0.0</td>\n",
              "      <td>0.0</td>\n",
              "      <td>0.0</td>\n",
              "      <td>0.0</td>\n",
              "      <td>0.0</td>\n",
              "      <td>0.0</td>\n",
              "      <td>0.0</td>\n",
              "      <td>0.0</td>\n",
              "      <td>0.0</td>\n",
              "      <td>0.0</td>\n",
              "      <td>0.0</td>\n",
              "      <td>0.0</td>\n",
              "      <td>0.0</td>\n",
              "      <td>0.0</td>\n",
              "      <td>0.0</td>\n",
              "      <td>0.0</td>\n",
              "      <td>0.0</td>\n",
              "      <td>0.0</td>\n",
              "      <td>0.0</td>\n",
              "      <td>0.0</td>\n",
              "      <td>0.0</td>\n",
              "      <td>0.0</td>\n",
              "      <td>0.0</td>\n",
              "      <td>0.0</td>\n",
              "      <td>0.0</td>\n",
              "      <td>0.0</td>\n",
              "      <td>0.0</td>\n",
              "      <td>0.0</td>\n",
              "      <td>0.0</td>\n",
              "      <td>0.0</td>\n",
              "      <td>0.0</td>\n",
              "      <td>0.0</td>\n",
              "      <td>0.0</td>\n",
              "      <td>0.0</td>\n",
              "      <td>0.0</td>\n",
              "      <td>0.0</td>\n",
              "      <td>0.0</td>\n",
              "      <td>0.0</td>\n",
              "      <td>0.0</td>\n",
              "      <td>0.0</td>\n",
              "      <td>0.0</td>\n",
              "      <td>0.0</td>\n",
              "      <td>0.0</td>\n",
              "      <td>0.0</td>\n",
              "      <td>0.0</td>\n",
              "      <td>0.0</td>\n",
              "      <td>0.0</td>\n",
              "      <td>0.0</td>\n",
              "      <td>0.0</td>\n",
              "      <td>0.0</td>\n",
              "      <td>0.0</td>\n",
              "      <td>0.0</td>\n",
              "      <td>0.0</td>\n",
              "      <td>0.0</td>\n",
              "      <td>0.0</td>\n",
              "      <td>0.0</td>\n",
              "      <td>0.0</td>\n",
              "      <td>0.0</td>\n",
              "      <td>0.0</td>\n",
              "      <td>0.0</td>\n",
              "      <td>0.0</td>\n",
              "      <td>0.0</td>\n",
              "      <td>0.0</td>\n",
              "      <td>0.0</td>\n",
              "      <td>0.0</td>\n",
              "      <td>0.0</td>\n",
              "      <td>0.0</td>\n",
              "      <td>0.0</td>\n",
              "      <td>0.0</td>\n",
              "      <td>0.0</td>\n",
              "      <td>0.0</td>\n",
              "      <td>0.0</td>\n",
              "      <td>0.0</td>\n",
              "      <td>0.0</td>\n",
              "      <td>0.0</td>\n",
              "      <td>0.0</td>\n",
              "      <td>0.0</td>\n",
              "      <td>0.0</td>\n",
              "      <td>0.0</td>\n",
              "      <td>0.0</td>\n",
              "      <td>0.0</td>\n",
              "      <td>0.0</td>\n",
              "      <td>0.0</td>\n",
              "      <td>0.0</td>\n",
              "      <td>0.0</td>\n",
              "      <td>0.0</td>\n",
              "      <td>0.0</td>\n",
              "      <td>0.0</td>\n",
              "      <td>0.0</td>\n",
              "      <td>0.0</td>\n",
              "      <td>0.0</td>\n",
              "      <td>0.0</td>\n",
              "      <td>0.0</td>\n",
              "      <td>0.0</td>\n",
              "      <td>0.0</td>\n",
              "      <td>0.0</td>\n",
              "      <td>0.0</td>\n",
              "      <td>0.0</td>\n",
              "      <td>0.0</td>\n",
              "      <td>0.0</td>\n",
              "      <td>0.0</td>\n",
              "      <td>0.0</td>\n",
              "      <td>0.0</td>\n",
              "      <td>0.0</td>\n",
              "      <td>0.0</td>\n",
              "      <td>0.0</td>\n",
              "      <td>0.0</td>\n",
              "      <td>0.0</td>\n",
              "      <td>0.0</td>\n",
              "      <td>0.0</td>\n",
              "      <td>0.0</td>\n",
              "      <td>0.0</td>\n",
              "      <td>0.0</td>\n",
              "      <td>0.0</td>\n",
              "      <td>0.0</td>\n",
              "      <td>0.0</td>\n",
              "      <td>0.0</td>\n",
              "      <td>0.0</td>\n",
              "      <td>0.0</td>\n",
              "      <td>0.0</td>\n",
              "      <td>0.0</td>\n",
              "      <td>0.0</td>\n",
              "      <td>0.0</td>\n",
              "      <td>0.0</td>\n",
              "      <td>0.0</td>\n",
              "      <td>0.0</td>\n",
              "      <td>0.0</td>\n",
              "      <td>0.0</td>\n",
              "      <td>0.0</td>\n",
              "      <td>0.0</td>\n",
              "      <td>0.0</td>\n",
              "      <td>0.0</td>\n",
              "      <td>0.0</td>\n",
              "      <td>0.0</td>\n",
              "      <td>0.0</td>\n",
              "      <td>0.0</td>\n",
              "      <td>0.0</td>\n",
              "      <td>0.0</td>\n",
              "      <td>0.0</td>\n",
              "      <td>0.0</td>\n",
              "      <td>0.0</td>\n",
              "      <td>0.0</td>\n",
              "      <td>0.0</td>\n",
              "      <td>0.0</td>\n",
              "      <td>0.0</td>\n",
              "      <td>0.0</td>\n",
              "      <td>0.0</td>\n",
              "      <td>0.0</td>\n",
              "      <td>0.0</td>\n",
              "      <td>0.0</td>\n",
              "      <td>0.0</td>\n",
              "      <td>0.0</td>\n",
              "      <td>0.0</td>\n",
              "      <td>0.0</td>\n",
              "      <td>0.0</td>\n",
              "      <td>0.0</td>\n",
              "      <td>0.0</td>\n",
              "      <td>0.0</td>\n",
              "      <td>0.0</td>\n",
              "      <td>0.0</td>\n",
              "      <td>0.0</td>\n",
              "      <td>0.0</td>\n",
              "      <td>0.0</td>\n",
              "      <td>0.0</td>\n",
              "      <td>0.0</td>\n",
              "      <td>0.0</td>\n",
              "      <td>0.0</td>\n",
              "      <td>0.0</td>\n",
              "      <td>0.0</td>\n",
              "      <td>0.0</td>\n",
              "      <td>0.0</td>\n",
              "      <td>0.0</td>\n",
              "      <td>0.0</td>\n",
              "      <td>0.0</td>\n",
              "      <td>0.0</td>\n",
              "      <td>0.0</td>\n",
              "      <td>0.0</td>\n",
              "      <td>0.0</td>\n",
              "      <td>0.0</td>\n",
              "      <td>0.0</td>\n",
              "      <td>0.0</td>\n",
              "      <td>0.0</td>\n",
              "      <td>0.0</td>\n",
              "      <td>0.0</td>\n",
              "      <td>0.0</td>\n",
              "      <td>0.0</td>\n",
              "      <td>0.0</td>\n",
              "      <td>0.0</td>\n",
              "      <td>0.0</td>\n",
              "      <td>0.0</td>\n",
              "      <td>0.0</td>\n",
              "      <td>0.0</td>\n",
              "      <td>0.0</td>\n",
              "      <td>0.0</td>\n",
              "      <td>0.0</td>\n",
              "      <td>0.0</td>\n",
              "      <td>0.0</td>\n",
              "      <td>0.0</td>\n",
              "      <td>0.0</td>\n",
              "      <td>0.0</td>\n",
              "      <td>0.0</td>\n",
              "      <td>0.0</td>\n",
              "      <td>0.0</td>\n",
              "      <td>0.0</td>\n",
              "      <td>0.0</td>\n",
              "      <td>0.0</td>\n",
              "      <td>0.0</td>\n",
              "      <td>0.0</td>\n",
              "      <td>0.0</td>\n",
              "      <td>0.0</td>\n",
              "      <td>0.0</td>\n",
              "      <td>0.0</td>\n",
              "      <td>0.0</td>\n",
              "      <td>0.0</td>\n",
              "      <td>0.0</td>\n",
              "      <td>0.0</td>\n",
              "      <td>0.0</td>\n",
              "      <td>0.0</td>\n",
              "      <td>0.0</td>\n",
              "      <td>0.0</td>\n",
              "      <td>0.0</td>\n",
              "      <td>0.0</td>\n",
              "      <td>0.0</td>\n",
              "      <td>0.0</td>\n",
              "      <td>0.0</td>\n",
              "      <td>0.0</td>\n",
              "      <td>0.0</td>\n",
              "      <td>0.0</td>\n",
              "      <td>0.0</td>\n",
              "      <td>0.0</td>\n",
              "      <td>0.0</td>\n",
              "      <td>0.0</td>\n",
              "      <td>0.0</td>\n",
              "      <td>0.0</td>\n",
              "      <td>0.0</td>\n",
              "      <td>0.0</td>\n",
              "      <td>0.0</td>\n",
              "      <td>0.0</td>\n",
              "      <td>0.0</td>\n",
              "      <td>0.0</td>\n",
              "      <td>0.0</td>\n",
              "      <td>0.0</td>\n",
              "      <td>0.0</td>\n",
              "      <td>0.14642</td>\n",
              "      <td>0.0</td>\n",
              "      <td>0.0</td>\n",
              "      <td>0.0</td>\n",
              "      <td>0.0</td>\n",
              "      <td>0.0</td>\n",
              "      <td>0.0</td>\n",
              "      <td>0.0</td>\n",
              "      <td>0.0</td>\n",
              "      <td>0.0</td>\n",
              "      <td>0.0</td>\n",
              "      <td>0.0</td>\n",
              "      <td>0.0</td>\n",
              "      <td>0.0</td>\n",
              "      <td>0.0</td>\n",
              "      <td>0.0</td>\n",
              "      <td>0.0</td>\n",
              "      <td>0.0</td>\n",
              "      <td>0.0</td>\n",
              "      <td>0.0</td>\n",
              "      <td>0.0</td>\n",
              "      <td>0.0</td>\n",
              "      <td>0.0</td>\n",
              "      <td>0.0</td>\n",
              "      <td>0.0</td>\n",
              "      <td>0.0</td>\n",
              "      <td>0.0</td>\n",
              "      <td>0.0</td>\n",
              "      <td>0.0</td>\n",
              "      <td>0.0</td>\n",
              "      <td>0.0</td>\n",
              "      <td>0.0</td>\n",
              "      <td>0.0</td>\n",
              "      <td>0.0</td>\n",
              "      <td>0.0</td>\n",
              "      <td>0.0</td>\n",
              "      <td>0.0</td>\n",
              "      <td>0.0</td>\n",
              "      <td>0.0</td>\n",
              "      <td>0.0</td>\n",
              "      <td>0.0</td>\n",
              "      <td>0.0</td>\n",
              "      <td>0.0</td>\n",
              "      <td>0.0</td>\n",
              "      <td>0.0</td>\n",
              "      <td>0.0</td>\n",
              "      <td>0.0</td>\n",
              "      <td>0.0</td>\n",
              "      <td>0.0</td>\n",
              "      <td>0.0</td>\n",
              "      <td>0.0</td>\n",
              "      <td>0.0</td>\n",
              "      <td>0.0</td>\n",
              "      <td>0.0</td>\n",
              "      <td>0.0</td>\n",
              "      <td>0.0</td>\n",
              "      <td>0.0</td>\n",
              "      <td>0.0</td>\n",
              "      <td>0.0</td>\n",
              "      <td>0.0</td>\n",
              "      <td>0.0</td>\n",
              "      <td>0.0</td>\n",
              "      <td>0.0</td>\n",
              "      <td>0.0</td>\n",
              "      <td>0.0</td>\n",
              "      <td>0.0</td>\n",
              "      <td>0.0</td>\n",
              "      <td>0.0</td>\n",
              "      <td>0.0</td>\n",
              "      <td>0.0</td>\n",
              "      <td>0.0</td>\n",
              "      <td>0.0</td>\n",
              "      <td>0.0</td>\n",
              "      <td>0.0</td>\n",
              "      <td>0.0</td>\n",
              "      <td>0.0</td>\n",
              "      <td>0.0</td>\n",
              "      <td>0.0</td>\n",
              "      <td>0.0</td>\n",
              "      <td>0.0</td>\n",
              "      <td>0.0</td>\n",
              "      <td>0.0</td>\n",
              "      <td>0.0</td>\n",
              "      <td>0.0</td>\n",
              "      <td>0.0</td>\n",
              "      <td>0.0</td>\n",
              "      <td>0.0</td>\n",
              "      <td>0.0</td>\n",
              "      <td>0.0</td>\n",
              "      <td>0.0</td>\n",
              "      <td>0.0</td>\n",
              "      <td>0.0</td>\n",
              "      <td>0.0</td>\n",
              "      <td>0.0</td>\n",
              "      <td>0.0</td>\n",
              "      <td>0.0</td>\n",
              "      <td>0.0</td>\n",
              "      <td>0.0</td>\n",
              "      <td>0.0</td>\n",
              "      <td>0.0</td>\n",
              "      <td>0.0</td>\n",
              "      <td>0.0</td>\n",
              "      <td>0.0</td>\n",
              "      <td>0.0</td>\n",
              "      <td>0.0</td>\n",
              "      <td>0.0</td>\n",
              "      <td>0.0</td>\n",
              "      <td>0.0</td>\n",
              "      <td>0.0</td>\n",
              "      <td>0.0</td>\n",
              "      <td>0.0</td>\n",
              "      <td>0.0</td>\n",
              "      <td>0.0</td>\n",
              "      <td>0.0</td>\n",
              "      <td>0.0</td>\n",
              "      <td>0.0</td>\n",
              "      <td>0.0</td>\n",
              "      <td>0.0</td>\n",
              "      <td>0.0</td>\n",
              "      <td>0.0</td>\n",
              "      <td>0.0</td>\n",
              "      <td>0.0</td>\n",
              "      <td>0.0</td>\n",
              "      <td>0.0</td>\n",
              "      <td>0.0</td>\n",
              "      <td>0.0</td>\n",
              "      <td>0.0</td>\n",
              "      <td>0.0</td>\n",
              "      <td>0.0</td>\n",
              "      <td>0.0</td>\n",
              "      <td>0.0</td>\n",
              "      <td>0.0</td>\n",
              "      <td>0.0</td>\n",
              "      <td>0.0</td>\n",
              "      <td>0.0</td>\n",
              "      <td>0.0</td>\n",
              "      <td>0.0</td>\n",
              "      <td>0.0</td>\n",
              "      <td>0.0</td>\n",
              "      <td>0.0</td>\n",
              "      <td>0.0</td>\n",
              "      <td>0.0</td>\n",
              "      <td>0.0</td>\n",
              "      <td>0.0</td>\n",
              "      <td>0.0</td>\n",
              "      <td>0.0</td>\n",
              "      <td>0.0</td>\n",
              "      <td>0.0</td>\n",
              "      <td>0.0</td>\n",
              "      <td>0.0</td>\n",
              "      <td>0.0</td>\n",
              "      <td>0.0</td>\n",
              "      <td>0.0</td>\n",
              "      <td>0.0</td>\n",
              "      <td>0.0</td>\n",
              "      <td>0.0</td>\n",
              "      <td>0.0</td>\n",
              "      <td>0.0</td>\n",
              "      <td>0.0</td>\n",
              "      <td>0.0</td>\n",
              "      <td>0.0</td>\n",
              "      <td>0.0</td>\n",
              "      <td>0.0</td>\n",
              "      <td>0.0</td>\n",
              "      <td>0.0</td>\n",
              "      <td>0.0</td>\n",
              "      <td>0.0</td>\n",
              "      <td>0.0</td>\n",
              "      <td>0.0</td>\n",
              "      <td>0.0</td>\n",
              "      <td>0.0</td>\n",
              "      <td>0.0</td>\n",
              "      <td>0.0</td>\n",
              "      <td>0.0</td>\n",
              "      <td>0.0</td>\n",
              "      <td>0.0</td>\n",
              "      <td>0.0</td>\n",
              "      <td>0.0</td>\n",
              "      <td>0.0</td>\n",
              "      <td>0.0</td>\n",
              "      <td>0.0</td>\n",
              "      <td>0.0</td>\n",
              "      <td>0.0</td>\n",
              "      <td>0.0</td>\n",
              "      <td>0.0</td>\n",
              "      <td>0.0</td>\n",
              "      <td>0.0</td>\n",
              "      <td>0.0</td>\n",
              "      <td>0.0</td>\n",
              "      <td>0.0</td>\n",
              "      <td>0.0</td>\n",
              "      <td>0.0</td>\n",
              "      <td>0.0</td>\n",
              "      <td>0.0</td>\n",
              "      <td>0.0</td>\n",
              "      <td>0.0</td>\n",
              "      <td>0.0</td>\n",
              "      <td>0.0</td>\n",
              "      <td>0.0</td>\n",
              "      <td>0.0</td>\n",
              "      <td>0.0</td>\n",
              "      <td>0.0</td>\n",
              "      <td>0.0</td>\n",
              "      <td>0.0</td>\n",
              "      <td>0.0</td>\n",
              "      <td>0.0</td>\n",
              "      <td>0.0</td>\n",
              "      <td>0.0</td>\n",
              "      <td>0.0</td>\n",
              "      <td>0.0</td>\n",
              "      <td>0.0</td>\n",
              "      <td>0.0</td>\n",
              "      <td>0.0</td>\n",
              "      <td>0.0</td>\n",
              "      <td>0.0</td>\n",
              "      <td>0.0</td>\n",
              "      <td>0.0</td>\n",
              "      <td>0.0</td>\n",
              "      <td>0.0</td>\n",
              "      <td>0.0</td>\n",
              "      <td>0.0</td>\n",
              "      <td>0.0</td>\n",
              "      <td>0.0</td>\n",
              "      <td>0.0</td>\n",
              "      <td>0.0</td>\n",
              "      <td>0.0</td>\n",
              "      <td>0.0</td>\n",
              "      <td>0.0</td>\n",
              "      <td>0.0</td>\n",
              "      <td>0.0</td>\n",
              "      <td>0.0</td>\n",
              "      <td>0.0</td>\n",
              "      <td>0.0</td>\n",
              "      <td>0.0</td>\n",
              "      <td>0.0</td>\n",
              "      <td>0.0</td>\n",
              "      <td>0.0</td>\n",
              "      <td>0.0</td>\n",
              "      <td>0.0</td>\n",
              "      <td>0.0</td>\n",
              "      <td>0.0</td>\n",
              "      <td>0.0</td>\n",
              "      <td>0.0</td>\n",
              "      <td>0.0</td>\n",
              "      <td>0.0</td>\n",
              "      <td>0.0</td>\n",
              "      <td>0.0</td>\n",
              "      <td>0.0</td>\n",
              "      <td>0.0</td>\n",
              "      <td>0.0</td>\n",
              "      <td>0.0</td>\n",
              "      <td>0.0</td>\n",
              "      <td>0.0</td>\n",
              "      <td>0.0</td>\n",
              "      <td>0.0</td>\n",
              "      <td>0.0</td>\n",
              "      <td>0.0</td>\n",
              "      <td>0.0</td>\n",
              "      <td>0.0</td>\n",
              "      <td>0.0</td>\n",
              "      <td>0.0</td>\n",
              "      <td>0.0</td>\n",
              "      <td>0.0</td>\n",
              "      <td>0.0</td>\n",
              "      <td>0.153163</td>\n",
              "      <td>0.0</td>\n",
              "      <td>0.0</td>\n",
              "      <td>0.0</td>\n",
              "      <td>0.0</td>\n",
              "      <td>0.0</td>\n",
              "      <td>0.0</td>\n",
              "      <td>0.0</td>\n",
              "      <td>0.0</td>\n",
              "      <td>0.0</td>\n",
              "      <td>0.0</td>\n",
              "      <td>0.0</td>\n",
              "      <td>0.0</td>\n",
              "      <td>0.0</td>\n",
              "      <td>0.0</td>\n",
              "      <td>0.0</td>\n",
              "      <td>0.0</td>\n",
              "      <td>0.0</td>\n",
              "      <td>0.125157</td>\n",
              "      <td>0.0</td>\n",
              "      <td>0.0</td>\n",
              "      <td>0.0</td>\n",
              "      <td>0.0</td>\n",
              "      <td>0.0</td>\n",
              "      <td>0.0</td>\n",
              "      <td>0.0</td>\n",
              "      <td>0.0</td>\n",
              "      <td>0.0</td>\n",
              "      <td>0.0</td>\n",
              "      <td>0.0</td>\n",
              "      <td>0.0</td>\n",
              "      <td>0.0</td>\n",
              "      <td>0.0</td>\n",
              "      <td>0.0</td>\n",
              "      <td>0.0</td>\n",
              "      <td>0.0</td>\n",
              "      <td>0.0</td>\n",
              "      <td>0.0</td>\n",
              "      <td>0.149754</td>\n",
              "      <td>0.0</td>\n",
              "      <td>0.0</td>\n",
              "      <td>0.0</td>\n",
              "      <td>0.0</td>\n",
              "      <td>0.0</td>\n",
              "      <td>0.0</td>\n",
              "      <td>0.0</td>\n",
              "      <td>0.0</td>\n",
              "      <td>0.0</td>\n",
              "      <td>0.0</td>\n",
              "      <td>0.0</td>\n",
              "      <td>0.0</td>\n",
              "      <td>0.0</td>\n",
              "      <td>0.0</td>\n",
              "      <td>0.0</td>\n",
              "      <td>0.0</td>\n",
              "      <td>0.0</td>\n",
              "      <td>0.0</td>\n",
              "      <td>0.0</td>\n",
              "      <td>0.0</td>\n",
              "      <td>0.0</td>\n",
              "      <td>0.0</td>\n",
              "      <td>0.0</td>\n",
              "      <td>0.0</td>\n",
              "      <td>0.0</td>\n",
              "      <td>0.0</td>\n",
              "      <td>0.0</td>\n",
              "      <td>0.0</td>\n",
              "      <td>0.0</td>\n",
              "      <td>0.0</td>\n",
              "      <td>0.0</td>\n",
              "      <td>0.0</td>\n",
              "      <td>0.0</td>\n",
              "      <td>0.0</td>\n",
              "      <td>0.0</td>\n",
              "      <td>0.0</td>\n",
              "      <td>0.0</td>\n",
              "      <td>0.0</td>\n",
              "      <td>0.0</td>\n",
              "      <td>0.0</td>\n",
              "      <td>0.0</td>\n",
              "      <td>0.0</td>\n",
              "      <td>0.0</td>\n",
              "      <td>0.0</td>\n",
              "      <td>0.0</td>\n",
              "      <td>0.0</td>\n",
              "      <td>0.0</td>\n",
              "      <td>0.0</td>\n",
              "      <td>0.0</td>\n",
              "      <td>0.0</td>\n",
              "      <td>0.0</td>\n",
              "      <td>0.0</td>\n",
              "      <td>0.0</td>\n",
              "      <td>0.0</td>\n",
              "      <td>0.0</td>\n",
              "      <td>0.0</td>\n",
              "      <td>0.0</td>\n",
              "      <td>0.0</td>\n",
              "      <td>0.0</td>\n",
              "      <td>0.0</td>\n",
              "      <td>0.0</td>\n",
              "      <td>0.0</td>\n",
              "      <td>0.0</td>\n",
              "      <td>0.0</td>\n",
              "      <td>0.0</td>\n",
              "      <td>0.0</td>\n",
              "      <td>0.0</td>\n",
              "      <td>0.0</td>\n",
              "      <td>0.0</td>\n",
              "      <td>0.0</td>\n",
              "      <td>0.0</td>\n",
              "      <td>0.0</td>\n",
              "      <td>0.0</td>\n",
              "      <td>0.0</td>\n",
              "      <td>0.0</td>\n",
              "      <td>0.0</td>\n",
              "      <td>0.0</td>\n",
              "      <td>0.0</td>\n",
              "      <td>0.0</td>\n",
              "      <td>0.0</td>\n",
              "      <td>0.0</td>\n",
              "      <td>0.0</td>\n",
              "      <td>0.0</td>\n",
              "      <td>0.0</td>\n",
              "      <td>0.0</td>\n",
              "      <td>0.0</td>\n",
              "      <td>0.0</td>\n",
              "      <td>0.0</td>\n",
              "      <td>0.0</td>\n",
              "      <td>0.0</td>\n",
              "      <td>0.0</td>\n",
              "      <td>0.0</td>\n",
              "      <td>0.0</td>\n",
              "      <td>0.0</td>\n",
              "      <td>0.0</td>\n",
              "      <td>0.0</td>\n",
              "      <td>0.0</td>\n",
              "      <td>0.0</td>\n",
              "      <td>0.0</td>\n",
              "      <td>0.0</td>\n",
              "      <td>0.0</td>\n",
              "      <td>0.0</td>\n",
              "      <td>0.0</td>\n",
              "      <td>0.0</td>\n",
              "      <td>0.0</td>\n",
              "      <td>0.0</td>\n",
              "      <td>0.0</td>\n",
              "      <td>0.0</td>\n",
              "      <td>0.0</td>\n",
              "      <td>0.0</td>\n",
              "      <td>0.0</td>\n",
              "      <td>0.0</td>\n",
              "      <td>0.0</td>\n",
              "      <td>0.0</td>\n",
              "      <td>0.0</td>\n",
              "      <td>0.0</td>\n",
              "      <td>0.0</td>\n",
              "      <td>0.0</td>\n",
              "      <td>0.0</td>\n",
              "      <td>0.0</td>\n",
              "      <td>0.0</td>\n",
              "      <td>0.0</td>\n",
              "      <td>0.0</td>\n",
              "      <td>0.0</td>\n",
              "      <td>0.0</td>\n",
              "      <td>0.0</td>\n",
              "      <td>0.0</td>\n",
              "      <td>0.0</td>\n",
              "      <td>0.0</td>\n",
              "      <td>0.0</td>\n",
              "      <td>0.0</td>\n",
              "      <td>0.0</td>\n",
              "      <td>0.0</td>\n",
              "      <td>0.0</td>\n",
              "      <td>0.0</td>\n",
              "      <td>0.0</td>\n",
              "      <td>0.0</td>\n",
              "      <td>0.0</td>\n",
              "      <td>0.0</td>\n",
              "      <td>0.0</td>\n",
              "      <td>0.0</td>\n",
              "      <td>0.0</td>\n",
              "      <td>0.0</td>\n",
              "      <td>0.0</td>\n",
              "      <td>0.0</td>\n",
              "      <td>0.117169</td>\n",
              "      <td>0.0</td>\n",
              "      <td>0.0</td>\n",
              "      <td>0.0</td>\n",
              "      <td>0.0</td>\n",
              "      <td>0.0</td>\n",
              "      <td>0.0</td>\n",
              "      <td>0.0</td>\n",
              "      <td>0.0</td>\n",
              "      <td>0.0</td>\n",
              "      <td>0.0</td>\n",
              "      <td>0.0</td>\n",
              "      <td>0.0</td>\n",
              "      <td>0.0</td>\n",
              "      <td>0.0</td>\n",
              "      <td>0.0</td>\n",
              "      <td>0.0</td>\n",
              "      <td>0.0</td>\n",
              "      <td>0.0</td>\n",
              "      <td>0.0</td>\n",
              "      <td>0.0</td>\n",
              "      <td>0.0</td>\n",
              "      <td>0.0</td>\n",
              "      <td>0.0</td>\n",
              "      <td>0.0</td>\n",
              "      <td>0.0</td>\n",
              "      <td>0.0</td>\n",
              "      <td>0.0</td>\n",
              "      <td>0.0</td>\n",
              "      <td>0.0</td>\n",
              "      <td>0.0</td>\n",
              "      <td>0.0</td>\n",
              "      <td>0.0</td>\n",
              "      <td>0.0</td>\n",
              "      <td>0.0</td>\n",
              "      <td>0.0</td>\n",
              "      <td>0.0</td>\n",
              "      <td>0.0</td>\n",
              "      <td>0.0</td>\n",
              "      <td>0.0</td>\n",
              "      <td>0.0</td>\n",
              "      <td>0.0</td>\n",
              "      <td>0.0</td>\n",
              "      <td>0.0</td>\n",
              "      <td>0.0</td>\n",
              "      <td>0.0</td>\n",
              "      <td>0.0</td>\n",
              "      <td>0.0</td>\n",
              "      <td>0.0</td>\n",
              "      <td>0.0</td>\n",
              "      <td>0.0</td>\n",
              "      <td>0.0</td>\n",
              "      <td>0.0</td>\n",
              "      <td>0.0</td>\n",
              "      <td>0.0</td>\n",
              "      <td>0.0</td>\n",
              "      <td>0.0</td>\n",
              "      <td>0.0</td>\n",
              "      <td>0.0</td>\n",
              "      <td>0.0</td>\n",
              "      <td>0.0</td>\n",
              "      <td>0.0</td>\n",
              "      <td>0.0</td>\n",
              "      <td>0.0</td>\n",
              "      <td>0.0</td>\n",
              "      <td>0.0</td>\n",
              "      <td>0.0</td>\n",
              "      <td>0.0</td>\n",
              "      <td>0.0</td>\n",
              "      <td>0.0</td>\n",
              "      <td>0.0</td>\n",
              "      <td>0.0</td>\n",
              "      <td>0.0</td>\n",
              "      <td>0.0</td>\n",
              "      <td>0.0</td>\n",
              "      <td>0.0</td>\n",
              "      <td>0.0</td>\n",
              "      <td>0.0</td>\n",
              "      <td>0.0</td>\n",
              "      <td>0.0</td>\n",
              "      <td>0.0</td>\n",
              "      <td>0.0</td>\n",
              "      <td>0.0</td>\n",
              "      <td>0.0</td>\n",
              "      <td>0.0</td>\n",
              "      <td>0.0</td>\n",
              "      <td>0.0</td>\n",
              "      <td>0.0</td>\n",
              "      <td>0.0</td>\n",
              "      <td>0.0</td>\n",
              "      <td>0.0</td>\n",
              "      <td>0.0</td>\n",
              "      <td>0.0</td>\n",
              "      <td>0.0</td>\n",
              "      <td>0.0</td>\n",
              "      <td>0.0</td>\n",
              "      <td>0.0</td>\n",
              "      <td>0.0</td>\n",
              "      <td>0.146366</td>\n",
              "      <td>0.0</td>\n",
              "      <td>0.0</td>\n",
              "      <td>0.0</td>\n",
              "      <td>0.0</td>\n",
              "      <td>0.0</td>\n",
              "      <td>0.0</td>\n",
              "      <td>0.0</td>\n",
              "      <td>0.0</td>\n",
              "      <td>0.0</td>\n",
              "      <td>0.0</td>\n",
              "      <td>0.0</td>\n",
              "      <td>0.0</td>\n",
              "      <td>0.0</td>\n",
              "      <td>0.0</td>\n",
              "      <td>0.0</td>\n",
              "      <td>0.0</td>\n",
              "      <td>0.0</td>\n",
              "      <td>0.0</td>\n",
              "      <td>0.0</td>\n",
              "      <td>0.0</td>\n",
              "      <td>0.0</td>\n",
              "      <td>0.0</td>\n",
              "      <td>0.0</td>\n",
              "      <td>0.0</td>\n",
              "      <td>0.0</td>\n",
              "      <td>0.0</td>\n",
              "      <td>0.0</td>\n",
              "      <td>0.0</td>\n",
              "      <td>0.0</td>\n",
              "      <td>0.0</td>\n",
              "      <td>0.0</td>\n",
              "      <td>0.0</td>\n",
              "      <td>0.0</td>\n",
              "      <td>0.0</td>\n",
              "      <td>0.0</td>\n",
              "      <td>0.0</td>\n",
              "      <td>0.0</td>\n",
              "      <td>0.0</td>\n",
              "      <td>0.0</td>\n",
              "      <td>0.0</td>\n",
              "      <td>0.149172</td>\n",
              "      <td>0.0</td>\n",
              "      <td>0.0</td>\n",
              "      <td>0.0</td>\n",
              "      <td>0.0</td>\n",
              "      <td>0.0</td>\n",
              "      <td>0.0</td>\n",
              "      <td>0.0</td>\n",
              "      <td>0.0</td>\n",
              "      <td>0.0</td>\n",
              "      <td>0.0</td>\n",
              "      <td>0.0</td>\n",
              "      <td>0.0</td>\n",
              "      <td>0.0</td>\n",
              "      <td>0.0</td>\n",
              "      <td>0.0</td>\n",
              "      <td>0.0</td>\n",
              "      <td>0.0</td>\n",
              "      <td>0.0</td>\n",
              "      <td>0.0</td>\n",
              "      <td>0.0</td>\n",
              "      <td>0.0</td>\n",
              "      <td>0.0</td>\n",
              "      <td>0.0</td>\n",
              "      <td>0.0</td>\n",
              "      <td>0.0</td>\n",
              "      <td>0.0</td>\n",
              "      <td>0.0</td>\n",
              "      <td>0.0</td>\n",
              "      <td>0.0</td>\n",
              "      <td>0.0</td>\n",
              "      <td>0.0</td>\n",
              "      <td>0.0</td>\n",
              "      <td>0.0</td>\n",
              "      <td>0.0</td>\n",
              "      <td>0.0</td>\n",
              "      <td>0.0</td>\n",
              "      <td>0.0</td>\n",
              "      <td>0.0</td>\n",
              "      <td>0.0</td>\n",
              "      <td>0.0</td>\n",
              "      <td>0.0</td>\n",
              "      <td>0.0</td>\n",
              "      <td>0.0</td>\n",
              "      <td>0.0</td>\n",
              "      <td>0.0</td>\n",
              "      <td>0.0</td>\n",
              "      <td>0.0</td>\n",
              "      <td>0.0</td>\n",
              "      <td>0.0</td>\n",
              "      <td>0.0</td>\n",
              "      <td>0.0</td>\n",
              "      <td>0.0</td>\n",
              "      <td>0.0</td>\n",
              "      <td>0.0</td>\n",
              "      <td>0.0</td>\n",
              "      <td>0.0</td>\n",
              "      <td>0.0</td>\n",
              "      <td>0.0</td>\n",
              "      <td>0.0</td>\n",
              "      <td>0.0</td>\n",
              "      <td>0.0</td>\n",
              "      <td>0.0</td>\n",
              "      <td>0.0</td>\n",
              "      <td>0.0</td>\n",
              "      <td>0.0</td>\n",
              "      <td>0.0</td>\n",
              "      <td>0.0</td>\n",
              "      <td>0.0</td>\n",
              "      <td>0.0</td>\n",
              "      <td>0.0</td>\n",
              "      <td>0.0</td>\n",
              "      <td>0.0</td>\n",
              "      <td>0.0</td>\n",
              "      <td>0.0</td>\n",
              "      <td>0.0</td>\n",
              "      <td>0.0</td>\n",
              "      <td>0.0</td>\n",
              "      <td>0.0</td>\n",
              "      <td>0.0</td>\n",
              "      <td>0.0</td>\n",
              "      <td>0.0</td>\n",
              "      <td>0.0</td>\n",
              "      <td>0.0</td>\n",
              "      <td>0.0</td>\n",
              "      <td>0.0</td>\n",
              "      <td>0.0</td>\n",
              "      <td>0.0</td>\n",
              "      <td>0.0</td>\n",
              "      <td>0.0</td>\n",
              "      <td>0.0</td>\n",
              "      <td>0.0</td>\n",
              "      <td>0.0</td>\n",
              "      <td>0.0</td>\n",
              "      <td>0.0</td>\n",
              "      <td>0.0</td>\n",
              "      <td>0.0</td>\n",
              "      <td>0.0</td>\n",
              "      <td>0.0</td>\n",
              "      <td>0.0</td>\n",
              "      <td>0.0</td>\n",
              "      <td>0.0</td>\n",
              "      <td>0.0</td>\n",
              "      <td>0.0</td>\n",
              "      <td>0.0</td>\n",
              "      <td>0.0</td>\n",
              "      <td>0.0</td>\n",
              "      <td>0.0</td>\n",
              "      <td>0.0</td>\n",
              "      <td>0.0</td>\n",
              "      <td>0.0</td>\n",
              "      <td>0.0</td>\n",
              "      <td>0.0</td>\n",
              "      <td>0.0</td>\n",
              "      <td>0.0</td>\n",
              "      <td>0.0</td>\n",
              "      <td>0.0</td>\n",
              "      <td>0.0</td>\n",
              "      <td>0.0</td>\n",
              "      <td>0.0</td>\n",
              "      <td>0.0</td>\n",
              "      <td>0.0</td>\n",
              "      <td>0.0</td>\n",
              "      <td>0.0</td>\n",
              "      <td>0.0</td>\n",
              "      <td>0.0</td>\n",
              "      <td>0.0</td>\n",
              "      <td>0.0</td>\n",
              "      <td>0.0</td>\n",
              "      <td>0.0</td>\n",
              "      <td>0.0</td>\n",
              "      <td>0.0</td>\n",
              "      <td>0.0</td>\n",
              "      <td>0.0</td>\n",
              "      <td>0.0</td>\n",
              "      <td>0.0</td>\n",
              "      <td>0.0</td>\n",
              "      <td>0.0</td>\n",
              "      <td>0.0</td>\n",
              "      <td>0.0</td>\n",
              "      <td>0.0</td>\n",
              "      <td>0.0</td>\n",
              "      <td>0.0</td>\n",
              "      <td>0.0</td>\n",
              "      <td>0.0</td>\n",
              "      <td>0.0</td>\n",
              "      <td>0.0</td>\n",
              "      <td>0.0</td>\n",
              "      <td>0.0</td>\n",
              "      <td>0.0</td>\n",
              "      <td>0.0</td>\n",
              "      <td>0.0</td>\n",
              "      <td>0.0</td>\n",
              "      <td>0.0</td>\n",
              "      <td>0.0</td>\n",
              "      <td>0.0</td>\n",
              "      <td>0.0</td>\n",
              "      <td>0.0</td>\n",
              "      <td>0.0</td>\n",
              "      <td>0.0</td>\n",
              "      <td>0.0</td>\n",
              "      <td>0.0</td>\n",
              "      <td>0.0</td>\n",
              "      <td>0.0</td>\n",
              "      <td>0.0</td>\n",
              "      <td>0.0</td>\n",
              "      <td>0.0</td>\n",
              "      <td>0.0</td>\n",
              "      <td>0.0</td>\n",
              "      <td>0.0</td>\n",
              "      <td>0.0</td>\n",
              "      <td>0.0</td>\n",
              "      <td>0.0</td>\n",
              "      <td>0.0</td>\n",
              "      <td>0.0</td>\n",
              "      <td>0.0</td>\n",
              "      <td>0.0</td>\n",
              "      <td>0.0</td>\n",
              "      <td>0.0</td>\n",
              "      <td>0.0</td>\n",
              "      <td>0.0</td>\n",
              "      <td>0.0</td>\n",
              "      <td>0.0</td>\n",
              "      <td>0.0</td>\n",
              "      <td>0.0</td>\n",
              "      <td>0.0</td>\n",
              "      <td>0.0</td>\n",
              "      <td>0.0</td>\n",
              "      <td>0.0</td>\n",
              "      <td>0.0</td>\n",
              "      <td>0.0</td>\n",
              "      <td>0.0</td>\n",
              "      <td>0.0</td>\n",
              "      <td>0.0</td>\n",
              "      <td>0.0</td>\n",
              "      <td>0.0</td>\n",
              "      <td>0.0</td>\n",
              "      <td>0.0</td>\n",
              "      <td>0.0</td>\n",
              "      <td>0.0</td>\n",
              "      <td>0.0</td>\n",
              "      <td>0.0</td>\n",
              "      <td>0.0</td>\n",
              "      <td>0.0</td>\n",
              "      <td>0.0</td>\n",
              "      <td>0.0</td>\n",
              "      <td>0.0</td>\n",
              "      <td>0.0</td>\n",
              "      <td>0.0</td>\n",
              "      <td>0.0</td>\n",
              "      <td>0.0</td>\n",
              "      <td>0.0</td>\n",
              "      <td>0.0</td>\n",
              "      <td>0.0</td>\n",
              "      <td>0.0</td>\n",
              "      <td>0.0</td>\n",
              "      <td>0.0</td>\n",
              "      <td>0.0</td>\n",
              "      <td>0.0</td>\n",
              "      <td>0.0</td>\n",
              "      <td>0.0</td>\n",
              "      <td>0.0</td>\n",
              "      <td>0.0</td>\n",
              "      <td>0.0</td>\n",
              "      <td>0.0</td>\n",
              "      <td>0.0</td>\n",
              "      <td>0.0</td>\n",
              "      <td>0.0</td>\n",
              "      <td>0.0</td>\n",
              "      <td>0.0</td>\n",
              "      <td>0.0</td>\n",
              "      <td>0.0</td>\n",
              "      <td>0.0</td>\n",
              "      <td>0.0</td>\n",
              "      <td>0.0</td>\n",
              "      <td>0.0</td>\n",
              "      <td>0.0</td>\n",
              "      <td>0.0</td>\n",
              "      <td>0.0</td>\n",
              "      <td>0.0</td>\n",
              "      <td>0.0</td>\n",
              "      <td>0.0</td>\n",
              "      <td>0.0</td>\n",
              "      <td>0.0</td>\n",
              "      <td>0.0</td>\n",
              "      <td>0.0</td>\n",
              "      <td>0.0</td>\n",
              "      <td>0.0</td>\n",
              "      <td>0.0</td>\n",
              "      <td>0.0</td>\n",
              "      <td>0.0</td>\n",
              "      <td>0.0</td>\n",
              "      <td>0.0</td>\n",
              "      <td>0.0</td>\n",
              "      <td>0.0</td>\n",
              "      <td>0.0</td>\n",
              "      <td>0.0</td>\n",
              "      <td>0.0</td>\n",
              "      <td>0.0</td>\n",
              "      <td>0.0</td>\n",
              "      <td>0.0</td>\n",
              "      <td>0.0</td>\n",
              "      <td>0.0</td>\n",
              "      <td>0.0</td>\n",
              "      <td>0.0</td>\n",
              "      <td>0.0</td>\n",
              "      <td>0.0</td>\n",
              "      <td>0.0</td>\n",
              "      <td>0.0</td>\n",
              "      <td>0.0</td>\n",
              "      <td>0.0</td>\n",
              "      <td>0.0</td>\n",
              "      <td>0.0</td>\n",
              "      <td>0.0</td>\n",
              "      <td>0.0</td>\n",
              "      <td>0.0</td>\n",
              "      <td>0.0</td>\n",
              "      <td>0.0</td>\n",
              "      <td>0.0</td>\n",
              "      <td>0.0</td>\n",
              "      <td>0.0</td>\n",
              "      <td>0.0</td>\n",
              "      <td>0.0</td>\n",
              "      <td>0.0</td>\n",
              "      <td>0.0</td>\n",
              "      <td>0.0</td>\n",
              "      <td>0.0</td>\n",
              "      <td>0.0</td>\n",
              "      <td>0.0</td>\n",
              "      <td>0.0</td>\n",
              "      <td>0.0</td>\n",
              "      <td>0.0</td>\n",
              "      <td>0.0</td>\n",
              "      <td>0.0</td>\n",
              "      <td>0.0</td>\n",
              "      <td>0.0</td>\n",
              "      <td>0.0</td>\n",
              "      <td>0.0</td>\n",
              "      <td>0.0</td>\n",
              "      <td>0.0</td>\n",
              "      <td>0.0</td>\n",
              "      <td>0.0</td>\n",
              "      <td>0.0</td>\n",
              "      <td>0.0</td>\n",
              "      <td>0.0</td>\n",
              "      <td>0.0</td>\n",
              "      <td>0.0</td>\n",
              "      <td>0.0</td>\n",
              "      <td>0.0</td>\n",
              "      <td>0.0</td>\n",
              "      <td>0.0</td>\n",
              "      <td>0.0</td>\n",
              "      <td>0.0</td>\n",
              "      <td>0.0</td>\n",
              "      <td>0.0</td>\n",
              "      <td>0.0</td>\n",
              "      <td>0.0</td>\n",
              "      <td>0.0</td>\n",
              "      <td>0.0</td>\n",
              "      <td>0.0</td>\n",
              "      <td>0.0</td>\n",
              "      <td>0.0</td>\n",
              "      <td>0.0</td>\n",
              "      <td>0.0</td>\n",
              "      <td>0.0</td>\n",
              "      <td>0.0</td>\n",
              "      <td>0.0</td>\n",
              "      <td>0.0</td>\n",
              "      <td>0.0</td>\n",
              "      <td>0.0</td>\n",
              "      <td>0.0</td>\n",
              "      <td>0.0</td>\n",
              "      <td>0.0</td>\n",
              "      <td>0.0</td>\n",
              "      <td>0.0</td>\n",
              "      <td>0.0</td>\n",
              "      <td>0.0</td>\n",
              "      <td>0.0</td>\n",
              "      <td>0.0</td>\n",
              "      <td>0.0</td>\n",
              "      <td>0.0</td>\n",
              "      <td>0.124852</td>\n",
              "      <td>0.0</td>\n",
              "      <td>0.0</td>\n",
              "      <td>0.0</td>\n",
              "      <td>0.0</td>\n",
              "      <td>0.0</td>\n",
              "      <td>0.0</td>\n",
              "      <td>0.0</td>\n",
              "      <td>0.0</td>\n",
              "      <td>0.0</td>\n",
              "      <td>0.0</td>\n",
              "      <td>0.0</td>\n",
              "      <td>0.0</td>\n",
              "      <td>0.0</td>\n",
              "      <td>0.0</td>\n",
              "      <td>0.0</td>\n",
              "      <td>0.0</td>\n",
              "      <td>0.0</td>\n",
              "      <td>0.0</td>\n",
              "      <td>0.0</td>\n",
              "      <td>0.0</td>\n",
              "      <td>0.0</td>\n",
              "      <td>...</td>\n",
              "      <td>0.0</td>\n",
              "      <td>0.0</td>\n",
              "      <td>0.0</td>\n",
              "      <td>0.0</td>\n",
              "      <td>0.0</td>\n",
              "      <td>0.0</td>\n",
              "      <td>0.0</td>\n",
              "      <td>0.0</td>\n",
              "      <td>0.0</td>\n",
              "      <td>0.0</td>\n",
              "      <td>0.0</td>\n",
              "      <td>0.0</td>\n",
              "      <td>0.0</td>\n",
              "      <td>0.0</td>\n",
              "      <td>0.0</td>\n",
              "      <td>0.0</td>\n",
              "      <td>0.0</td>\n",
              "      <td>0.0</td>\n",
              "      <td>0.0</td>\n",
              "      <td>0.0</td>\n",
              "      <td>0.0</td>\n",
              "      <td>0.0</td>\n",
              "      <td>0.0</td>\n",
              "      <td>0.0</td>\n",
              "      <td>0.0</td>\n",
              "      <td>0.0</td>\n",
              "      <td>0.0</td>\n",
              "      <td>0.0</td>\n",
              "      <td>0.0</td>\n",
              "      <td>0.0</td>\n",
              "      <td>0.0</td>\n",
              "      <td>0.0</td>\n",
              "      <td>0.0</td>\n",
              "      <td>0.0</td>\n",
              "      <td>0.0</td>\n",
              "      <td>0.0</td>\n",
              "      <td>0.0</td>\n",
              "      <td>0.0</td>\n",
              "      <td>0.0</td>\n",
              "      <td>0.0</td>\n",
              "      <td>0.0</td>\n",
              "      <td>0.0</td>\n",
              "      <td>0.0</td>\n",
              "      <td>0.0</td>\n",
              "      <td>0.0</td>\n",
              "      <td>0.0</td>\n",
              "      <td>0.0</td>\n",
              "      <td>0.0</td>\n",
              "      <td>0.0</td>\n",
              "      <td>0.0</td>\n",
              "      <td>0.0</td>\n",
              "      <td>0.0</td>\n",
              "      <td>0.0</td>\n",
              "      <td>0.0</td>\n",
              "      <td>0.0</td>\n",
              "      <td>0.0</td>\n",
              "      <td>0.0</td>\n",
              "      <td>0.0</td>\n",
              "      <td>0.326059</td>\n",
              "      <td>0.0</td>\n",
              "      <td>0.0</td>\n",
              "      <td>0.0</td>\n",
              "      <td>0.0</td>\n",
              "      <td>0.0</td>\n",
              "      <td>0.0</td>\n",
              "      <td>0.0</td>\n",
              "      <td>0.0</td>\n",
              "      <td>0.0</td>\n",
              "      <td>0.0</td>\n",
              "      <td>0.0</td>\n",
              "      <td>0.0</td>\n",
              "      <td>0.0</td>\n",
              "      <td>0.0</td>\n",
              "      <td>0.0</td>\n",
              "      <td>0.0</td>\n",
              "      <td>0.0</td>\n",
              "      <td>0.0</td>\n",
              "      <td>0.0</td>\n",
              "      <td>0.0</td>\n",
              "      <td>0.0</td>\n",
              "      <td>0.0</td>\n",
              "      <td>0.0</td>\n",
              "      <td>0.0</td>\n",
              "      <td>0.0</td>\n",
              "      <td>0.0</td>\n",
              "      <td>0.0</td>\n",
              "      <td>0.0</td>\n",
              "      <td>0.0</td>\n",
              "      <td>0.0</td>\n",
              "      <td>0.0</td>\n",
              "      <td>0.0</td>\n",
              "      <td>0.0</td>\n",
              "      <td>0.0</td>\n",
              "      <td>0.0</td>\n",
              "      <td>0.0</td>\n",
              "      <td>0.0</td>\n",
              "      <td>0.0</td>\n",
              "      <td>0.0</td>\n",
              "      <td>0.0</td>\n",
              "      <td>0.0</td>\n",
              "      <td>0.0</td>\n",
              "      <td>0.0</td>\n",
              "      <td>0.0</td>\n",
              "      <td>0.0</td>\n",
              "      <td>0.0</td>\n",
              "      <td>0.0</td>\n",
              "      <td>0.0</td>\n",
              "      <td>0.0</td>\n",
              "      <td>0.0</td>\n",
              "      <td>0.0</td>\n",
              "      <td>0.0</td>\n",
              "      <td>0.0</td>\n",
              "      <td>0.0</td>\n",
              "      <td>0.0</td>\n",
              "      <td>0.0</td>\n",
              "      <td>0.0</td>\n",
              "      <td>0.0</td>\n",
              "      <td>0.0</td>\n",
              "      <td>0.0</td>\n",
              "      <td>0.0</td>\n",
              "      <td>0.0</td>\n",
              "      <td>0.0</td>\n",
              "      <td>0.0</td>\n",
              "      <td>0.0</td>\n",
              "      <td>0.0</td>\n",
              "      <td>0.0</td>\n",
              "      <td>0.0</td>\n",
              "      <td>0.0</td>\n",
              "      <td>0.0</td>\n",
              "      <td>0.0</td>\n",
              "      <td>0.0</td>\n",
              "      <td>0.0</td>\n",
              "      <td>0.0</td>\n",
              "      <td>0.0</td>\n",
              "      <td>0.0</td>\n",
              "      <td>0.0</td>\n",
              "      <td>0.0</td>\n",
              "      <td>0.0</td>\n",
              "      <td>0.0</td>\n",
              "      <td>0.0</td>\n",
              "      <td>0.0</td>\n",
              "      <td>0.0</td>\n",
              "      <td>0.0</td>\n",
              "      <td>0.0</td>\n",
              "      <td>0.0</td>\n",
              "      <td>0.0</td>\n",
              "      <td>0.0</td>\n",
              "      <td>0.0</td>\n",
              "      <td>0.0</td>\n",
              "      <td>0.0</td>\n",
              "      <td>0.0</td>\n",
              "      <td>0.0</td>\n",
              "      <td>0.0</td>\n",
              "      <td>0.0</td>\n",
              "      <td>0.0</td>\n",
              "      <td>0.0</td>\n",
              "      <td>0.0</td>\n",
              "      <td>0.0</td>\n",
              "      <td>0.0</td>\n",
              "      <td>0.0</td>\n",
              "      <td>0.0</td>\n",
              "      <td>0.0</td>\n",
              "      <td>0.0</td>\n",
              "      <td>0.0</td>\n",
              "      <td>0.0</td>\n",
              "      <td>0.0</td>\n",
              "      <td>0.0</td>\n",
              "      <td>0.0</td>\n",
              "      <td>0.0</td>\n",
              "      <td>0.0</td>\n",
              "      <td>0.0</td>\n",
              "      <td>0.0</td>\n",
              "      <td>0.0</td>\n",
              "      <td>0.0</td>\n",
              "      <td>0.0</td>\n",
              "      <td>0.0</td>\n",
              "      <td>0.0</td>\n",
              "      <td>0.0</td>\n",
              "      <td>0.0</td>\n",
              "      <td>0.0</td>\n",
              "      <td>0.0</td>\n",
              "      <td>0.0</td>\n",
              "      <td>0.0</td>\n",
              "      <td>0.0</td>\n",
              "      <td>0.0</td>\n",
              "      <td>0.0</td>\n",
              "      <td>0.0</td>\n",
              "      <td>0.0</td>\n",
              "      <td>0.0</td>\n",
              "      <td>0.0</td>\n",
              "      <td>0.0</td>\n",
              "      <td>0.0</td>\n",
              "      <td>0.0</td>\n",
              "      <td>0.0</td>\n",
              "      <td>0.0</td>\n",
              "      <td>0.0</td>\n",
              "      <td>0.0</td>\n",
              "      <td>0.0</td>\n",
              "      <td>0.0</td>\n",
              "      <td>0.0</td>\n",
              "      <td>0.0</td>\n",
              "      <td>0.0</td>\n",
              "      <td>0.0</td>\n",
              "      <td>0.0</td>\n",
              "      <td>0.0</td>\n",
              "      <td>0.0</td>\n",
              "      <td>0.0</td>\n",
              "      <td>0.0</td>\n",
              "      <td>0.0</td>\n",
              "      <td>0.0</td>\n",
              "      <td>0.0</td>\n",
              "      <td>0.0</td>\n",
              "      <td>0.0</td>\n",
              "      <td>0.0</td>\n",
              "      <td>0.0</td>\n",
              "      <td>0.0</td>\n",
              "      <td>0.0</td>\n",
              "      <td>0.0</td>\n",
              "      <td>0.0</td>\n",
              "      <td>0.0</td>\n",
              "      <td>0.0</td>\n",
              "      <td>0.0</td>\n",
              "      <td>0.0</td>\n",
              "      <td>0.0</td>\n",
              "      <td>0.0</td>\n",
              "      <td>0.0</td>\n",
              "      <td>0.0</td>\n",
              "      <td>0.0</td>\n",
              "      <td>0.0</td>\n",
              "      <td>0.0</td>\n",
              "      <td>0.0</td>\n",
              "      <td>0.0</td>\n",
              "      <td>0.0</td>\n",
              "      <td>0.0</td>\n",
              "      <td>0.0</td>\n",
              "      <td>0.0</td>\n",
              "      <td>0.0</td>\n",
              "      <td>0.0</td>\n",
              "      <td>0.0</td>\n",
              "      <td>0.0</td>\n",
              "      <td>0.0</td>\n",
              "      <td>0.0</td>\n",
              "      <td>0.0</td>\n",
              "      <td>0.0</td>\n",
              "      <td>0.0</td>\n",
              "      <td>0.0</td>\n",
              "      <td>0.0</td>\n",
              "      <td>0.0</td>\n",
              "      <td>0.0</td>\n",
              "      <td>0.0</td>\n",
              "      <td>0.0</td>\n",
              "      <td>0.0</td>\n",
              "      <td>0.0</td>\n",
              "      <td>0.0</td>\n",
              "      <td>0.0</td>\n",
              "      <td>0.0</td>\n",
              "      <td>0.0</td>\n",
              "      <td>0.0</td>\n",
              "      <td>0.0</td>\n",
              "      <td>0.0</td>\n",
              "      <td>0.0</td>\n",
              "      <td>0.0</td>\n",
              "      <td>0.0</td>\n",
              "      <td>0.0</td>\n",
              "      <td>0.0</td>\n",
              "      <td>0.0</td>\n",
              "      <td>0.0</td>\n",
              "      <td>0.0</td>\n",
              "      <td>0.0</td>\n",
              "      <td>0.0</td>\n",
              "      <td>0.0</td>\n",
              "      <td>0.0</td>\n",
              "      <td>0.0</td>\n",
              "      <td>0.0</td>\n",
              "      <td>0.0</td>\n",
              "      <td>0.0</td>\n",
              "      <td>0.0</td>\n",
              "      <td>0.0</td>\n",
              "      <td>0.0</td>\n",
              "      <td>0.0</td>\n",
              "      <td>0.0</td>\n",
              "      <td>0.0</td>\n",
              "      <td>0.0</td>\n",
              "      <td>0.0</td>\n",
              "      <td>0.0</td>\n",
              "      <td>0.0</td>\n",
              "      <td>0.0</td>\n",
              "      <td>0.0</td>\n",
              "      <td>0.0</td>\n",
              "      <td>0.0</td>\n",
              "      <td>0.0</td>\n",
              "      <td>0.0</td>\n",
              "      <td>0.0</td>\n",
              "      <td>0.0</td>\n",
              "      <td>0.0</td>\n",
              "      <td>0.0</td>\n",
              "      <td>0.0</td>\n",
              "      <td>0.0</td>\n",
              "      <td>0.0</td>\n",
              "      <td>0.0</td>\n",
              "      <td>0.0</td>\n",
              "      <td>0.0</td>\n",
              "      <td>0.0</td>\n",
              "      <td>0.0</td>\n",
              "      <td>0.0</td>\n",
              "      <td>0.0</td>\n",
              "      <td>0.0</td>\n",
              "      <td>0.0</td>\n",
              "      <td>0.0</td>\n",
              "      <td>0.0</td>\n",
              "      <td>0.0</td>\n",
              "      <td>0.0</td>\n",
              "      <td>0.0</td>\n",
              "      <td>0.0</td>\n",
              "      <td>0.0</td>\n",
              "      <td>0.0</td>\n",
              "      <td>0.0</td>\n",
              "      <td>0.0</td>\n",
              "      <td>0.0</td>\n",
              "      <td>0.0</td>\n",
              "      <td>0.0</td>\n",
              "      <td>0.0</td>\n",
              "      <td>0.0</td>\n",
              "      <td>0.0</td>\n",
              "      <td>0.0</td>\n",
              "      <td>0.0</td>\n",
              "      <td>0.0</td>\n",
              "      <td>0.0</td>\n",
              "      <td>0.0</td>\n",
              "      <td>0.0</td>\n",
              "      <td>0.0</td>\n",
              "      <td>0.0</td>\n",
              "      <td>0.0</td>\n",
              "      <td>0.0</td>\n",
              "      <td>0.0</td>\n",
              "      <td>0.0</td>\n",
              "      <td>0.0</td>\n",
              "      <td>0.0</td>\n",
              "      <td>0.0</td>\n",
              "      <td>0.0</td>\n",
              "      <td>0.0</td>\n",
              "      <td>0.0</td>\n",
              "      <td>0.0</td>\n",
              "      <td>0.0</td>\n",
              "      <td>0.0</td>\n",
              "      <td>0.0</td>\n",
              "      <td>0.0</td>\n",
              "      <td>0.0</td>\n",
              "      <td>0.0</td>\n",
              "      <td>0.0</td>\n",
              "      <td>0.0</td>\n",
              "      <td>0.0</td>\n",
              "      <td>0.0</td>\n",
              "      <td>0.0</td>\n",
              "      <td>0.0</td>\n",
              "      <td>0.0</td>\n",
              "      <td>0.0</td>\n",
              "      <td>0.0</td>\n",
              "      <td>0.0</td>\n",
              "      <td>0.0</td>\n",
              "      <td>0.0</td>\n",
              "      <td>0.0</td>\n",
              "      <td>0.0</td>\n",
              "      <td>0.0</td>\n",
              "      <td>0.0</td>\n",
              "      <td>0.0</td>\n",
              "      <td>0.0</td>\n",
              "      <td>0.0</td>\n",
              "      <td>0.0</td>\n",
              "      <td>0.0</td>\n",
              "      <td>0.0</td>\n",
              "      <td>0.0</td>\n",
              "      <td>0.0</td>\n",
              "      <td>0.0</td>\n",
              "      <td>0.0</td>\n",
              "      <td>0.0</td>\n",
              "      <td>0.0</td>\n",
              "      <td>0.0</td>\n",
              "      <td>0.0</td>\n",
              "      <td>0.0</td>\n",
              "      <td>0.0</td>\n",
              "      <td>0.0</td>\n",
              "      <td>0.0</td>\n",
              "      <td>0.0</td>\n",
              "      <td>0.0</td>\n",
              "      <td>0.0</td>\n",
              "      <td>0.0</td>\n",
              "      <td>0.0</td>\n",
              "      <td>0.0</td>\n",
              "      <td>0.0</td>\n",
              "      <td>0.0</td>\n",
              "      <td>0.0</td>\n",
              "      <td>0.0</td>\n",
              "      <td>0.0</td>\n",
              "      <td>0.0</td>\n",
              "      <td>0.0</td>\n",
              "      <td>0.0</td>\n",
              "      <td>0.0</td>\n",
              "      <td>0.0</td>\n",
              "      <td>0.0</td>\n",
              "      <td>0.0</td>\n",
              "      <td>0.0</td>\n",
              "      <td>0.0</td>\n",
              "      <td>0.0</td>\n",
              "      <td>0.0</td>\n",
              "      <td>0.0</td>\n",
              "      <td>0.0</td>\n",
              "      <td>0.0</td>\n",
              "      <td>0.0</td>\n",
              "      <td>0.0</td>\n",
              "      <td>0.0</td>\n",
              "      <td>0.0</td>\n",
              "      <td>0.0</td>\n",
              "      <td>0.0</td>\n",
              "      <td>0.0</td>\n",
              "      <td>0.0</td>\n",
              "      <td>0.0</td>\n",
              "      <td>0.0</td>\n",
              "      <td>0.0</td>\n",
              "      <td>0.0</td>\n",
              "      <td>0.0</td>\n",
              "      <td>0.0</td>\n",
              "      <td>0.0</td>\n",
              "      <td>0.0</td>\n",
              "      <td>0.0</td>\n",
              "      <td>0.0</td>\n",
              "      <td>0.0</td>\n",
              "      <td>0.0</td>\n",
              "      <td>0.0</td>\n",
              "      <td>0.0</td>\n",
              "      <td>0.0</td>\n",
              "      <td>0.0</td>\n",
              "      <td>0.0</td>\n",
              "      <td>0.0</td>\n",
              "      <td>0.0</td>\n",
              "      <td>0.0</td>\n",
              "      <td>0.0</td>\n",
              "      <td>0.0</td>\n",
              "      <td>0.0</td>\n",
              "      <td>0.0</td>\n",
              "      <td>0.0</td>\n",
              "      <td>0.0</td>\n",
              "      <td>0.0</td>\n",
              "      <td>0.0</td>\n",
              "      <td>0.0</td>\n",
              "      <td>0.0</td>\n",
              "      <td>0.0</td>\n",
              "      <td>0.0</td>\n",
              "      <td>0.0</td>\n",
              "      <td>0.0</td>\n",
              "      <td>0.0</td>\n",
              "      <td>0.0</td>\n",
              "      <td>0.0</td>\n",
              "      <td>0.0</td>\n",
              "      <td>0.0</td>\n",
              "      <td>0.0</td>\n",
              "      <td>0.0</td>\n",
              "      <td>0.0</td>\n",
              "      <td>0.0</td>\n",
              "      <td>0.0</td>\n",
              "      <td>0.0</td>\n",
              "      <td>0.0</td>\n",
              "      <td>0.0</td>\n",
              "      <td>0.0</td>\n",
              "      <td>0.0</td>\n",
              "      <td>0.133214</td>\n",
              "      <td>0.0</td>\n",
              "      <td>0.0</td>\n",
              "      <td>0.0</td>\n",
              "      <td>0.0</td>\n",
              "      <td>0.0</td>\n",
              "      <td>0.0</td>\n",
              "      <td>0.0</td>\n",
              "      <td>0.0</td>\n",
              "      <td>0.0</td>\n",
              "      <td>0.0</td>\n",
              "      <td>0.0</td>\n",
              "      <td>0.0</td>\n",
              "      <td>0.0</td>\n",
              "      <td>0.0</td>\n",
              "      <td>0.0</td>\n",
              "      <td>0.0</td>\n",
              "      <td>0.0</td>\n",
              "      <td>0.0</td>\n",
              "      <td>0.0</td>\n",
              "      <td>0.0</td>\n",
              "      <td>0.0</td>\n",
              "      <td>0.0</td>\n",
              "      <td>0.0</td>\n",
              "      <td>0.0</td>\n",
              "      <td>0.0</td>\n",
              "      <td>0.0</td>\n",
              "      <td>0.0</td>\n",
              "      <td>0.0</td>\n",
              "      <td>0.0</td>\n",
              "      <td>0.0</td>\n",
              "      <td>0.0</td>\n",
              "      <td>0.0</td>\n",
              "      <td>0.0</td>\n",
              "      <td>0.0</td>\n",
              "      <td>0.0</td>\n",
              "      <td>0.0</td>\n",
              "      <td>0.0</td>\n",
              "      <td>0.0</td>\n",
              "      <td>0.0</td>\n",
              "      <td>0.0</td>\n",
              "      <td>0.0</td>\n",
              "      <td>0.0</td>\n",
              "      <td>0.0</td>\n",
              "      <td>0.0</td>\n",
              "      <td>0.0</td>\n",
              "      <td>0.0</td>\n",
              "      <td>0.0</td>\n",
              "      <td>0.0</td>\n",
              "      <td>0.0</td>\n",
              "      <td>0.0</td>\n",
              "      <td>0.0</td>\n",
              "      <td>0.0</td>\n",
              "      <td>0.0</td>\n",
              "      <td>0.0</td>\n",
              "      <td>0.0</td>\n",
              "      <td>0.0</td>\n",
              "      <td>0.0</td>\n",
              "      <td>0.0</td>\n",
              "      <td>0.0</td>\n",
              "      <td>0.0</td>\n",
              "      <td>0.0</td>\n",
              "      <td>0.0</td>\n",
              "      <td>0.0</td>\n",
              "      <td>0.0</td>\n",
              "      <td>0.0</td>\n",
              "      <td>0.0</td>\n",
              "      <td>0.0</td>\n",
              "      <td>0.0</td>\n",
              "      <td>0.0</td>\n",
              "      <td>0.0</td>\n",
              "      <td>0.0</td>\n",
              "      <td>0.0</td>\n",
              "      <td>0.0</td>\n",
              "      <td>0.0</td>\n",
              "      <td>0.0</td>\n",
              "      <td>0.0</td>\n",
              "      <td>0.0</td>\n",
              "      <td>0.0</td>\n",
              "      <td>0.0</td>\n",
              "      <td>0.0</td>\n",
              "      <td>0.0</td>\n",
              "      <td>0.0</td>\n",
              "      <td>0.0</td>\n",
              "      <td>0.0</td>\n",
              "      <td>0.0</td>\n",
              "      <td>0.0</td>\n",
              "      <td>0.0</td>\n",
              "      <td>0.0</td>\n",
              "      <td>0.0</td>\n",
              "      <td>0.0</td>\n",
              "      <td>0.0</td>\n",
              "      <td>0.0</td>\n",
              "      <td>0.0</td>\n",
              "      <td>0.0</td>\n",
              "      <td>0.0</td>\n",
              "      <td>0.0</td>\n",
              "      <td>0.0</td>\n",
              "      <td>0.0</td>\n",
              "      <td>0.0</td>\n",
              "      <td>0.0</td>\n",
              "      <td>0.0</td>\n",
              "      <td>0.0</td>\n",
              "      <td>0.0</td>\n",
              "      <td>0.0</td>\n",
              "      <td>0.0</td>\n",
              "      <td>0.0</td>\n",
              "      <td>0.0</td>\n",
              "      <td>0.0</td>\n",
              "      <td>0.0</td>\n",
              "      <td>0.0</td>\n",
              "      <td>0.0</td>\n",
              "      <td>0.0</td>\n",
              "      <td>0.0</td>\n",
              "      <td>0.0</td>\n",
              "      <td>0.0</td>\n",
              "      <td>0.0</td>\n",
              "      <td>0.0</td>\n",
              "      <td>0.0</td>\n",
              "      <td>0.0</td>\n",
              "      <td>0.0</td>\n",
              "      <td>0.0</td>\n",
              "      <td>0.0</td>\n",
              "      <td>0.0</td>\n",
              "      <td>0.0</td>\n",
              "      <td>0.0</td>\n",
              "      <td>0.0</td>\n",
              "      <td>0.0</td>\n",
              "      <td>0.0</td>\n",
              "      <td>0.0</td>\n",
              "      <td>0.0</td>\n",
              "      <td>0.0</td>\n",
              "      <td>0.0</td>\n",
              "      <td>0.0</td>\n",
              "      <td>0.0</td>\n",
              "      <td>0.0</td>\n",
              "      <td>0.0</td>\n",
              "      <td>0.0</td>\n",
              "      <td>0.0</td>\n",
              "      <td>0.0</td>\n",
              "      <td>0.0</td>\n",
              "      <td>0.0</td>\n",
              "      <td>0.0</td>\n",
              "      <td>0.0</td>\n",
              "      <td>0.0</td>\n",
              "      <td>0.0</td>\n",
              "      <td>0.0</td>\n",
              "      <td>0.0</td>\n",
              "      <td>0.0</td>\n",
              "      <td>0.0</td>\n",
              "      <td>0.0</td>\n",
              "      <td>0.0</td>\n",
              "      <td>0.0</td>\n",
              "      <td>0.0</td>\n",
              "      <td>0.0</td>\n",
              "      <td>0.0</td>\n",
              "      <td>0.0</td>\n",
              "      <td>0.0</td>\n",
              "      <td>0.0</td>\n",
              "      <td>0.0</td>\n",
              "      <td>0.0</td>\n",
              "      <td>0.0</td>\n",
              "      <td>0.0</td>\n",
              "      <td>0.0</td>\n",
              "      <td>0.0</td>\n",
              "      <td>0.0</td>\n",
              "      <td>0.0</td>\n",
              "      <td>0.0</td>\n",
              "      <td>0.0</td>\n",
              "      <td>0.0</td>\n",
              "      <td>0.0</td>\n",
              "      <td>0.0</td>\n",
              "      <td>0.0</td>\n",
              "      <td>0.0</td>\n",
              "      <td>0.0</td>\n",
              "      <td>0.0</td>\n",
              "      <td>0.0</td>\n",
              "      <td>0.0</td>\n",
              "      <td>0.0</td>\n",
              "      <td>0.0</td>\n",
              "      <td>0.0</td>\n",
              "      <td>0.0</td>\n",
              "      <td>0.0</td>\n",
              "      <td>0.0</td>\n",
              "      <td>0.0</td>\n",
              "      <td>0.0</td>\n",
              "      <td>0.0</td>\n",
              "      <td>0.0</td>\n",
              "      <td>0.0</td>\n",
              "      <td>0.0</td>\n",
              "      <td>0.0</td>\n",
              "      <td>0.0</td>\n",
              "      <td>0.0</td>\n",
              "      <td>0.0</td>\n",
              "      <td>0.0</td>\n",
              "      <td>0.0</td>\n",
              "      <td>0.0</td>\n",
              "      <td>0.0</td>\n",
              "      <td>0.0</td>\n",
              "      <td>0.0</td>\n",
              "      <td>0.0</td>\n",
              "      <td>0.0</td>\n",
              "      <td>0.0</td>\n",
              "      <td>0.0</td>\n",
              "      <td>0.0</td>\n",
              "      <td>0.0</td>\n",
              "      <td>0.0</td>\n",
              "      <td>0.0</td>\n",
              "      <td>0.0</td>\n",
              "      <td>0.0</td>\n",
              "      <td>0.0</td>\n",
              "      <td>0.0</td>\n",
              "      <td>0.0</td>\n",
              "      <td>0.0</td>\n",
              "      <td>0.0</td>\n",
              "      <td>0.0</td>\n",
              "      <td>0.0</td>\n",
              "      <td>0.0</td>\n",
              "      <td>0.0</td>\n",
              "      <td>0.0</td>\n",
              "      <td>0.0</td>\n",
              "      <td>0.0</td>\n",
              "      <td>0.0</td>\n",
              "      <td>0.0</td>\n",
              "      <td>0.0</td>\n",
              "      <td>0.0</td>\n",
              "      <td>0.0</td>\n",
              "      <td>0.0</td>\n",
              "      <td>0.0</td>\n",
              "      <td>0.0</td>\n",
              "      <td>0.0</td>\n",
              "      <td>0.0</td>\n",
              "      <td>0.0</td>\n",
              "      <td>0.0</td>\n",
              "      <td>0.0</td>\n",
              "      <td>0.0</td>\n",
              "      <td>0.0</td>\n",
              "      <td>0.0</td>\n",
              "      <td>0.0</td>\n",
              "      <td>0.0</td>\n",
              "      <td>0.0</td>\n",
              "      <td>0.0</td>\n",
              "      <td>0.0</td>\n",
              "      <td>0.0</td>\n",
              "      <td>0.0</td>\n",
              "      <td>0.164812</td>\n",
              "      <td>0.0</td>\n",
              "      <td>0.0</td>\n",
              "      <td>0.0</td>\n",
              "      <td>0.0</td>\n",
              "      <td>0.0</td>\n",
              "      <td>0.0</td>\n",
              "      <td>0.0</td>\n",
              "      <td>0.0</td>\n",
              "      <td>0.0</td>\n",
              "      <td>0.0</td>\n",
              "      <td>0.0</td>\n",
              "      <td>0.0</td>\n",
              "      <td>0.0</td>\n",
              "      <td>0.0</td>\n",
              "      <td>0.0</td>\n",
              "      <td>0.0</td>\n",
              "      <td>0.0</td>\n",
              "      <td>0.0</td>\n",
              "      <td>0.0</td>\n",
              "      <td>0.0</td>\n",
              "      <td>0.0</td>\n",
              "      <td>0.0</td>\n",
              "      <td>0.0</td>\n",
              "      <td>0.0</td>\n",
              "      <td>0.0</td>\n",
              "      <td>0.0</td>\n",
              "      <td>0.0</td>\n",
              "      <td>0.0</td>\n",
              "      <td>0.0</td>\n",
              "      <td>0.0</td>\n",
              "      <td>0.0</td>\n",
              "      <td>0.0</td>\n",
              "      <td>0.0</td>\n",
              "      <td>0.0</td>\n",
              "      <td>0.0</td>\n",
              "      <td>0.0</td>\n",
              "      <td>0.0</td>\n",
              "      <td>0.0</td>\n",
              "      <td>0.0</td>\n",
              "      <td>0.0</td>\n",
              "      <td>0.0</td>\n",
              "      <td>0.0</td>\n",
              "      <td>0.0</td>\n",
              "      <td>0.0</td>\n",
              "      <td>0.0</td>\n",
              "      <td>0.0</td>\n",
              "      <td>0.0</td>\n",
              "      <td>0.0</td>\n",
              "      <td>0.0</td>\n",
              "      <td>0.0</td>\n",
              "      <td>0.0</td>\n",
              "      <td>0.0</td>\n",
              "      <td>0.0</td>\n",
              "      <td>0.0</td>\n",
              "      <td>0.0</td>\n",
              "      <td>0.0</td>\n",
              "      <td>0.0</td>\n",
              "      <td>0.0</td>\n",
              "      <td>0.0</td>\n",
              "      <td>0.0</td>\n",
              "      <td>0.0</td>\n",
              "      <td>0.0</td>\n",
              "      <td>0.0</td>\n",
              "      <td>0.0</td>\n",
              "      <td>0.0</td>\n",
              "      <td>0.0</td>\n",
              "      <td>0.0</td>\n",
              "      <td>0.0</td>\n",
              "      <td>0.0</td>\n",
              "      <td>0.0</td>\n",
              "      <td>0.0</td>\n",
              "      <td>0.0</td>\n",
              "      <td>0.0</td>\n",
              "      <td>0.0</td>\n",
              "      <td>0.0</td>\n",
              "      <td>0.0</td>\n",
              "      <td>0.0</td>\n",
              "      <td>0.0</td>\n",
              "      <td>0.0</td>\n",
              "      <td>0.0</td>\n",
              "      <td>0.0</td>\n",
              "      <td>0.0</td>\n",
              "      <td>0.0</td>\n",
              "      <td>0.0</td>\n",
              "      <td>0.0</td>\n",
              "      <td>0.0</td>\n",
              "      <td>0.0</td>\n",
              "      <td>0.0</td>\n",
              "      <td>0.088927</td>\n",
              "      <td>0.0</td>\n",
              "      <td>0.0</td>\n",
              "      <td>0.0</td>\n",
              "      <td>0.0</td>\n",
              "      <td>0.0</td>\n",
              "      <td>0.0</td>\n",
              "      <td>0.0</td>\n",
              "      <td>0.0</td>\n",
              "      <td>0.0</td>\n",
              "      <td>0.0</td>\n",
              "      <td>0.0</td>\n",
              "      <td>0.0</td>\n",
              "      <td>0.0</td>\n",
              "      <td>0.0</td>\n",
              "      <td>0.0</td>\n",
              "      <td>0.0</td>\n",
              "      <td>0.0</td>\n",
              "      <td>0.0</td>\n",
              "      <td>0.0</td>\n",
              "      <td>0.0</td>\n",
              "      <td>0.0</td>\n",
              "      <td>0.0</td>\n",
              "      <td>0.0</td>\n",
              "      <td>0.0</td>\n",
              "      <td>0.0</td>\n",
              "      <td>0.0</td>\n",
              "      <td>0.0</td>\n",
              "      <td>0.0</td>\n",
              "      <td>0.0</td>\n",
              "      <td>0.0</td>\n",
              "      <td>0.0</td>\n",
              "      <td>0.0</td>\n",
              "      <td>0.0</td>\n",
              "      <td>0.0</td>\n",
              "      <td>0.0</td>\n",
              "      <td>0.0</td>\n",
              "      <td>0.0</td>\n",
              "      <td>0.0</td>\n",
              "      <td>0.0</td>\n",
              "      <td>0.0</td>\n",
              "      <td>0.0</td>\n",
              "      <td>0.0</td>\n",
              "      <td>0.0</td>\n",
              "      <td>0.0</td>\n",
              "      <td>0.0</td>\n",
              "      <td>0.0</td>\n",
              "      <td>0.0</td>\n",
              "      <td>0.0</td>\n",
              "      <td>0.0</td>\n",
              "      <td>0.0</td>\n",
              "      <td>0.0</td>\n",
              "      <td>0.0</td>\n",
              "      <td>0.0</td>\n",
              "      <td>0.0</td>\n",
              "      <td>0.0</td>\n",
              "      <td>0.0</td>\n",
              "      <td>0.0</td>\n",
              "      <td>0.0</td>\n",
              "      <td>0.0</td>\n",
              "      <td>0.0</td>\n",
              "      <td>0.0</td>\n",
              "      <td>0.0</td>\n",
              "      <td>0.0</td>\n",
              "      <td>0.0</td>\n",
              "      <td>0.0</td>\n",
              "      <td>0.0</td>\n",
              "      <td>0.0</td>\n",
              "      <td>0.0</td>\n",
              "      <td>0.0</td>\n",
              "      <td>0.0</td>\n",
              "      <td>0.0</td>\n",
              "      <td>0.0</td>\n",
              "      <td>0.0</td>\n",
              "      <td>0.0</td>\n",
              "      <td>0.0</td>\n",
              "      <td>0.0</td>\n",
              "      <td>0.0</td>\n",
              "      <td>0.0</td>\n",
              "      <td>0.0</td>\n",
              "      <td>0.0</td>\n",
              "      <td>0.0</td>\n",
              "      <td>0.0</td>\n",
              "      <td>0.0</td>\n",
              "      <td>0.0</td>\n",
              "      <td>0.0</td>\n",
              "      <td>0.0</td>\n",
              "      <td>0.0</td>\n",
              "      <td>0.0</td>\n",
              "      <td>0.0</td>\n",
              "      <td>0.0</td>\n",
              "      <td>0.0</td>\n",
              "      <td>0.0</td>\n",
              "      <td>0.0</td>\n",
              "      <td>0.0</td>\n",
              "      <td>0.0</td>\n",
              "      <td>0.0</td>\n",
              "      <td>0.0</td>\n",
              "      <td>0.0</td>\n",
              "      <td>0.0</td>\n",
              "      <td>0.0</td>\n",
              "      <td>0.0</td>\n",
              "      <td>0.0</td>\n",
              "      <td>0.0</td>\n",
              "      <td>0.0</td>\n",
              "      <td>0.0</td>\n",
              "      <td>0.0</td>\n",
              "      <td>0.0</td>\n",
              "      <td>0.0</td>\n",
              "      <td>0.0</td>\n",
              "      <td>0.0</td>\n",
              "      <td>0.0</td>\n",
              "      <td>0.0</td>\n",
              "      <td>0.0</td>\n",
              "      <td>0.0</td>\n",
              "      <td>0.0</td>\n",
              "      <td>0.0</td>\n",
              "      <td>0.0</td>\n",
              "      <td>0.0</td>\n",
              "      <td>0.0</td>\n",
              "      <td>0.0</td>\n",
              "      <td>0.0</td>\n",
              "      <td>0.0</td>\n",
              "      <td>0.0</td>\n",
              "      <td>0.0</td>\n",
              "      <td>0.0</td>\n",
              "      <td>0.0</td>\n",
              "      <td>0.0</td>\n",
              "      <td>0.0</td>\n",
              "      <td>0.0</td>\n",
              "      <td>0.0</td>\n",
              "      <td>0.0</td>\n",
              "      <td>0.0</td>\n",
              "      <td>0.0</td>\n",
              "      <td>0.0</td>\n",
              "      <td>0.0</td>\n",
              "      <td>0.0</td>\n",
              "      <td>0.0</td>\n",
              "      <td>0.0</td>\n",
              "      <td>0.0</td>\n",
              "      <td>0.0</td>\n",
              "      <td>0.0</td>\n",
              "      <td>0.0</td>\n",
              "      <td>0.0</td>\n",
              "      <td>0.0</td>\n",
              "      <td>0.0</td>\n",
              "      <td>0.0</td>\n",
              "      <td>0.0</td>\n",
              "      <td>0.0</td>\n",
              "      <td>0.0</td>\n",
              "      <td>0.0</td>\n",
              "      <td>0.0</td>\n",
              "      <td>0.0</td>\n",
              "      <td>0.0</td>\n",
              "      <td>0.0</td>\n",
              "      <td>0.0</td>\n",
              "      <td>0.0</td>\n",
              "      <td>0.0</td>\n",
              "      <td>0.0</td>\n",
              "      <td>0.0</td>\n",
              "      <td>0.0</td>\n",
              "      <td>0.0</td>\n",
              "      <td>0.0</td>\n",
              "      <td>0.0</td>\n",
              "      <td>0.0</td>\n",
              "      <td>0.0</td>\n",
              "      <td>0.0</td>\n",
              "      <td>0.0</td>\n",
              "      <td>0.0</td>\n",
              "      <td>0.0</td>\n",
              "      <td>0.0</td>\n",
              "      <td>0.0</td>\n",
              "      <td>0.0</td>\n",
              "      <td>0.0</td>\n",
              "      <td>0.0</td>\n",
              "      <td>0.0</td>\n",
              "      <td>0.0</td>\n",
              "      <td>0.0</td>\n",
              "      <td>0.0</td>\n",
              "      <td>0.0</td>\n",
              "      <td>0.0</td>\n",
              "      <td>0.0</td>\n",
              "      <td>0.0</td>\n",
              "      <td>0.0</td>\n",
              "      <td>0.0</td>\n",
              "      <td>0.0</td>\n",
              "      <td>0.0</td>\n",
              "      <td>0.0</td>\n",
              "      <td>0.0</td>\n",
              "      <td>0.0</td>\n",
              "      <td>0.0</td>\n",
              "      <td>0.0</td>\n",
              "      <td>0.0</td>\n",
              "      <td>0.0</td>\n",
              "      <td>0.0</td>\n",
              "      <td>0.0</td>\n",
              "      <td>0.0</td>\n",
              "      <td>0.0</td>\n",
              "      <td>0.0</td>\n",
              "      <td>0.0</td>\n",
              "      <td>0.0</td>\n",
              "      <td>0.0</td>\n",
              "      <td>0.0</td>\n",
              "      <td>0.0</td>\n",
              "      <td>0.0</td>\n",
              "      <td>0.0</td>\n",
              "      <td>0.0</td>\n",
              "      <td>0.0</td>\n",
              "      <td>0.0</td>\n",
              "      <td>0.0</td>\n",
              "      <td>0.0</td>\n",
              "      <td>0.0</td>\n",
              "      <td>0.0</td>\n",
              "      <td>0.0</td>\n",
              "      <td>0.0</td>\n",
              "      <td>0.0</td>\n",
              "      <td>0.0</td>\n",
              "      <td>0.0</td>\n",
              "      <td>0.0</td>\n",
              "      <td>0.0</td>\n",
              "      <td>0.0</td>\n",
              "      <td>0.0</td>\n",
              "      <td>0.0</td>\n",
              "      <td>0.0</td>\n",
              "      <td>0.0</td>\n",
              "      <td>0.0</td>\n",
              "      <td>0.0</td>\n",
              "      <td>0.0</td>\n",
              "      <td>0.0</td>\n",
              "      <td>0.0</td>\n",
              "      <td>0.0</td>\n",
              "      <td>0.0</td>\n",
              "      <td>0.0</td>\n",
              "      <td>0.0</td>\n",
              "      <td>0.0</td>\n",
              "      <td>0.0</td>\n",
              "      <td>0.0</td>\n",
              "      <td>0.0</td>\n",
              "      <td>0.0</td>\n",
              "      <td>0.0</td>\n",
              "      <td>0.0</td>\n",
              "      <td>0.0</td>\n",
              "      <td>0.0</td>\n",
              "      <td>0.0</td>\n",
              "      <td>0.0</td>\n",
              "      <td>0.0</td>\n",
              "      <td>0.0</td>\n",
              "      <td>0.0</td>\n",
              "      <td>0.0</td>\n",
              "      <td>0.0</td>\n",
              "      <td>0.0</td>\n",
              "      <td>0.0</td>\n",
              "      <td>0.0</td>\n",
              "      <td>0.0</td>\n",
              "      <td>0.0</td>\n",
              "      <td>0.0</td>\n",
              "      <td>0.0</td>\n",
              "      <td>0.0</td>\n",
              "      <td>0.0</td>\n",
              "      <td>0.0</td>\n",
              "      <td>0.0</td>\n",
              "      <td>0.0</td>\n",
              "      <td>0.0</td>\n",
              "      <td>0.0</td>\n",
              "      <td>0.0</td>\n",
              "      <td>0.0</td>\n",
              "      <td>0.0</td>\n",
              "      <td>0.0</td>\n",
              "      <td>0.0</td>\n",
              "      <td>0.0</td>\n",
              "      <td>0.0</td>\n",
              "      <td>0.0</td>\n",
              "      <td>0.0</td>\n",
              "      <td>0.0</td>\n",
              "      <td>0.0</td>\n",
              "      <td>0.0</td>\n",
              "      <td>0.0</td>\n",
              "      <td>0.0</td>\n",
              "      <td>0.0</td>\n",
              "      <td>0.0</td>\n",
              "      <td>0.0</td>\n",
              "      <td>0.0</td>\n",
              "      <td>0.0</td>\n",
              "      <td>0.0</td>\n",
              "      <td>0.0</td>\n",
              "      <td>0.0</td>\n",
              "      <td>0.0</td>\n",
              "      <td>0.0</td>\n",
              "      <td>0.0</td>\n",
              "      <td>0.0</td>\n",
              "      <td>0.0</td>\n",
              "      <td>0.0</td>\n",
              "      <td>0.0</td>\n",
              "      <td>0.0</td>\n",
              "      <td>0.0</td>\n",
              "      <td>0.0</td>\n",
              "      <td>0.0</td>\n",
              "      <td>0.0</td>\n",
              "      <td>0.0</td>\n",
              "      <td>0.0</td>\n",
              "      <td>0.0</td>\n",
              "      <td>0.0</td>\n",
              "      <td>0.0</td>\n",
              "      <td>0.0</td>\n",
              "      <td>0.0</td>\n",
              "      <td>0.0</td>\n",
              "      <td>0.0</td>\n",
              "      <td>0.0</td>\n",
              "      <td>0.0</td>\n",
              "      <td>0.0</td>\n",
              "      <td>0.0</td>\n",
              "      <td>0.0</td>\n",
              "      <td>0.0</td>\n",
              "      <td>0.0</td>\n",
              "      <td>0.0</td>\n",
              "      <td>0.0</td>\n",
              "      <td>0.0</td>\n",
              "      <td>0.0</td>\n",
              "      <td>0.0</td>\n",
              "      <td>0.0</td>\n",
              "      <td>0.0</td>\n",
              "      <td>0.0</td>\n",
              "      <td>0.0</td>\n",
              "      <td>0.0</td>\n",
              "      <td>0.0</td>\n",
              "      <td>0.0</td>\n",
              "      <td>0.0</td>\n",
              "      <td>0.0</td>\n",
              "      <td>0.0</td>\n",
              "      <td>0.0</td>\n",
              "      <td>0.0</td>\n",
              "      <td>0.0</td>\n",
              "      <td>0.0</td>\n",
              "      <td>0.0</td>\n",
              "      <td>0.0</td>\n",
              "      <td>0.0</td>\n",
              "      <td>0.0</td>\n",
              "      <td>0.0</td>\n",
              "      <td>0.0</td>\n",
              "      <td>0.0</td>\n",
              "      <td>0.0</td>\n",
              "      <td>0.0</td>\n",
              "      <td>0.0</td>\n",
              "      <td>0.0</td>\n",
              "      <td>0.0</td>\n",
              "      <td>0.0</td>\n",
              "      <td>0.0</td>\n",
              "      <td>0.0</td>\n",
              "      <td>0.0</td>\n",
              "      <td>0.0</td>\n",
              "      <td>0.0</td>\n",
              "      <td>0.0</td>\n",
              "      <td>0.0</td>\n",
              "      <td>0.0</td>\n",
              "      <td>0.0</td>\n",
              "      <td>0.0</td>\n",
              "      <td>0.0</td>\n",
              "      <td>0.0</td>\n",
              "      <td>0.0</td>\n",
              "      <td>0.0</td>\n",
              "      <td>0.0</td>\n",
              "      <td>0.0</td>\n",
              "      <td>0.0</td>\n",
              "      <td>0.0</td>\n",
              "      <td>0.0</td>\n",
              "      <td>0.0</td>\n",
              "      <td>0.0</td>\n",
              "      <td>0.0</td>\n",
              "      <td>0.093607</td>\n",
              "      <td>0.0</td>\n",
              "      <td>0.0</td>\n",
              "      <td>0.0</td>\n",
              "      <td>0.0</td>\n",
              "      <td>0.0</td>\n",
              "      <td>0.0</td>\n",
              "      <td>0.0</td>\n",
              "      <td>0.0</td>\n",
              "      <td>0.0</td>\n",
              "      <td>0.0</td>\n",
              "      <td>0.0</td>\n",
              "      <td>0.0</td>\n",
              "      <td>0.0</td>\n",
              "      <td>0.0</td>\n",
              "      <td>0.0</td>\n",
              "      <td>0.0</td>\n",
              "      <td>0.0</td>\n",
              "      <td>0.0</td>\n",
              "      <td>0.0</td>\n",
              "      <td>0.0</td>\n",
              "      <td>0.0</td>\n",
              "      <td>0.0</td>\n",
              "      <td>0.0</td>\n",
              "      <td>0.0</td>\n",
              "      <td>0.0</td>\n",
              "      <td>0.0</td>\n",
              "      <td>0.0</td>\n",
              "      <td>0.0</td>\n",
              "      <td>0.0</td>\n",
              "      <td>0.0</td>\n",
              "      <td>0.0</td>\n",
              "      <td>0.0</td>\n",
              "      <td>0.0</td>\n",
              "      <td>0.0</td>\n",
              "      <td>0.0</td>\n",
              "      <td>0.0</td>\n",
              "      <td>0.0</td>\n",
              "      <td>0.0</td>\n",
              "      <td>0.0</td>\n",
              "      <td>0.0</td>\n",
              "      <td>0.0</td>\n",
              "      <td>0.0</td>\n",
              "      <td>0.0</td>\n",
              "      <td>0.0</td>\n",
              "      <td>0.0</td>\n",
              "      <td>0.0</td>\n",
              "      <td>0.0</td>\n",
              "      <td>0.0</td>\n",
              "      <td>0.0</td>\n",
              "      <td>0.0</td>\n",
              "      <td>0.0</td>\n",
              "      <td>0.0</td>\n",
              "      <td>0.0</td>\n",
              "      <td>0.0</td>\n",
              "      <td>0.0</td>\n",
              "      <td>0.0</td>\n",
              "      <td>0.0</td>\n",
              "      <td>0.0</td>\n",
              "      <td>0.0</td>\n",
              "      <td>0.0</td>\n",
              "      <td>0.0</td>\n",
              "      <td>0.0</td>\n",
              "      <td>0.0</td>\n",
              "      <td>0.0</td>\n",
              "      <td>0.0</td>\n",
              "      <td>0.0</td>\n",
              "      <td>0.0</td>\n",
              "      <td>0.0</td>\n",
              "      <td>0.0</td>\n",
              "      <td>0.0</td>\n",
              "      <td>0.0</td>\n",
              "      <td>0.0</td>\n",
              "      <td>0.0</td>\n",
              "      <td>0.0</td>\n",
              "      <td>0.0</td>\n",
              "      <td>0.0</td>\n",
              "      <td>0.0</td>\n",
              "      <td>0.0</td>\n",
              "      <td>0.0</td>\n",
              "      <td>0.0</td>\n",
              "      <td>0.0</td>\n",
              "      <td>0.0</td>\n",
              "      <td>0.0</td>\n",
              "      <td>0.0</td>\n",
              "      <td>0.0</td>\n",
              "      <td>0.0</td>\n",
              "      <td>0.0</td>\n",
              "      <td>0.0</td>\n",
              "      <td>0.0</td>\n",
              "      <td>0.0</td>\n",
              "      <td>0.0</td>\n",
              "      <td>0.0</td>\n",
              "      <td>0.0</td>\n",
              "      <td>0.0</td>\n",
              "      <td>0.0</td>\n",
              "      <td>0.0</td>\n",
              "      <td>0.0</td>\n",
              "      <td>0.0</td>\n",
              "      <td>0.0</td>\n",
              "      <td>0.0</td>\n",
              "      <td>0.0</td>\n",
              "      <td>0.0</td>\n",
              "      <td>0.0</td>\n",
              "      <td>0.0</td>\n",
              "      <td>0.0</td>\n",
              "      <td>0.0</td>\n",
              "      <td>0.0</td>\n",
              "      <td>0.0</td>\n",
              "      <td>0.0</td>\n",
              "      <td>0.0</td>\n",
              "      <td>0.0</td>\n",
              "      <td>0.0</td>\n",
              "      <td>0.0</td>\n",
              "      <td>0.0</td>\n",
              "      <td>0.0</td>\n",
              "      <td>0.0</td>\n",
              "      <td>0.0</td>\n",
              "      <td>0.0</td>\n",
              "      <td>0.0</td>\n",
              "      <td>0.0</td>\n",
              "      <td>0.0</td>\n",
              "      <td>0.0</td>\n",
              "      <td>0.0</td>\n",
              "      <td>0.0</td>\n",
              "      <td>0.0</td>\n",
              "      <td>0.0</td>\n",
              "      <td>0.0</td>\n",
              "      <td>0.0</td>\n",
              "      <td>0.0</td>\n",
              "      <td>0.0</td>\n",
              "      <td>0.0</td>\n",
              "      <td>0.0</td>\n",
              "      <td>0.0</td>\n",
              "      <td>0.0</td>\n",
              "      <td>0.0</td>\n",
              "      <td>0.0</td>\n",
              "      <td>0.0</td>\n",
              "      <td>0.0</td>\n",
              "      <td>0.0</td>\n",
              "      <td>0.0</td>\n",
              "      <td>0.0</td>\n",
              "      <td>0.0</td>\n",
              "      <td>0.0</td>\n",
              "      <td>0.0</td>\n",
              "      <td>0.0</td>\n",
              "      <td>0.0</td>\n",
              "      <td>0.0</td>\n",
              "      <td>0.0</td>\n",
              "      <td>0.0</td>\n",
              "      <td>0.0</td>\n",
              "      <td>0.0</td>\n",
              "      <td>0.0</td>\n",
              "      <td>0.0</td>\n",
              "      <td>0.0</td>\n",
              "      <td>0.0</td>\n",
              "      <td>0.0</td>\n",
              "      <td>0.0</td>\n",
              "      <td>0.12462</td>\n",
              "      <td>0.0</td>\n",
              "      <td>0.0</td>\n",
              "      <td>0.0</td>\n",
              "      <td>0.0</td>\n",
              "      <td>0.0</td>\n",
              "      <td>0.0</td>\n",
              "      <td>0.0</td>\n",
              "      <td>0.0</td>\n",
              "      <td>0.0</td>\n",
              "      <td>0.0</td>\n",
              "      <td>0.0</td>\n",
              "      <td>0.0</td>\n",
              "      <td>0.0</td>\n",
              "      <td>0.0</td>\n",
              "      <td>0.0</td>\n",
              "      <td>0.0</td>\n",
              "      <td>0.0</td>\n",
              "      <td>0.0</td>\n",
              "      <td>0.0</td>\n",
              "      <td>0.0</td>\n",
              "      <td>0.0</td>\n",
              "      <td>0.0</td>\n",
              "      <td>0.0</td>\n",
              "      <td>0.0</td>\n",
              "      <td>0.0</td>\n",
              "      <td>0.0</td>\n",
              "      <td>0.0</td>\n",
              "      <td>0.0</td>\n",
              "      <td>0.0</td>\n",
              "      <td>0.0</td>\n",
              "      <td>0.0</td>\n",
              "      <td>0.0</td>\n",
              "      <td>0.0</td>\n",
              "      <td>0.0</td>\n",
              "      <td>0.0</td>\n",
              "      <td>0.0</td>\n",
              "      <td>0.0</td>\n",
              "      <td>0.0</td>\n",
              "      <td>0.0</td>\n",
              "      <td>0.0</td>\n",
              "      <td>0.0</td>\n",
              "      <td>0.0</td>\n",
              "      <td>0.0</td>\n",
              "      <td>0.0</td>\n",
              "      <td>0.0</td>\n",
              "      <td>0.0</td>\n",
              "      <td>0.0</td>\n",
              "      <td>0.0</td>\n",
              "      <td>0.0</td>\n",
              "      <td>0.0</td>\n",
              "      <td>0.0</td>\n",
              "      <td>0.0</td>\n",
              "      <td>0.0</td>\n",
              "      <td>0.0</td>\n",
              "      <td>0.0</td>\n",
              "      <td>0.0</td>\n",
              "      <td>0.0</td>\n",
              "      <td>0.0</td>\n",
              "      <td>0.0</td>\n",
              "      <td>0.0</td>\n",
              "      <td>0.0</td>\n",
              "      <td>0.172913</td>\n",
              "      <td>0.0</td>\n",
              "      <td>0.0</td>\n",
              "      <td>0.0</td>\n",
              "      <td>0.0</td>\n",
              "      <td>0.0</td>\n",
              "      <td>0.0</td>\n",
              "      <td>0.0</td>\n",
              "      <td>0.0</td>\n",
              "      <td>0.0</td>\n",
              "      <td>0.0</td>\n",
              "      <td>0.0</td>\n",
              "      <td>0.0</td>\n",
              "      <td>0.0</td>\n",
              "      <td>0.0</td>\n",
              "      <td>0.0</td>\n",
              "      <td>0.0</td>\n",
              "      <td>0.0</td>\n",
              "      <td>0.0</td>\n",
              "      <td>0.0</td>\n",
              "      <td>0.0</td>\n",
              "      <td>0.0</td>\n",
              "      <td>0.0</td>\n",
              "      <td>0.0</td>\n",
              "      <td>0.0</td>\n",
              "      <td>0.0</td>\n",
              "      <td>0.0</td>\n",
              "      <td>0.0</td>\n",
              "      <td>0.0</td>\n",
              "      <td>0.0</td>\n",
              "      <td>0.0</td>\n",
              "      <td>0.0</td>\n",
              "      <td>0.0</td>\n",
              "      <td>0.0</td>\n",
              "      <td>0.0</td>\n",
              "      <td>0.0</td>\n",
              "      <td>0.0</td>\n",
              "      <td>0.0</td>\n",
              "      <td>0.0</td>\n",
              "      <td>0.0</td>\n",
              "      <td>0.0</td>\n",
              "      <td>0.0</td>\n",
              "      <td>0.0</td>\n",
              "      <td>0.0</td>\n",
              "      <td>0.0</td>\n",
              "      <td>0.0</td>\n",
              "      <td>0.0</td>\n",
              "      <td>0.0</td>\n",
              "      <td>0.0</td>\n",
              "      <td>0.0</td>\n",
              "      <td>0.0</td>\n",
              "      <td>0.0</td>\n",
              "      <td>0.0</td>\n",
              "      <td>0.0</td>\n",
              "      <td>0.0</td>\n",
              "      <td>0.0</td>\n",
              "      <td>0.198324</td>\n",
              "      <td>0.0</td>\n",
              "      <td>0.0</td>\n",
              "      <td>0.0</td>\n",
              "      <td>0.0</td>\n",
              "      <td>0.0</td>\n",
              "      <td>0.0</td>\n",
              "      <td>0.0</td>\n",
              "      <td>0.0</td>\n",
              "      <td>0.0</td>\n",
              "      <td>0.0</td>\n",
              "      <td>0.0</td>\n",
              "      <td>0.0</td>\n",
              "      <td>0.0</td>\n",
              "      <td>0.0</td>\n",
              "      <td>0.0</td>\n",
              "      <td>0.0</td>\n",
              "      <td>0.0</td>\n",
              "      <td>0.0</td>\n",
              "      <td>0.0</td>\n",
              "      <td>0.0</td>\n",
              "      <td>0.0</td>\n",
              "      <td>0.0</td>\n",
              "      <td>0.0</td>\n",
              "      <td>0.0</td>\n",
              "      <td>0.0</td>\n",
              "      <td>0.0</td>\n",
              "      <td>0.0</td>\n",
              "      <td>0.0</td>\n",
              "      <td>0.0</td>\n",
              "      <td>0.0</td>\n",
              "      <td>0.0</td>\n",
              "      <td>0.0</td>\n",
              "      <td>0.0</td>\n",
              "      <td>0.0</td>\n",
              "      <td>0.0</td>\n",
              "      <td>0.0</td>\n",
              "      <td>0.0</td>\n",
              "      <td>0.0</td>\n",
              "      <td>0.0</td>\n",
              "      <td>0.0</td>\n",
              "      <td>0.0</td>\n",
              "      <td>0.0</td>\n",
              "      <td>0.0</td>\n",
              "      <td>0.0</td>\n",
              "      <td>0.0</td>\n",
              "      <td>0.0</td>\n",
              "      <td>0.0</td>\n",
              "      <td>0.0</td>\n",
              "      <td>0.0</td>\n",
              "      <td>0.0</td>\n",
              "      <td>0.0</td>\n",
              "      <td>0.0</td>\n",
              "      <td>0.0</td>\n",
              "      <td>0.0</td>\n",
              "      <td>0.0</td>\n",
              "      <td>0.0</td>\n",
              "    </tr>\n",
              "  </tbody>\n",
              "</table>\n",
              "<p>1 rows × 6000 columns</p>\n",
              "</div>"
            ],
            "text/plain": [
              "   aaron  abandon  abandoned  abc  abduct  abduction  ability  able  aboard  \\\n",
              "0    0.0      0.0        0.0  0.0     0.0        0.0      0.0   0.0     0.0   \n",
              "\n",
              "   aboriginal  abortion  abroad  absence  absent  absolute  absolutely  \\\n",
              "0         0.0       0.0     0.0      0.0     0.0       0.0         0.0   \n",
              "\n",
              "   abstract  absurd  abuse  abusive  academic  academy  accept  acceptance  \\\n",
              "0       0.0     0.0    0.0      0.0       0.0      0.0     0.0         0.0   \n",
              "\n",
              "   access  accident  accidental  accidentally  acclaim  acclaimed  accompany  \\\n",
              "0     0.0       0.0         0.0           0.0      0.0        0.0        0.0   \n",
              "\n",
              "   accomplish  accord  account  accountant  accuse  ace  achieve  achievement  \\\n",
              "0         0.0     0.0      0.0         0.0     0.0  0.0      0.0          0.0   \n",
              "\n",
              "   acknowledge  acquaintance  acquire  across  across country  act  acting  \\\n",
              "0          0.0           0.0      0.0     0.0             0.0  0.0     0.0   \n",
              "\n",
              "   action  active  activism  activist  activity  actor  actress  actual  \\\n",
              "0     0.0     0.0       0.0       0.0       0.0    0.0      0.0     0.0   \n",
              "\n",
              "   actually   ad  adam  adapt  adaptation  add  addict  addiction  addition  \\\n",
              "0       0.0  0.0   0.0    0.0         0.0  0.0     0.0        0.0       0.0   \n",
              "\n",
              "   additional  address  adjust  administration  admire  admirer  admit  \\\n",
              "0         0.0      0.0     0.0             0.0     0.0      0.0    0.0   \n",
              "\n",
              "   adolescence  adolescent  adopt  adoption  adore  adrian  adult  adulthood  \\\n",
              "0          0.0         0.0    0.0       0.0    0.0     0.0    0.0        0.0   \n",
              "\n",
              "   advance  advanced  advantage  adventure  adventurer  adventurous  \\\n",
              "0      0.0       0.0        0.0        0.0         0.0          0.0   \n",
              "\n",
              "   adversity  advertising  advice  advise  advocate  aesthetic  affair  \\\n",
              "0        0.0          0.0     0.0     0.0       0.0        0.0     0.0   \n",
              "\n",
              "   affect  affection  afford  afghanistan  afraid  africa  african  \\\n",
              "0     0.0        0.0     0.0          0.0     0.0     0.0      0.0   \n",
              "\n",
              "   african american  aftermath  afternoon  afterwards  age  agency  agenda  \\\n",
              "0               0.0        0.0        0.0         0.0  0.0     0.0     0.0   \n",
              "\n",
              "   agent  aggressive  agnes  ago  agree  agreement  agricultural  ahead   ai  \\\n",
              "0    0.0         0.0    0.0  0.0    0.0        0.0           0.0    0.0  0.0   \n",
              "\n",
              "   aid  ail  aim  air  air force  aircraft  aire  airline  airplane  airport  \\\n",
              "0  0.0  0.0  0.0  0.0        0.0       0.0   0.0      0.0       0.0      0.0   \n",
              "\n",
              "   ajay  aka   al  alabama  alan  alarm  alaska  albert  alberto  album  \\\n",
              "0   0.0  0.0  0.0      0.0   0.0    0.0     0.0     0.0      0.0    0.0   \n",
              "\n",
              "   alcohol  alcoholic  alex  alexander  alexis  alfred  ali  alice  alien  \\\n",
              "0      0.0        0.0   0.0        0.0     0.0     0.0  0.0    0.0    0.0   \n",
              "\n",
              "   alienate  alike  alison  alive  allan  allen  alley  alliance  allison  \\\n",
              "0       0.0    0.0     0.0    0.0    0.0    0.0    0.0       0.0      0.0   \n",
              "\n",
              "    allow  ally  almost  alone  along  along way  alongside  already  also  \\\n",
              "0  0.1278   0.0     0.0    0.0    0.0        0.0        0.0      0.0   0.0   \n",
              "\n",
              "   also feature  also find  also get  also include  also know  also show  \\\n",
              "0           0.0        0.0       0.0           0.0        0.0        0.0   \n",
              "\n",
              "   alter  alternate  alternative  although  always  alzheimer  amanda  amar  \\\n",
              "0    0.0        0.0          0.0       0.0     0.0        0.0     0.0   0.0   \n",
              "\n",
              "   amateur  amaze  amazing  amazon  ambassador  amber  ambition  ambitious  \\\n",
              "0      0.0    0.0      0.0     0.0         0.0    0.0       0.0        0.0   \n",
              "\n",
              "   ambush  america  american  american dream  amid  amidst  among  \\\n",
              "0     0.0      0.0       0.0             0.0   0.0     0.0    0.0   \n",
              "\n",
              "   among others  amongst  amount  amsterdam  amuse  amy  ana  analysis  \\\n",
              "0           0.0      0.0     0.0        0.0    0.0  0.0  0.0       0.0   \n",
              "\n",
              "   analyze  ancestor  ancestral  anchor  ancient  anderson  andrea  andrew  \\\n",
              "0      0.0       0.0        0.0     0.0      0.0       0.0     0.0     0.0   \n",
              "\n",
              "   andy  angel  angela  angeles  angelo  anger  angle  angry  animal  animate  \\\n",
              "0   0.0    0.0     0.0      0.0     0.0    0.0    0.0    0.0     0.0      0.0   \n",
              "\n",
              "   animated  animation  anita  ann  anna  anne  annie  anniversary  announce  \\\n",
              "0       0.0        0.0    0.0  0.0   0.0   0.0    0.0          0.0       0.0   \n",
              "\n",
              "   annoy  annual  anonymous  another  another man  another woman  answer  \\\n",
              "0    0.0     0.0        0.0      0.0          0.0            0.0     0.0   \n",
              "\n",
              "   answer question  anthology  anthony  antic  anticipate  antique  anton  \\\n",
              "0              0.0        0.0      0.0    0.0         0.0      0.0    0.0   \n",
              "\n",
              "   antonio  anxiety  anybody  anymore    anyone  anything  anyway  anywhere  \\\n",
              "0      0.0      0.0      0.0      0.0  0.138718       0.0     0.0       0.0   \n",
              "\n",
              "   apart  apartment  apartment building  apocalypse  apparent  apparently  \\\n",
              "0    0.0        0.0                 0.0         0.0       0.0         0.0   \n",
              "\n",
              "   appeal  appear  appearance  apple  apply  appoint  appreciate  apprentice  \\\n",
              "0     0.0     0.0         0.0    0.0    0.0      0.0         0.0         0.0   \n",
              "\n",
              "   approach  appropriate  approve  april  arab  archaeologist  architect  \\\n",
              "0  0.134339          0.0      0.0    0.0   0.0            0.0        0.0   \n",
              "\n",
              "   architecture  archival  archival footage  archive  archive footage  arctic  \\\n",
              "0           0.0       0.0               0.0      0.0              0.0     0.0   \n",
              "\n",
              "   area  arena  argentina  argue  argument  arise  arizona  arjun  arm  armed  \\\n",
              "0   0.0    0.0        0.0    0.0       0.0    0.0      0.0    0.0  0.0    0.0   \n",
              "\n",
              "   armenian  army  arnold  around  around globe  around world  arrange  \\\n",
              "0       0.0   0.0     0.0     0.0           0.0           0.0      0.0   \n",
              "\n",
              "   arrangement  array  arrest  arrival  arrive  arrives  arrogant  art  \\\n",
              "0          0.0    0.0     0.0      0.0     0.0      0.0       0.0  0.0   \n",
              "\n",
              "   art form  arthur  article  artifact  artificial  artist  artistic  artwork  \\\n",
              "0       0.0     0.0      0.0       0.0         0.0     0.0       0.0      0.0   \n",
              "\n",
              "   ash  ashley  asia  asian  aside  ask  ask question  asleep  aspect  \\\n",
              "0  0.0     0.0   0.0    0.0    0.0  0.0           0.0     0.0     0.0   \n",
              "\n",
              "   aspiration  aspire  aspiring  assassin  assassinate  assassination  \\\n",
              "0         0.0     0.0       0.0       0.0          0.0            0.0   \n",
              "\n",
              "   assault  assemble  assign  assignment  assist  assistance  assistant  \\\n",
              "0      0.0       0.0     0.0         0.0     0.0         0.0        0.0   \n",
              "\n",
              "   associate  association  assume  astronaut  asylum  athens  athlete  \\\n",
              "0        0.0          0.0     0.0        0.0     0.0     0.0      0.0   \n",
              "\n",
              "   atlanta  atlantic  atmosphere  attach  attack  attempt  attempt find  \\\n",
              "0      0.0       0.0         0.0     0.0     0.0      0.0           0.0   \n",
              "\n",
              "   attempt make  attend  attendant  attention  attitude  attorney  attract  \\\n",
              "0           0.0     0.0        0.0        0.0       0.0       0.0      0.0   \n",
              "\n",
              "   attraction  attractive   au  auction  audience  audio  audition  august  \\\n",
              "0         0.0         0.0  0.0      0.0       0.0    0.0       0.0     0.0   \n",
              "\n",
              "   aunt  austin  australia  australian  austria  austrian  authentic  author  \\\n",
              "0   0.0     0.0        0.0         0.0      0.0       0.0        0.0     0.0   \n",
              "\n",
              "   authority  autism  auto  automobile  autumn  available  avenge  average  \\\n",
              "0        0.0     0.0   0.0         0.0     0.0        0.0     0.0      0.0   \n",
              "\n",
              "   avoid  await  awake  awaken  awakening  award  award win  aware  awareness  \\\n",
              "0    0.0    0.0    0.0     0.0        0.0    0.0        0.0    0.0        0.0   \n",
              "\n",
              "   away  away home  awkward  awry   az  babe  baby  bachelor  back  back home  \\\n",
              "0   0.0        0.0      0.0   0.0  0.0   0.0   0.0       0.0   0.0        0.0   \n",
              "\n",
              "   back life  back time  back together  backdrop  background  backstage  \\\n",
              "0        0.0        0.0            0.0       0.0         0.0        0.0   \n",
              "\n",
              "   backyard  bad  bad guy  badly  bag  bailey  baker  balance  ball  ballet  \\\n",
              "0       0.0  0.0      0.0    0.0  0.0     0.0    0.0      0.0   0.0     0.0   \n",
              "\n",
              "   baltimore  ban  band  bandit  bang  bank  banker  bar  barbara  barber  \\\n",
              "0        0.0  0.0   0.0     0.0   0.0   0.0     0.0  0.0      0.0     0.0   \n",
              "\n",
              "   barcelona  bare  barely  bargain  barn  barney  baron  barrier  barry  \\\n",
              "0        0.0   0.0     0.0      0.0   0.0     0.0    0.0      0.0    0.0   \n",
              "\n",
              "   bartender  base  base true  base true story  baseball  basement  basic  \\\n",
              "0        0.0   0.0        0.0              0.0       0.0       0.0    0.0   \n",
              "\n",
              "   basis  basketball  bass  bat  bath  bathroom  battle  battlefield  bay  \\\n",
              "0    0.0         0.0   0.0  0.0   0.0       0.0     0.0          0.0  0.0   \n",
              "\n",
              "   bbc  beach  bear  beast  beat  beautiful  beautiful girl  beautiful woman  \\\n",
              "0  0.0    0.0   0.0    0.0   0.0        0.0             0.0              0.0   \n",
              "\n",
              "   beautiful young  beautifully  beauty  become  become clear  become famous  \\\n",
              "0              0.0          0.0     0.0     0.0           0.0            0.0   \n",
              "\n",
              "   become first  become friend  become increasingly  become involve  \\\n",
              "0           0.0            0.0                  0.0             0.0   \n",
              "\n",
              "   become one  become part  becomes  bed  bedroom  bee  beer  befriend  beg  \\\n",
              "0         0.0          0.0      0.0  0.0      0.0  0.0   0.0       0.0  0.0   \n",
              "\n",
              "   begin  beginning  behave  behavior  behaviour  behind  behind scene  \\\n",
              "0    0.0        0.0     0.0       0.0        0.0     0.0           0.0   \n",
              "\n",
              "   beijing  being  belgium  belief  believe  bell  belle  belong  belonging  \\\n",
              "0      0.0    0.0      0.0     0.0      0.0   0.0    0.0     0.0        0.0   \n",
              "\n",
              "   beloved  belt  ben  bend  beneath  benefit  benjamin  bennett  benny  bent  \\\n",
              "0      0.0   0.0  0.0   0.0      0.0      0.0       0.0      0.0    0.0   0.0   \n",
              "\n",
              "   berlin  bernard  besides  best  best friend  bet  beth  betray  betrayal  \\\n",
              "0     0.0      0.0      0.0   0.0          0.0  0.0   0.0     0.0       0.0   \n",
              "\n",
              "   better  betty  beverly  beyond  bible  biblical  bicycle  bid  big  \\\n",
              "0     0.0    0.0      0.0     0.0    0.0       0.0      0.0  0.0  0.0   \n",
              "\n",
              "   big city  bigfoot  bike  biker  bill  billion  billy  bind  biography  \\\n",
              "0       0.0      0.0   0.0    0.0   0.0      0.0    0.0   0.0        0.0   \n",
              "\n",
              "   biological  bird  birth  birthday  birthday party  bishop  bit  bite  \\\n",
              "0         0.0   0.0    0.0       0.0             0.0     0.0  0.0   0.0   \n",
              "\n",
              "   bitter  bizarre  black  black white  blackmail  blake  blame  blast  blend  \\\n",
              "0     0.0      0.0    0.0          0.0        0.0    0.0    0.0    0.0    0.0   \n",
              "\n",
              "   bless  blessing  blind  block  blonde  blood  bloody  blossom  blow  \\\n",
              "0    0.0       0.0    0.0    0.0     0.0    0.0     0.0      0.0   0.0   \n",
              "\n",
              "      blue  blur  board  boarding  boat  bob  bobby  body  bodyguard  bold  \\\n",
              "0  0.14642   0.0    0.0       0.0   0.0  0.0    0.0   0.0        0.0   0.0   \n",
              "\n",
              "   bomb  bombay  bomber  bombing  bond  bondage  bone  bonnie  bonus  book  \\\n",
              "0   0.0     0.0     0.0      0.0   0.0      0.0   0.0     0.0    0.0   0.0   \n",
              "\n",
              "   boom  boot  border  bore  boring  boris  born  borrow  bos  boss  boston  \\\n",
              "0   0.0   0.0     0.0   0.0     0.0    0.0   0.0     0.0  0.0   0.0     0.0   \n",
              "\n",
              "   bottle  bottom  bound  bound gag  boundary  bounty  bow  bowl  box  boxer  \\\n",
              "0     0.0     0.0    0.0        0.0       0.0     0.0  0.0   0.0  0.0    0.0   \n",
              "\n",
              "   boxing  boy  boy name  boyfriend  brad  bradley  brain  branch  brand  \\\n",
              "0     0.0  0.0       0.0        0.0   0.0      0.0    0.0     0.0    0.0   \n",
              "\n",
              "   brand new  brandon  brave  brazil  brazilian  bread  break  breakdown  \\\n",
              "0        0.0      0.0    0.0     0.0        0.0    0.0    0.0        0.0   \n",
              "\n",
              "   breakfast  breaking  breakthrough  breast  breath  breathe  breathtaking  \\\n",
              "0        0.0       0.0           0.0     0.0     0.0      0.0           0.0   \n",
              "\n",
              "   breed  brian  bribe  brick  bride  bridge  brief  bright  brilliant  bring  \\\n",
              "0    0.0    0.0    0.0    0.0    0.0     0.0    0.0     0.0        0.0    0.0   \n",
              "\n",
              "   bring back  bring home  bring life  bring together  brings  brink  britain  \\\n",
              "0         0.0         0.0         0.0             0.0     0.0    0.0      0.0   \n",
              "\n",
              "   british  broad  broadcast  broadway  broken  broker  brook  brooklyn  \\\n",
              "0      0.0    0.0        0.0       0.0     0.0     0.0    0.0       0.0   \n",
              "\n",
              "   brothel  brother  brother sister  brown  bruce  bruno  brutal  brutality  \\\n",
              "0      0.0      0.0             0.0    0.0    0.0    0.0     0.0        0.0   \n",
              "\n",
              "   brutally  bubble  buck  bud  buddhist  buddy  budget  buenos  buenos aire  \\\n",
              "0       0.0     0.0   0.0  0.0       0.0    0.0     0.0     0.0          0.0   \n",
              "\n",
              "   buffalo  build  build new  builder  building  bulgaria  bulgarian  bull  \\\n",
              "0      0.0    0.0        0.0      0.0       0.0       0.0        0.0   0.0   \n",
              "\n",
              "   bullet  bully  bump  bunch  burden  burglar  burke  burn  burning  burst  \\\n",
              "0     0.0    0.0   0.0    0.0     0.0      0.0    0.0   0.0      0.0    0.0   \n",
              "\n",
              "   bury  bus  bush  business  business partner  businessman  bust  busy  \\\n",
              "0   0.0  0.0   0.0       0.0               0.0          0.0   0.0   0.0   \n",
              "\n",
              "   butcher  butler  butterfly  buxom  buy   ca  ca get  cab  cabaret  cabin  \\\n",
              "0      0.0     0.0        0.0    0.0  0.0  0.0     0.0  0.0      0.0    0.0   \n",
              "\n",
              "   cable  cafe  café  cage  cake  california  call  calm  camera  cameraman  \\\n",
              "0    0.0   0.0   0.0   0.0   0.0         0.0   0.0   0.0     0.0        0.0   \n",
              "\n",
              "   cameron  camp  campaign  campbell  campus  canada  canadian  cancel  \\\n",
              "0      0.0   0.0       0.0       0.0     0.0     0.0       0.0     0.0   \n",
              "\n",
              "   cancer  candid  candidate  candy  canvas  canyon  capable  cape  capital  \\\n",
              "0     0.0     0.0        0.0    0.0     0.0     0.0      0.0   0.0      0.0   \n",
              "\n",
              "   captain  captivate  captive  capture  car  car accident  car crash  card  \\\n",
              "0      0.0        0.0      0.0      0.0  0.0           0.0        0.0   0.0   \n",
              "\n",
              "   care  career  carefree  carefully  caretaker  cargo  caribbean  carl  \\\n",
              "0   0.0     0.0       0.0        0.0        0.0    0.0        0.0   0.0   \n",
              "\n",
              "   carlo  carlos  carmen  carnival  carol  carolina  caroline  carpet  carrie  \\\n",
              "0    0.0     0.0     0.0       0.0    0.0       0.0       0.0     0.0     0.0   \n",
              "\n",
              "   carry  carson  cartel  carter  cartoon  case  casey  cash  casino  cast  \\\n",
              "0    0.0     0.0     0.0     0.0      0.0   0.0    0.0   0.0     0.0   0.0   \n",
              "\n",
              "   cast crew  casting  castle  casual  cat  catastrophe  catch  category  \\\n",
              "0        0.0      0.0     0.0     0.0  0.0          0.0    0.0       0.0   \n",
              "\n",
              "   catherine  catholic  cattle  caught  cause  cave   ce  celebrate  \\\n",
              "0        0.0       0.0     0.0     0.0    0.0   0.0  0.0        0.0   \n",
              "\n",
              "   celebrated  celebration  celebrity  cell  cemetery  center  center around  \\\n",
              "0         0.0          0.0        0.0   0.0       0.0     0.0            0.0   \n",
              "\n",
              "   central  centre  century  ceo  ceremony  certain  certainly  chad  chain  \\\n",
              "0      0.0     0.0      0.0  0.0       0.0      0.0        0.0   0.0    0.0   \n",
              "\n",
              "   chair  chairman  challenge  challenging  chamber  champion  championship  \\\n",
              "0    0.0       0.0        0.0          0.0      0.0       0.0           0.0   \n",
              "\n",
              "   chance  chance encounter  change  change forever  change life  \\\n",
              "0     0.0               0.0     0.0             0.0          0.0   \n",
              "\n",
              "   change life forever  change mind  change way  change world  channel  chaos  \\\n",
              "0                  0.0          0.0         0.0           0.0      0.0    0.0   \n",
              "\n",
              "   chaotic  chapter  character  charge  charismatic  charity  charles  \\\n",
              "0      0.0      0.0        0.0     0.0          0.0      0.0      0.0   \n",
              "\n",
              "   charlie  charlotte     charm  charming  chart  chase  chat  che  cheap  \\\n",
              "0      0.0        0.0  0.153163       0.0    0.0    0.0   0.0  0.0    0.0   \n",
              "\n",
              "   cheat  check  cheer  chef  chemical  chen  chicago  chick  chicken  chief  \\\n",
              "0    0.0    0.0    0.0   0.0       0.0   0.0      0.0    0.0      0.0    0.0   \n",
              "\n",
              "   child  childhood  childhood friend  chile  chill  china  chinese  chip  \\\n",
              "0    0.0   0.125157               0.0    0.0    0.0    0.0      0.0   0.0   \n",
              "\n",
              "   chloe  chocolate  choice  choice make  choir  choose  choreographer  \\\n",
              "0    0.0        0.0     0.0          0.0    0.0     0.0            0.0   \n",
              "\n",
              "   chosen  chris  christ  christian  christina  christine  christmas  \\\n",
              "0     0.0    0.0     0.0        0.0        0.0        0.0   0.149754   \n",
              "\n",
              "   christmas eve  christopher  chronicle  chuck  church  cia  cigarette  \\\n",
              "0            0.0          0.0        0.0    0.0     0.0  0.0        0.0   \n",
              "\n",
              "   cindy  cinema  cinematic  cinematographer  cinematography  circle  circuit  \\\n",
              "0    0.0     0.0        0.0              0.0             0.0     0.0      0.0   \n",
              "\n",
              "   circumstance  circus  citizen  city  civil  civil right  civil war  \\\n",
              "0           0.0     0.0      0.0   0.0    0.0          0.0        0.0   \n",
              "\n",
              "   civilian  civilization  claim  claire  clan  clara  clark  clash  class  \\\n",
              "0       0.0           0.0    0.0     0.0   0.0    0.0    0.0    0.0    0.0   \n",
              "\n",
              "   classic  classical  classmate  classroom  claude  claudia  clay  clean  \\\n",
              "0      0.0        0.0        0.0        0.0     0.0      0.0   0.0    0.0   \n",
              "\n",
              "   clear  clearly  clerk  clever  client  cliff  climate  climate change  \\\n",
              "0    0.0      0.0    0.0     0.0     0.0    0.0      0.0             0.0   \n",
              "\n",
              "   climax  climb  clinic  clip  clock  close  close friend  closed  closely  \\\n",
              "0     0.0    0.0     0.0   0.0    0.0    0.0           0.0     0.0      0.0   \n",
              "\n",
              "   closer  closet  closing  closure  clothes  clothing  cloud  clown  club  \\\n",
              "0     0.0     0.0      0.0      0.0      0.0       0.0    0.0    0.0   0.0   \n",
              "\n",
              "   clue  clutch  coach  coal  coast  coastal  coaster  cocaine  code  coffee  \\\n",
              "0   0.0     0.0    0.0   0.0    0.0      0.0      0.0      0.0   0.0     0.0   \n",
              "\n",
              "   coin  coincidence  cold  cold war  cole  colin  collaborate  collaboration  \\\n",
              "0   0.0          0.0   0.0       0.0   0.0    0.0          0.0            0.0   \n",
              "\n",
              "   collapse  colleague  collect  collection  collective  collector  college  \\\n",
              "0       0.0        0.0      0.0         0.0         0.0        0.0      0.0   \n",
              "\n",
              "   college student  collide  collins  collision  colonel  colonial  colony  \\\n",
              "0              0.0      0.0      0.0        0.0      0.0       0.0     0.0   \n",
              "\n",
              "   color  colorado  colorful  colour  columbia  coma  combat  combination  \\\n",
              "0    0.0       0.0       0.0     0.0       0.0   0.0     0.0          0.0   \n",
              "\n",
              "   combine  come  come across  come age  come along  come back  come end  \\\n",
              "0      0.0   0.0          0.0       0.0         0.0        0.0       0.0   \n",
              "\n",
              "   come face  come face face  come home  come know  come life  come term  \\\n",
              "0        0.0             0.0        0.0        0.0        0.0        0.0   \n",
              "\n",
              "   come together  come true  comedian  comedic  comedy  comfort  comfortable  \\\n",
              "0            0.0        0.0       0.0      0.0     0.0      0.0          0.0   \n",
              "\n",
              "   comic  comic book  comical  coming  command  commander  comment  \\\n",
              "0    0.0         0.0      0.0     0.0      0.0        0.0      0.0   \n",
              "\n",
              "   commentary  commercial  commission  commissioner  commit  commit suicide  \\\n",
              "0         0.0         0.0         0.0           0.0     0.0             0.0   \n",
              "\n",
              "   commitment  committee  common  communicate  communication  communist  \\\n",
              "0         0.0        0.0     0.0          0.0            0.0        0.0   \n",
              "\n",
              "   community  companion   company  compare  compassion  compel  compelling  \\\n",
              "0        0.0        0.0  0.117169      0.0         0.0     0.0         0.0   \n",
              "\n",
              "   compete  competition  competitive  competitor  compilation  complete  \\\n",
              "0      0.0          0.0          0.0         0.0          0.0       0.0   \n",
              "\n",
              "   completely  complex  complexity  complicate  complicated  complication  \\\n",
              "0         0.0      0.0         0.0         0.0          0.0           0.0   \n",
              "\n",
              "   complication ensue  compose  composer  composition  comprehensive  \\\n",
              "0                 0.0      0.0       0.0          0.0            0.0   \n",
              "\n",
              "   comprise  compromise  computer  comrade  con  conceal  conceive  \\\n",
              "0       0.0         0.0       0.0      0.0  0.0      0.0       0.0   \n",
              "\n",
              "   concentrate  concentration  concentration camp  concept  concern  concert  \\\n",
              "0          0.0            0.0                 0.0      0.0      0.0      0.0   \n",
              "\n",
              "   conclude  conclusion  concrete  condemn  condition  conduct  conference  \\\n",
              "0       0.0         0.0       0.0      0.0        0.0      0.0         0.0   \n",
              "\n",
              "   confess  confession  confidence  confident  confine  confirm  conflict  \\\n",
              "0      0.0         0.0         0.0        0.0      0.0      0.0       0.0   \n",
              "\n",
              "   confront  confrontation  confuse  confused  confusion  congress  connect  \\\n",
              "0       0.0            0.0      0.0       0.0        0.0       0.0      0.0   \n",
              "\n",
              "   connection  conquer  conscience  conscious  consciousness  consent  \\\n",
              "0         0.0      0.0         0.0        0.0            0.0      0.0   \n",
              "\n",
              "   consequence  conservation  conservative  consider  consist  conspiracy  \\\n",
              "0          0.0           0.0           0.0       0.0      0.0         0.0   \n",
              "\n",
              "   conspire  constant  constantly  construct  construction  consume  consumer  \\\n",
              "0       0.0       0.0         0.0        0.0           0.0      0.0       0.0   \n",
              "\n",
              "   contact  contain  contemplate  contemporary  content  contest  contestant  \\\n",
              "0      0.0      0.0          0.0           0.0      0.0      0.0         0.0   \n",
              "\n",
              "   context  continent  continually  continue  contract  contradiction  \\\n",
              "0      0.0        0.0          0.0       0.0       0.0            0.0   \n",
              "\n",
              "   contrast  contribute  contribution  control  controversial  controversy  \\\n",
              "0       0.0         0.0           0.0      0.0            0.0          0.0   \n",
              "\n",
              "   convent  convention  conventional  converge  conversation  convert  convey  \\\n",
              "0      0.0         0.0           0.0       0.0      0.146366      0.0     0.0   \n",
              "\n",
              "   convict  conviction  convince  cook  cooking  cool  cooper  cop  cope  \\\n",
              "0      0.0         0.0       0.0   0.0      0.0   0.0     0.0  0.0   0.0   \n",
              "\n",
              "   copy  core  corner  corp  corporate  corporation  corpse  correct  \\\n",
              "0   0.0   0.0     0.0   0.0        0.0          0.0     0.0      0.0   \n",
              "\n",
              "   correspondent  corrupt  corruption  cost  costa  costume  cottage  couch  \\\n",
              "0            0.0      0.0         0.0   0.0    0.0      0.0      0.0    0.0   \n",
              "\n",
              "   could  council  counselor  count  counter  countess  countless  country  \\\n",
              "0    0.0      0.0        0.0    0.0      0.0       0.0        0.0      0.0   \n",
              "\n",
              "   country music  countryside  county  coup  couple   courage  courageous  \\\n",
              "0            0.0          0.0     0.0   0.0     0.0  0.149172         0.0   \n",
              "\n",
              "   course  court  cousin  cover  coverage  cow  cowboy  crack  craft  craig  \\\n",
              "0     0.0    0.0     0.0    0.0       0.0  0.0     0.0    0.0    0.0    0.0   \n",
              "\n",
              "   crash  crazy  cream  create  create new  creation  creative  \\\n",
              "0    0.0    0.0    0.0     0.0         0.0       0.0       0.0   \n",
              "\n",
              "   creative process  creativity  creator  creature  credit  creek  creepy  \\\n",
              "0               0.0         0.0      0.0       0.0     0.0    0.0     0.0   \n",
              "\n",
              "   crew  crime  crime commit  criminal  cripple  crisis  critic  critical  \\\n",
              "0   0.0    0.0           0.0       0.0      0.0     0.0     0.0       0.0   \n",
              "\n",
              "   critically  crook  crooked  crop  cross  cross path  crossroad  crowd  \\\n",
              "0         0.0    0.0      0.0   0.0    0.0         0.0        0.0    0.0   \n",
              "\n",
              "   crown  crucial  cruel  cruelty  cruise  crumble  crush  cry  crystal  cuba  \\\n",
              "0    0.0      0.0    0.0      0.0     0.0      0.0    0.0  0.0      0.0   0.0   \n",
              "\n",
              "   cuban  culinary  culminate  culprit  cult  cultural  culture  cunning  cup  \\\n",
              "0    0.0       0.0        0.0      0.0   0.0       0.0      0.0      0.0  0.0   \n",
              "\n",
              "   cure  curiosity  curious  current  currently  curse  curtain  curtis  \\\n",
              "0   0.0        0.0      0.0      0.0        0.0    0.0      0.0     0.0   \n",
              "\n",
              "   custody  custom  customer  cut  cute  cycle  cynical  czech   da  dad  \\\n",
              "0      0.0     0.0       0.0  0.0   0.0    0.0      0.0    0.0  0.0  0.0   \n",
              "\n",
              "   daddy  daily  daily life  daily routine  daisy  dale  dallas  dam  damage  \\\n",
              "0    0.0    0.0         0.0            0.0    0.0   0.0     0.0  0.0     0.0   \n",
              "\n",
              "   dan  dance  dancer  dancing  danger  dangerous  daniel  danish  danny  \\\n",
              "0  0.0    0.0     0.0      0.0     0.0        0.0     0.0     0.0    0.0   \n",
              "\n",
              "   dans  dante  dare  dark  dark secret  dark side  darker  darkness  dash  \\\n",
              "0   0.0    0.0   0.0   0.0          0.0        0.0     0.0       0.0   0.0   \n",
              "\n",
              "   data  date  dating  daughter  dave  david  davis  dawn  day  day day  \\\n",
              "0   0.0   0.0     0.0       0.0   0.0    0.0    0.0   0.0  0.0      0.0   \n",
              "\n",
              "   day later  day life  day meet  day night   dc   de  de janeiro  de la  \\\n",
              "0        0.0       0.0       0.0        0.0  0.0  0.0         0.0    0.0   \n",
              "\n",
              "   dead  dead body  deadly  deaf  deal  dealer  dean  dear  death  \\\n",
              "0   0.0        0.0     0.0   0.0   0.0     0.0   0.0   0.0    0.0   \n",
              "\n",
              "   death father  debate  debbie  debt  debut  decade  decay  decease  \\\n",
              "0           0.0     0.0     0.0   0.0    0.0     0.0    0.0      0.0   \n",
              "\n",
              "   deceased  deceit  december  decent  deception  decide  decide get  \\\n",
              "0       0.0     0.0       0.0     0.0        0.0     0.0         0.0   \n",
              "\n",
              "   decide go  decide leave  decide make  decide stay  decide take  \\\n",
              "0        0.0           0.0          0.0          0.0          0.0   \n",
              "\n",
              "   decide whether  decides  decision  declare  decline  dedicate  dedicated  \\\n",
              "0             0.0      0.0       0.0      0.0      0.0       0.0        0.0   \n",
              "\n",
              "   dedication  deed  deep  deeper  deeply  defeat  defend  defense  define  \\\n",
              "0         0.0   0.0   0.0     0.0     0.0     0.0     0.0      0.0     0.0   \n",
              "\n",
              "   definitely  definition  defy  degree  del  delay  delhi  delicate  delight  \\\n",
              "0         0.0         0.0   0.0     0.0  0.0    0.0    0.0       0.0      0.0   \n",
              "\n",
              "   deliver  delivery  della  delta  delve  demand  demise  democracy  \\\n",
              "0      0.0       0.0    0.0    0.0    0.0     0.0     0.0        0.0   \n",
              "\n",
              "   democratic  demon  demonic  demonstrate  demonstration  den  denial  \\\n",
              "0         0.0    0.0      0.0          0.0            0.0  0.0     0.0   \n",
              "\n",
              "   denmark  dennis  deny  depart  department  departure  depend  dependent  \\\n",
              "0      0.0     0.0   0.0     0.0         0.0        0.0     0.0        0.0   \n",
              "\n",
              "   depict  depiction  depressed  depression  depth  deputy  der  derek  \\\n",
              "0     0.0        0.0        0.0         0.0    0.0     0.0  0.0    0.0   \n",
              "\n",
              "   descend  descendant  descent  describe  description  desert  deserted  \\\n",
              "0      0.0         0.0      0.0       0.0          0.0     0.0       0.0   \n",
              "\n",
              "   deserve  design  designer  desire  desolate  despair  desperate  \\\n",
              "0      0.0     0.0       0.0     0.0       0.0      0.0        0.0   \n",
              "\n",
              "   desperately  desperately try  desperation  despite  destination  destine  \\\n",
              "0          0.0              0.0          0.0      0.0          0.0      0.0   \n",
              "\n",
              "   destiny  destroy  destruction  destructive  detail  detailed  detective  \\\n",
              "0      0.0      0.0          0.0          0.0     0.0       0.0        0.0   \n",
              "\n",
              "   detention  determination  determine  determined  detroit  devastate  \\\n",
              "0        0.0            0.0        0.0         0.0      0.0        0.0   \n",
              "\n",
              "   devastating  develop  developer  development  device  devil  devise  \\\n",
              "0          0.0      0.0        0.0          0.0     0.0    0.0     0.0   \n",
              "\n",
              "   devote  devoted  devotion   di  diagnose  diagnosis  dialogue  diamond  \\\n",
              "0     0.0      0.0       0.0  0.0       0.0        0.0       0.0      0.0   \n",
              "\n",
              "   diana  diane  diary  dick  dictator  dictatorship  die  diego  diet  \\\n",
              "0    0.0    0.0    0.0   0.0       0.0           0.0  0.0    0.0   0.0   \n",
              "\n",
              "   difference  different  different people  different way  differently  \\\n",
              "0         0.0        0.0               0.0            0.0          0.0   \n",
              "\n",
              "   difficult  difficulty  dig  digital  dignity  dilemma  dimension  diner  \\\n",
              "0        0.0         0.0  0.0      0.0      0.0      0.0        0.0    0.0   \n",
              "\n",
              "   dinner  dinosaur  dire  direct  direction  directly  director  dirt  dirty  \\\n",
              "0     0.0       0.0   0.0     0.0        0.0       0.0       0.0   0.0    0.0   \n",
              "\n",
              "   disability  disabled  disappear  disappearance  disappears  disappointment  \\\n",
              "0         0.0       0.0        0.0            0.0         0.0             0.0   \n",
              "\n",
              "   disaster  disastrous  discipline  disclose  disco  discover  \\\n",
              "0       0.0         0.0         0.0       0.0    0.0       0.0   \n",
              "\n",
              "   discover truth  discovers  discovery  discrimination  discuss  discussion  \\\n",
              "0             0.0        0.0        0.0             0.0      0.0         0.0   \n",
              "\n",
              "   disease  disguise  dish  dislike  dismay  dismiss  disney  disorder  \\\n",
              "0      0.0       0.0   0.0      0.0     0.0      0.0     0.0       0.0   \n",
              "\n",
              "   display  dispute  disrupt  distance  distant  distinct  distract  \\\n",
              "0      0.0      0.0      0.0       0.0      0.0       0.0       0.0   \n",
              "\n",
              "   distraught  distress  distribute  distribution  district  disturb  \\\n",
              "0         0.0       0.0         0.0           0.0       0.0      0.0   \n",
              "\n",
              "   disturbing  diva  dive  diver  diverse  diversity  divide  divine  \\\n",
              "0         0.0   0.0   0.0    0.0      0.0        0.0     0.0     0.0   \n",
              "\n",
              "   division  divorce   dj  dna   do  doc    doctor  document  documentary  \\\n",
              "0       0.0      0.0  0.0  0.0  0.0  0.0  0.124852       0.0          0.0   \n",
              "\n",
              "   documentary explore  documentary feature  documentary film  \\\n",
              "0                  0.0                  0.0               0.0   \n",
              "\n",
              "   documentary filmmaker  documentary follow  documentary series  \\\n",
              "0                    0.0                 0.0                 0.0   \n",
              "\n",
              "   documentary show  documentary take  documentary tell  \\\n",
              "0               0.0               0.0               0.0   \n",
              "\n",
              "   documentary tell story  dodge  dog  doll  dollar  domestic  dominate  \\\n",
              "0                     0.0    0.0  0.0   0.0     0.0       0.0       0.0   \n",
              "\n",
              "   donald  donate  donna  ...  ring  rio  rio de  rio de janeiro  riot  rip  \\\n",
              "0     0.0     0.0    0.0  ...   0.0  0.0     0.0             0.0   0.0  0.0   \n",
              "\n",
              "   rise  risk  risk life  rita  rite  ritual  rival  rivalry  river  road  \\\n",
              "0   0.0   0.0        0.0   0.0   0.0     0.0    0.0      0.0    0.0   0.0   \n",
              "\n",
              "   road trip  roam  rob  robber  robbery  robert  roberto  robin  robinson  \\\n",
              "0        0.0   0.0  0.0     0.0      0.0     0.0      0.0    0.0       0.0   \n",
              "\n",
              "   robot  rock  rock band  rock roll  rock star  rocket  rocky  rod  rodeo  \\\n",
              "0    0.0   0.0        0.0        0.0        0.0     0.0    0.0  0.0    0.0   \n",
              "\n",
              "   roger  rogers  rogue  role  roll  roller  roller coaster  rom  roman  \\\n",
              "0    0.0     0.0    0.0   0.0   0.0     0.0             0.0  0.0    0.0   \n",
              "\n",
              "   romance  romania  romantic  romantic comedy  rome  romeo  ron  ronnie  \\\n",
              "0      0.0      0.0       0.0              0.0   0.0    0.0  0.0     0.0   \n",
              "\n",
              "   roof  rookie  room  roommate  root  rope  rosa      rose  ross  rough  \\\n",
              "0   0.0     0.0   0.0       0.0   0.0   0.0   0.0  0.326059   0.0    0.0   \n",
              "\n",
              "   round  route  routine  row  roy  royal  ruby  ruin  rule  ruler  rumor  \\\n",
              "0    0.0    0.0      0.0  0.0  0.0    0.0   0.0   0.0   0.0    0.0    0.0   \n",
              "\n",
              "   run  run away  runaway  runner  running  rural  rush  russell  russia  \\\n",
              "0  0.0       0.0      0.0     0.0      0.0    0.0   0.0      0.0     0.0   \n",
              "\n",
              "   russian  rustler  ruth  ruthless  ryan   sa  sabotage  sacred  sacrifice  \\\n",
              "0      0.0      0.0   0.0       0.0   0.0  0.0       0.0     0.0        0.0   \n",
              "\n",
              "   sad  sadistic  sadness  safe  safely  safety  saga  sail  sailor  saint  \\\n",
              "0  0.0       0.0      0.0   0.0     0.0     0.0   0.0   0.0     0.0    0.0   \n",
              "\n",
              "   sake  sale  salesman  sally  salon  saloon  salt  salvation  sam  samantha  \\\n",
              "0   0.0   0.0       0.0    0.0    0.0     0.0   0.0        0.0  0.0       0.0   \n",
              "\n",
              "   sammy  samuel  samurai  san  san diego  san francisco  sanctuary  sand  \\\n",
              "0    0.0     0.0      0.0  0.0        0.0            0.0        0.0   0.0   \n",
              "\n",
              "   sandra  sandy  sanity  santa  santiago  sara  sarah  satan  satellite  \\\n",
              "0     0.0    0.0     0.0    0.0       0.0   0.0    0.0    0.0        0.0   \n",
              "\n",
              "   satire  satirical  satisfy  saturday  savage  save  save day  save life  \\\n",
              "0     0.0        0.0      0.0       0.0     0.0   0.0       0.0        0.0   \n",
              "\n",
              "   save world  saving  saw  say  scale  scam  scandal  scar  scary  scenario  \\\n",
              "0         0.0     0.0  0.0  0.0    0.0   0.0      0.0   0.0    0.0       0.0   \n",
              "\n",
              "   scene  scenery  schedule  scheme  scholar  scholarship  school  \\\n",
              "0    0.0      0.0       0.0     0.0      0.0          0.0     0.0   \n",
              "\n",
              "   school friend  school student  school teacher  science  science fiction  \\\n",
              "0            0.0             0.0             0.0      0.0              0.0   \n",
              "\n",
              "   scientific  scientist  score  scotland  scott  scottish  scout  scrap  \\\n",
              "0         0.0        0.0    0.0       0.0    0.0       0.0    0.0    0.0   \n",
              "\n",
              "   scratch  scream  screen  screenplay  screenwriter  script  sculptor  \\\n",
              "0      0.0     0.0     0.0         0.0           0.0     0.0       0.0   \n",
              "\n",
              "   sculpture   se  sea  seal  sean  search  search answer  seaside  season  \\\n",
              "0        0.0  0.0  0.0   0.0   0.0     0.0            0.0      0.0     0.0   \n",
              "\n",
              "   seat  seattle  sebastian  second  second chance  second world  \\\n",
              "0   0.0      0.0        0.0     0.0            0.0           0.0   \n",
              "\n",
              "   second world war  secret  secret service  secretary  secretly  section  \\\n",
              "0               0.0     0.0             0.0        0.0       0.0      0.0   \n",
              "\n",
              "   secure  security  security guard  seduce  seductive  see  see eye  seed  \\\n",
              "0     0.0       0.0             0.0     0.0        0.0  0.0      0.0   0.0   \n",
              "\n",
              "   seedy  seek  seek help  seek revenge  seem  seem like  seemingly  segment  \\\n",
              "0    0.0   0.0        0.0           0.0   0.0        0.0        0.0      0.0   \n",
              "\n",
              "   seize  select  selection  self  selfish  sell  senator  send  senior  sens  \\\n",
              "0    0.0     0.0        0.0   0.0      0.0   0.0      0.0   0.0     0.0   0.0   \n",
              "\n",
              "   sensation  sense  sensitive  sensual  sentence  seoul  separate  \\\n",
              "0        0.0    0.0        0.0      0.0       0.0    0.0       0.0   \n",
              "\n",
              "   separation  september  sequel  sequence  serbian  sergeant  serial  \\\n",
              "0         0.0        0.0     0.0       0.0      0.0       0.0     0.0   \n",
              "\n",
              "   serial killer  series  series event  series feature  series follow  \\\n",
              "0            0.0     0.0           0.0             0.0            0.0   \n",
              "\n",
              "   serious  seriously  servant  serve  service  session  set  set backdrop  \\\n",
              "0      0.0        0.0      0.0    0.0      0.0      0.0  0.0           0.0   \n",
              "\n",
              "   set find  seth  setting  settle  settlement  settler  seven  seven year  \\\n",
              "0       0.0   0.0      0.0     0.0         0.0      0.0    0.0         0.0   \n",
              "\n",
              "   several  several year  severe  severely  sex  sexual  sexuality  sexually  \\\n",
              "0      0.0           0.0     0.0       0.0  0.0     0.0        0.0       0.0   \n",
              "\n",
              "   sexy  shack  shadow  shady  shake  shakespeare  shall  shame  shane  \\\n",
              "0   0.0    0.0     0.0    0.0    0.0          0.0    0.0    0.0    0.0   \n",
              "\n",
              "   shanghai  shankar  shannon  shape  share  share story  shark  sharon  \\\n",
              "0       0.0      0.0      0.0    0.0    0.0          0.0    0.0     0.0   \n",
              "\n",
              "   sharp  shatter  shawn  shed  shed light  sheep  sheer  shell  shelter  \\\n",
              "0    0.0      0.0    0.0   0.0         0.0    0.0    0.0    0.0      0.0   \n",
              "\n",
              "   shepherd  sheriff  shift  shin  shine  ship  shipment  shirley  shiva  \\\n",
              "0       0.0      0.0    0.0   0.0    0.0   0.0       0.0      0.0    0.0   \n",
              "\n",
              "   shock  shocking  shoe  shoot  shooting  shop  shopping  shore  short  \\\n",
              "0    0.0       0.0   0.0    0.0       0.0   0.0       0.0    0.0    0.0   \n",
              "\n",
              "   short documentary  short film  short story  shortly  shot  shoulder  show  \\\n",
              "0                0.0         0.0          0.0      0.0   0.0       0.0   0.0   \n",
              "\n",
              "   show feature  show host  showcase  showcases  showcasing  showdown  shower  \\\n",
              "0           0.0        0.0       0.0        0.0         0.0       0.0     0.0   \n",
              "\n",
              "   shut  shy   si  sibling  sick  sid  side  sidekick  sierra  sight  sign  \\\n",
              "0   0.0  0.0  0.0      0.0   0.0  0.0   0.0       0.0     0.0    0.0   0.0   \n",
              "\n",
              "   signal  signature  significance  significant  silence  silent  silver  \\\n",
              "0     0.0        0.0           0.0          0.0      0.0     0.0     0.0   \n",
              "\n",
              "   similar  simon  simple  simply  simultaneously  sin  since  sing  \\\n",
              "0      0.0    0.0     0.0     0.0             0.0  0.0    0.0   0.0   \n",
              "\n",
              "   singapore  singer  singh  singing  single  single mother  sinister  sink  \\\n",
              "0        0.0     0.0    0.0      0.0     0.0            0.0       0.0   0.0   \n",
              "\n",
              "   sir  sister  sit  sitcom  site  situate  situation  six  six month  \\\n",
              "0  0.0     0.0  0.0     0.0   0.0      0.0        0.0  0.0        0.0   \n",
              "\n",
              "   six year  sixteen  sixty  size  sketch  ski  skill  skin  skip  sky  \\\n",
              "0       0.0      0.0    0.0   0.0     0.0  0.0    0.0   0.0   0.0  0.0   \n",
              "\n",
              "   slaughter  slave  slavery  sleep  sleepy  slice  slightly  slim  slip  \\\n",
              "0        0.0    0.0      0.0    0.0     0.0    0.0       0.0   0.0   0.0   \n",
              "\n",
              "   slow  slowly  slum  small  small group  small town  small village  smart  \\\n",
              "0   0.0     0.0   0.0    0.0          0.0         0.0            0.0    0.0   \n",
              "\n",
              "   smile  smith  smoke  smoking  smooth  smuggle  smuggler  snake  sneak  \\\n",
              "0    0.0    0.0    0.0      0.0     0.0      0.0       0.0    0.0    0.0   \n",
              "\n",
              "   snow  soap  soccer  social  social medium  social worker  socialite  \\\n",
              "0   0.0   0.0     0.0     0.0            0.0            0.0        0.0   \n",
              "\n",
              "   socially  society  sofia  soft  software  soil  solace  solar  soldier  \\\n",
              "0       0.0      0.0    0.0   0.0       0.0   0.0     0.0    0.0      0.0   \n",
              "\n",
              "   sole  solely  solid  solitary  solitude  solo  solution  solve  \\\n",
              "0   0.0     0.0    0.0       0.0       0.0   0.0       0.0    0.0   \n",
              "\n",
              "   solve mystery  solve problem  somebody  somehow  someone  someone else  \\\n",
              "0            0.0            0.0       0.0      0.0      0.0           0.0   \n",
              "\n",
              "   something  sometimes  somewhat  somewhere  son  song  sonia  sonny  soon  \\\n",
              "0        0.0        0.0       0.0        0.0  0.0   0.0    0.0    0.0   0.0   \n",
              "\n",
              "   soon become  soon discover  soon find  soon learn  soon realize  sophie  \\\n",
              "0          0.0            0.0        0.0         0.0           0.0     0.0   \n",
              "\n",
              "   sophisticated  sorrow  sort  soul  sound  soundtrack  source  south  \\\n",
              "0            0.0     0.0   0.0   0.0    0.0         0.0     0.0    0.0   \n",
              "\n",
              "   south africa  south african  south america  southern  southern california  \\\n",
              "0           0.0            0.0            0.0       0.0                  0.0   \n",
              "\n",
              "   soviet  soviet union  space  spain  span  spanish  spare  spark     speak  \\\n",
              "0     0.0           0.0    0.0    0.0   0.0      0.0    0.0    0.0  0.133214   \n",
              "\n",
              "   speaker  special  specialist  specialize  specie  specific  specifically  \\\n",
              "0      0.0      0.0         0.0         0.0     0.0       0.0           0.0   \n",
              "\n",
              "   spectacular  spectator  speech  speed  spell  spencer  spend  spend day  \\\n",
              "0          0.0        0.0     0.0    0.0    0.0      0.0    0.0        0.0   \n",
              "\n",
              "   spend night  spend time  spend year  spider  spill  spin  spiral  \\\n",
              "0          0.0         0.0         0.0     0.0    0.0   0.0     0.0   \n",
              "\n",
              "   spiral control  spirit  spiritual  spirituality  spite  split  spoil  \\\n",
              "0             0.0     0.0        0.0           0.0    0.0    0.0    0.0   \n",
              "\n",
              "   sponsor  sport  spot  spotlight  spouse  spread  spree  spring  spy  squad  \\\n",
              "0      0.0    0.0   0.0        0.0     0.0     0.0    0.0     0.0  0.0    0.0   \n",
              "\n",
              "   square  stab  stability  stable  stadium  staff  stag  stage  stagecoach  \\\n",
              "0     0.0   0.0        0.0     0.0      0.0    0.0   0.0    0.0         0.0   \n",
              "\n",
              "   stake  stalk  stan  stand  stand way  standard  standing  stanley  star  \\\n",
              "0    0.0    0.0   0.0    0.0        0.0       0.0       0.0      0.0   0.0   \n",
              "\n",
              "   stardom  stark  start  start new  start new life  start work  state  \\\n",
              "0      0.0    0.0    0.0        0.0             0.0         0.0    0.0   \n",
              "\n",
              "   statement  station  statue  status  stay  stay alive  steady  steal  steel  \\\n",
              "0        0.0      0.0     0.0     0.0   0.0         0.0     0.0    0.0    0.0   \n",
              "\n",
              "   stella  stem  step  stepfather  stephanie  stephen  stereotype  steve  \\\n",
              "0     0.0   0.0   0.0         0.0        0.0      0.0         0.0    0.0   \n",
              "\n",
              "   steven  stevens  stewart  stick  still  still alive  still live  stir  \\\n",
              "0     0.0      0.0      0.0    0.0    0.0          0.0         0.0   0.0   \n",
              "\n",
              "   stock  stockholm  stolen  stone  stop  stop nothing  store  storm  story  \\\n",
              "0    0.0        0.0     0.0    0.0   0.0           0.0    0.0    0.0    0.0   \n",
              "\n",
              "   story begin  story behind  story family  story film  story follow  \\\n",
              "0          0.0           0.0           0.0         0.0           0.0   \n",
              "\n",
              "   story life  story line  story love  story man  story one  story people  \\\n",
              "0         0.0         0.0         0.0        0.0        0.0           0.0   \n",
              "\n",
              "   story revolve  story revolve around  story set  story take  \\\n",
              "0            0.0                   0.0        0.0         0.0   \n",
              "\n",
              "   story take place  story tell  story three  story two  story woman  \\\n",
              "0               0.0         0.0          0.0        0.0          0.0   \n",
              "\n",
              "   story young  storyline  storytelling  straight  strain  strand  strange  \\\n",
              "0          0.0        0.0           0.0       0.0     0.0     0.0      0.0   \n",
              "\n",
              "   strangely  stranger  strategy  stray  stream  street  strength  stress  \\\n",
              "0        0.0       0.0       0.0    0.0     0.0     0.0       0.0     0.0   \n",
              "\n",
              "   stretch  strict  strike  string  strip  stripper  strive  stroke  strong  \\\n",
              "0      0.0     0.0     0.0     0.0    0.0       0.0     0.0     0.0     0.0   \n",
              "\n",
              "   strongly  structure  struggle  struggle find  struggle keep  struggle make  \\\n",
              "0       0.0        0.0       0.0            0.0            0.0            0.0   \n",
              "\n",
              "   struggle survive  stuart  student  studio  study  stuff  stumble  \\\n",
              "0               0.0     0.0      0.0     0.0    0.0    0.0      0.0   \n",
              "\n",
              "   stumble upon  stun  stunning  stunt  style   su  subculture  subject  \\\n",
              "0           0.0   0.0       0.0    0.0    0.0  0.0         0.0      0.0   \n",
              "\n",
              "   submit  subsequent  subsequently  substance  subtle  suburb  suburban  \\\n",
              "0     0.0         0.0           0.0        0.0     0.0     0.0       0.0   \n",
              "\n",
              "   subway  succeed  success  successful  successfully  succumb  suck  sudden  \\\n",
              "0     0.0      0.0      0.0         0.0           0.0      0.0   0.0     0.0   \n",
              "\n",
              "   suddenly  sue  suffer  suffering  suffers  sugar  suggest  suicidal  \\\n",
              "0       0.0  0.0     0.0        0.0      0.0    0.0      0.0       0.0   \n",
              "\n",
              "   suicide  suit  suitable  suitcase  suitor  sum  summer  summon  sun  \\\n",
              "0      0.0   0.0       0.0       0.0     0.0  0.0     0.0     0.0  0.0   \n",
              "\n",
              "   sunday  sunny  sunset  super  superhero  superior  supermarket  \\\n",
              "0     0.0    0.0     0.0    0.0        0.0       0.0          0.0   \n",
              "\n",
              "   supernatural  superstar  supervisor  supply  support  supporter  suppose  \\\n",
              "0           0.0        0.0         0.0     0.0      0.0        0.0      0.0   \n",
              "\n",
              "   supposedly  suppress  supreme  sur  sure  surf  surface  surfer  surgeon  \\\n",
              "0         0.0       0.0      0.0  0.0   0.0   0.0      0.0     0.0      0.0   \n",
              "\n",
              "   surgery  surprise  surprising  surprisingly  surreal  surrender  surround  \\\n",
              "0      0.0       0.0         0.0           0.0      0.0        0.0       0.0   \n",
              "\n",
              "   surroundings  surveillance  survival  survive  survivor  susan  suspect  \\\n",
              "0           0.0           0.0       0.0      0.0       0.0    0.0      0.0   \n",
              "\n",
              "   suspend  suspense  suspicion  suspicious  sustain  sustainable  swamp  \\\n",
              "0      0.0       0.0        0.0         0.0      0.0          0.0    0.0   \n",
              "\n",
              "   swear  sweden  swedish  sweep  sweet  sweetheart  swim  swimming  swing  \\\n",
              "0    0.0     0.0      0.0    0.0    0.0    0.164812   0.0       0.0    0.0   \n",
              "\n",
              "   swiss  switch  switzerland  sword  sydney  sylvia  symbol  sympathy  \\\n",
              "0    0.0     0.0          0.0    0.0     0.0     0.0     0.0       0.0   \n",
              "\n",
              "   symphony  symptom  syndicate  syndrome  system  săo  săo paulo  table  \\\n",
              "0       0.0      0.0        0.0       0.0     0.0  0.0        0.0    0.0   \n",
              "\n",
              "   taboo  tackle  tactic  tag  taiwan  take  take action  take advantage  \\\n",
              "0    0.0     0.0     0.0  0.0     0.0   0.0          0.0             0.0   \n",
              "\n",
              "   take away  take back  take care  take control  take home  take job  \\\n",
              "0        0.0        0.0        0.0           0.0        0.0       0.0   \n",
              "\n",
              "   take journey  take life  take look  take matter  take new  take one  \\\n",
              "0           0.0        0.0        0.0          0.0       0.0       0.0   \n",
              "\n",
              "   take part  take place  take refuge  take revenge  take trip  take turn  \\\n",
              "0        0.0         0.0          0.0           0.0        0.0        0.0   \n",
              "\n",
              "   take viewer  tale  talent  talented  talk  talk show  tall  tank  tap  \\\n",
              "0          0.0   0.0     0.0       0.0   0.0        0.0   0.0   0.0  0.0   \n",
              "\n",
              "   tape  tara  target  task  taste  tattoo  tax  taxi  taxi driver  taylor  \\\n",
              "0   0.0   0.0     0.0   0.0    0.0     0.0  0.0   0.0          0.0     0.0   \n",
              "\n",
              "   tea  teach  teacher  teaching  team  tear  tear apart  tease  tech  \\\n",
              "0  0.0    0.0      0.0       0.0   0.0   0.0         0.0    0.0   0.0   \n",
              "\n",
              "   technical  technique  technological  technology  ted  teddy  teen  teenage  \\\n",
              "0        0.0        0.0            0.0         0.0  0.0    0.0   0.0      0.0   \n",
              "\n",
              "   teenage daughter  teenage girl  teenager  telephone  television  \\\n",
              "0               0.0           0.0       0.0        0.0         0.0   \n",
              "\n",
              "   television series  television show      tell  tell story  tell tale  \\\n",
              "0                0.0              0.0  0.088927         0.0        0.0   \n",
              "\n",
              "   tell truth  temper  temple  temporary  temptation  ten  ten year  tenant  \\\n",
              "0         0.0     0.0     0.0        0.0         0.0  0.0       0.0     0.0   \n",
              "\n",
              "   tend  tender  tennessee  tennis  tense  tension  teresa  term  terminal  \\\n",
              "0   0.0     0.0        0.0     0.0    0.0      0.0     0.0   0.0       0.0   \n",
              "\n",
              "   terrain  terrible  terrify  terrifying  territory  terror  terrorism  \\\n",
              "0      0.0       0.0      0.0         0.0        0.0     0.0        0.0   \n",
              "\n",
              "   terrorist  terrorize  terry  test  testament  testimony  tex  texas  text  \\\n",
              "0        0.0        0.0    0.0   0.0        0.0        0.0  0.0    0.0   0.0   \n",
              "\n",
              "   thai  thailand  thanks  theater  theatre  theatrical  theft  theme  theory  \\\n",
              "0   0.0       0.0     0.0      0.0      0.0         0.0    0.0    0.0     0.0   \n",
              "\n",
              "   therapist  therapy  thereafter  therefore  thick  thief  thin  thing  \\\n",
              "0        0.0      0.0         0.0        0.0    0.0    0.0   0.0    0.0   \n",
              "\n",
              "   thing get  thing go  thing happen  thing start  think  thinking  third  \\\n",
              "0        0.0       0.0           0.0          0.0    0.0       0.0    0.0   \n",
              "\n",
              "   thirteen  thirty  thirty year  thomas  thompson  though  thought  thousand  \\\n",
              "0       0.0     0.0          0.0     0.0       0.0     0.0      0.0       0.0   \n",
              "\n",
              "   thousand year  thread  threat  threaten  three  three child  three day  \\\n",
              "0            0.0     0.0     0.0       0.0    0.0          0.0        0.0   \n",
              "\n",
              "   three different  three friend  three men  three month  three woman  \\\n",
              "0              0.0           0.0        0.0          0.0          0.0   \n",
              "\n",
              "   three year  three young  thrill  thriller  thrive  throne  throughout  \\\n",
              "0         0.0          0.0     0.0       0.0     0.0     0.0         0.0   \n",
              "\n",
              "   throw  thrust  thug  thus  thwart  tibet  tibetan  tick  ticket  tide  tie  \\\n",
              "0    0.0     0.0   0.0   0.0     0.0    0.0      0.0   0.0     0.0   0.0  0.0   \n",
              "\n",
              "   tiger  tight  till  tim  time  time come  time go  time life  time year  \\\n",
              "0    0.0    0.0   0.0  0.0   0.0        0.0      0.0        0.0        0.0   \n",
              "\n",
              "   timeless  tina  tiny  tip  tire  tired  title  today  todd  together  \\\n",
              "0       0.0   0.0   0.0  0.0   0.0    0.0    0.0    0.0   0.0       0.0   \n",
              "\n",
              "   toilet  tokyo  toll  tom  tomb  tommy  tomorrow  tone  tonight  tony  tool  \\\n",
              "0     0.0    0.0   0.0  0.0   0.0    0.0       0.0   0.0      0.0   0.0   0.0   \n",
              "\n",
              "   top  topic  torment  torn  toronto  torture  total  totally  touch  tough  \\\n",
              "0  0.0    0.0      0.0   0.0      0.0      0.0    0.0      0.0    0.0    0.0   \n",
              "\n",
              "   tour  tourism  tourist  tournament  toward  towards  tower  town  \\\n",
              "0   0.0      0.0      0.0         0.0     0.0      0.0    0.0   0.0   \n",
              "\n",
              "   townspeople  toxic  toy  trace  track  tracy  trade  trader  trading  \\\n",
              "0          0.0    0.0  0.0    0.0    0.0    0.0    0.0     0.0      0.0   \n",
              "\n",
              "   tradition  traditional  traffic  trafficking  tragedy  tragic  tragically  \\\n",
              "0        0.0          0.0      0.0          0.0      0.0     0.0         0.0   \n",
              "\n",
              "   trail  trailer  train  trainer  training  transcend  transfer  transform  \\\n",
              "0    0.0      0.0    0.0      0.0       0.0        0.0       0.0        0.0   \n",
              "\n",
              "   transformation  transgender  transition  translate  translation  \\\n",
              "0             0.0          0.0         0.0        0.0          0.0   \n",
              "\n",
              "   transplant  transport  transportation  trap  trash  trauma  traumatic  \\\n",
              "0         0.0        0.0             0.0   0.0    0.0     0.0        0.0   \n",
              "\n",
              "   travel  travel across  travel around  traveler  travis  treacherous  \\\n",
              "0     0.0            0.0            0.0       0.0     0.0          0.0   \n",
              "\n",
              "   treasure  treat  treatment  tree  trek  trend  trevor  trial  \\\n",
              "0       0.0    0.0        0.0   0.0   0.0    0.0     0.0    0.0   \n",
              "\n",
              "   trial tribulation  triangle  tribal  tribe  tribulation  tribute  trick  \\\n",
              "0                0.0       0.0     0.0    0.0          0.0      0.0    0.0   \n",
              "\n",
              "   trigger  trilogy  trio  trip  triumph  troop  tropical  trouble  troubled  \\\n",
              "0      0.0      0.0   0.0   0.0      0.0    0.0       0.0      0.0       0.0   \n",
              "\n",
              "   troupe  truck  true  true event  true identity  true love  true story  \\\n",
              "0     0.0    0.0   0.0         0.0            0.0        0.0         0.0   \n",
              "\n",
              "   truly  trust  truth  truth behind  try  try convince  try escape  \\\n",
              "0    0.0    0.0    0.0           0.0  0.0           0.0         0.0   \n",
              "\n",
              "   try figure  try find  try get  try help  try keep  try kill  try make  \\\n",
              "0         0.0       0.0      0.0       0.0       0.0       0.0       0.0   \n",
              "\n",
              "   try save  try take  tumultuous  tune  tunnel  turbulent  turkey  turkish  \\\n",
              "0       0.0       0.0         0.0   0.0     0.0        0.0     0.0      0.0   \n",
              "\n",
              "   turmoil  turn  turn back  turn life  turn upside  turner   tv  tv series  \\\n",
              "0      0.0   0.0        0.0        0.0          0.0     0.0  0.0        0.0   \n",
              "\n",
              "   tv show  twelve  twentieth  twenty  twenty year  twice  twin  twin brother  \\\n",
              "0      0.0     0.0        0.0     0.0          0.0    0.0   0.0           0.0   \n",
              "\n",
              "   twist  twist turn  twisted  two  two best  two brother  two child  two day  \\\n",
              "0    0.0         0.0      0.0  0.0       0.0          0.0        0.0      0.0   \n",
              "\n",
              "   two different  two family  two friend  two girl  two men  two people  \\\n",
              "0            0.0         0.0         0.0       0.0      0.0         0.0   \n",
              "\n",
              "   two sister  two son  two week  two woman  two year  two young  tyler  type  \\\n",
              "0         0.0      0.0       0.0        0.0       0.0        0.0    0.0   0.0   \n",
              "\n",
              "   typical  ufo  ugly   uk  ukraine  ultimate  ultimately   un  una  unable  \\\n",
              "0      0.0  0.0   0.0  0.0      0.0       0.0         0.0  0.0  0.0     0.0   \n",
              "\n",
              "   unaware  unbeknownst  unbelievable  uncertain  uncertainty  uncle  \\\n",
              "0      0.0          0.0           0.0        0.0          0.0    0.0   \n",
              "\n",
              "   unconscious  unconventional  uncover  uncovers  undead  undercover  \\\n",
              "0          0.0             0.0      0.0       0.0     0.0         0.0   \n",
              "\n",
              "   undergo  underground  understand  understanding  undertake  underwater  \\\n",
              "0      0.0          0.0         0.0            0.0        0.0         0.0   \n",
              "\n",
              "   underworld  une  unearth  unemployed  unemployment  unexpected  \\\n",
              "0         0.0  0.0      0.0         0.0           0.0         0.0   \n",
              "\n",
              "   unexpectedly  unfaithful  unfold  unfolds  unforgettable  unfortunate  \\\n",
              "0           0.0         0.0     0.0      0.0            0.0          0.0   \n",
              "\n",
              "   unfortunately  unhappy  uniform  union  unique  unit  unite  united  \\\n",
              "0            0.0      0.0      0.0    0.0     0.0   0.0    0.0     0.0   \n",
              "\n",
              "   united state  universal  universe  university  unknowingly  unknown  \\\n",
              "0           0.0        0.0       0.0         0.0          0.0      0.0   \n",
              "\n",
              "   unleash  unless  unlike  unlikely  unlock  unprecedented  unpredictable  \\\n",
              "0      0.0     0.0     0.0       0.0     0.0            0.0            0.0   \n",
              "\n",
              "   unravel  unscrupulous  unseen  unsolved  unstable  unsuccessful  \\\n",
              "0      0.0           0.0     0.0       0.0       0.0           0.0   \n",
              "\n",
              "   unsuspecting  untimely  untold  unusual  unveil  unwanted  unwilling  \\\n",
              "0           0.0       0.0     0.0      0.0     0.0       0.0        0.0   \n",
              "\n",
              "   unwittingly  upbringing  upcoming  upon  upon arrival  upper  uprising  \\\n",
              "0          0.0         0.0       0.0   0.0           0.0    0.0       0.0   \n",
              "\n",
              "   ups  ups down  upset  upside  urban  urge   us  usa       use  user  usual  \\\n",
              "0  0.0       0.0    0.0     0.0    0.0   0.0  0.0  0.0  0.093607   0.0    0.0   \n",
              "\n",
              "   usually  utah  utilize  vacation  vain  valentine  valerie  valley  \\\n",
              "0      0.0   0.0      0.0       0.0   0.0        0.0      0.0     0.0   \n",
              "\n",
              "   valuable  value  vampire  van  vancouver  vanessa  vanish  variety  \\\n",
              "0       0.0    0.0      0.0  0.0        0.0      0.0     0.0      0.0   \n",
              "\n",
              "   various  vary  vast  vega  vehicle  vengeance  vengeful  venice  venture  \\\n",
              "0      0.0   0.0   0.0   0.0      0.0        0.0       0.0     0.0      0.0   \n",
              "\n",
              "   venue  vera  verge  veronica  version  versus  vessel  vet  veteran  via  \\\n",
              "0    0.0   0.0    0.0       0.0      0.0     0.0     0.0  0.0      0.0  0.0   \n",
              "\n",
              "   vibrant  vice  vicious  vicky  victim  victor  victoria  victory  video  \\\n",
              "0      0.0   0.0      0.0    0.0     0.0     0.0       0.0      0.0    0.0   \n",
              "\n",
              "   video game  vie  vienna  vietnam  view  viewer  vigilante  vignette  vijay  \\\n",
              "0         0.0  0.0     0.0      0.0   0.0     0.0        0.0       0.0    0.0   \n",
              "\n",
              "   vikram  villa  village  villager  villain  vince  vincent  vintage  \\\n",
              "0     0.0    0.0      0.0       0.0      0.0    0.0      0.0      0.0   \n",
              "\n",
              "   violence  violent  violin  virgin  virginia  virtual  virtually  virus  \\\n",
              "0       0.0      0.0     0.0     0.0       0.0      0.0        0.0    0.0   \n",
              "\n",
              "   visible  vision  visionary  visit  visitor  visual  visually  vital  vivid  \\\n",
              "0      0.0     0.0        0.0    0.0      0.0     0.0       0.0    0.0    0.0   \n",
              "\n",
              "   vocal  voice  volatile  volcano  volume  volunteer  von  vote  vow  voyage  \\\n",
              "0    0.0    0.0       0.0      0.0     0.0        0.0  0.0   0.0  0.0     0.0   \n",
              "\n",
              "   vulnerable  wacky  wade  wage  wagon  wait  waitress  wake  wale  walk  \\\n",
              "0         0.0    0.0   0.0   0.0    0.0   0.0       0.0   0.0   0.0   0.0   \n",
              "\n",
              "   walk life  walker  wall  wall street  wallace  walt  walter  wander  wang  \\\n",
              "0        0.0     0.0   0.0          0.0      0.0   0.0     0.0     0.0   0.0   \n",
              "\n",
              "   want  want get  want go  want know  want make  want marry  want see  \\\n",
              "0   0.0       0.0      0.0        0.0        0.0         0.0       0.0   \n",
              "\n",
              "   want take  war  war ii  ward  warden  warehouse  warfare  warm  warn  \\\n",
              "0        0.0  0.0     0.0   0.0     0.0        0.0      0.0   0.0   0.0   \n",
              "\n",
              "   warning  warren  warrior  wash  washington  waste  watch  water  wave  way  \\\n",
              "0      0.0     0.0      0.0   0.0         0.0    0.0    0.0    0.0   0.0  0.0   \n",
              "\n",
              "   way back  way get  way home  way life  way make  way meet  wayne  weak  \\\n",
              "0       0.0      0.0       0.0       0.0       0.0       0.0    0.0   0.0   \n",
              "\n",
              "   weakness  wealth  wealthy  wealthy family  weapon  wear  weather  weave  \\\n",
              "0       0.0     0.0      0.0             0.0     0.0   0.0      0.0    0.0   \n",
              "\n",
              "   weave together  web  web series  website  wed  wedding     week  weekend  \\\n",
              "0             0.0  0.0         0.0      0.0  0.0      0.0  0.12462      0.0   \n",
              "\n",
              "   weekly  weight  weird  welcome  welfare  well  well know  werewolf  west  \\\n",
              "0     0.0     0.0    0.0      0.0      0.0   0.0        0.0       0.0   0.0   \n",
              "\n",
              "   western  wet  whale  whatever  wheel  wheelchair  whenever  whereabouts  \\\n",
              "0      0.0  0.0    0.0       0.0    0.0         0.0       0.0          0.0   \n",
              "\n",
              "   whereas  wherever  whether  whilst  whip  white  whole  whole life  \\\n",
              "0      0.0       0.0      0.0     0.0   0.0    0.0    0.0         0.0   \n",
              "\n",
              "   whole new  whose  whose life  wicked  wide  widely  widow  widowed  \\\n",
              "0        0.0    0.0         0.0     0.0   0.0     0.0    0.0      0.0   \n",
              "\n",
              "   widower  wife  wife child  wife daughter  wife son  wild  wilderness  \\\n",
              "0      0.0   0.0         0.0            0.0       0.0   0.0         0.0   \n",
              "\n",
              "   wildlife  william  williams  willie  willing  wilson  win  win back  wind  \\\n",
              "0       0.0      0.0       0.0     0.0      0.0     0.0  0.0       0.0   0.0   \n",
              "\n",
              "   window  wine  wing  winner  winning  winter  wipe  wire  wisdom  wise  \\\n",
              "0     0.0   0.0   0.0     0.0      0.0     0.0   0.0   0.0     0.0   0.0   \n",
              "\n",
              "   wish       wit  witch  within  without  witness  witty  wizard   wo  wolf  \\\n",
              "0   0.0  0.172913    0.0     0.0      0.0      0.0    0.0     0.0  0.0   0.0   \n",
              "\n",
              "   woman  woman child  woman find  woman live  woman love  woman name  \\\n",
              "0    0.0          0.0         0.0         0.0         0.0         0.0   \n",
              "\n",
              "   woman whose  woman work  wonder  wonderful  wong  woo  wood  wooden  word  \\\n",
              "0          0.0         0.0     0.0        0.0   0.0  0.0   0.0     0.0   0.0   \n",
              "\n",
              "   work  work hard  work together  worker  working  workout  workplace  \\\n",
              "0   0.0        0.0            0.0     0.0      0.0      0.0        0.0   \n",
              "\n",
              "   workshop  world  world around  world cup  world famous  world first  \\\n",
              "0       0.0    0.0           0.0        0.0           0.0          0.0   \n",
              "\n",
              "   world great  world large  world turn  world war  world war ii  worldwide  \\\n",
              "0          0.0          0.0         0.0        0.0           0.0        0.0   \n",
              "\n",
              "   worry  worse  worship  worth  worthy  would  would like  wound  wounded  \\\n",
              "0    0.0    0.0      0.0    0.0     0.0    0.0         0.0    0.0      0.0   \n",
              "\n",
              "   wrap  wrath  wreck  wrestle  wrestler  wrestling  wright  write  writer  \\\n",
              "0   0.0    0.0    0.0      0.0  0.198324        0.0     0.0    0.0     0.0   \n",
              "\n",
              "   writing  wrong  wwii  yacht  yard  year  year ago  year earlier  year film  \\\n",
              "0      0.0    0.0   0.0    0.0   0.0   0.0       0.0           0.0        0.0   \n",
              "\n",
              "   year later  year life  year old  year old boy  year old girl  year prison  \\\n",
              "0         0.0        0.0       0.0           0.0            0.0          0.0   \n",
              "\n",
              "   year since  yearn  yellow  yes  yet  yet another  yoga  york  york city  \\\n",
              "0         0.0    0.0     0.0  0.0  0.0          0.0   0.0   0.0        0.0   \n",
              "\n",
              "   young  young adult  young age  young boy  young brother  young child  \\\n",
              "0    0.0          0.0        0.0        0.0            0.0          0.0   \n",
              "\n",
              "   young couple  young daughter  young girl  young lady  young man  young men  \\\n",
              "0           0.0             0.0         0.0         0.0        0.0        0.0   \n",
              "\n",
              "   young people  young sister  young son  young wife  young woman  younger  \\\n",
              "0           0.0           0.0        0.0         0.0          0.0      0.0   \n",
              "\n",
              "   youngster  youth  youtube  zach  zealand  zero  zoe  zombie  zone  zoo  \n",
              "0        0.0    0.0      0.0   0.0      0.0   0.0  0.0     0.0   0.0  0.0  \n",
              "\n",
              "[1 rows x 6000 columns]"
            ]
          },
          "execution_count": 60,
          "metadata": {},
          "output_type": "execute_result"
        }
      ],
      "source": [
        "pd.set_option('display.max_columns', 3000)\n",
        "train_tfidf_df[:1]"
      ]
    },
    {
      "cell_type": "code",
      "execution_count": 61,
      "metadata": {},
      "outputs": [
        {
          "data": {
            "text/plain": [
              "(0    0.154808\n",
              " Name: listen, dtype: float64,\n",
              " 0    0.124852\n",
              " Name: doctor, dtype: float64,\n",
              " 0    0.354894\n",
              " Name: oscar, dtype: float64)"
            ]
          },
          "execution_count": 61,
          "metadata": {},
          "output_type": "execute_result"
        }
      ],
      "source": [
        "# Corresponding words found in the datapoint has weights and rest are 0. \n",
        "# Noitce how word 'oscar' has more weight as it is less common.\n",
        "train_tfidf_df[:1]['listen'], train_tfidf_df[:1]['doctor'], train_tfidf_df[:1]['oscar']  "
      ]
    },
    {
      "cell_type": "code",
      "execution_count": 62,
      "metadata": {
        "id": "vMkpSjgpU_qQ"
      },
      "outputs": [],
      "source": [
        "## Encode the labels\n",
        "from sklearn.preprocessing import LabelEncoder\n",
        "label_encoder = LabelEncoder()\n",
        "y = label_encoder.fit_transform(train_df['Genre'])"
      ]
    },
    {
      "cell_type": "code",
      "execution_count": 63,
      "metadata": {
        "colab": {
          "base_uri": "https://localhost:8080/"
        },
        "id": "Fcp3FPzTVx_N",
        "outputId": "91cfec0d-7bd1-4973-d9f4-ec6c759335ec"
      },
      "outputs": [
        {
          "data": {
            "text/plain": [
              "array([ 5, 10,  1, ...,  1,  5,  5])"
            ]
          },
          "execution_count": 63,
          "metadata": {},
          "output_type": "execute_result"
        }
      ],
      "source": [
        "y"
      ]
    },
    {
      "cell_type": "code",
      "execution_count": 64,
      "metadata": {
        "colab": {
          "base_uri": "https://localhost:8080/"
        },
        "id": "h5KCxnFJVyr5",
        "outputId": "c6c66b27-7c9e-41d8-cacd-9d943d7655a1"
      },
      "outputs": [
        {
          "data": {
            "text/plain": [
              "{'action': 0,\n",
              " 'adult': 1,\n",
              " 'adventure': 2,\n",
              " 'comedy': 3,\n",
              " 'documentary': 4,\n",
              " 'drama': 5,\n",
              " 'horror': 6,\n",
              " 'other': 7,\n",
              " 'romance': 8,\n",
              " 'sci-fi': 9,\n",
              " 'thriller': 10,\n",
              " 'tv-show': 11}"
            ]
          },
          "execution_count": 64,
          "metadata": {},
          "output_type": "execute_result"
        }
      ],
      "source": [
        "label_mapping = dict(zip(label_encoder.classes_, label_encoder.transform(label_encoder.classes_)))\n",
        "label_mapping"
      ]
    },
    {
      "cell_type": "markdown",
      "metadata": {
        "id": "szBzXE95V9mz"
      },
      "source": [
        "### Train test split"
      ]
    },
    {
      "cell_type": "code",
      "execution_count": 82,
      "metadata": {
        "id": "xYg2o88vV4nP"
      },
      "outputs": [],
      "source": [
        "from sklearn.model_selection import train_test_split\n",
        "X_train, X_test, y_train, y_test = train_test_split(train_tfidf_df, y, test_size=0.3, random_state=42, stratify=y)"
      ]
    },
    {
      "cell_type": "code",
      "execution_count": 83,
      "metadata": {
        "colab": {
          "base_uri": "https://localhost:8080/"
        },
        "id": "Nwq3k6lSXBzS",
        "outputId": "3e2a23c3-17dd-4f25-fa86-a2adc9ff6408"
      },
      "outputs": [
        {
          "data": {
            "text/plain": [
              "((75889, 6000), (32525, 6000))"
            ]
          },
          "execution_count": 83,
          "metadata": {},
          "output_type": "execute_result"
        }
      ],
      "source": [
        "X_train.shape, X_test.shape"
      ]
    },
    {
      "cell_type": "code",
      "execution_count": 93,
      "metadata": {
        "id": "xVWX3tcnbP1P"
      },
      "outputs": [],
      "source": [
        "# Make a balanced test data by undersampling. \n",
        "from imblearn.under_sampling import RandomUnderSampler\n",
        "\n",
        "samples_per_class = {\n",
        "    4: 1000,\n",
        "    5: 1000,\n",
        "    3: 1000,\n",
        "    7: 1000,\n",
        "    # 10: 1000,\n",
        "    # 6: 1000,\n",
        "}\n",
        "\n",
        "# define undersample strategy\n",
        "undersample = RandomUnderSampler(sampling_strategy=samples_per_class, random_state=42)\n",
        "\n",
        "# fit and apply the transform\n",
        "X_bal_test, y_bal_test = undersample.fit_resample(X_test, y_test)"
      ]
    },
    {
      "cell_type": "code",
      "execution_count": 94,
      "metadata": {
        "colab": {
          "base_uri": "https://localhost:8080/"
        },
        "id": "73tgyD2abwQe",
        "outputId": "520727fc-ad85-4095-bec3-34c18be06e4d"
      },
      "outputs": [
        {
          "name": "stdout",
          "output_type": "stream",
          "text": [
            "Before\n",
            "4     8271\n",
            "5     8168\n",
            "3     4938\n",
            "7     4904\n",
            "10    1448\n",
            "6     1322\n",
            "11     881\n",
            "0      789\n",
            "2      659\n",
            "8      403\n",
            "9      388\n",
            "1      354\n",
            "Name: count, dtype: int64\n",
            "After\n",
            "10    1448\n",
            "6     1322\n",
            "3     1000\n",
            "4     1000\n",
            "5     1000\n",
            "7     1000\n",
            "11     881\n",
            "0      789\n",
            "2      659\n",
            "8      403\n",
            "9      388\n",
            "1      354\n",
            "Name: count, dtype: int64\n"
          ]
        }
      ],
      "source": [
        "print('Before')\n",
        "print(pd.DataFrame(y_test).value_counts())\n",
        "print('After')\n",
        "print(pd.DataFrame(y_bal_test).value_counts())"
      ]
    },
    {
      "cell_type": "code",
      "execution_count": 32,
      "metadata": {
        "id": "yBEKSwzhXEzk"
      },
      "outputs": [],
      "source": [
        "from sklearn.metrics import *\n",
        "def evaluate(test, pred):\n",
        "    accuracy = accuracy_score(test, pred)\n",
        "    cf_report = classification_report(test, pred, target_names=label_encoder.classes_)\n",
        "    precision = precision_score(test, pred, average='macro')\n",
        "    recall = recall_score(test, pred, average='macro')\n",
        "    f1 = f1_score(test, pred, average='macro')\n",
        "\n",
        "\n",
        "    print(cf_report)\n",
        "    print('Accuracy', accuracy)\n",
        "    print('Precision', precision)\n",
        "    print('Recall', recall)\n",
        "    print('F1-Score', f1)"
      ]
    },
    {
      "cell_type": "code",
      "execution_count": 86,
      "metadata": {
        "id": "XmP4pnXHXK-M"
      },
      "outputs": [],
      "source": [
        "# Greater weight to minority classes\n",
        "\n",
        "from sklearn.utils import class_weight\n",
        "import numpy as np\n",
        "class_weights = list(class_weight.compute_class_weight(class_weight='balanced',\n",
        "                                             classes = np.unique(y),\n",
        "                                             y = y))"
      ]
    },
    {
      "cell_type": "code",
      "execution_count": 87,
      "metadata": {
        "colab": {
          "base_uri": "https://localhost:8080/"
        },
        "id": "g0u7vPrKXRXc",
        "outputId": "42b461f9-6422-43c0-df35-3f3a0ccf8071"
      },
      "outputs": [
        {
          "data": {
            "text/plain": [
              "[3.436477748193229,\n",
              " 7.65635593220339,\n",
              " 4.115945330296127,\n",
              " 0.548876063183475,\n",
              " 0.3277050310130944,\n",
              " 0.3318457300275482,\n",
              " 2.0495689655172415,\n",
              " 0.5526702147182969,\n",
              " 6.722098214285714,\n",
              " 6.987238979118329,\n",
              " 1.871271748135874,\n",
              " 3.0771457765667574]"
            ]
          },
          "execution_count": 87,
          "metadata": {},
          "output_type": "execute_result"
        }
      ],
      "source": [
        "class_weights"
      ]
    },
    {
      "cell_type": "code",
      "execution_count": 88,
      "metadata": {
        "colab": {
          "base_uri": "https://localhost:8080/"
        },
        "id": "hW7QEsrpXSsj",
        "outputId": "2c9c5bd2-786a-4883-c8cd-91354c1cd5a3"
      },
      "outputs": [
        {
          "data": {
            "text/plain": [
              "array([2.04956897, 0.32770503, 0.54887606, ..., 0.54887606, 3.43647775,\n",
              "       4.11594533])"
            ]
          },
          "execution_count": 88,
          "metadata": {},
          "output_type": "execute_result"
        }
      ],
      "source": [
        "weights = np.ones(X_train.shape[0], dtype = 'float')\n",
        "for i, val in enumerate(y_train):\n",
        "    weights[i] = class_weights[val]\n",
        "\n",
        "weights"
      ]
    },
    {
      "cell_type": "code",
      "execution_count": 42,
      "metadata": {
        "colab": {
          "base_uri": "https://localhost:8080/"
        },
        "id": "BkntoMU2YMcW",
        "outputId": "7159d6a3-b645-4083-d16b-577ce014dccb"
      },
      "outputs": [
        {
          "data": {
            "text/plain": [
              "{0: 3.436477748193229,\n",
              " 1: 7.65635593220339,\n",
              " 2: 4.115945330296127,\n",
              " 3: 0.548876063183475,\n",
              " 4: 0.3277050310130944,\n",
              " 5: 0.3318457300275482,\n",
              " 6: 2.0495689655172415,\n",
              " 7: 0.5526702147182969,\n",
              " 8: 6.722098214285714,\n",
              " 9: 6.987238979118329,\n",
              " 10: 1.871271748135874,\n",
              " 11: 3.0771457765667574}"
            ]
          },
          "execution_count": 42,
          "metadata": {},
          "output_type": "execute_result"
        }
      ],
      "source": [
        "# Convert the weights into a dict object\n",
        "\n",
        "weights_dict = {}\n",
        "\n",
        "for index, weight in enumerate(class_weights):\n",
        "    weights_dict[index] = weight\n",
        "\n",
        "weights_dict"
      ]
    },
    {
      "cell_type": "markdown",
      "metadata": {
        "id": "VwTb0eUfXl2r"
      },
      "source": [
        "### Model Training\n"
      ]
    },
    {
      "cell_type": "code",
      "execution_count": 89,
      "metadata": {
        "id": "RFL9L1RrXerh"
      },
      "outputs": [
        {
          "name": "stderr",
          "output_type": "stream",
          "text": [
            "/opt/homebrew/Caskroom/miniforge/base/envs/Tensorflow_env/lib/python3.8/site-packages/sklearn/linear_model/_logistic.py:1223: UserWarning:\n",
            "\n",
            "'n_jobs' > 1 does not have any effect when 'solver' is set to 'liblinear'. Got 'n_jobs' = 8.\n",
            "\n"
          ]
        },
        {
          "data": {
            "text/html": [
              "<style>#sk-container-id-3 {color: black;}#sk-container-id-3 pre{padding: 0;}#sk-container-id-3 div.sk-toggleable {background-color: white;}#sk-container-id-3 label.sk-toggleable__label {cursor: pointer;display: block;width: 100%;margin-bottom: 0;padding: 0.3em;box-sizing: border-box;text-align: center;}#sk-container-id-3 label.sk-toggleable__label-arrow:before {content: \"▸\";float: left;margin-right: 0.25em;color: #696969;}#sk-container-id-3 label.sk-toggleable__label-arrow:hover:before {color: black;}#sk-container-id-3 div.sk-estimator:hover label.sk-toggleable__label-arrow:before {color: black;}#sk-container-id-3 div.sk-toggleable__content {max-height: 0;max-width: 0;overflow: hidden;text-align: left;background-color: #f0f8ff;}#sk-container-id-3 div.sk-toggleable__content pre {margin: 0.2em;color: black;border-radius: 0.25em;background-color: #f0f8ff;}#sk-container-id-3 input.sk-toggleable__control:checked~div.sk-toggleable__content {max-height: 200px;max-width: 100%;overflow: auto;}#sk-container-id-3 input.sk-toggleable__control:checked~label.sk-toggleable__label-arrow:before {content: \"▾\";}#sk-container-id-3 div.sk-estimator input.sk-toggleable__control:checked~label.sk-toggleable__label {background-color: #d4ebff;}#sk-container-id-3 div.sk-label input.sk-toggleable__control:checked~label.sk-toggleable__label {background-color: #d4ebff;}#sk-container-id-3 input.sk-hidden--visually {border: 0;clip: rect(1px 1px 1px 1px);clip: rect(1px, 1px, 1px, 1px);height: 1px;margin: -1px;overflow: hidden;padding: 0;position: absolute;width: 1px;}#sk-container-id-3 div.sk-estimator {font-family: monospace;background-color: #f0f8ff;border: 1px dotted black;border-radius: 0.25em;box-sizing: border-box;margin-bottom: 0.5em;}#sk-container-id-3 div.sk-estimator:hover {background-color: #d4ebff;}#sk-container-id-3 div.sk-parallel-item::after {content: \"\";width: 100%;border-bottom: 1px solid gray;flex-grow: 1;}#sk-container-id-3 div.sk-label:hover label.sk-toggleable__label {background-color: #d4ebff;}#sk-container-id-3 div.sk-serial::before {content: \"\";position: absolute;border-left: 1px solid gray;box-sizing: border-box;top: 0;bottom: 0;left: 50%;z-index: 0;}#sk-container-id-3 div.sk-serial {display: flex;flex-direction: column;align-items: center;background-color: white;padding-right: 0.2em;padding-left: 0.2em;position: relative;}#sk-container-id-3 div.sk-item {position: relative;z-index: 1;}#sk-container-id-3 div.sk-parallel {display: flex;align-items: stretch;justify-content: center;background-color: white;position: relative;}#sk-container-id-3 div.sk-item::before, #sk-container-id-3 div.sk-parallel-item::before {content: \"\";position: absolute;border-left: 1px solid gray;box-sizing: border-box;top: 0;bottom: 0;left: 50%;z-index: -1;}#sk-container-id-3 div.sk-parallel-item {display: flex;flex-direction: column;z-index: 1;position: relative;background-color: white;}#sk-container-id-3 div.sk-parallel-item:first-child::after {align-self: flex-end;width: 50%;}#sk-container-id-3 div.sk-parallel-item:last-child::after {align-self: flex-start;width: 50%;}#sk-container-id-3 div.sk-parallel-item:only-child::after {width: 0;}#sk-container-id-3 div.sk-dashed-wrapped {border: 1px dashed gray;margin: 0 0.4em 0.5em 0.4em;box-sizing: border-box;padding-bottom: 0.4em;background-color: white;}#sk-container-id-3 div.sk-label label {font-family: monospace;font-weight: bold;display: inline-block;line-height: 1.2em;}#sk-container-id-3 div.sk-label-container {text-align: center;}#sk-container-id-3 div.sk-container {/* jupyter's `normalize.less` sets `[hidden] { display: none; }` but bootstrap.min.css set `[hidden] { display: none !important; }` so we also need the `!important` here to be able to override the default hidden behavior on the sphinx rendered scikit-learn.org. See: https://github.com/scikit-learn/scikit-learn/issues/21755 */display: inline-block !important;position: relative;}#sk-container-id-3 div.sk-text-repr-fallback {display: none;}</style><div id=\"sk-container-id-3\" class=\"sk-top-container\"><div class=\"sk-text-repr-fallback\"><pre>LogisticRegression(n_jobs=-1, random_state=42, solver=&#x27;liblinear&#x27;)</pre><b>In a Jupyter environment, please rerun this cell to show the HTML representation or trust the notebook. <br />On GitHub, the HTML representation is unable to render, please try loading this page with nbviewer.org.</b></div><div class=\"sk-container\" hidden><div class=\"sk-item\"><div class=\"sk-estimator sk-toggleable\"><input class=\"sk-toggleable__control sk-hidden--visually\" id=\"sk-estimator-id-3\" type=\"checkbox\" checked><label for=\"sk-estimator-id-3\" class=\"sk-toggleable__label sk-toggleable__label-arrow\">LogisticRegression</label><div class=\"sk-toggleable__content\"><pre>LogisticRegression(n_jobs=-1, random_state=42, solver=&#x27;liblinear&#x27;)</pre></div></div></div></div></div>"
            ],
            "text/plain": [
              "LogisticRegression(n_jobs=-1, random_state=42, solver='liblinear')"
            ]
          },
          "execution_count": 89,
          "metadata": {},
          "output_type": "execute_result"
        }
      ],
      "source": [
        "from sklearn.linear_model import LogisticRegression\n",
        "\n",
        "log_reg = LogisticRegression(random_state=42, solver='liblinear', n_jobs=-1)\n",
        "log_reg.fit(X_train, y_train, sample_weight=weights)                \n",
        "# weights are passes as argument. Without weights, F1-Scores plumets. Try training without weights"
      ]
    },
    {
      "cell_type": "code",
      "execution_count": 72,
      "metadata": {
        "colab": {
          "base_uri": "https://localhost:8080/"
        },
        "id": "FFyvfVT0kKFd",
        "outputId": "869a554d-14a4-4dae-eff2-e6a18d3423c6"
      },
      "outputs": [
        {
          "data": {
            "text/plain": [
              "{'C': 1.0,\n",
              " 'class_weight': None,\n",
              " 'dual': False,\n",
              " 'fit_intercept': True,\n",
              " 'intercept_scaling': 1,\n",
              " 'l1_ratio': None,\n",
              " 'max_iter': 100,\n",
              " 'multi_class': 'auto',\n",
              " 'n_jobs': -1,\n",
              " 'penalty': 'l2',\n",
              " 'random_state': 42,\n",
              " 'solver': 'liblinear',\n",
              " 'tol': 0.0001,\n",
              " 'verbose': 0,\n",
              " 'warm_start': False}"
            ]
          },
          "execution_count": 72,
          "metadata": {},
          "output_type": "execute_result"
        }
      ],
      "source": [
        "log_reg.get_params()"
      ]
    },
    {
      "cell_type": "code",
      "execution_count": 91,
      "metadata": {},
      "outputs": [
        {
          "name": "stdout",
          "output_type": "stream",
          "text": [
            "              precision    recall  f1-score   support\n",
            "\n",
            "      action       0.28      0.52      0.36       789\n",
            "       adult       0.28      0.66      0.40       354\n",
            "   adventure       0.20      0.43      0.28       659\n",
            "      comedy       0.60      0.50      0.54      4938\n",
            " documentary       0.79      0.70      0.74      8271\n",
            "       drama       0.69      0.45      0.54      8168\n",
            "      horror       0.55      0.70      0.61      1322\n",
            "       other       0.54      0.42      0.47      4904\n",
            "     romance       0.10      0.45      0.17       403\n",
            "      sci-fi       0.25      0.58      0.35       388\n",
            "    thriller       0.32      0.45      0.37      1448\n",
            "     tv-show       0.33      0.70      0.44       881\n",
            "\n",
            "    accuracy                           0.54     32525\n",
            "   macro avg       0.41      0.55      0.44     32525\n",
            "weighted avg       0.61      0.54      0.56     32525\n",
            "\n",
            "Accuracy 0.5380169100691775\n",
            "Precision 0.41031931029514745\n",
            "Recall 0.5462495722581615\n",
            "F1-Score 0.4402361255901259\n"
          ]
        }
      ],
      "source": [
        "# Predictions on imbalanced test data\n",
        "lr_pred = log_reg.predict(X_test)\n",
        "evaluate(y_test, lr_pred)\n"
      ]
    },
    {
      "cell_type": "code",
      "execution_count": 95,
      "metadata": {},
      "outputs": [
        {
          "name": "stdout",
          "output_type": "stream",
          "text": [
            "              precision    recall  f1-score   support\n",
            "\n",
            "      action       0.50      0.52      0.51       789\n",
            "       adult       0.55      0.66      0.60       354\n",
            "   adventure       0.44      0.43      0.43       659\n",
            "      comedy       0.49      0.49      0.49      1000\n",
            " documentary       0.64      0.73      0.68      1000\n",
            "       drama       0.44      0.45      0.44      1000\n",
            "      horror       0.72      0.70      0.71      1322\n",
            "       other       0.49      0.41      0.45      1000\n",
            "     romance       0.37      0.45      0.40       403\n",
            "      sci-fi       0.45      0.58      0.51       388\n",
            "    thriller       0.59      0.45      0.51      1448\n",
            "     tv-show       0.66      0.70      0.68       881\n",
            "\n",
            "    accuracy                           0.55     10244\n",
            "   macro avg       0.53      0.55      0.53     10244\n",
            "weighted avg       0.55      0.55      0.55     10244\n",
            "\n",
            "Accuracy 0.5485162046075752\n",
            "Precision 0.5273973264589791\n",
            "Recall 0.5484624356046658\n",
            "F1-Score 0.5349963219221372\n"
          ]
        }
      ],
      "source": [
        "# Prediction on slightly balanced test data\n",
        "lr_pred_bal = log_reg.predict(X_bal_test)\n",
        "evaluate(y_bal_test, lr_pred_bal)"
      ]
    },
    {
      "cell_type": "code",
      "execution_count": 97,
      "metadata": {
        "colab": {
          "base_uri": "https://localhost:8080/",
          "height": 755
        },
        "id": "NrywiK6-Xy4T",
        "outputId": "68d9f189-c2b4-46cc-a90e-7ed8832335a9"
      },
      "outputs": [
        {
          "data": {
            "image/png": "[encoded data removed]",
            "text/plain": [
              "<Figure size 1200x800 with 2 Axes>"
            ]
          },
          "metadata": {},
          "output_type": "display_data"
        }
      ],
      "source": [
        "fig, ax = plt.subplots(figsize=(12, 8))\n",
        "    # Create the confusion matrix\n",
        "cm = confusion_matrix(y_bal_test, lr_pred_bal)\n",
        "cmp = ConfusionMatrixDisplay(cm, display_labels=label_encoder.classes_)\n",
        "cmp.plot(ax=ax)\n",
        "plt.xticks(rotation=80)\n",
        "\n",
        "plt.show()\n"
      ]
    },
    {
      "cell_type": "code",
      "execution_count": 75,
      "metadata": {
        "id": "KJkiz0IQYDpa"
      },
      "outputs": [],
      "source": [
        "classes = label_encoder.classes_\n",
        "def test_model(data, model):\n",
        "  # Apply clean_text function to each text in the array using list comprehension\n",
        "  cleaned_texts = [clean_text(text) for text in data]\n",
        "  tfidf_matrix = tfidf_vectorizer.transform(cleaned_texts)\n",
        "  train_tfidf_df = pd.DataFrame(tfidf_matrix.toarray(), columns=tfidf_vectorizer.get_feature_names_out())\n",
        "  # lr_pred = model.predict(train_tfidf_df)\n",
        "  predicted_probs = model.predict_proba(train_tfidf_df)\n",
        "\n",
        "  # Find the indices of the highest and second-highest probabilities for each prediction\n",
        "  top_classes = np.argmax(predicted_probs, axis=1)  # Highest probability class index\n",
        "  predicted_probs_copy = np.copy(predicted_probs)\n",
        "  predicted_probs_copy[np.arange(len(predicted_probs_copy)), top_classes] = -1  # Set top class probability to -1\n",
        "  second_top_classes = np.argmax(predicted_probs_copy, axis=1)  # Second highest probability class index\n",
        "  \n",
        "  res = []\n",
        "  # Display the highest and second-highest probability classes\n",
        "  for i, (top_class, second_top_class) in enumerate(zip(top_classes, second_top_classes), start=1):\n",
        "    res.append(classes[top_class]+'/'+classes[second_top_class])\n",
        "\n",
        "  return res\n"
      ]
    },
    {
      "cell_type": "markdown",
      "metadata": {},
      "source": [
        "### Perform tests on some random data"
      ]
    },
    {
      "cell_type": "code",
      "execution_count": 76,
      "metadata": {
        "colab": {
          "base_uri": "https://localhost:8080/"
        },
        "id": "NQFqZNU9aDcu",
        "outputId": "06556b83-53fe-4d0c-dc04-b1fc6bccfaca"
      },
      "outputs": [
        {
          "data": {
            "text/plain": [
              "['romance/drama',\n",
              " 'romance/comedy',\n",
              " 'romance/comedy',\n",
              " 'sci-fi/action',\n",
              " 'thriller/other',\n",
              " 'comedy/action',\n",
              " 'thriller/action',\n",
              " 'drama/documentary',\n",
              " 'comedy/sci-fi',\n",
              " 'romance/adult',\n",
              " 'horror/thriller',\n",
              " 'sci-fi/horror',\n",
              " 'horror/drama',\n",
              " 'comedy/adult',\n",
              " 'adult/other',\n",
              " 'adult/other',\n",
              " 'adult/thriller',\n",
              " 'action/thriller',\n",
              " 'horror/thriller',\n",
              " 'tv-show/comedy',\n",
              " 'tv-show/adult',\n",
              " 'documentary/comedy',\n",
              " 'drama/romance',\n",
              " 'adventure/action',\n",
              " 'documentary/thriller',\n",
              " 'documentary/other']"
            ]
          },
          "execution_count": 76,
          "metadata": {},
          "output_type": "execute_result"
        }
      ],
      "source": [
        "\n",
        "\n",
        "data = [\n",
        "    \"On their flight from New York to London, Hadley and Oliver fall in love with each other. However, they lose each other at customs and the possibility of ever meeting each other again seems improbable, but destiny may have a way of changing the odds.\",\n",
        "    \"When Kundan finds that his childhood love, Zoya, likes someone from her community, he decides to forget about her. However, when he realises she is lying about her fiance's religion, he goes berserk.\",\n",
        "    \"Kabir, a casanova film-maker, meets a London-based director, Ayesha, and falls in love with her. Elsewhere, an international art thief decides to be a better person after falling for a woman.\",\n",
        "    \"Powerful elites capture and try to hunt down a group of people. However, their plans for a fun event are thwarted when one of the captives proves too much for them to handle.\",\n",
        "    \"Ray and Joanne rush Peri, their daughter, to the nearest hospital after she fractures her hand in a fall. However, when the mother-daughter duo disappears, Ray struggles to find them.\",\n",
        "    \"Three men, perceived as losers by society, wish to earn quick money and get rich. They, along with their respective girlfriends, hatch a plan to con two gangsters and steal their money.\",\n",
        "    \"Kunal marries his lover, Aarzoo, and the two migrate to South Africa when he is offered a job at a diamond trading firm. Later, he gets involved in the illegal activities of the company.\",\n",
        "    \"Teenager Hazel Grace's life changes when she meets Augustus Waters at a cancer support group. The two then embark on a life-changing journey which brings them even closer.\",\n",
        "    \"A woman wakes up in a cryogenic chamber with no recollection of how she got there, and she must find a way out before running out of air.\",\n",
        "    \"Renato, a 12-year-old boy, is head over heels in love with Malena, a simple and beautiful woman. Meanwhile, things become worse for Malena when the townsfolk start spreading rumours about her.\",\n",
        "    \"After the death of her mother and having no other known relatives, Evie takes a DNA test and discovers a long-lost cousin she never knew she had. Invited by her newfound family to a lavish wedding in the English countryside, Evie's at first seduced by the sexy aristocratic host. However, she's soon thrust into a nightmare of survival as she uncovers twisted secrets about her family history and the unsettling intentions behind their sinful generosity.\",\n",
        "    \"After recurring nightmares of an alien invasion, Peter, an engineer, decides to seek psychiatric help. Soon, when his dreams translate into reality and UFOs attack Earth, he tries to save his family.\",\n",
        "    \"A college student, on her way home from visiting her mother, gets stuck with a group of people at a mountain rest stop during a blizzard. Things take a turn for the worse when the young woman discovers a kidnapped child in a car belonging to one of the people inside, putting the group in a terrifying life-or-death situation as they struggle to escape while trying to discover who among them is the kidnapper.\",\n",
        "    \"After a year of blissful coupledom and, um, 132 faked organism, the star couple in this Dutch dramedy try something different to improve their bedroom life: communication! Just kidding. Luna (Gaite Jansen) feels too awkward or bad or something to confess to Mink (Martijn Lakemeier) that she’s sexually dissatisfied. So she proposes they have a threesome instead. You can probably figure out what happens next.\",\n",
        "    \"In this Swedish film, career-oriented Hanna is dumped before her 40th birthday, which sends her into a tailspin of life reassessment and — a silver lining — better sex. With partners and, of course, by herself.\",\n",
        "    \"This collection of four short films from prominent Indian directors include tales of intimacy, sex, and the complexities of love. From a passionate affair gone sour to the discovery of self-pleasure, the stories all focus on the point of view of Indian women in the realm of love and sex.\",\n",
        "   \"Do you consider terrifying, mysterious, death-defying things sexy? Well, what could be sexier than, uh, freediving into the abyss that is the ocean? If your interest is piqued, then watch this French drama about one woman’s passionate affair with a champion freediver and the high-risk sport he introduces her to. If you get seasick, maybe skip this one.\",\n",
        "   \"A troubled police detective demoted to 911 operator duty scrambles to save a distressed caller during a harrowing day of revelations -- and reckonings.\",\n",
        "   \"When his daughter, Angela, and her friend Katherine, show signs of demonic possession, it unleashes a chain of events that forces single father Victor Fielding to confront the nadir of evil. Terrified and desperate, he seeks out Chris MacNeil, the only person alive who's witnessed anything like it before.\",\n",
        "    \"Aspiring entrepreneurs from around the world pitch their business models to a panel of investors and persuade them to invest money in their idea.\",\n",
        "    \"Participants, selected from different parts of the country via auditions, compete against each other in various tasks to win the grand prize.\",\n",
        "    \"Sanjay Dutt, an actor from the Bollywood film industry, struggles with the legacy that is handed down to him by his parents, along with his personal dilemmas and vices.\",\n",
        "    \"M S Dhoni, a boy from Ranchi, aspires to play cricket for India. Though he initially tries to please his father by working for the Indian Railways, he ultimately decides to chase his dreams.\",\n",
        "   \"Mahavir Singh Phogat, a former wrestler, decides to fulfil his dream of winning a gold medal for his country by training his daughters for the Commonwealth Games despite the existing social stigmas.\",\n",
        "   \"The global financial meltdown that took place in Fall 2008 caused millions of job and home losses and plunged the United States into a deep economic recession. Matt Damon narrates a documentary that provides a detailed examination of the elements that led to the collapse and identifies keys financial and political players. Director Charles Ferguson conducts a wide range of interviews and traces the story from the United States to China to Iceland to several other global financial hot spots.\",\n",
        "   \"Sachin Tendulkar recounts his journey of becoming one of the most famous names in cricket with the help of archival footage, re-enactments and clips of his family, friends and colleagues.\",\n",
        "   \n",
        "  \n",
        "]\n",
        "\n",
        "# True values\n",
        "data_y = [\n",
        "    'romance/drama','romance/drama', 'romance/thriller', 'action/thriller', 'thriller/mystery',\n",
        "    'comedy/action','action/thriller','romance/comedy','thriller/sci-fi','romance/comedy',\n",
        "    'horror/drama','sci-fi/action','thriller/mystery','adult', 'adult', 'adult','adult','crime/thriller',\n",
        "    'horror/crime', 'tv-show', 'tv-show', 'Biography/Documentary', 'Sport/Thriller', 'Sport/Action',\n",
        "    'Documentary/Crime', 'Sport/Documentary'\n",
        "]\n",
        "\n",
        "reslt = test_model(data, log_reg)\n",
        "reslt\n"
      ]
    },
    {
      "cell_type": "code",
      "execution_count": 101,
      "metadata": {},
      "outputs": [
        {
          "name": "stdout",
          "output_type": "stream",
          "text": [
            "Pred_log_reg             True values\n",
            "\n",
            "romance/drama            romance/drama\n",
            "romance/comedy           romance/drama\n",
            "romance/comedy           romance/thriller\n",
            "sci-fi/action            action/thriller\n",
            "thriller/drama           thriller/mystery\n",
            "comedy/action            comedy/action\n",
            "thriller/action          action/thriller\n",
            "drama/documentary        romance/comedy\n",
            "comedy/action            thriller/sci-fi\n",
            "romance/adult            romance/comedy\n",
            "horror/thriller          horror/drama\n",
            "sci-fi/horror            sci-fi/action\n",
            "horror/drama             thriller/mystery\n",
            "comedy/other             adult\n",
            "adult/other              adult\n",
            "adult/other              adult\n",
            "adult/sci-fi             adult\n",
            "thriller/action          crime/thriller\n",
            "horror/thriller          horror/crime\n",
            "tv-show/comedy           tv-show\n",
            "tv-show/other            tv-show\n",
            "documentary/comedy       Biography/Documentary\n",
            "drama/romance            Sport/Thriller\n",
            "adventure/action          Sport/Action\n",
            "documentary/thriller     Documentary/Crime\n",
            "documentary/other        Sport/Documentary\n"
          ]
        }
      ],
      "source": [
        "# reslt = test_model(data, loaded_model)\n",
        "res2 = test_model(data, log_reg)\n",
        "print(f'{\"Pred_log_reg\": <25}True values\\n')\n",
        "for i in range(len(data_y)):\n",
        "    print(f'{res2[i]: <25}{data_y[i]}')"
      ]
    },
    {
      "cell_type": "markdown",
      "metadata": {},
      "source": [
        "### Save the model"
      ]
    },
    {
      "cell_type": "code",
      "execution_count": 98,
      "metadata": {
        "id": "Fnl_oclDcdEZ"
      },
      "outputs": [],
      "source": [
        "import joblib\n",
        "\n",
        "filename = './Models/LogisticRegModel_wtdAvg54%_6000TFIDF.joblib'\n",
        "\n",
        "joblib.dump(log_reg, filename)\n",
        "\n",
        "loaded_model = joblib.load(filename)\n",
        "\n",
        "\n"
      ]
    },
    {
      "cell_type": "code",
      "execution_count": 99,
      "metadata": {},
      "outputs": [
        {
          "name": "stdout",
          "output_type": "stream",
          "text": [
            "              precision    recall  f1-score   support\n",
            "\n",
            "      action       0.50      0.52      0.51       789\n",
            "       adult       0.55      0.66      0.60       354\n",
            "   adventure       0.44      0.43      0.43       659\n",
            "      comedy       0.49      0.49      0.49      1000\n",
            " documentary       0.64      0.73      0.68      1000\n",
            "       drama       0.44      0.45      0.44      1000\n",
            "      horror       0.72      0.70      0.71      1322\n",
            "       other       0.49      0.41      0.45      1000\n",
            "     romance       0.37      0.45      0.40       403\n",
            "      sci-fi       0.45      0.58      0.51       388\n",
            "    thriller       0.59      0.45      0.51      1448\n",
            "     tv-show       0.66      0.70      0.68       881\n",
            "\n",
            "    accuracy                           0.55     10244\n",
            "   macro avg       0.53      0.55      0.53     10244\n",
            "weighted avg       0.55      0.55      0.55     10244\n",
            "\n",
            "Accuracy 0.5485162046075752\n",
            "Precision 0.5273973264589791\n",
            "Recall 0.5484624356046658\n",
            "F1-Score 0.5349963219221372\n"
          ]
        }
      ],
      "source": [
        "loaded_model_pred = loaded_model.predict(X_bal_test)\n",
        "evaluate(y_bal_test, loaded_model_pred)"
      ]
    }
  ],
  "metadata": {
    "colab": {
      "provenance": []
    },
    "kernelspec": {
      "display_name": "Python 3.8.18 ('Tensorflow_env')",
      "language": "python",
      "name": "python3"
    },
    "language_info": {
      "codemirror_mode": {
        "name": "ipython",
        "version": 3
      },
      "file_extension": ".py",
      "mimetype": "text/x-python",
      "name": "python",
      "nbconvert_exporter": "python",
      "pygments_lexer": "ipython3",
      "version": "3.8.18"
    },
    "vscode": {
      "interpreter": {
        "hash": "c63c42f66a454e7171000b0643a0e9df42081bc9794ade72c6b6e0ef4e7661bc"
      }
    }
  },
  "nbformat": 4,
  "nbformat_minor": 0
}
